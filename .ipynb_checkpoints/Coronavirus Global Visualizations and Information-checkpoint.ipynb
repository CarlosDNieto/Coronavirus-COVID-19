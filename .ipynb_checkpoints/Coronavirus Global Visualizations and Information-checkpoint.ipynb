{
 "cells": [
  {
   "cell_type": "code",
   "execution_count": 93,
   "metadata": {},
   "outputs": [],
   "source": [
    "import git\n",
    "import os\n",
    "import pandas as pd\n",
    "import numpy as np\n",
    "import datetime\n",
    "import matplotlib.pyplot as plt\n",
    "import seaborn as sns\n",
    "import plotly.express as px\n",
    "import plotly.graph_objects as go\n",
    "from models import TimeSeries"
   ]
  },
  {
   "cell_type": "code",
   "execution_count": 94,
   "metadata": {},
   "outputs": [],
   "source": [
    "# read our data\n",
    "confirmed_df =pd.read_csv('https://raw.githubusercontent.com/CSSEGISandData/COVID-19/master/csse_covid_19_data/csse_covid_19_time_series/time_series_covid19_confirmed_global.csv')\n",
    "deaths_df = pd.read_csv('https://raw.githubusercontent.com/CSSEGISandData/COVID-19/master/csse_covid_19_data/csse_covid_19_time_series/time_series_covid19_deaths_global.csv')\n",
    "recovered_df = pd.read_csv('https://raw.githubusercontent.com/CSSEGISandData/COVID-19/master/csse_covid_19_data/csse_covid_19_time_series/time_series_covid19_recovered_global.csv')\n",
    "\n",
    "labels = ['Confirmed','Deaths','Recovered']\n",
    "dfs = [confirmed_df,deaths_df,recovered_df]\n",
    "data_dict = dict(zip(labels,dfs))\n",
    "\n",
    "# get last update date:\n",
    "last_update = TimeSeries(confirmed_df).get_last_update_date()\n",
    "\n",
    "## Actual Information per Country ##\n",
    "actual_confirmed = TimeSeries(confirmed_df).get_last_values()\n",
    "actual_deaths = TimeSeries(deaths_df).get_last_values()\n",
    "actual_recovered = TimeSeries(recovered_df).get_last_values()\n",
    "\n",
    "actual_data = pd.DataFrame({'Confirmed':actual_confirmed.values,\n",
    "                   'Deaths':actual_deaths.values,\n",
    "                   'Recovered':actual_recovered.values},\n",
    "                          index=actual_confirmed.index)"
   ]
  },
  {
   "cell_type": "markdown",
   "metadata": {},
   "source": [
    "# Welcome to this Coronavirus Global Visualizations and Information notebook.\n",
    "\n",
    "The data source of this notebook is the [repository](https://github.com/CSSEGISandData/COVID-19) of the [Johns Hopkins University](https://www.jhu.edu/). I would like to thank them for making this data available and public.\n",
    "\n",
    "\n",
    "In this notebook we will be answering the following questions:\n",
    "\n",
    "* **How is the current situation COVID-19 in the world? (numbers and visualizations)**\n",
    "\n",
    "\n",
    "* **How does the number of Confirmed/Deaths/Recovered cases behave through time? How does the Mortality Rate evolves through time?**\n",
    "\n",
    "\n",
    "* **Which are the countries with more confirmed/deaths/recovered cases and also which are the ones with the highest and lowest Mortality Rates?**\n",
    "\n",
    "\n",
    "* **How the daily new confirmed/deaths/recovered cases are behaving through time? Are we managing the situation? Does the daily increases are decresing or increasing over time? In which date there have been more daily confirmed/deaths/recovered cases?**\n",
    "\n",
    "\n",
    "* **How can we compare country by country growth?**\n",
    "\n",
    "\n",
    "* **What is the real form of the cumulated confirmed cases curve, exponential/logistic?**\n",
    "\n",
    "\n",
    "* **How can we visualize if a country is still in an exponential curve or if it has decreased significantly the new confirmed cases by now?**\n",
    "\n",
    "\n",
    "> **Note:** In this notebook I'll be using a self-made python module called **models**, for cleaning and displaying the Time Series of the data source for every country and make it easy to work with."
   ]
  },
  {
   "cell_type": "markdown",
   "metadata": {},
   "source": [
    "# Current global and country by country information"
   ]
  },
  {
   "cell_type": "code",
   "execution_count": 221,
   "metadata": {
    "scrolled": true
   },
   "outputs": [
    {
     "name": "stdout",
     "output_type": "stream",
     "text": [
      "Global:  2020-04-07\n",
      "\tConfirmed: 1,426,096\n",
      "\tDeaths: 81,865\n",
      "\tRecovered: 300,054\n",
      "\tMortality Rate: 5.74%\n",
      "--------------------------------\n",
      "1.- US:\n",
      "\tConfirmed: 396,223\n",
      "\tConfirmed Cases Doubling Time: 6.52  (Considering the last week increment)\n",
      "\tDeaths: 12,722\n",
      "\tRecovered: 21,763\n",
      "\tMortality Rate: 3.21%\n",
      "--------------------------------\n",
      "2.- Spain:\n",
      "\tConfirmed: 141,942\n",
      "\tConfirmed Cases Doubling Time: 12.38  (Considering the last week increment)\n",
      "\tDeaths: 14,045\n",
      "\tRecovered: 43,208\n",
      "\tMortality Rate: 9.89%\n",
      "--------------------------------\n",
      "3.- Italy:\n",
      "\tConfirmed: 135,586\n",
      "\tConfirmed Cases Doubling Time: 19.55  (Considering the last week increment)\n",
      "\tDeaths: 17,127\n",
      "\tRecovered: 24,392\n",
      "\tMortality Rate: 12.63%\n",
      "--------------------------------\n",
      "4.- France:\n",
      "\tConfirmed: 110,065\n",
      "\tConfirmed Cases Doubling Time: 6.61  (Considering the last week increment)\n",
      "\tDeaths: 10,343\n",
      "\tRecovered: 19,523\n",
      "\tMortality Rate: 9.40%\n",
      "--------------------------------\n",
      "5.- Germany:\n",
      "\tConfirmed: 107,663\n",
      "\tConfirmed Cases Doubling Time: 11.98  (Considering the last week increment)\n",
      "\tDeaths: 2,016\n",
      "\tRecovered: 36,081\n",
      "\tMortality Rate: 1.87%\n",
      "--------------------------------\n",
      "6.- China:\n",
      "\tConfirmed: 82,718\n",
      "\tConfirmed Cases Doubling Time: 911.81  (Considering the last week increment)\n",
      "\tDeaths: 3,335\n",
      "\tRecovered: 77,410\n",
      "\tMortality Rate: 4.03%\n",
      "--------------------------------\n",
      "7.- Iran:\n",
      "\tConfirmed: 62,589\n",
      "\tConfirmed Cases Doubling Time: 14.32  (Considering the last week increment)\n",
      "\tDeaths: 3,872\n",
      "\tRecovered: 27,039\n",
      "\tMortality Rate: 6.19%\n",
      "--------------------------------\n",
      "8.- United Kingdom:\n",
      "\tConfirmed: 55,949\n",
      "\tConfirmed Cases Doubling Time: 6.17  (Considering the last week increment)\n",
      "\tDeaths: 6,171\n",
      "\tRecovered: 325\n",
      "\tMortality Rate: 11.03%\n",
      "--------------------------------\n",
      "9.- Turkey:\n",
      "\tConfirmed: 34,109\n",
      "\tConfirmed Cases Doubling Time: 5.25  (Considering the last week increment)\n",
      "\tDeaths: 725\n",
      "\tRecovered: 1,582\n",
      "\tMortality Rate: 2.13%\n",
      "--------------------------------\n",
      "10.- Switzerland:\n",
      "\tConfirmed: 22,253\n",
      "\tConfirmed Cases Doubling Time: 16.57  (Considering the last week increment)\n",
      "\tDeaths: 821\n",
      "\tRecovered: 8,704\n",
      "\tMortality Rate: 3.69%\n",
      "--------------------------------\n",
      "11.- Belgium:\n",
      "\tConfirmed: 22,194\n",
      "\tConfirmed Cases Doubling Time: 8.78  (Considering the last week increment)\n",
      "\tDeaths: 2,035\n",
      "\tRecovered: 4,157\n",
      "\tMortality Rate: 9.17%\n",
      "--------------------------------\n",
      "12.- Netherlands:\n",
      "\tConfirmed: 19,709\n",
      "\tConfirmed Cases Doubling Time: 10.98  (Considering the last week increment)\n",
      "\tDeaths: 2,108\n",
      "\tRecovered: 272\n",
      "\tMortality Rate: 10.70%\n",
      "--------------------------------\n",
      "13.- Canada:\n",
      "\tConfirmed: 17,872\n",
      "\tConfirmed Cases Doubling Time: 6.56  (Considering the last week increment)\n",
      "\tDeaths: 375\n",
      "\tRecovered: 3,791\n",
      "\tMortality Rate: 2.10%\n",
      "--------------------------------\n",
      "14.- Brazil:\n",
      "\tConfirmed: 14,034\n",
      "\tConfirmed Cases Doubling Time: 5.40  (Considering the last week increment)\n",
      "\tDeaths: 686\n",
      "\tRecovered: 127\n",
      "\tMortality Rate: 4.89%\n",
      "--------------------------------\n",
      "15.- Austria:\n",
      "\tConfirmed: 12,639\n",
      "\tConfirmed Cases Doubling Time: 22.43  (Considering the last week increment)\n",
      "\tDeaths: 243\n",
      "\tRecovered: 4,046\n",
      "\tMortality Rate: 1.92%\n",
      "--------------------------------\n",
      "16.- Portugal:\n",
      "\tConfirmed: 12,442\n",
      "\tConfirmed Cases Doubling Time: 9.44  (Considering the last week increment)\n",
      "\tDeaths: 345\n",
      "\tRecovered: 184\n",
      "\tMortality Rate: 2.77%\n",
      "--------------------------------\n",
      "17.- Korea, South:\n",
      "\tConfirmed: 10,331\n",
      "\tConfirmed Cases Doubling Time: 89.53  (Considering the last week increment)\n",
      "\tDeaths: 192\n",
      "\tRecovered: 6,694\n",
      "\tMortality Rate: 1.86%\n",
      "--------------------------------\n",
      "18.- Israel:\n",
      "\tConfirmed: 9,248\n",
      "\tConfirmed Cases Doubling Time: 8.89  (Considering the last week increment)\n",
      "\tDeaths: 65\n",
      "\tRecovered: 770\n",
      "\tMortality Rate: 0.70%\n",
      "--------------------------------\n",
      "19.- Sweden:\n",
      "\tConfirmed: 7,693\n",
      "\tConfirmed Cases Doubling Time: 8.81  (Considering the last week increment)\n",
      "\tDeaths: 591\n",
      "\tRecovered: 205\n",
      "\tMortality Rate: 7.68%\n",
      "--------------------------------\n",
      "20.- Russia:\n",
      "\tConfirmed: 7,497\n",
      "\tConfirmed Cases Doubling Time: 4.16  (Considering the last week increment)\n",
      "\tDeaths: 58\n",
      "\tRecovered: 494\n",
      "\tMortality Rate: 0.77%\n",
      "--------------------------------\n",
      "21.- Norway:\n",
      "\tConfirmed: 6,086\n",
      "\tConfirmed Cases Doubling Time: 17.90  (Considering the last week increment)\n",
      "\tDeaths: 89\n",
      "\tRecovered: 32\n",
      "\tMortality Rate: 1.46%\n",
      "--------------------------------\n",
      "22.- Australia:\n",
      "\tConfirmed: 5,895\n",
      "\tConfirmed Cases Doubling Time: 18.88  (Considering the last week increment)\n",
      "\tDeaths: 45\n",
      "\tRecovered: 1,080\n",
      "\tMortality Rate: 0.76%\n",
      "--------------------------------\n",
      "23.- Ireland:\n",
      "\tConfirmed: 5,709\n",
      "\tConfirmed Cases Doubling Time: 8.54  (Considering the last week increment)\n",
      "\tDeaths: 210\n",
      "\tRecovered: 25\n",
      "\tMortality Rate: 3.68%\n",
      "--------------------------------\n",
      "24.- India:\n",
      "\tConfirmed: 5,311\n",
      "\tConfirmed Cases Doubling Time: 3.63  (Considering the last week increment)\n",
      "\tDeaths: 150\n",
      "\tRecovered: 421\n",
      "\tMortality Rate: 2.82%\n",
      "--------------------------------\n",
      "25.- Denmark:\n",
      "\tConfirmed: 5,266\n",
      "\tConfirmed Cases Doubling Time: 8.83  (Considering the last week increment)\n",
      "\tDeaths: 203\n",
      "\tRecovered: 1,621\n",
      "\tMortality Rate: 3.85%\n",
      "--------------------------------\n",
      "26.- Chile:\n",
      "\tConfirmed: 5,116\n",
      "\tConfirmed Cases Doubling Time: 7.76  (Considering the last week increment)\n",
      "\tDeaths: 43\n",
      "\tRecovered: 898\n",
      "\tMortality Rate: 0.84%\n",
      "--------------------------------\n",
      "27.- Czechia:\n",
      "\tConfirmed: 5,017\n",
      "\tConfirmed Cases Doubling Time: 11.65  (Considering the last week increment)\n",
      "\tDeaths: 88\n",
      "\tRecovered: 172\n",
      "\tMortality Rate: 1.75%\n",
      "--------------------------------\n",
      "28.- Poland:\n",
      "\tConfirmed: 4,848\n",
      "\tConfirmed Cases Doubling Time: 6.55  (Considering the last week increment)\n",
      "\tDeaths: 129\n",
      "\tRecovered: 191\n",
      "\tMortality Rate: 2.66%\n",
      "--------------------------------\n",
      "29.- Romania:\n",
      "\tConfirmed: 4,417\n",
      "\tConfirmed Cases Doubling Time: 7.17  (Considering the last week increment)\n",
      "\tDeaths: 197\n",
      "\tRecovered: 460\n",
      "\tMortality Rate: 4.46%\n",
      "--------------------------------\n",
      "30.- Pakistan:\n",
      "\tConfirmed: 4,035\n",
      "\tConfirmed Cases Doubling Time: 6.62  (Considering the last week increment)\n",
      "\tDeaths: 57\n",
      "\tRecovered: 429\n",
      "\tMortality Rate: 1.41%\n",
      "--------------------------------\n",
      "31.- Malaysia:\n",
      "\tConfirmed: 3,963\n",
      "\tConfirmed Cases Doubling Time: 13.49  (Considering the last week increment)\n",
      "\tDeaths: 63\n",
      "\tRecovered: 1,321\n",
      "\tMortality Rate: 1.59%\n",
      "--------------------------------\n",
      "32.- Japan:\n",
      "\tConfirmed: 3,906\n",
      "\tConfirmed Cases Doubling Time: 7.00  (Considering the last week increment)\n",
      "\tDeaths: 92\n",
      "\tRecovered: 592\n",
      "\tMortality Rate: 2.36%\n",
      "--------------------------------\n",
      "33.- Philippines:\n",
      "\tConfirmed: 3,764\n",
      "\tConfirmed Cases Doubling Time: 8.21  (Considering the last week increment)\n",
      "\tDeaths: 177\n",
      "\tRecovered: 84\n",
      "\tMortality Rate: 4.70%\n",
      "--------------------------------\n",
      "34.- Ecuador:\n",
      "\tConfirmed: 3,747\n",
      "\tConfirmed Cases Doubling Time: 9.43  (Considering the last week increment)\n",
      "\tDeaths: 191\n",
      "\tRecovered: 100\n",
      "\tMortality Rate: 5.10%\n",
      "--------------------------------\n",
      "35.- Luxembourg:\n",
      "\tConfirmed: 2,970\n",
      "\tConfirmed Cases Doubling Time: 15.64  (Considering the last week increment)\n",
      "\tDeaths: 44\n",
      "\tRecovered: 500\n",
      "\tMortality Rate: 1.48%\n",
      "--------------------------------\n",
      "36.- Peru:\n",
      "\tConfirmed: 2,954\n",
      "\tConfirmed Cases Doubling Time: 4.76  (Considering the last week increment)\n",
      "\tDeaths: 107\n",
      "\tRecovered: 1,301\n",
      "\tMortality Rate: 3.62%\n",
      "--------------------------------\n",
      "37.- Saudi Arabia:\n",
      "\tConfirmed: 2,795\n",
      "\tConfirmed Cases Doubling Time: 8.35  (Considering the last week increment)\n",
      "\tDeaths: 41\n",
      "\tRecovered: 615\n",
      "\tMortality Rate: 1.47%\n",
      "--------------------------------\n",
      "38.- Indonesia:\n",
      "\tConfirmed: 2,738\n",
      "\tConfirmed Cases Doubling Time: 8.32  (Considering the last week increment)\n",
      "\tDeaths: 221\n",
      "\tRecovered: 204\n",
      "\tMortality Rate: 8.07%\n",
      "--------------------------------\n",
      "39.- Serbia:\n",
      "\tConfirmed: 2,447\n",
      "\tConfirmed Cases Doubling Time: 4.85  (Considering the last week increment)\n",
      "\tDeaths: 61\n",
      "\tRecovered: 0\n",
      "\tMortality Rate: 2.49%\n",
      "--------------------------------\n",
      "40.- Mexico:\n",
      "\tConfirmed: 2,439\n",
      "\tConfirmed Cases Doubling Time: 6.05  (Considering the last week increment)\n",
      "\tDeaths: 125\n",
      "\tRecovered: 633\n",
      "\tMortality Rate: 5.13%\n",
      "--------------------------------\n",
      "41.- United Arab Emirates:\n",
      "\tConfirmed: 2,359\n",
      "\tConfirmed Cases Doubling Time: 3.83  (Considering the last week increment)\n",
      "\tDeaths: 12\n",
      "\tRecovered: 186\n",
      "\tMortality Rate: 0.51%\n",
      "--------------------------------\n",
      "42.- Finland:\n",
      "\tConfirmed: 2,308\n",
      "\tConfirmed Cases Doubling Time: 9.96  (Considering the last week increment)\n",
      "\tDeaths: 34\n",
      "\tRecovered: 300\n",
      "\tMortality Rate: 1.47%\n",
      "--------------------------------\n",
      "43.- Thailand:\n",
      "\tConfirmed: 2,258\n",
      "\tConfirmed Cases Doubling Time: 15.50  (Considering the last week increment)\n",
      "\tDeaths: 27\n",
      "\tRecovered: 888\n",
      "\tMortality Rate: 1.20%\n",
      "--------------------------------\n",
      "44.- Panama:\n",
      "\tConfirmed: 2,100\n",
      "\tConfirmed Cases Doubling Time: 8.43  (Considering the last week increment)\n",
      "\tDeaths: 55\n",
      "\tRecovered: 14\n",
      "\tMortality Rate: 2.62%\n",
      "--------------------------------\n",
      "45.- Qatar:\n",
      "\tConfirmed: 2,057\n"
     ]
    },
    {
     "name": "stdout",
     "output_type": "stream",
     "text": [
      "\tConfirmed Cases Doubling Time: 5.01  (Considering the last week increment)\n",
      "\tDeaths: 6\n",
      "\tRecovered: 150\n",
      "\tMortality Rate: 0.29%\n",
      "--------------------------------\n",
      "46.- Dominican Republic:\n",
      "\tConfirmed: 1,956\n",
      "\tConfirmed Cases Doubling Time: 8.55  (Considering the last week increment)\n",
      "\tDeaths: 98\n",
      "\tRecovered: 36\n",
      "\tMortality Rate: 5.01%\n",
      "--------------------------------\n",
      "47.- Greece:\n",
      "\tConfirmed: 1,832\n",
      "\tConfirmed Cases Doubling Time: 14.60  (Considering the last week increment)\n",
      "\tDeaths: 81\n",
      "\tRecovered: 269\n",
      "\tMortality Rate: 4.42%\n",
      "--------------------------------\n",
      "48.- Colombia:\n",
      "\tConfirmed: 1,780\n",
      "\tConfirmed Cases Doubling Time: 7.18  (Considering the last week increment)\n",
      "\tDeaths: 50\n",
      "\tRecovered: 100\n",
      "\tMortality Rate: 2.81%\n",
      "--------------------------------\n",
      "49.- South Africa:\n",
      "\tConfirmed: 1,749\n",
      "\tConfirmed Cases Doubling Time: 18.90  (Considering the last week increment)\n",
      "\tDeaths: 13\n",
      "\tRecovered: 95\n",
      "\tMortality Rate: 0.74%\n",
      "--------------------------------\n",
      "50.- Argentina:\n",
      "\tConfirmed: 1,628\n",
      "\tConfirmed Cases Doubling Time: 11.16  (Considering the last week increment)\n",
      "\tDeaths: 56\n",
      "\tRecovered: 338\n",
      "\tMortality Rate: 3.44%\n",
      "--------------------------------\n",
      "51.- Iceland:\n",
      "\tConfirmed: 1,586\n",
      "\tConfirmed Cases Doubling Time: 14.50  (Considering the last week increment)\n",
      "\tDeaths: 6\n",
      "\tRecovered: 559\n",
      "\tMortality Rate: 0.38%\n",
      "--------------------------------\n",
      "52.- Singapore:\n",
      "\tConfirmed: 1,481\n",
      "\tConfirmed Cases Doubling Time: 10.33  (Considering the last week increment)\n",
      "\tDeaths: 6\n",
      "\tRecovered: 377\n",
      "\tMortality Rate: 0.41%\n",
      "--------------------------------\n",
      "53.- Algeria:\n",
      "\tConfirmed: 1,468\n",
      "\tConfirmed Cases Doubling Time: 6.76  (Considering the last week increment)\n",
      "\tDeaths: 193\n",
      "\tRecovered: 113\n",
      "\tMortality Rate: 13.15%\n",
      "--------------------------------\n",
      "54.- Ukraine:\n",
      "\tConfirmed: 1,462\n",
      "\tConfirmed Cases Doubling Time: 5.93  (Considering the last week increment)\n",
      "\tDeaths: 45\n",
      "\tRecovered: 28\n",
      "\tMortality Rate: 3.08%\n",
      "--------------------------------\n",
      "55.- Egypt:\n",
      "\tConfirmed: 1,450\n",
      "\tConfirmed Cases Doubling Time: 6.80  (Considering the last week increment)\n",
      "\tDeaths: 94\n",
      "\tRecovered: 276\n",
      "\tMortality Rate: 6.48%\n",
      "--------------------------------\n",
      "56.- Croatia:\n",
      "\tConfirmed: 1,282\n",
      "\tConfirmed Cases Doubling Time: 12.40  (Considering the last week increment)\n",
      "\tDeaths: 18\n",
      "\tRecovered: 167\n",
      "\tMortality Rate: 1.40%\n",
      "--------------------------------\n",
      "57.- Morocco:\n",
      "\tConfirmed: 1,184\n",
      "\tConfirmed Cases Doubling Time: 7.44  (Considering the last week increment)\n",
      "\tDeaths: 90\n",
      "\tRecovered: 93\n",
      "\tMortality Rate: 7.60%\n",
      "--------------------------------\n",
      "58.- New Zealand:\n",
      "\tConfirmed: 1,160\n",
      "\tConfirmed Cases Doubling Time: 8.31  (Considering the last week increment)\n",
      "\tDeaths: 1\n",
      "\tRecovered: 241\n",
      "\tMortality Rate: 0.09%\n",
      "--------------------------------\n",
      "59.- Estonia:\n",
      "\tConfirmed: 1,149\n",
      "\tConfirmed Cases Doubling Time: 11.20  (Considering the last week increment)\n",
      "\tDeaths: 21\n",
      "\tRecovered: 69\n",
      "\tMortality Rate: 1.83%\n",
      "--------------------------------\n",
      "60.- Iraq:\n",
      "\tConfirmed: 1,122\n",
      "\tConfirmed Cases Doubling Time: 10.10  (Considering the last week increment)\n",
      "\tDeaths: 65\n",
      "\tRecovered: 373\n",
      "\tMortality Rate: 5.79%\n",
      "--------------------------------\n",
      "61.- Slovenia:\n",
      "\tConfirmed: 1,059\n",
      "\tConfirmed Cases Doubling Time: 17.46  (Considering the last week increment)\n",
      "\tDeaths: 36\n",
      "\tRecovered: 102\n",
      "\tMortality Rate: 3.40%\n",
      "--------------------------------\n",
      "62.- Moldova:\n",
      "\tConfirmed: 1,056\n",
      "\tConfirmed Cases Doubling Time: 4.43  (Considering the last week increment)\n",
      "\tDeaths: 22\n",
      "\tRecovered: 40\n",
      "\tMortality Rate: 2.08%\n",
      "--------------------------------\n",
      "63.- Lithuania:\n",
      "\tConfirmed: 880\n",
      "\tConfirmed Cases Doubling Time: 9.82  (Considering the last week increment)\n",
      "\tDeaths: 15\n",
      "\tRecovered: 8\n",
      "\tMortality Rate: 1.70%\n",
      "--------------------------------\n",
      "64.- Belarus:\n",
      "\tConfirmed: 861\n",
      "\tConfirmed Cases Doubling Time: 2.80  (Considering the last week increment)\n",
      "\tDeaths: 13\n",
      "\tRecovered: 54\n",
      "\tMortality Rate: 1.51%\n",
      "--------------------------------\n",
      "65.- Armenia:\n",
      "\tConfirmed: 853\n",
      "\tConfirmed Cases Doubling Time: 10.28  (Considering the last week increment)\n",
      "\tDeaths: 8\n",
      "\tRecovered: 87\n",
      "\tMortality Rate: 0.94%\n",
      "--------------------------------\n",
      "66.- Hungary:\n",
      "\tConfirmed: 817\n",
      "\tConfirmed Cases Doubling Time: 9.57  (Considering the last week increment)\n",
      "\tDeaths: 47\n",
      "\tRecovered: 71\n",
      "\tMortality Rate: 5.75%\n",
      "--------------------------------\n",
      "67.- Bahrain:\n",
      "\tConfirmed: 811\n",
      "\tConfirmed Cases Doubling Time: 13.56  (Considering the last week increment)\n",
      "\tDeaths: 5\n",
      "\tRecovered: 458\n",
      "\tMortality Rate: 0.62%\n",
      "--------------------------------\n",
      "68.- Bosnia and Herzegovina:\n",
      "\tConfirmed: 764\n",
      "\tConfirmed Cases Doubling Time: 8.11  (Considering the last week increment)\n",
      "\tDeaths: 33\n",
      "\tRecovered: 68\n",
      "\tMortality Rate: 4.32%\n",
      "--------------------------------\n",
      "69.- Kuwait:\n",
      "\tConfirmed: 743\n",
      "\tConfirmed Cases Doubling Time: 5.14  (Considering the last week increment)\n",
      "\tDeaths: 1\n",
      "\tRecovered: 105\n",
      "\tMortality Rate: 0.13%\n",
      "--------------------------------\n",
      "70.- Azerbaijan:\n",
      "\tConfirmed: 717\n",
      "\tConfirmed Cases Doubling Time: 5.53  (Considering the last week increment)\n",
      "\tDeaths: 8\n",
      "\tRecovered: 44\n",
      "\tMortality Rate: 1.12%\n",
      "--------------------------------\n",
      "71.- Diamond Princess:\n",
      "\tConfirmed: 712\n",
      "\tConfirmed Cases Doubling Time: 0.00  (Considering the last week increment)\n",
      "\tDeaths: 11\n",
      "\tRecovered: 619\n",
      "\tMortality Rate: 1.54%\n",
      "--------------------------------\n",
      "72.- Kazakhstan:\n",
      "\tConfirmed: 697\n",
      "\tConfirmed Cases Doubling Time: 6.84  (Considering the last week increment)\n",
      "\tDeaths: 6\n",
      "\tRecovered: 51\n",
      "\tMortality Rate: 0.86%\n",
      "--------------------------------\n",
      "73.- Cameroon:\n",
      "\tConfirmed: 658\n",
      "\tConfirmed Cases Doubling Time: 3.96  (Considering the last week increment)\n",
      "\tDeaths: 9\n",
      "\tRecovered: 43\n",
      "\tMortality Rate: 1.37%\n",
      "--------------------------------\n",
      "74.- Tunisia:\n",
      "\tConfirmed: 623\n",
      "\tConfirmed Cases Doubling Time: 10.59  (Considering the last week increment)\n",
      "\tDeaths: 23\n",
      "\tRecovered: 25\n",
      "\tMortality Rate: 3.69%\n",
      "--------------------------------\n",
      "75.- North Macedonia:\n",
      "\tConfirmed: 599\n",
      "\tConfirmed Cases Doubling Time: 8.10  (Considering the last week increment)\n",
      "\tDeaths: 26\n",
      "\tRecovered: 30\n",
      "\tMortality Rate: 4.34%\n",
      "--------------------------------\n",
      "76.- Slovakia:\n",
      "\tConfirmed: 581\n",
      "\tConfirmed Cases Doubling Time: 10.32  (Considering the last week increment)\n",
      "\tDeaths: 2\n",
      "\tRecovered: 13\n",
      "\tMortality Rate: 0.34%\n",
      "--------------------------------\n",
      "77.- Bulgaria:\n",
      "\tConfirmed: 577\n",
      "\tConfirmed Cases Doubling Time: 13.15  (Considering the last week increment)\n",
      "\tDeaths: 23\n",
      "\tRecovered: 42\n",
      "\tMortality Rate: 3.99%\n",
      "--------------------------------\n",
      "78.- Lebanon:\n",
      "\tConfirmed: 548\n",
      "\tConfirmed Cases Doubling Time: 31.60  (Considering the last week increment)\n",
      "\tDeaths: 19\n",
      "\tRecovered: 62\n",
      "\tMortality Rate: 3.47%\n",
      "--------------------------------\n",
      "79.- Latvia:\n",
      "\tConfirmed: 548\n",
      "\tConfirmed Cases Doubling Time: 15.17  (Considering the last week increment)\n",
      "\tDeaths: 2\n",
      "\tRecovered: 16\n",
      "\tMortality Rate: 0.36%\n",
      "--------------------------------\n",
      "80.- Andorra:\n",
      "\tConfirmed: 545\n",
      "\tConfirmed Cases Doubling Time: 13.07  (Considering the last week increment)\n",
      "\tDeaths: 22\n",
      "\tRecovered: 39\n",
      "\tMortality Rate: 4.04%\n",
      "--------------------------------\n",
      "81.- Uzbekistan:\n",
      "\tConfirmed: 520\n",
      "\tConfirmed Cases Doubling Time: 4.39  (Considering the last week increment)\n",
      "\tDeaths: 2\n",
      "\tRecovered: 30\n",
      "\tMortality Rate: 0.38%\n",
      "--------------------------------\n",
      "82.- Cyprus:\n",
      "\tConfirmed: 494\n",
      "\tConfirmed Cases Doubling Time: 7.65  (Considering the last week increment)\n",
      "\tDeaths: 9\n",
      "\tRecovered: 47\n",
      "\tMortality Rate: 1.82%\n",
      "--------------------------------\n",
      "83.- Costa Rica:\n",
      "\tConfirmed: 483\n",
      "\tConfirmed Cases Doubling Time: 14.67  (Considering the last week increment)\n",
      "\tDeaths: 2\n",
      "\tRecovered: 24\n",
      "\tMortality Rate: 0.41%\n",
      "--------------------------------\n",
      "84.- Uruguay:\n",
      "\tConfirmed: 424\n",
      "\tConfirmed Cases Doubling Time: 21.40  (Considering the last week increment)\n",
      "\tDeaths: 7\n",
      "\tRecovered: 150\n",
      "\tMortality Rate: 1.65%\n",
      "--------------------------------\n",
      "85.- Afghanistan:\n",
      "\tConfirmed: 423\n",
      "\tConfirmed Cases Doubling Time: 5.46  (Considering the last week increment)\n",
      "\tDeaths: 14\n",
      "\tRecovered: 18\n",
      "\tMortality Rate: 3.31%\n",
      "--------------------------------\n",
      "86.- Cuba:\n",
      "\tConfirmed: 396\n",
      "\tConfirmed Cases Doubling Time: 6.42  (Considering the last week increment)\n",
      "\tDeaths: 11\n",
      "\tRecovered: 27\n",
      "\tMortality Rate: 2.78%\n",
      "--------------------------------\n",
      "87.- Burkina Faso:\n",
      "\tConfirmed: 384\n",
      "\tConfirmed Cases Doubling Time: 12.57  (Considering the last week increment)\n",
      "\tDeaths: 19\n",
      "\tRecovered: 127\n",
      "\tMortality Rate: 4.95%\n",
      "--------------------------------\n",
      "88.- Albania:\n",
      "\tConfirmed: 383\n",
      "\tConfirmed Cases Doubling Time: 10.66  (Considering the last week increment)\n",
      "\tDeaths: 22\n",
      "\tRecovered: 131\n",
      "\tMortality Rate: 5.74%\n",
      "--------------------------------\n",
      "89.- Taiwan*:\n",
      "\tConfirmed: 376\n",
      "\tConfirmed Cases Doubling Time: 31.30  (Considering the last week increment)\n",
      "\tDeaths: 5\n",
      "\tRecovered: 57\n",
      "\tMortality Rate: 1.33%\n",
      "--------------------------------\n",
      "90.- Oman:\n",
      "\tConfirmed: 371\n",
      "\tConfirmed Cases Doubling Time: 7.37  (Considering the last week increment)\n",
      "\tDeaths: 2\n",
      "\tRecovered: 67\n",
      "\tMortality Rate: 0.54%\n",
      "--------------------------------\n",
      "91.- Jordan:\n",
      "\tConfirmed: 353\n",
      "\tConfirmed Cases Doubling Time: 19.15  (Considering the last week increment)\n",
      "\tDeaths: 6\n",
      "\tRecovered: 138\n",
      "\tMortality Rate: 1.70%\n",
      "--------------------------------\n",
      "92.- Cote d'Ivoire:\n",
      "\tConfirmed: 349\n"
     ]
    },
    {
     "name": "stdout",
     "output_type": "stream",
     "text": [
      "\tConfirmed Cases Doubling Time: 7.27  (Considering the last week increment)\n",
      "\tDeaths: 3\n",
      "\tRecovered: 41\n",
      "\tMortality Rate: 0.86%\n",
      "--------------------------------\n",
      "93.- Honduras:\n",
      "\tConfirmed: 305\n",
      "\tConfirmed Cases Doubling Time: 6.29  (Considering the last week increment)\n",
      "\tDeaths: 22\n",
      "\tRecovered: 6\n",
      "\tMortality Rate: 7.21%\n",
      "--------------------------------\n",
      "94.- Malta:\n",
      "\tConfirmed: 293\n",
      "\tConfirmed Cases Doubling Time: 8.82  (Considering the last week increment)\n",
      "\tDeaths: 0\n",
      "\tRecovered: 5\n",
      "\tMortality Rate: 0.00%\n",
      "--------------------------------\n",
      "95.- Ghana:\n",
      "\tConfirmed: 287\n",
      "\tConfirmed Cases Doubling Time: 8.39  (Considering the last week increment)\n",
      "\tDeaths: 5\n",
      "\tRecovered: 31\n",
      "\tMortality Rate: 1.74%\n",
      "--------------------------------\n",
      "96.- San Marino:\n",
      "\tConfirmed: 279\n",
      "\tConfirmed Cases Doubling Time: 28.99  (Considering the last week increment)\n",
      "\tDeaths: 34\n",
      "\tRecovered: 40\n",
      "\tMortality Rate: 12.19%\n",
      "--------------------------------\n",
      "97.- Niger:\n",
      "\tConfirmed: 278\n",
      "\tConfirmed Cases Doubling Time: 2.08  (Considering the last week increment)\n",
      "\tDeaths: 11\n",
      "\tRecovered: 26\n",
      "\tMortality Rate: 3.96%\n",
      "--------------------------------\n",
      "98.- Mauritius:\n",
      "\tConfirmed: 268\n",
      "\tConfirmed Cases Doubling Time: 7.72  (Considering the last week increment)\n",
      "\tDeaths: 7\n",
      "\tRecovered: 8\n",
      "\tMortality Rate: 2.61%\n",
      "--------------------------------\n",
      "99.- West Bank and Gaza:\n",
      "\tConfirmed: 261\n",
      "\tConfirmed Cases Doubling Time: 6.18  (Considering the last week increment)\n",
      "\tDeaths: 1\n",
      "\tRecovered: 42\n",
      "\tMortality Rate: 0.38%\n",
      "--------------------------------\n",
      "100.- Nigeria:\n",
      "\tConfirmed: 254\n",
      "\tConfirmed Cases Doubling Time: 7.68  (Considering the last week increment)\n",
      "\tDeaths: 6\n",
      "\tRecovered: 44\n",
      "\tMortality Rate: 2.36%\n",
      "--------------------------------\n",
      "101.- Vietnam:\n",
      "\tConfirmed: 249\n",
      "\tConfirmed Cases Doubling Time: 30.16  (Considering the last week increment)\n",
      "\tDeaths: 0\n",
      "\tRecovered: 123\n",
      "\tMortality Rate: 0.00%\n",
      "--------------------------------\n",
      "102.- Montenegro:\n",
      "\tConfirmed: 241\n",
      "\tConfirmed Cases Doubling Time: 6.12  (Considering the last week increment)\n",
      "\tDeaths: 2\n",
      "\tRecovered: 4\n",
      "\tMortality Rate: 0.83%\n",
      "--------------------------------\n",
      "103.- Senegal:\n",
      "\tConfirmed: 237\n",
      "\tConfirmed Cases Doubling Time: 16.00  (Considering the last week increment)\n",
      "\tDeaths: 2\n",
      "\tRecovered: 105\n",
      "\tMortality Rate: 0.84%\n",
      "--------------------------------\n",
      "104.- Kyrgyzstan:\n",
      "\tConfirmed: 228\n",
      "\tConfirmed Cases Doubling Time: 6.41  (Considering the last week increment)\n",
      "\tDeaths: 4\n",
      "\tRecovered: 33\n",
      "\tMortality Rate: 1.75%\n",
      "--------------------------------\n",
      "105.- Georgia:\n",
      "\tConfirmed: 196\n",
      "\tConfirmed Cases Doubling Time: 8.40  (Considering the last week increment)\n",
      "\tDeaths: 3\n",
      "\tRecovered: 46\n",
      "\tMortality Rate: 1.53%\n",
      "--------------------------------\n",
      "106.- Bolivia:\n",
      "\tConfirmed: 194\n",
      "\tConfirmed Cases Doubling Time: 8.15  (Considering the last week increment)\n",
      "\tDeaths: 14\n",
      "\tRecovered: 2\n",
      "\tMortality Rate: 7.22%\n",
      "--------------------------------\n",
      "107.- Sri Lanka:\n",
      "\tConfirmed: 185\n",
      "\tConfirmed Cases Doubling Time: 18.84  (Considering the last week increment)\n",
      "\tDeaths: 6\n",
      "\tRecovered: 42\n",
      "\tMortality Rate: 3.24%\n",
      "--------------------------------\n",
      "108.- Congo (Kinshasa):\n",
      "\tConfirmed: 180\n",
      "\tConfirmed Cases Doubling Time: 7.98  (Considering the last week increment)\n",
      "\tDeaths: 18\n",
      "\tRecovered: 9\n",
      "\tMortality Rate: 10.00%\n",
      "--------------------------------\n",
      "109.- Kenya:\n",
      "\tConfirmed: 172\n",
      "\tConfirmed Cases Doubling Time: 4.53  (Considering the last week increment)\n",
      "\tDeaths: 6\n",
      "\tRecovered: 7\n",
      "\tMortality Rate: 3.49%\n",
      "--------------------------------\n",
      "110.- Kosovo:\n",
      "\tConfirmed: 170\n",
      "\tConfirmed Cases Doubling Time: 11.63  (Considering the last week increment)\n",
      "\tDeaths: 4\n",
      "\tRecovered: 24\n",
      "\tMortality Rate: 2.35%\n",
      "--------------------------------\n",
      "111.- Venezuela:\n",
      "\tConfirmed: 165\n",
      "\tConfirmed Cases Doubling Time: 24.18  (Considering the last week increment)\n",
      "\tDeaths: 7\n",
      "\tRecovered: 65\n",
      "\tMortality Rate: 4.24%\n",
      "--------------------------------\n",
      "112.- Bangladesh:\n",
      "\tConfirmed: 164\n",
      "\tConfirmed Cases Doubling Time: 4.15  (Considering the last week increment)\n",
      "\tDeaths: 17\n",
      "\tRecovered: 33\n",
      "\tMortality Rate: 10.37%\n",
      "--------------------------------\n",
      "113.- Guinea:\n",
      "\tConfirmed: 144\n",
      "\tConfirmed Cases Doubling Time: 2.58  (Considering the last week increment)\n",
      "\tDeaths: 0\n",
      "\tRecovered: 5\n",
      "\tMortality Rate: 0.00%\n",
      "--------------------------------\n",
      "114.- Brunei:\n",
      "\tConfirmed: 135\n",
      "\tConfirmed Cases Doubling Time: 106.73  (Considering the last week increment)\n",
      "\tDeaths: 1\n",
      "\tRecovered: 85\n",
      "\tMortality Rate: 0.74%\n",
      "--------------------------------\n",
      "115.- Cambodia:\n",
      "\tConfirmed: 115\n",
      "\tConfirmed Cases Doubling Time: 90.55  (Considering the last week increment)\n",
      "\tDeaths: 0\n",
      "\tRecovered: 58\n",
      "\tMortality Rate: 0.00%\n",
      "--------------------------------\n",
      "116.- Paraguay:\n",
      "\tConfirmed: 115\n",
      "\tConfirmed Cases Doubling Time: 8.50  (Considering the last week increment)\n",
      "\tDeaths: 5\n",
      "\tRecovered: 15\n",
      "\tMortality Rate: 4.35%\n",
      "--------------------------------\n",
      "117.- Trinidad and Tobago:\n",
      "\tConfirmed: 107\n",
      "\tConfirmed Cases Doubling Time: 23.45  (Considering the last week increment)\n",
      "\tDeaths: 8\n",
      "\tRecovered: 1\n",
      "\tMortality Rate: 7.48%\n",
      "--------------------------------\n",
      "118.- Rwanda:\n",
      "\tConfirmed: 105\n",
      "\tConfirmed Cases Doubling Time: 14.42  (Considering the last week increment)\n",
      "\tDeaths: 0\n",
      "\tRecovered: 7\n",
      "\tMortality Rate: 0.00%\n",
      "--------------------------------\n",
      "119.- Djibouti:\n",
      "\tConfirmed: 90\n",
      "\tConfirmed Cases Doubling Time: 4.42  (Considering the last week increment)\n",
      "\tDeaths: 0\n",
      "\tRecovered: 9\n",
      "\tMortality Rate: 0.00%\n",
      "--------------------------------\n",
      "120.- Madagascar:\n",
      "\tConfirmed: 88\n",
      "\tConfirmed Cases Doubling Time: 11.17  (Considering the last week increment)\n",
      "\tDeaths: 0\n",
      "\tRecovered: 7\n",
      "\tMortality Rate: 0.00%\n",
      "--------------------------------\n",
      "121.- Monaco:\n",
      "\tConfirmed: 79\n",
      "\tConfirmed Cases Doubling Time: 11.60  (Considering the last week increment)\n",
      "\tDeaths: 1\n",
      "\tRecovered: 4\n",
      "\tMortality Rate: 1.27%\n",
      "--------------------------------\n",
      "122.- Liechtenstein:\n",
      "\tConfirmed: 78\n",
      "\tConfirmed Cases Doubling Time: 35.36  (Considering the last week increment)\n",
      "\tDeaths: 1\n",
      "\tRecovered: 55\n",
      "\tMortality Rate: 1.28%\n",
      "--------------------------------\n",
      "123.- El Salvador:\n",
      "\tConfirmed: 78\n",
      "\tConfirmed Cases Doubling Time: 5.45  (Considering the last week increment)\n",
      "\tDeaths: 4\n",
      "\tRecovered: 5\n",
      "\tMortality Rate: 5.13%\n",
      "--------------------------------\n",
      "124.- Guatemala:\n",
      "\tConfirmed: 77\n",
      "\tConfirmed Cases Doubling Time: 6.87  (Considering the last week increment)\n",
      "\tDeaths: 3\n",
      "\tRecovered: 17\n",
      "\tMortality Rate: 3.90%\n",
      "--------------------------------\n",
      "125.- Togo:\n",
      "\tConfirmed: 65\n",
      "\tConfirmed Cases Doubling Time: 7.49  (Considering the last week increment)\n",
      "\tDeaths: 3\n",
      "\tRecovered: 23\n",
      "\tMortality Rate: 4.62%\n",
      "--------------------------------\n",
      "126.- Jamaica:\n",
      "\tConfirmed: 63\n",
      "\tConfirmed Cases Doubling Time: 8.67  (Considering the last week increment)\n",
      "\tDeaths: 3\n",
      "\tRecovered: 8\n",
      "\tMortality Rate: 4.76%\n",
      "--------------------------------\n",
      "127.- Barbados:\n",
      "\tConfirmed: 63\n",
      "\tConfirmed Cases Doubling Time: 7.87  (Considering the last week increment)\n",
      "\tDeaths: 3\n",
      "\tRecovered: 6\n",
      "\tMortality Rate: 4.76%\n",
      "--------------------------------\n",
      "128.- Mali:\n",
      "\tConfirmed: 56\n",
      "\tConfirmed Cases Doubling Time: 7.00  (Considering the last week increment)\n",
      "\tDeaths: 5\n",
      "\tRecovered: 12\n",
      "\tMortality Rate: 8.93%\n",
      "--------------------------------\n",
      "129.- Ethiopia:\n",
      "\tConfirmed: 52\n",
      "\tConfirmed Cases Doubling Time: 7.00  (Considering the last week increment)\n",
      "\tDeaths: 2\n",
      "\tRecovered: 4\n",
      "\tMortality Rate: 3.85%\n",
      "--------------------------------\n",
      "130.- Uganda:\n",
      "\tConfirmed: 52\n",
      "\tConfirmed Cases Doubling Time: 29.04  (Considering the last week increment)\n",
      "\tDeaths: 0\n",
      "\tRecovered: 0\n",
      "\tMortality Rate: 0.00%\n",
      "--------------------------------\n",
      "131.- Congo (Brazzaville):\n",
      "\tConfirmed: 45\n",
      "\tConfirmed Cases Doubling Time: 5.63  (Considering the last week increment)\n",
      "\tDeaths: 5\n",
      "\tRecovered: 2\n",
      "\tMortality Rate: 11.11%\n",
      "--------------------------------\n",
      "132.- Zambia:\n",
      "\tConfirmed: 39\n",
      "\tConfirmed Cases Doubling Time: 44.84  (Considering the last week increment)\n",
      "\tDeaths: 1\n",
      "\tRecovered: 7\n",
      "\tMortality Rate: 2.56%\n",
      "--------------------------------\n",
      "133.- Bahamas:\n",
      "\tConfirmed: 33\n",
      "\tConfirmed Cases Doubling Time: 5.66  (Considering the last week increment)\n",
      "\tDeaths: 6\n",
      "\tRecovered: 5\n",
      "\tMortality Rate: 18.18%\n",
      "--------------------------------\n",
      "134.- Guinea-Bissau:\n",
      "\tConfirmed: 33\n",
      "\tConfirmed Cases Doubling Time: 3.42  (Considering the last week increment)\n",
      "\tDeaths: 0\n",
      "\tRecovered: 0\n",
      "\tMortality Rate: 0.00%\n",
      "--------------------------------\n",
      "135.- Guyana:\n",
      "\tConfirmed: 33\n",
      "\tConfirmed Cases Doubling Time: 4.80  (Considering the last week increment)\n",
      "\tDeaths: 5\n",
      "\tRecovered: 8\n",
      "\tMortality Rate: 15.15%\n",
      "--------------------------------\n",
      "136.- Eritrea:\n",
      "\tConfirmed: 31\n",
      "\tConfirmed Cases Doubling Time: 6.68  (Considering the last week increment)\n",
      "\tDeaths: 0\n",
      "\tRecovered: 0\n",
      "\tMortality Rate: 0.00%\n",
      "--------------------------------\n",
      "137.- Gabon:\n",
      "\tConfirmed: 30\n",
      "\tConfirmed Cases Doubling Time: 7.72  (Considering the last week increment)\n",
      "\tDeaths: 1\n",
      "\tRecovered: 1\n",
      "\tMortality Rate: 3.33%\n",
      "--------------------------------\n",
      "138.- Benin:\n",
      "\tConfirmed: 26\n"
     ]
    },
    {
     "name": "stdout",
     "output_type": "stream",
     "text": [
      "\tConfirmed Cases Doubling Time: 4.57  (Considering the last week increment)\n",
      "\tDeaths: 1\n",
      "\tRecovered: 5\n",
      "\tMortality Rate: 3.85%\n",
      "--------------------------------\n",
      "139.- Haiti:\n",
      "\tConfirmed: 25\n",
      "\tConfirmed Cases Doubling Time: 9.50  (Considering the last week increment)\n",
      "\tDeaths: 1\n",
      "\tRecovered: 0\n",
      "\tMortality Rate: 4.00%\n",
      "--------------------------------\n",
      "140.- Tanzania:\n",
      "\tConfirmed: 24\n",
      "\tConfirmed Cases Doubling Time: 20.77  (Considering the last week increment)\n",
      "\tDeaths: 1\n",
      "\tRecovered: 5\n",
      "\tMortality Rate: 4.17%\n",
      "--------------------------------\n",
      "141.- Burma:\n",
      "\tConfirmed: 22\n",
      "\tConfirmed Cases Doubling Time: 12.67  (Considering the last week increment)\n",
      "\tDeaths: 1\n",
      "\tRecovered: 0\n",
      "\tMortality Rate: 4.55%\n",
      "--------------------------------\n",
      "142.- Libya:\n",
      "\tConfirmed: 20\n",
      "\tConfirmed Cases Doubling Time: 7.00  (Considering the last week increment)\n",
      "\tDeaths: 1\n",
      "\tRecovered: 1\n",
      "\tMortality Rate: 5.00%\n",
      "--------------------------------\n",
      "143.- Antigua and Barbuda:\n",
      "\tConfirmed: 19\n",
      "\tConfirmed Cases Doubling Time: 4.86  (Considering the last week increment)\n",
      "\tDeaths: 1\n",
      "\tRecovered: 0\n",
      "\tMortality Rate: 5.26%\n",
      "--------------------------------\n",
      "144.- Maldives:\n",
      "\tConfirmed: 19\n",
      "\tConfirmed Cases Doubling Time: 89.74  (Considering the last week increment)\n",
      "\tDeaths: 0\n",
      "\tRecovered: 13\n",
      "\tMortality Rate: 0.00%\n",
      "--------------------------------\n",
      "145.- Syria:\n",
      "\tConfirmed: 19\n",
      "\tConfirmed Cases Doubling Time: 7.56  (Considering the last week increment)\n",
      "\tDeaths: 2\n",
      "\tRecovered: 3\n",
      "\tMortality Rate: 10.53%\n",
      "--------------------------------\n",
      "146.- Angola:\n",
      "\tConfirmed: 17\n",
      "\tConfirmed Cases Doubling Time: 5.47  (Considering the last week increment)\n",
      "\tDeaths: 2\n",
      "\tRecovered: 2\n",
      "\tMortality Rate: 11.76%\n",
      "--------------------------------\n",
      "147.- Namibia:\n",
      "\tConfirmed: 16\n",
      "\tConfirmed Cases Doubling Time: 12.95  (Considering the last week increment)\n",
      "\tDeaths: 0\n",
      "\tRecovered: 3\n",
      "\tMortality Rate: 0.00%\n",
      "--------------------------------\n",
      "148.- Equatorial Guinea:\n",
      "\tConfirmed: 16\n",
      "\tConfirmed Cases Doubling Time: 16.87  (Considering the last week increment)\n",
      "\tDeaths: 0\n",
      "\tRecovered: 3\n",
      "\tMortality Rate: 0.00%\n",
      "--------------------------------\n",
      "149.- Dominica:\n",
      "\tConfirmed: 15\n",
      "\tConfirmed Cases Doubling Time: 21.74  (Considering the last week increment)\n",
      "\tDeaths: 0\n",
      "\tRecovered: 1\n",
      "\tMortality Rate: 0.00%\n",
      "--------------------------------\n",
      "150.- Mongolia:\n",
      "\tConfirmed: 15\n",
      "\tConfirmed Cases Doubling Time: 21.74  (Considering the last week increment)\n",
      "\tDeaths: 0\n",
      "\tRecovered: 4\n",
      "\tMortality Rate: 0.00%\n",
      "--------------------------------\n",
      "151.- Fiji:\n",
      "\tConfirmed: 15\n",
      "\tConfirmed Cases Doubling Time: 4.42  (Considering the last week increment)\n",
      "\tDeaths: 0\n",
      "\tRecovered: 0\n",
      "\tMortality Rate: 0.00%\n",
      "--------------------------------\n",
      "152.- Sudan:\n",
      "\tConfirmed: 14\n",
      "\tConfirmed Cases Doubling Time: 7.00  (Considering the last week increment)\n",
      "\tDeaths: 2\n",
      "\tRecovered: 2\n",
      "\tMortality Rate: 14.29%\n",
      "--------------------------------\n",
      "153.- Liberia:\n",
      "\tConfirmed: 14\n",
      "\tConfirmed Cases Doubling Time: 3.15  (Considering the last week increment)\n",
      "\tDeaths: 3\n",
      "\tRecovered: 3\n",
      "\tMortality Rate: 21.43%\n",
      "--------------------------------\n",
      "154.- Saint Lucia:\n",
      "\tConfirmed: 14\n",
      "\tConfirmed Cases Doubling Time: 65.47  (Considering the last week increment)\n",
      "\tDeaths: 0\n",
      "\tRecovered: 1\n",
      "\tMortality Rate: 0.00%\n",
      "--------------------------------\n",
      "155.- Laos:\n",
      "\tConfirmed: 14\n",
      "\tConfirmed Cases Doubling Time: 10.98  (Considering the last week increment)\n",
      "\tDeaths: 0\n",
      "\tRecovered: 0\n",
      "\tMortality Rate: 0.00%\n",
      "--------------------------------\n",
      "156.- Grenada:\n",
      "\tConfirmed: 12\n",
      "\tConfirmed Cases Doubling Time: 16.87  (Considering the last week increment)\n",
      "\tDeaths: 0\n",
      "\tRecovered: 0\n",
      "\tMortality Rate: 0.00%\n",
      "--------------------------------\n",
      "157.- Seychelles:\n",
      "\tConfirmed: 11\n",
      "\tConfirmed Cases Doubling Time: 50.91  (Considering the last week increment)\n",
      "\tDeaths: 0\n",
      "\tRecovered: 0\n",
      "\tMortality Rate: 0.00%\n",
      "--------------------------------\n",
      "158.- Saint Kitts and Nevis:\n",
      "\tConfirmed: 11\n",
      "\tConfirmed Cases Doubling Time: 15.24  (Considering the last week increment)\n",
      "\tDeaths: 0\n",
      "\tRecovered: 0\n",
      "\tMortality Rate: 0.00%\n",
      "--------------------------------\n",
      "159.- Zimbabwe:\n",
      "\tConfirmed: 11\n",
      "\tConfirmed Cases Doubling Time: 15.24  (Considering the last week increment)\n",
      "\tDeaths: 2\n",
      "\tRecovered: 0\n",
      "\tMortality Rate: 18.18%\n",
      "--------------------------------\n",
      "160.- Mozambique:\n",
      "\tConfirmed: 10\n",
      "\tConfirmed Cases Doubling Time: 21.74  (Considering the last week increment)\n",
      "\tDeaths: 0\n",
      "\tRecovered: 1\n",
      "\tMortality Rate: 0.00%\n",
      "--------------------------------\n",
      "161.- Chad:\n",
      "\tConfirmed: 10\n",
      "\tConfirmed Cases Doubling Time: 13.60  (Considering the last week increment)\n",
      "\tDeaths: 0\n",
      "\tRecovered: 2\n",
      "\tMortality Rate: 0.00%\n",
      "--------------------------------\n",
      "162.- Suriname:\n",
      "\tConfirmed: 10\n",
      "\tConfirmed Cases Doubling Time: 46.05  (Considering the last week increment)\n",
      "\tDeaths: 1\n",
      "\tRecovered: 0\n",
      "\tMortality Rate: 10.00%\n",
      "--------------------------------\n",
      "163.- Eswatini:\n",
      "\tConfirmed: 10\n",
      "\tConfirmed Cases Doubling Time: 46.05  (Considering the last week increment)\n",
      "\tDeaths: 0\n",
      "\tRecovered: 4\n",
      "\tMortality Rate: 0.00%\n",
      "--------------------------------\n",
      "164.- Nepal:\n",
      "\tConfirmed: 9\n",
      "\tConfirmed Cases Doubling Time: 8.25  (Considering the last week increment)\n",
      "\tDeaths: 0\n",
      "\tRecovered: 1\n",
      "\tMortality Rate: 0.00%\n",
      "--------------------------------\n",
      "165.- MS Zaandam:\n",
      "\tConfirmed: 9\n",
      "\tConfirmed Cases Doubling Time: 3.23  (Considering the last week increment)\n",
      "\tDeaths: 2\n",
      "\tRecovered: 0\n",
      "\tMortality Rate: 22.22%\n",
      "--------------------------------\n",
      "166.- Saint Vincent and the Grenadines:\n",
      "\tConfirmed: 8\n",
      "\tConfirmed Cases Doubling Time: 2.33  (Considering the last week increment)\n",
      "\tDeaths: 0\n",
      "\tRecovered: 1\n",
      "\tMortality Rate: 0.00%\n",
      "--------------------------------\n",
      "167.- Central African Republic:\n",
      "\tConfirmed: 8\n",
      "\tConfirmed Cases Doubling Time: 4.95  (Considering the last week increment)\n",
      "\tDeaths: 0\n",
      "\tRecovered: 0\n",
      "\tMortality Rate: 0.00%\n",
      "--------------------------------\n",
      "168.- Somalia:\n",
      "\tConfirmed: 8\n",
      "\tConfirmed Cases Doubling Time: 10.32  (Considering the last week increment)\n",
      "\tDeaths: 0\n",
      "\tRecovered: 1\n",
      "\tMortality Rate: 0.00%\n",
      "--------------------------------\n",
      "169.- Malawi:\n",
      "\tConfirmed: 8\n",
      "\tConfirmed Cases Doubling Time: 0.00  (Considering the last week increment)\n",
      "\tDeaths: 1\n",
      "\tRecovered: 0\n",
      "\tMortality Rate: 12.50%\n",
      "--------------------------------\n",
      "170.- Cabo Verde:\n",
      "\tConfirmed: 7\n",
      "\tConfirmed Cases Doubling Time: 31.48  (Considering the last week increment)\n",
      "\tDeaths: 1\n",
      "\tRecovered: 1\n",
      "\tMortality Rate: 14.29%\n",
      "--------------------------------\n",
      "171.- Belize:\n",
      "\tConfirmed: 7\n",
      "\tConfirmed Cases Doubling Time: 5.73  (Considering the last week increment)\n",
      "\tDeaths: 1\n",
      "\tRecovered: 0\n",
      "\tMortality Rate: 14.29%\n",
      "--------------------------------\n",
      "172.- Holy See:\n",
      "\tConfirmed: 7\n",
      "\tConfirmed Cases Doubling Time: 31.48  (Considering the last week increment)\n",
      "\tDeaths: 0\n",
      "\tRecovered: 0\n",
      "\tMortality Rate: 0.00%\n",
      "--------------------------------\n",
      "173.- Mauritania:\n",
      "\tConfirmed: 6\n",
      "\tConfirmed Cases Doubling Time: 0.00  (Considering the last week increment)\n",
      "\tDeaths: 1\n",
      "\tRecovered: 2\n",
      "\tMortality Rate: 16.67%\n",
      "--------------------------------\n",
      "174.- Nicaragua:\n",
      "\tConfirmed: 6\n",
      "\tConfirmed Cases Doubling Time: 26.61  (Considering the last week increment)\n",
      "\tDeaths: 1\n",
      "\tRecovered: 0\n",
      "\tMortality Rate: 16.67%\n",
      "--------------------------------\n",
      "175.- Sierra Leone:\n",
      "\tConfirmed: 6\n",
      "\tConfirmed Cases Doubling Time: 2.71  (Considering the last week increment)\n",
      "\tDeaths: 0\n",
      "\tRecovered: 0\n",
      "\tMortality Rate: 0.00%\n",
      "--------------------------------\n",
      "176.- Botswana:\n",
      "\tConfirmed: 6\n",
      "\tConfirmed Cases Doubling Time: 11.97  (Considering the last week increment)\n",
      "\tDeaths: 1\n",
      "\tRecovered: 0\n",
      "\tMortality Rate: 16.67%\n",
      "--------------------------------\n",
      "177.- Bhutan:\n",
      "\tConfirmed: 5\n",
      "\tConfirmed Cases Doubling Time: 21.74  (Considering the last week increment)\n",
      "\tDeaths: 0\n",
      "\tRecovered: 2\n",
      "\tMortality Rate: 0.00%\n",
      "--------------------------------\n",
      "178.- Western Sahara:\n",
      "\tConfirmed: 4\n",
      "\tConfirmed Cases Doubling Time: 0.00  (Considering the last week increment)\n",
      "\tDeaths: 0\n",
      "\tRecovered: 0\n",
      "\tMortality Rate: 0.00%\n",
      "--------------------------------\n",
      "179.- Gambia:\n",
      "\tConfirmed: 4\n",
      "\tConfirmed Cases Doubling Time: 0.00  (Considering the last week increment)\n",
      "\tDeaths: 1\n",
      "\tRecovered: 2\n",
      "\tMortality Rate: 25.00%\n",
      "--------------------------------\n",
      "180.- Sao Tome and Principe:\n",
      "\tConfirmed: 4\n",
      "\tConfirmed Cases Doubling Time: 0.00  (Considering the last week increment)\n",
      "\tDeaths: 0\n",
      "\tRecovered: 0\n",
      "\tMortality Rate: 0.00%\n",
      "--------------------------------\n",
      "181.- Burundi:\n",
      "\tConfirmed: 3\n",
      "\tConfirmed Cases Doubling Time: 11.97  (Considering the last week increment)\n",
      "\tDeaths: 0\n",
      "\tRecovered: 0\n",
      "\tMortality Rate: 0.00%\n",
      "--------------------------------\n",
      "182.- Papua New Guinea:\n",
      "\tConfirmed: 2\n",
      "\tConfirmed Cases Doubling Time: 7.00  (Considering the last week increment)\n",
      "\tDeaths: 0\n",
      "\tRecovered: 0\n",
      "\tMortality Rate: 0.00%\n",
      "--------------------------------\n",
      "183.- South Sudan:\n",
      "\tConfirmed: 2\n",
      "\tConfirmed Cases Doubling Time: 0.00  (Considering the last week increment)\n",
      "\tDeaths: 0\n",
      "\tRecovered: 0\n",
      "\tMortality Rate: 0.00%\n",
      "--------------------------------\n",
      "184.- Timor-Leste:\n",
      "\tConfirmed: 1\n"
     ]
    },
    {
     "name": "stdout",
     "output_type": "stream",
     "text": [
      "\tConfirmed Cases Doubling Time: 0.00  (Considering the last week increment)\n",
      "\tDeaths: 0\n",
      "\tRecovered: 0\n",
      "\tMortality Rate: 0.00%\n",
      "--------------------------------\n"
     ]
    }
   ],
   "source": [
    "def get_doubling_times(countries,kind='Confirmed'):\n",
    "    data = TimeSeries(data_dict[kind]).data\n",
    "\n",
    "    doubling_times = []\n",
    "    for country in countries:\n",
    "        last_week_cases = data.loc[country].values[-8]\n",
    "        current_cases = data.loc[country].values[-1]\n",
    "\n",
    "        if last_week_cases>0:\n",
    "            ratio = current_cases/last_week_cases\n",
    "            if ratio != 1:\n",
    "                doubling_time = 7*np.log(2)/np.log(ratio)\n",
    "                doubling_times.append(doubling_time)\n",
    "            else:\n",
    "                doubling_times.append(0)\n",
    "        else:\n",
    "            doubling_times.append(0)\n",
    "        \n",
    "    return doubling_times\n",
    "\n",
    "actual_data['Mortality Rates']= actual_data['Deaths']/actual_data['Confirmed']\n",
    "actual_data.to_csv('exports/daily-data-per-country/'+last_update+'.csv')\n",
    "\n",
    "print('Global: ',last_update)\n",
    "print('\\tConfirmed: {:,}'.format(actual_data['Confirmed'].sum()))\n",
    "print('\\tDeaths: {:,}'.format(actual_data['Deaths'].sum()))\n",
    "print('\\tRecovered: {:,}'.format(actual_data['Recovered'].sum()))\n",
    "print('\\tMortality Rate: {:.2f}%'.format(100*actual_data['Deaths'].sum()/actual_data['Confirmed'].sum()))\n",
    "print('--------------------------------')\n",
    "\n",
    "actual_data.sort_values(by='Confirmed',ascending=False,inplace=True)\n",
    "\n",
    "for i in range(len(actual_data)):\n",
    "    print(str(i+1)+'.- '+actual_data.index.to_list()[i]+':')\n",
    "    print('\\tConfirmed: {:,}'.format(actual_data['Confirmed'][i]))\n",
    "    dbt = get_doubling_times([actual_data.index.to_list()[i]],kind='Confirmed')[0]\n",
    "    print('\\tConfirmed Cases Doubling Time: {:.2f}'.format(dbt),' (Considering the last week increment)')\n",
    "    print('\\tDeaths: {:,}'.format(actual_data['Deaths'][i]))\n",
    "    print('\\tRecovered: {:,}'.format(actual_data['Recovered'][i]))\n",
    "    print('\\tMortality Rate: {:.2f}%'.format(actual_data['Mortality Rates'][i]*100))\n",
    "    print('--------------------------------')"
   ]
  },
  {
   "cell_type": "code",
   "execution_count": 102,
   "metadata": {},
   "outputs": [
    {
     "data": {
      "application/vnd.plotly.v1+json": {
       "config": {
        "plotlyServerURL": "https://plot.ly"
       },
       "data": [
        {
         "mode": "lines+markers",
         "name": "Confirmed",
         "type": "scatter",
         "x": [
          "2020-01-22",
          "2020-01-23",
          "2020-01-24",
          "2020-01-25",
          "2020-01-26",
          "2020-01-27",
          "2020-01-28",
          "2020-01-29",
          "2020-01-30",
          "2020-01-31",
          "2020-02-01",
          "2020-02-02",
          "2020-02-03",
          "2020-02-04",
          "2020-02-05",
          "2020-02-06",
          "2020-02-07",
          "2020-02-08",
          "2020-02-09",
          "2020-02-10",
          "2020-02-11",
          "2020-02-12",
          "2020-02-13",
          "2020-02-14",
          "2020-02-15",
          "2020-02-16",
          "2020-02-17",
          "2020-02-18",
          "2020-02-19",
          "2020-02-20",
          "2020-02-21",
          "2020-02-22",
          "2020-02-23",
          "2020-02-24",
          "2020-02-25",
          "2020-02-26",
          "2020-02-27",
          "2020-02-28",
          "2020-02-29",
          "2020-03-01",
          "2020-03-02",
          "2020-03-03",
          "2020-03-04",
          "2020-03-05",
          "2020-03-06",
          "2020-03-07",
          "2020-03-08",
          "2020-03-09",
          "2020-03-10",
          "2020-03-11",
          "2020-03-12",
          "2020-03-13",
          "2020-03-14",
          "2020-03-15",
          "2020-03-16",
          "2020-03-17",
          "2020-03-18",
          "2020-03-19",
          "2020-03-20",
          "2020-03-21",
          "2020-03-22",
          "2020-03-23",
          "2020-03-24",
          "2020-03-25",
          "2020-03-26",
          "2020-03-27",
          "2020-03-28",
          "2020-03-29",
          "2020-03-30",
          "2020-03-31",
          "2020-04-01",
          "2020-04-02",
          "2020-04-03",
          "2020-04-04",
          "2020-04-05",
          "2020-04-06",
          "2020-04-07"
         ],
         "y": [
          555,
          654,
          941,
          1434,
          2118,
          2927,
          5578,
          6166,
          8234,
          9927,
          12038,
          16787,
          19881,
          23892,
          27635,
          30794,
          34391,
          37120,
          40150,
          42762,
          44802,
          45221,
          60368,
          66885,
          69030,
          71224,
          73258,
          75136,
          75639,
          76197,
          76819,
          78572,
          78958,
          79561,
          80406,
          81388,
          82746,
          84112,
          86011,
          88369,
          90306,
          92840,
          95120,
          97886,
          101801,
          105847,
          109821,
          113590,
          118620,
          125875,
          128352,
          145205,
          156101,
          167454,
          181574,
          197102,
          214821,
          242570,
          272208,
          304507,
          336953,
          378235,
          418045,
          467653,
          529591,
          593291,
          660706,
          720140,
          782395,
          857487,
          932605,
          1013320,
          1095917,
          1197405,
          1272115,
          1345101,
          1426096
         ]
        },
        {
         "mode": "lines+markers",
         "name": "Deaths",
         "type": "scatter",
         "x": [
          "2020-01-22",
          "2020-01-23",
          "2020-01-24",
          "2020-01-25",
          "2020-01-26",
          "2020-01-27",
          "2020-01-28",
          "2020-01-29",
          "2020-01-30",
          "2020-01-31",
          "2020-02-01",
          "2020-02-02",
          "2020-02-03",
          "2020-02-04",
          "2020-02-05",
          "2020-02-06",
          "2020-02-07",
          "2020-02-08",
          "2020-02-09",
          "2020-02-10",
          "2020-02-11",
          "2020-02-12",
          "2020-02-13",
          "2020-02-14",
          "2020-02-15",
          "2020-02-16",
          "2020-02-17",
          "2020-02-18",
          "2020-02-19",
          "2020-02-20",
          "2020-02-21",
          "2020-02-22",
          "2020-02-23",
          "2020-02-24",
          "2020-02-25",
          "2020-02-26",
          "2020-02-27",
          "2020-02-28",
          "2020-02-29",
          "2020-03-01",
          "2020-03-02",
          "2020-03-03",
          "2020-03-04",
          "2020-03-05",
          "2020-03-06",
          "2020-03-07",
          "2020-03-08",
          "2020-03-09",
          "2020-03-10",
          "2020-03-11",
          "2020-03-12",
          "2020-03-13",
          "2020-03-14",
          "2020-03-15",
          "2020-03-16",
          "2020-03-17",
          "2020-03-18",
          "2020-03-19",
          "2020-03-20",
          "2020-03-21",
          "2020-03-22",
          "2020-03-23",
          "2020-03-24",
          "2020-03-25",
          "2020-03-26",
          "2020-03-27",
          "2020-03-28",
          "2020-03-29",
          "2020-03-30",
          "2020-03-31",
          "2020-04-01",
          "2020-04-02",
          "2020-04-03",
          "2020-04-04",
          "2020-04-05",
          "2020-04-06",
          "2020-04-07"
         ],
         "y": [
          17,
          18,
          26,
          42,
          56,
          82,
          131,
          133,
          171,
          213,
          259,
          362,
          426,
          492,
          564,
          634,
          719,
          806,
          906,
          1013,
          1113,
          1118,
          1371,
          1523,
          1666,
          1770,
          1868,
          2007,
          2122,
          2247,
          2251,
          2458,
          2469,
          2629,
          2708,
          2770,
          2814,
          2872,
          2941,
          2996,
          3085,
          3160,
          3254,
          3348,
          3460,
          3558,
          3802,
          3988,
          4262,
          4615,
          4720,
          5404,
          5819,
          6440,
          7126,
          7905,
          8733,
          9867,
          11299,
          12973,
          14651,
          16505,
          18625,
          21181,
          23970,
          27198,
          30652,
          33925,
          37582,
          42107,
          46809,
          52983,
          58787,
          64606,
          69374,
          74565,
          81865
         ]
        },
        {
         "mode": "lines+markers",
         "name": "Recovered",
         "type": "scatter",
         "x": [
          "2020-01-22",
          "2020-01-23",
          "2020-01-24",
          "2020-01-25",
          "2020-01-26",
          "2020-01-27",
          "2020-01-28",
          "2020-01-29",
          "2020-01-30",
          "2020-01-31",
          "2020-02-01",
          "2020-02-02",
          "2020-02-03",
          "2020-02-04",
          "2020-02-05",
          "2020-02-06",
          "2020-02-07",
          "2020-02-08",
          "2020-02-09",
          "2020-02-10",
          "2020-02-11",
          "2020-02-12",
          "2020-02-13",
          "2020-02-14",
          "2020-02-15",
          "2020-02-16",
          "2020-02-17",
          "2020-02-18",
          "2020-02-19",
          "2020-02-20",
          "2020-02-21",
          "2020-02-22",
          "2020-02-23",
          "2020-02-24",
          "2020-02-25",
          "2020-02-26",
          "2020-02-27",
          "2020-02-28",
          "2020-02-29",
          "2020-03-01",
          "2020-03-02",
          "2020-03-03",
          "2020-03-04",
          "2020-03-05",
          "2020-03-06",
          "2020-03-07",
          "2020-03-08",
          "2020-03-09",
          "2020-03-10",
          "2020-03-11",
          "2020-03-12",
          "2020-03-13",
          "2020-03-14",
          "2020-03-15",
          "2020-03-16",
          "2020-03-17",
          "2020-03-18",
          "2020-03-19",
          "2020-03-20",
          "2020-03-21",
          "2020-03-22",
          "2020-03-23",
          "2020-03-24",
          "2020-03-25",
          "2020-03-26",
          "2020-03-27",
          "2020-03-28",
          "2020-03-29",
          "2020-03-30",
          "2020-03-31",
          "2020-04-01",
          "2020-04-02",
          "2020-04-03",
          "2020-04-04",
          "2020-04-05",
          "2020-04-06",
          "2020-04-07"
         ],
         "y": [
          28,
          30,
          36,
          39,
          52,
          61,
          107,
          126,
          143,
          222,
          284,
          472,
          623,
          852,
          1124,
          1487,
          2011,
          2616,
          3244,
          3946,
          4683,
          5150,
          6295,
          8058,
          9395,
          10865,
          12583,
          14352,
          16121,
          18177,
          18890,
          22886,
          23394,
          25227,
          27905,
          30384,
          33277,
          36711,
          39782,
          42716,
          45602,
          48228,
          51170,
          53796,
          55865,
          58358,
          60694,
          62494,
          64404,
          67003,
          68324,
          70251,
          72624,
          76034,
          78088,
          80840,
          83312,
          84975,
          87420,
          91692,
          97899,
          98351,
          108000,
          113787,
          122150,
          130915,
          139415,
          149082,
          164566,
          178034,
          193177,
          210263,
          225796,
          246152,
          260012,
          276515,
          300054
         ]
        },
        {
         "mode": "lines+markers",
         "name": "Actual Infected",
         "type": "scatter",
         "x": [
          "2020-01-22",
          "2020-01-23",
          "2020-01-24",
          "2020-01-25",
          "2020-01-26",
          "2020-01-27",
          "2020-01-28",
          "2020-01-29",
          "2020-01-30",
          "2020-01-31",
          "2020-02-01",
          "2020-02-02",
          "2020-02-03",
          "2020-02-04",
          "2020-02-05",
          "2020-02-06",
          "2020-02-07",
          "2020-02-08",
          "2020-02-09",
          "2020-02-10",
          "2020-02-11",
          "2020-02-12",
          "2020-02-13",
          "2020-02-14",
          "2020-02-15",
          "2020-02-16",
          "2020-02-17",
          "2020-02-18",
          "2020-02-19",
          "2020-02-20",
          "2020-02-21",
          "2020-02-22",
          "2020-02-23",
          "2020-02-24",
          "2020-02-25",
          "2020-02-26",
          "2020-02-27",
          "2020-02-28",
          "2020-02-29",
          "2020-03-01",
          "2020-03-02",
          "2020-03-03",
          "2020-03-04",
          "2020-03-05",
          "2020-03-06",
          "2020-03-07",
          "2020-03-08",
          "2020-03-09",
          "2020-03-10",
          "2020-03-11",
          "2020-03-12",
          "2020-03-13",
          "2020-03-14",
          "2020-03-15",
          "2020-03-16",
          "2020-03-17",
          "2020-03-18",
          "2020-03-19",
          "2020-03-20",
          "2020-03-21",
          "2020-03-22",
          "2020-03-23",
          "2020-03-24",
          "2020-03-25",
          "2020-03-26",
          "2020-03-27",
          "2020-03-28",
          "2020-03-29",
          "2020-03-30",
          "2020-03-31",
          "2020-04-01",
          "2020-04-02",
          "2020-04-03",
          "2020-04-04",
          "2020-04-05",
          "2020-04-06",
          "2020-04-07"
         ],
         "y": [
          510,
          606,
          879,
          1353,
          2010,
          2784,
          5340,
          5907,
          7920,
          9492,
          11495,
          15953,
          18832,
          22548,
          25947,
          28673,
          31661,
          33698,
          36000,
          37803,
          39006,
          38953,
          52702,
          57304,
          57969,
          58589,
          58807,
          58777,
          57396,
          55773,
          55678,
          53228,
          53095,
          51705,
          49793,
          48234,
          46655,
          44529,
          43288,
          42657,
          41619,
          41452,
          40696,
          40742,
          42476,
          43931,
          45325,
          47108,
          49954,
          54257,
          55308,
          69550,
          77658,
          84980,
          96360,
          108357,
          122776,
          147728,
          173489,
          199842,
          224403,
          263379,
          291420,
          332685,
          383471,
          435178,
          490639,
          537133,
          580247,
          637346,
          692619,
          750074,
          811334,
          886647,
          942729,
          994021,
          1044177
         ]
        }
       ],
       "layout": {
        "annotations": [
         {
          "arrowhead": 7,
          "showarrow": true,
          "text": "1,426,096",
          "x": "2020-04-07",
          "xref": "x",
          "y": 1426096,
          "yref": "y"
         },
         {
          "arrowhead": 7,
          "showarrow": true,
          "text": "81,865",
          "x": "2020-04-07",
          "xref": "x",
          "y": 81865,
          "yref": "y"
         },
         {
          "arrowhead": 7,
          "showarrow": true,
          "text": "300,054",
          "x": "2020-04-07",
          "xref": "x",
          "y": 300054,
          "yref": "y"
         },
         {
          "arrowhead": 7,
          "showarrow": true,
          "text": "1,044,177",
          "x": "2020-04-07",
          "xref": "x",
          "y": 1044177,
          "yref": "y"
         }
        ],
        "font": {
         "family": "Arial, bold",
         "size": 14
        },
        "legend": {
         "x": 0.01,
         "y": 0.99
        },
        "template": {
         "data": {
          "bar": [
           {
            "error_x": {
             "color": "#2a3f5f"
            },
            "error_y": {
             "color": "#2a3f5f"
            },
            "marker": {
             "line": {
              "color": "#E5ECF6",
              "width": 0.5
             }
            },
            "type": "bar"
           }
          ],
          "barpolar": [
           {
            "marker": {
             "line": {
              "color": "#E5ECF6",
              "width": 0.5
             }
            },
            "type": "barpolar"
           }
          ],
          "carpet": [
           {
            "aaxis": {
             "endlinecolor": "#2a3f5f",
             "gridcolor": "white",
             "linecolor": "white",
             "minorgridcolor": "white",
             "startlinecolor": "#2a3f5f"
            },
            "baxis": {
             "endlinecolor": "#2a3f5f",
             "gridcolor": "white",
             "linecolor": "white",
             "minorgridcolor": "white",
             "startlinecolor": "#2a3f5f"
            },
            "type": "carpet"
           }
          ],
          "choropleth": [
           {
            "colorbar": {
             "outlinewidth": 0,
             "ticks": ""
            },
            "type": "choropleth"
           }
          ],
          "contour": [
           {
            "colorbar": {
             "outlinewidth": 0,
             "ticks": ""
            },
            "colorscale": [
             [
              0,
              "#0d0887"
             ],
             [
              0.1111111111111111,
              "#46039f"
             ],
             [
              0.2222222222222222,
              "#7201a8"
             ],
             [
              0.3333333333333333,
              "#9c179e"
             ],
             [
              0.4444444444444444,
              "#bd3786"
             ],
             [
              0.5555555555555556,
              "#d8576b"
             ],
             [
              0.6666666666666666,
              "#ed7953"
             ],
             [
              0.7777777777777778,
              "#fb9f3a"
             ],
             [
              0.8888888888888888,
              "#fdca26"
             ],
             [
              1,
              "#f0f921"
             ]
            ],
            "type": "contour"
           }
          ],
          "contourcarpet": [
           {
            "colorbar": {
             "outlinewidth": 0,
             "ticks": ""
            },
            "type": "contourcarpet"
           }
          ],
          "heatmap": [
           {
            "colorbar": {
             "outlinewidth": 0,
             "ticks": ""
            },
            "colorscale": [
             [
              0,
              "#0d0887"
             ],
             [
              0.1111111111111111,
              "#46039f"
             ],
             [
              0.2222222222222222,
              "#7201a8"
             ],
             [
              0.3333333333333333,
              "#9c179e"
             ],
             [
              0.4444444444444444,
              "#bd3786"
             ],
             [
              0.5555555555555556,
              "#d8576b"
             ],
             [
              0.6666666666666666,
              "#ed7953"
             ],
             [
              0.7777777777777778,
              "#fb9f3a"
             ],
             [
              0.8888888888888888,
              "#fdca26"
             ],
             [
              1,
              "#f0f921"
             ]
            ],
            "type": "heatmap"
           }
          ],
          "heatmapgl": [
           {
            "colorbar": {
             "outlinewidth": 0,
             "ticks": ""
            },
            "colorscale": [
             [
              0,
              "#0d0887"
             ],
             [
              0.1111111111111111,
              "#46039f"
             ],
             [
              0.2222222222222222,
              "#7201a8"
             ],
             [
              0.3333333333333333,
              "#9c179e"
             ],
             [
              0.4444444444444444,
              "#bd3786"
             ],
             [
              0.5555555555555556,
              "#d8576b"
             ],
             [
              0.6666666666666666,
              "#ed7953"
             ],
             [
              0.7777777777777778,
              "#fb9f3a"
             ],
             [
              0.8888888888888888,
              "#fdca26"
             ],
             [
              1,
              "#f0f921"
             ]
            ],
            "type": "heatmapgl"
           }
          ],
          "histogram": [
           {
            "marker": {
             "colorbar": {
              "outlinewidth": 0,
              "ticks": ""
             }
            },
            "type": "histogram"
           }
          ],
          "histogram2d": [
           {
            "colorbar": {
             "outlinewidth": 0,
             "ticks": ""
            },
            "colorscale": [
             [
              0,
              "#0d0887"
             ],
             [
              0.1111111111111111,
              "#46039f"
             ],
             [
              0.2222222222222222,
              "#7201a8"
             ],
             [
              0.3333333333333333,
              "#9c179e"
             ],
             [
              0.4444444444444444,
              "#bd3786"
             ],
             [
              0.5555555555555556,
              "#d8576b"
             ],
             [
              0.6666666666666666,
              "#ed7953"
             ],
             [
              0.7777777777777778,
              "#fb9f3a"
             ],
             [
              0.8888888888888888,
              "#fdca26"
             ],
             [
              1,
              "#f0f921"
             ]
            ],
            "type": "histogram2d"
           }
          ],
          "histogram2dcontour": [
           {
            "colorbar": {
             "outlinewidth": 0,
             "ticks": ""
            },
            "colorscale": [
             [
              0,
              "#0d0887"
             ],
             [
              0.1111111111111111,
              "#46039f"
             ],
             [
              0.2222222222222222,
              "#7201a8"
             ],
             [
              0.3333333333333333,
              "#9c179e"
             ],
             [
              0.4444444444444444,
              "#bd3786"
             ],
             [
              0.5555555555555556,
              "#d8576b"
             ],
             [
              0.6666666666666666,
              "#ed7953"
             ],
             [
              0.7777777777777778,
              "#fb9f3a"
             ],
             [
              0.8888888888888888,
              "#fdca26"
             ],
             [
              1,
              "#f0f921"
             ]
            ],
            "type": "histogram2dcontour"
           }
          ],
          "mesh3d": [
           {
            "colorbar": {
             "outlinewidth": 0,
             "ticks": ""
            },
            "type": "mesh3d"
           }
          ],
          "parcoords": [
           {
            "line": {
             "colorbar": {
              "outlinewidth": 0,
              "ticks": ""
             }
            },
            "type": "parcoords"
           }
          ],
          "pie": [
           {
            "automargin": true,
            "type": "pie"
           }
          ],
          "scatter": [
           {
            "marker": {
             "colorbar": {
              "outlinewidth": 0,
              "ticks": ""
             }
            },
            "type": "scatter"
           }
          ],
          "scatter3d": [
           {
            "line": {
             "colorbar": {
              "outlinewidth": 0,
              "ticks": ""
             }
            },
            "marker": {
             "colorbar": {
              "outlinewidth": 0,
              "ticks": ""
             }
            },
            "type": "scatter3d"
           }
          ],
          "scattercarpet": [
           {
            "marker": {
             "colorbar": {
              "outlinewidth": 0,
              "ticks": ""
             }
            },
            "type": "scattercarpet"
           }
          ],
          "scattergeo": [
           {
            "marker": {
             "colorbar": {
              "outlinewidth": 0,
              "ticks": ""
             }
            },
            "type": "scattergeo"
           }
          ],
          "scattergl": [
           {
            "marker": {
             "colorbar": {
              "outlinewidth": 0,
              "ticks": ""
             }
            },
            "type": "scattergl"
           }
          ],
          "scattermapbox": [
           {
            "marker": {
             "colorbar": {
              "outlinewidth": 0,
              "ticks": ""
             }
            },
            "type": "scattermapbox"
           }
          ],
          "scatterpolar": [
           {
            "marker": {
             "colorbar": {
              "outlinewidth": 0,
              "ticks": ""
             }
            },
            "type": "scatterpolar"
           }
          ],
          "scatterpolargl": [
           {
            "marker": {
             "colorbar": {
              "outlinewidth": 0,
              "ticks": ""
             }
            },
            "type": "scatterpolargl"
           }
          ],
          "scatterternary": [
           {
            "marker": {
             "colorbar": {
              "outlinewidth": 0,
              "ticks": ""
             }
            },
            "type": "scatterternary"
           }
          ],
          "surface": [
           {
            "colorbar": {
             "outlinewidth": 0,
             "ticks": ""
            },
            "colorscale": [
             [
              0,
              "#0d0887"
             ],
             [
              0.1111111111111111,
              "#46039f"
             ],
             [
              0.2222222222222222,
              "#7201a8"
             ],
             [
              0.3333333333333333,
              "#9c179e"
             ],
             [
              0.4444444444444444,
              "#bd3786"
             ],
             [
              0.5555555555555556,
              "#d8576b"
             ],
             [
              0.6666666666666666,
              "#ed7953"
             ],
             [
              0.7777777777777778,
              "#fb9f3a"
             ],
             [
              0.8888888888888888,
              "#fdca26"
             ],
             [
              1,
              "#f0f921"
             ]
            ],
            "type": "surface"
           }
          ],
          "table": [
           {
            "cells": {
             "fill": {
              "color": "#EBF0F8"
             },
             "line": {
              "color": "white"
             }
            },
            "header": {
             "fill": {
              "color": "#C8D4E3"
             },
             "line": {
              "color": "white"
             }
            },
            "type": "table"
           }
          ]
         },
         "layout": {
          "annotationdefaults": {
           "arrowcolor": "#2a3f5f",
           "arrowhead": 0,
           "arrowwidth": 1
          },
          "coloraxis": {
           "colorbar": {
            "outlinewidth": 0,
            "ticks": ""
           }
          },
          "colorscale": {
           "diverging": [
            [
             0,
             "#8e0152"
            ],
            [
             0.1,
             "#c51b7d"
            ],
            [
             0.2,
             "#de77ae"
            ],
            [
             0.3,
             "#f1b6da"
            ],
            [
             0.4,
             "#fde0ef"
            ],
            [
             0.5,
             "#f7f7f7"
            ],
            [
             0.6,
             "#e6f5d0"
            ],
            [
             0.7,
             "#b8e186"
            ],
            [
             0.8,
             "#7fbc41"
            ],
            [
             0.9,
             "#4d9221"
            ],
            [
             1,
             "#276419"
            ]
           ],
           "sequential": [
            [
             0,
             "#0d0887"
            ],
            [
             0.1111111111111111,
             "#46039f"
            ],
            [
             0.2222222222222222,
             "#7201a8"
            ],
            [
             0.3333333333333333,
             "#9c179e"
            ],
            [
             0.4444444444444444,
             "#bd3786"
            ],
            [
             0.5555555555555556,
             "#d8576b"
            ],
            [
             0.6666666666666666,
             "#ed7953"
            ],
            [
             0.7777777777777778,
             "#fb9f3a"
            ],
            [
             0.8888888888888888,
             "#fdca26"
            ],
            [
             1,
             "#f0f921"
            ]
           ],
           "sequentialminus": [
            [
             0,
             "#0d0887"
            ],
            [
             0.1111111111111111,
             "#46039f"
            ],
            [
             0.2222222222222222,
             "#7201a8"
            ],
            [
             0.3333333333333333,
             "#9c179e"
            ],
            [
             0.4444444444444444,
             "#bd3786"
            ],
            [
             0.5555555555555556,
             "#d8576b"
            ],
            [
             0.6666666666666666,
             "#ed7953"
            ],
            [
             0.7777777777777778,
             "#fb9f3a"
            ],
            [
             0.8888888888888888,
             "#fdca26"
            ],
            [
             1,
             "#f0f921"
            ]
           ]
          },
          "colorway": [
           "#636efa",
           "#EF553B",
           "#00cc96",
           "#ab63fa",
           "#FFA15A",
           "#19d3f3",
           "#FF6692",
           "#B6E880",
           "#FF97FF",
           "#FECB52"
          ],
          "font": {
           "color": "#2a3f5f"
          },
          "geo": {
           "bgcolor": "white",
           "lakecolor": "white",
           "landcolor": "#E5ECF6",
           "showlakes": true,
           "showland": true,
           "subunitcolor": "white"
          },
          "hoverlabel": {
           "align": "left"
          },
          "hovermode": "closest",
          "mapbox": {
           "style": "light"
          },
          "paper_bgcolor": "white",
          "plot_bgcolor": "#E5ECF6",
          "polar": {
           "angularaxis": {
            "gridcolor": "white",
            "linecolor": "white",
            "ticks": ""
           },
           "bgcolor": "#E5ECF6",
           "radialaxis": {
            "gridcolor": "white",
            "linecolor": "white",
            "ticks": ""
           }
          },
          "scene": {
           "xaxis": {
            "backgroundcolor": "#E5ECF6",
            "gridcolor": "white",
            "gridwidth": 2,
            "linecolor": "white",
            "showbackground": true,
            "ticks": "",
            "zerolinecolor": "white"
           },
           "yaxis": {
            "backgroundcolor": "#E5ECF6",
            "gridcolor": "white",
            "gridwidth": 2,
            "linecolor": "white",
            "showbackground": true,
            "ticks": "",
            "zerolinecolor": "white"
           },
           "zaxis": {
            "backgroundcolor": "#E5ECF6",
            "gridcolor": "white",
            "gridwidth": 2,
            "linecolor": "white",
            "showbackground": true,
            "ticks": "",
            "zerolinecolor": "white"
           }
          },
          "shapedefaults": {
           "line": {
            "color": "#2a3f5f"
           }
          },
          "ternary": {
           "aaxis": {
            "gridcolor": "white",
            "linecolor": "white",
            "ticks": ""
           },
           "baxis": {
            "gridcolor": "white",
            "linecolor": "white",
            "ticks": ""
           },
           "bgcolor": "#E5ECF6",
           "caxis": {
            "gridcolor": "white",
            "linecolor": "white",
            "ticks": ""
           }
          },
          "title": {
           "x": 0.05
          },
          "xaxis": {
           "automargin": true,
           "gridcolor": "white",
           "linecolor": "white",
           "ticks": "",
           "title": {
            "standoff": 15
           },
           "zerolinecolor": "white",
           "zerolinewidth": 2
          },
          "yaxis": {
           "automargin": true,
           "gridcolor": "white",
           "linecolor": "white",
           "ticks": "",
           "title": {
            "standoff": 15
           },
           "zerolinecolor": "white",
           "zerolinewidth": 2
          }
         }
        },
        "title": {
         "text": "<b>Global Cases</b>"
        },
        "xaxis": {
         "title": {
          "text": "Date"
         }
        },
        "yaxis": {
         "title": {}
        }
       }
      },
      "text/html": [
       "<div>\n",
       "        \n",
       "        \n",
       "            <div id=\"5dec3fdf-c19f-4f7c-b07e-4171d15e674d\" class=\"plotly-graph-div\" style=\"height:525px; width:100%;\"></div>\n",
       "            <script type=\"text/javascript\">\n",
       "                require([\"plotly\"], function(Plotly) {\n",
       "                    window.PLOTLYENV=window.PLOTLYENV || {};\n",
       "                    \n",
       "                if (document.getElementById(\"5dec3fdf-c19f-4f7c-b07e-4171d15e674d\")) {\n",
       "                    Plotly.newPlot(\n",
       "                        '5dec3fdf-c19f-4f7c-b07e-4171d15e674d',\n",
       "                        [{\"mode\": \"lines+markers\", \"name\": \"Confirmed\", \"type\": \"scatter\", \"x\": [\"2020-01-22\", \"2020-01-23\", \"2020-01-24\", \"2020-01-25\", \"2020-01-26\", \"2020-01-27\", \"2020-01-28\", \"2020-01-29\", \"2020-01-30\", \"2020-01-31\", \"2020-02-01\", \"2020-02-02\", \"2020-02-03\", \"2020-02-04\", \"2020-02-05\", \"2020-02-06\", \"2020-02-07\", \"2020-02-08\", \"2020-02-09\", \"2020-02-10\", \"2020-02-11\", \"2020-02-12\", \"2020-02-13\", \"2020-02-14\", \"2020-02-15\", \"2020-02-16\", \"2020-02-17\", \"2020-02-18\", \"2020-02-19\", \"2020-02-20\", \"2020-02-21\", \"2020-02-22\", \"2020-02-23\", \"2020-02-24\", \"2020-02-25\", \"2020-02-26\", \"2020-02-27\", \"2020-02-28\", \"2020-02-29\", \"2020-03-01\", \"2020-03-02\", \"2020-03-03\", \"2020-03-04\", \"2020-03-05\", \"2020-03-06\", \"2020-03-07\", \"2020-03-08\", \"2020-03-09\", \"2020-03-10\", \"2020-03-11\", \"2020-03-12\", \"2020-03-13\", \"2020-03-14\", \"2020-03-15\", \"2020-03-16\", \"2020-03-17\", \"2020-03-18\", \"2020-03-19\", \"2020-03-20\", \"2020-03-21\", \"2020-03-22\", \"2020-03-23\", \"2020-03-24\", \"2020-03-25\", \"2020-03-26\", \"2020-03-27\", \"2020-03-28\", \"2020-03-29\", \"2020-03-30\", \"2020-03-31\", \"2020-04-01\", \"2020-04-02\", \"2020-04-03\", \"2020-04-04\", \"2020-04-05\", \"2020-04-06\", \"2020-04-07\"], \"y\": [555, 654, 941, 1434, 2118, 2927, 5578, 6166, 8234, 9927, 12038, 16787, 19881, 23892, 27635, 30794, 34391, 37120, 40150, 42762, 44802, 45221, 60368, 66885, 69030, 71224, 73258, 75136, 75639, 76197, 76819, 78572, 78958, 79561, 80406, 81388, 82746, 84112, 86011, 88369, 90306, 92840, 95120, 97886, 101801, 105847, 109821, 113590, 118620, 125875, 128352, 145205, 156101, 167454, 181574, 197102, 214821, 242570, 272208, 304507, 336953, 378235, 418045, 467653, 529591, 593291, 660706, 720140, 782395, 857487, 932605, 1013320, 1095917, 1197405, 1272115, 1345101, 1426096]}, {\"mode\": \"lines+markers\", \"name\": \"Deaths\", \"type\": \"scatter\", \"x\": [\"2020-01-22\", \"2020-01-23\", \"2020-01-24\", \"2020-01-25\", \"2020-01-26\", \"2020-01-27\", \"2020-01-28\", \"2020-01-29\", \"2020-01-30\", \"2020-01-31\", \"2020-02-01\", \"2020-02-02\", \"2020-02-03\", \"2020-02-04\", \"2020-02-05\", \"2020-02-06\", \"2020-02-07\", \"2020-02-08\", \"2020-02-09\", \"2020-02-10\", \"2020-02-11\", \"2020-02-12\", \"2020-02-13\", \"2020-02-14\", \"2020-02-15\", \"2020-02-16\", \"2020-02-17\", \"2020-02-18\", \"2020-02-19\", \"2020-02-20\", \"2020-02-21\", \"2020-02-22\", \"2020-02-23\", \"2020-02-24\", \"2020-02-25\", \"2020-02-26\", \"2020-02-27\", \"2020-02-28\", \"2020-02-29\", \"2020-03-01\", \"2020-03-02\", \"2020-03-03\", \"2020-03-04\", \"2020-03-05\", \"2020-03-06\", \"2020-03-07\", \"2020-03-08\", \"2020-03-09\", \"2020-03-10\", \"2020-03-11\", \"2020-03-12\", \"2020-03-13\", \"2020-03-14\", \"2020-03-15\", \"2020-03-16\", \"2020-03-17\", \"2020-03-18\", \"2020-03-19\", \"2020-03-20\", \"2020-03-21\", \"2020-03-22\", \"2020-03-23\", \"2020-03-24\", \"2020-03-25\", \"2020-03-26\", \"2020-03-27\", \"2020-03-28\", \"2020-03-29\", \"2020-03-30\", \"2020-03-31\", \"2020-04-01\", \"2020-04-02\", \"2020-04-03\", \"2020-04-04\", \"2020-04-05\", \"2020-04-06\", \"2020-04-07\"], \"y\": [17, 18, 26, 42, 56, 82, 131, 133, 171, 213, 259, 362, 426, 492, 564, 634, 719, 806, 906, 1013, 1113, 1118, 1371, 1523, 1666, 1770, 1868, 2007, 2122, 2247, 2251, 2458, 2469, 2629, 2708, 2770, 2814, 2872, 2941, 2996, 3085, 3160, 3254, 3348, 3460, 3558, 3802, 3988, 4262, 4615, 4720, 5404, 5819, 6440, 7126, 7905, 8733, 9867, 11299, 12973, 14651, 16505, 18625, 21181, 23970, 27198, 30652, 33925, 37582, 42107, 46809, 52983, 58787, 64606, 69374, 74565, 81865]}, {\"mode\": \"lines+markers\", \"name\": \"Recovered\", \"type\": \"scatter\", \"x\": [\"2020-01-22\", \"2020-01-23\", \"2020-01-24\", \"2020-01-25\", \"2020-01-26\", \"2020-01-27\", \"2020-01-28\", \"2020-01-29\", \"2020-01-30\", \"2020-01-31\", \"2020-02-01\", \"2020-02-02\", \"2020-02-03\", \"2020-02-04\", \"2020-02-05\", \"2020-02-06\", \"2020-02-07\", \"2020-02-08\", \"2020-02-09\", \"2020-02-10\", \"2020-02-11\", \"2020-02-12\", \"2020-02-13\", \"2020-02-14\", \"2020-02-15\", \"2020-02-16\", \"2020-02-17\", \"2020-02-18\", \"2020-02-19\", \"2020-02-20\", \"2020-02-21\", \"2020-02-22\", \"2020-02-23\", \"2020-02-24\", \"2020-02-25\", \"2020-02-26\", \"2020-02-27\", \"2020-02-28\", \"2020-02-29\", \"2020-03-01\", \"2020-03-02\", \"2020-03-03\", \"2020-03-04\", \"2020-03-05\", \"2020-03-06\", \"2020-03-07\", \"2020-03-08\", \"2020-03-09\", \"2020-03-10\", \"2020-03-11\", \"2020-03-12\", \"2020-03-13\", \"2020-03-14\", \"2020-03-15\", \"2020-03-16\", \"2020-03-17\", \"2020-03-18\", \"2020-03-19\", \"2020-03-20\", \"2020-03-21\", \"2020-03-22\", \"2020-03-23\", \"2020-03-24\", \"2020-03-25\", \"2020-03-26\", \"2020-03-27\", \"2020-03-28\", \"2020-03-29\", \"2020-03-30\", \"2020-03-31\", \"2020-04-01\", \"2020-04-02\", \"2020-04-03\", \"2020-04-04\", \"2020-04-05\", \"2020-04-06\", \"2020-04-07\"], \"y\": [28, 30, 36, 39, 52, 61, 107, 126, 143, 222, 284, 472, 623, 852, 1124, 1487, 2011, 2616, 3244, 3946, 4683, 5150, 6295, 8058, 9395, 10865, 12583, 14352, 16121, 18177, 18890, 22886, 23394, 25227, 27905, 30384, 33277, 36711, 39782, 42716, 45602, 48228, 51170, 53796, 55865, 58358, 60694, 62494, 64404, 67003, 68324, 70251, 72624, 76034, 78088, 80840, 83312, 84975, 87420, 91692, 97899, 98351, 108000, 113787, 122150, 130915, 139415, 149082, 164566, 178034, 193177, 210263, 225796, 246152, 260012, 276515, 300054]}, {\"mode\": \"lines+markers\", \"name\": \"Actual Infected\", \"type\": \"scatter\", \"x\": [\"2020-01-22\", \"2020-01-23\", \"2020-01-24\", \"2020-01-25\", \"2020-01-26\", \"2020-01-27\", \"2020-01-28\", \"2020-01-29\", \"2020-01-30\", \"2020-01-31\", \"2020-02-01\", \"2020-02-02\", \"2020-02-03\", \"2020-02-04\", \"2020-02-05\", \"2020-02-06\", \"2020-02-07\", \"2020-02-08\", \"2020-02-09\", \"2020-02-10\", \"2020-02-11\", \"2020-02-12\", \"2020-02-13\", \"2020-02-14\", \"2020-02-15\", \"2020-02-16\", \"2020-02-17\", \"2020-02-18\", \"2020-02-19\", \"2020-02-20\", \"2020-02-21\", \"2020-02-22\", \"2020-02-23\", \"2020-02-24\", \"2020-02-25\", \"2020-02-26\", \"2020-02-27\", \"2020-02-28\", \"2020-02-29\", \"2020-03-01\", \"2020-03-02\", \"2020-03-03\", \"2020-03-04\", \"2020-03-05\", \"2020-03-06\", \"2020-03-07\", \"2020-03-08\", \"2020-03-09\", \"2020-03-10\", \"2020-03-11\", \"2020-03-12\", \"2020-03-13\", \"2020-03-14\", \"2020-03-15\", \"2020-03-16\", \"2020-03-17\", \"2020-03-18\", \"2020-03-19\", \"2020-03-20\", \"2020-03-21\", \"2020-03-22\", \"2020-03-23\", \"2020-03-24\", \"2020-03-25\", \"2020-03-26\", \"2020-03-27\", \"2020-03-28\", \"2020-03-29\", \"2020-03-30\", \"2020-03-31\", \"2020-04-01\", \"2020-04-02\", \"2020-04-03\", \"2020-04-04\", \"2020-04-05\", \"2020-04-06\", \"2020-04-07\"], \"y\": [510, 606, 879, 1353, 2010, 2784, 5340, 5907, 7920, 9492, 11495, 15953, 18832, 22548, 25947, 28673, 31661, 33698, 36000, 37803, 39006, 38953, 52702, 57304, 57969, 58589, 58807, 58777, 57396, 55773, 55678, 53228, 53095, 51705, 49793, 48234, 46655, 44529, 43288, 42657, 41619, 41452, 40696, 40742, 42476, 43931, 45325, 47108, 49954, 54257, 55308, 69550, 77658, 84980, 96360, 108357, 122776, 147728, 173489, 199842, 224403, 263379, 291420, 332685, 383471, 435178, 490639, 537133, 580247, 637346, 692619, 750074, 811334, 886647, 942729, 994021, 1044177]}],\n",
       "                        {\"annotations\": [{\"arrowhead\": 7, \"showarrow\": true, \"text\": \"1,426,096\", \"x\": \"2020-04-07\", \"xref\": \"x\", \"y\": 1426096, \"yref\": \"y\"}, {\"arrowhead\": 7, \"showarrow\": true, \"text\": \"81,865\", \"x\": \"2020-04-07\", \"xref\": \"x\", \"y\": 81865, \"yref\": \"y\"}, {\"arrowhead\": 7, \"showarrow\": true, \"text\": \"300,054\", \"x\": \"2020-04-07\", \"xref\": \"x\", \"y\": 300054, \"yref\": \"y\"}, {\"arrowhead\": 7, \"showarrow\": true, \"text\": \"1,044,177\", \"x\": \"2020-04-07\", \"xref\": \"x\", \"y\": 1044177, \"yref\": \"y\"}], \"font\": {\"family\": \"Arial, bold\", \"size\": 14}, \"legend\": {\"x\": 0.01, \"y\": 0.99}, \"template\": {\"data\": {\"bar\": [{\"error_x\": {\"color\": \"#2a3f5f\"}, \"error_y\": {\"color\": \"#2a3f5f\"}, \"marker\": {\"line\": {\"color\": \"#E5ECF6\", \"width\": 0.5}}, \"type\": \"bar\"}], \"barpolar\": [{\"marker\": {\"line\": {\"color\": \"#E5ECF6\", \"width\": 0.5}}, \"type\": \"barpolar\"}], \"carpet\": [{\"aaxis\": {\"endlinecolor\": \"#2a3f5f\", \"gridcolor\": \"white\", \"linecolor\": \"white\", \"minorgridcolor\": \"white\", \"startlinecolor\": \"#2a3f5f\"}, \"baxis\": {\"endlinecolor\": \"#2a3f5f\", \"gridcolor\": \"white\", \"linecolor\": \"white\", \"minorgridcolor\": \"white\", \"startlinecolor\": \"#2a3f5f\"}, \"type\": \"carpet\"}], \"choropleth\": [{\"colorbar\": {\"outlinewidth\": 0, \"ticks\": \"\"}, \"type\": \"choropleth\"}], \"contour\": [{\"colorbar\": {\"outlinewidth\": 0, \"ticks\": \"\"}, \"colorscale\": [[0.0, \"#0d0887\"], [0.1111111111111111, \"#46039f\"], [0.2222222222222222, \"#7201a8\"], [0.3333333333333333, \"#9c179e\"], [0.4444444444444444, \"#bd3786\"], [0.5555555555555556, \"#d8576b\"], [0.6666666666666666, \"#ed7953\"], [0.7777777777777778, \"#fb9f3a\"], [0.8888888888888888, \"#fdca26\"], [1.0, \"#f0f921\"]], \"type\": \"contour\"}], \"contourcarpet\": [{\"colorbar\": {\"outlinewidth\": 0, \"ticks\": \"\"}, \"type\": \"contourcarpet\"}], \"heatmap\": [{\"colorbar\": {\"outlinewidth\": 0, \"ticks\": \"\"}, \"colorscale\": [[0.0, \"#0d0887\"], [0.1111111111111111, \"#46039f\"], [0.2222222222222222, \"#7201a8\"], [0.3333333333333333, \"#9c179e\"], [0.4444444444444444, \"#bd3786\"], [0.5555555555555556, \"#d8576b\"], [0.6666666666666666, \"#ed7953\"], [0.7777777777777778, \"#fb9f3a\"], [0.8888888888888888, \"#fdca26\"], [1.0, \"#f0f921\"]], \"type\": \"heatmap\"}], \"heatmapgl\": [{\"colorbar\": {\"outlinewidth\": 0, \"ticks\": \"\"}, \"colorscale\": [[0.0, \"#0d0887\"], [0.1111111111111111, \"#46039f\"], [0.2222222222222222, \"#7201a8\"], [0.3333333333333333, \"#9c179e\"], [0.4444444444444444, \"#bd3786\"], [0.5555555555555556, \"#d8576b\"], [0.6666666666666666, \"#ed7953\"], [0.7777777777777778, \"#fb9f3a\"], [0.8888888888888888, \"#fdca26\"], [1.0, \"#f0f921\"]], \"type\": \"heatmapgl\"}], \"histogram\": [{\"marker\": {\"colorbar\": {\"outlinewidth\": 0, \"ticks\": \"\"}}, \"type\": \"histogram\"}], \"histogram2d\": [{\"colorbar\": {\"outlinewidth\": 0, \"ticks\": \"\"}, \"colorscale\": [[0.0, \"#0d0887\"], [0.1111111111111111, \"#46039f\"], [0.2222222222222222, \"#7201a8\"], [0.3333333333333333, \"#9c179e\"], [0.4444444444444444, \"#bd3786\"], [0.5555555555555556, \"#d8576b\"], [0.6666666666666666, \"#ed7953\"], [0.7777777777777778, \"#fb9f3a\"], [0.8888888888888888, \"#fdca26\"], [1.0, \"#f0f921\"]], \"type\": \"histogram2d\"}], \"histogram2dcontour\": [{\"colorbar\": {\"outlinewidth\": 0, \"ticks\": \"\"}, \"colorscale\": [[0.0, \"#0d0887\"], [0.1111111111111111, \"#46039f\"], [0.2222222222222222, \"#7201a8\"], [0.3333333333333333, \"#9c179e\"], [0.4444444444444444, \"#bd3786\"], [0.5555555555555556, \"#d8576b\"], [0.6666666666666666, \"#ed7953\"], [0.7777777777777778, \"#fb9f3a\"], [0.8888888888888888, \"#fdca26\"], [1.0, \"#f0f921\"]], \"type\": \"histogram2dcontour\"}], \"mesh3d\": [{\"colorbar\": {\"outlinewidth\": 0, \"ticks\": \"\"}, \"type\": \"mesh3d\"}], \"parcoords\": [{\"line\": {\"colorbar\": {\"outlinewidth\": 0, \"ticks\": \"\"}}, \"type\": \"parcoords\"}], \"pie\": [{\"automargin\": true, \"type\": \"pie\"}], \"scatter\": [{\"marker\": {\"colorbar\": {\"outlinewidth\": 0, \"ticks\": \"\"}}, \"type\": \"scatter\"}], \"scatter3d\": [{\"line\": {\"colorbar\": {\"outlinewidth\": 0, \"ticks\": \"\"}}, \"marker\": {\"colorbar\": {\"outlinewidth\": 0, \"ticks\": \"\"}}, \"type\": \"scatter3d\"}], \"scattercarpet\": [{\"marker\": {\"colorbar\": {\"outlinewidth\": 0, \"ticks\": \"\"}}, \"type\": \"scattercarpet\"}], \"scattergeo\": [{\"marker\": {\"colorbar\": {\"outlinewidth\": 0, \"ticks\": \"\"}}, \"type\": \"scattergeo\"}], \"scattergl\": [{\"marker\": {\"colorbar\": {\"outlinewidth\": 0, \"ticks\": \"\"}}, \"type\": \"scattergl\"}], \"scattermapbox\": [{\"marker\": {\"colorbar\": {\"outlinewidth\": 0, \"ticks\": \"\"}}, \"type\": \"scattermapbox\"}], \"scatterpolar\": [{\"marker\": {\"colorbar\": {\"outlinewidth\": 0, \"ticks\": \"\"}}, \"type\": \"scatterpolar\"}], \"scatterpolargl\": [{\"marker\": {\"colorbar\": {\"outlinewidth\": 0, \"ticks\": \"\"}}, \"type\": \"scatterpolargl\"}], \"scatterternary\": [{\"marker\": {\"colorbar\": {\"outlinewidth\": 0, \"ticks\": \"\"}}, \"type\": \"scatterternary\"}], \"surface\": [{\"colorbar\": {\"outlinewidth\": 0, \"ticks\": \"\"}, \"colorscale\": [[0.0, \"#0d0887\"], [0.1111111111111111, \"#46039f\"], [0.2222222222222222, \"#7201a8\"], [0.3333333333333333, \"#9c179e\"], [0.4444444444444444, \"#bd3786\"], [0.5555555555555556, \"#d8576b\"], [0.6666666666666666, \"#ed7953\"], [0.7777777777777778, \"#fb9f3a\"], [0.8888888888888888, \"#fdca26\"], [1.0, \"#f0f921\"]], \"type\": \"surface\"}], \"table\": [{\"cells\": {\"fill\": {\"color\": \"#EBF0F8\"}, \"line\": {\"color\": \"white\"}}, \"header\": {\"fill\": {\"color\": \"#C8D4E3\"}, \"line\": {\"color\": \"white\"}}, \"type\": \"table\"}]}, \"layout\": {\"annotationdefaults\": {\"arrowcolor\": \"#2a3f5f\", \"arrowhead\": 0, \"arrowwidth\": 1}, \"coloraxis\": {\"colorbar\": {\"outlinewidth\": 0, \"ticks\": \"\"}}, \"colorscale\": {\"diverging\": [[0, \"#8e0152\"], [0.1, \"#c51b7d\"], [0.2, \"#de77ae\"], [0.3, \"#f1b6da\"], [0.4, \"#fde0ef\"], [0.5, \"#f7f7f7\"], [0.6, \"#e6f5d0\"], [0.7, \"#b8e186\"], [0.8, \"#7fbc41\"], [0.9, \"#4d9221\"], [1, \"#276419\"]], \"sequential\": [[0.0, \"#0d0887\"], [0.1111111111111111, \"#46039f\"], [0.2222222222222222, \"#7201a8\"], [0.3333333333333333, \"#9c179e\"], [0.4444444444444444, \"#bd3786\"], [0.5555555555555556, \"#d8576b\"], [0.6666666666666666, \"#ed7953\"], [0.7777777777777778, \"#fb9f3a\"], [0.8888888888888888, \"#fdca26\"], [1.0, \"#f0f921\"]], \"sequentialminus\": [[0.0, \"#0d0887\"], [0.1111111111111111, \"#46039f\"], [0.2222222222222222, \"#7201a8\"], [0.3333333333333333, \"#9c179e\"], [0.4444444444444444, \"#bd3786\"], [0.5555555555555556, \"#d8576b\"], [0.6666666666666666, \"#ed7953\"], [0.7777777777777778, \"#fb9f3a\"], [0.8888888888888888, \"#fdca26\"], [1.0, \"#f0f921\"]]}, \"colorway\": [\"#636efa\", \"#EF553B\", \"#00cc96\", \"#ab63fa\", \"#FFA15A\", \"#19d3f3\", \"#FF6692\", \"#B6E880\", \"#FF97FF\", \"#FECB52\"], \"font\": {\"color\": \"#2a3f5f\"}, \"geo\": {\"bgcolor\": \"white\", \"lakecolor\": \"white\", \"landcolor\": \"#E5ECF6\", \"showlakes\": true, \"showland\": true, \"subunitcolor\": \"white\"}, \"hoverlabel\": {\"align\": \"left\"}, \"hovermode\": \"closest\", \"mapbox\": {\"style\": \"light\"}, \"paper_bgcolor\": \"white\", \"plot_bgcolor\": \"#E5ECF6\", \"polar\": {\"angularaxis\": {\"gridcolor\": \"white\", \"linecolor\": \"white\", \"ticks\": \"\"}, \"bgcolor\": \"#E5ECF6\", \"radialaxis\": {\"gridcolor\": \"white\", \"linecolor\": \"white\", \"ticks\": \"\"}}, \"scene\": {\"xaxis\": {\"backgroundcolor\": \"#E5ECF6\", \"gridcolor\": \"white\", \"gridwidth\": 2, \"linecolor\": \"white\", \"showbackground\": true, \"ticks\": \"\", \"zerolinecolor\": \"white\"}, \"yaxis\": {\"backgroundcolor\": \"#E5ECF6\", \"gridcolor\": \"white\", \"gridwidth\": 2, \"linecolor\": \"white\", \"showbackground\": true, \"ticks\": \"\", \"zerolinecolor\": \"white\"}, \"zaxis\": {\"backgroundcolor\": \"#E5ECF6\", \"gridcolor\": \"white\", \"gridwidth\": 2, \"linecolor\": \"white\", \"showbackground\": true, \"ticks\": \"\", \"zerolinecolor\": \"white\"}}, \"shapedefaults\": {\"line\": {\"color\": \"#2a3f5f\"}}, \"ternary\": {\"aaxis\": {\"gridcolor\": \"white\", \"linecolor\": \"white\", \"ticks\": \"\"}, \"baxis\": {\"gridcolor\": \"white\", \"linecolor\": \"white\", \"ticks\": \"\"}, \"bgcolor\": \"#E5ECF6\", \"caxis\": {\"gridcolor\": \"white\", \"linecolor\": \"white\", \"ticks\": \"\"}}, \"title\": {\"x\": 0.05}, \"xaxis\": {\"automargin\": true, \"gridcolor\": \"white\", \"linecolor\": \"white\", \"ticks\": \"\", \"title\": {\"standoff\": 15}, \"zerolinecolor\": \"white\", \"zerolinewidth\": 2}, \"yaxis\": {\"automargin\": true, \"gridcolor\": \"white\", \"linecolor\": \"white\", \"ticks\": \"\", \"title\": {\"standoff\": 15}, \"zerolinecolor\": \"white\", \"zerolinewidth\": 2}}}, \"title\": {\"text\": \"<b>Global Cases</b>\"}, \"xaxis\": {\"title\": {\"text\": \"Date\"}}, \"yaxis\": {\"title\": {}}},\n",
       "                        {\"responsive\": true}\n",
       "                    ).then(function(){\n",
       "                            \n",
       "var gd = document.getElementById('5dec3fdf-c19f-4f7c-b07e-4171d15e674d');\n",
       "var x = new MutationObserver(function (mutations, observer) {{\n",
       "        var display = window.getComputedStyle(gd).display;\n",
       "        if (!display || display === 'none') {{\n",
       "            console.log([gd, 'removed!']);\n",
       "            Plotly.purge(gd);\n",
       "            observer.disconnect();\n",
       "        }}\n",
       "}});\n",
       "\n",
       "// Listen for the removal of the full notebook cells\n",
       "var notebookContainer = gd.closest('#notebook-container');\n",
       "if (notebookContainer) {{\n",
       "    x.observe(notebookContainer, {childList: true});\n",
       "}}\n",
       "\n",
       "// Listen for the clearing of the current output cell\n",
       "var outputEl = gd.closest('.output');\n",
       "if (outputEl) {{\n",
       "    x.observe(outputEl, {childList: true});\n",
       "}}\n",
       "\n",
       "                        })\n",
       "                };\n",
       "                });\n",
       "            </script>\n",
       "        </div>"
      ]
     },
     "metadata": {},
     "output_type": "display_data"
    }
   ],
   "source": [
    "def plot_global_data():\n",
    "    \n",
    "    confirmed = TimeSeries(confirmed_df).data.groupby(lambda x: True).sum().transpose()\n",
    "    deaths = TimeSeries(deaths_df).data.groupby(lambda x: True).sum().transpose()\n",
    "    recovered = TimeSeries(recovered_df).data.groupby(lambda x: True).sum().transpose()\n",
    "    actual_infected = confirmed - recovered - deaths\n",
    "    df = pd.concat([confirmed,deaths,recovered,actual_infected],axis=1)\n",
    "    df.columns = ['Confirmed','Deaths','Recovered','Actual Infected']\n",
    "    \n",
    "    fig = go.Figure()\n",
    "    annotations=[]\n",
    "    for col in df.columns:\n",
    "        fig.add_trace(go.Scatter(x=df.index, y=df[col], name=col, mode='lines+markers'))\n",
    "        annotations.append(dict(x=df.index.to_list()[-1],y=df[col][-1],xref=\"x\",\n",
    "                                yref=\"y\",text='{:,}'.format(int(df[col][-1])),\n",
    "                                showarrow=True,arrowhead=7))\n",
    "    \n",
    "    fig.update_layout(title=\"<b>Global Cases</b>\",xaxis_title=\"Date\",yaxis_title=None,\n",
    "                      font=dict(family=\"Arial, bold\",size=14),annotations=annotations,\n",
    "                      legend=dict(x=.01, y=.99))\n",
    "\n",
    "    fig.show()\n",
    "    \n",
    "plot_global_data()"
   ]
  },
  {
   "cell_type": "markdown",
   "metadata": {},
   "source": [
    "# Global Mortality Rate\n",
    "\n",
    "This plot shows the evolution of the **Global Mortality Rate** since January 22th, 2020."
   ]
  },
  {
   "cell_type": "code",
   "execution_count": 103,
   "metadata": {
    "scrolled": true
   },
   "outputs": [
    {
     "data": {
      "application/vnd.plotly.v1+json": {
       "config": {
        "plotlyServerURL": "https://plot.ly"
       },
       "data": [
        {
         "mode": "lines+markers",
         "name": "Mortality Rate",
         "type": "scatter",
         "x": [
          "2020-01-22",
          "2020-01-23",
          "2020-01-24",
          "2020-01-25",
          "2020-01-26",
          "2020-01-27",
          "2020-01-28",
          "2020-01-29",
          "2020-01-30",
          "2020-01-31",
          "2020-02-01",
          "2020-02-02",
          "2020-02-03",
          "2020-02-04",
          "2020-02-05",
          "2020-02-06",
          "2020-02-07",
          "2020-02-08",
          "2020-02-09",
          "2020-02-10",
          "2020-02-11",
          "2020-02-12",
          "2020-02-13",
          "2020-02-14",
          "2020-02-15",
          "2020-02-16",
          "2020-02-17",
          "2020-02-18",
          "2020-02-19",
          "2020-02-20",
          "2020-02-21",
          "2020-02-22",
          "2020-02-23",
          "2020-02-24",
          "2020-02-25",
          "2020-02-26",
          "2020-02-27",
          "2020-02-28",
          "2020-02-29",
          "2020-03-01",
          "2020-03-02",
          "2020-03-03",
          "2020-03-04",
          "2020-03-05",
          "2020-03-06",
          "2020-03-07",
          "2020-03-08",
          "2020-03-09",
          "2020-03-10",
          "2020-03-11",
          "2020-03-12",
          "2020-03-13",
          "2020-03-14",
          "2020-03-15",
          "2020-03-16",
          "2020-03-17",
          "2020-03-18",
          "2020-03-19",
          "2020-03-20",
          "2020-03-21",
          "2020-03-22",
          "2020-03-23",
          "2020-03-24",
          "2020-03-25",
          "2020-03-26",
          "2020-03-27",
          "2020-03-28",
          "2020-03-29",
          "2020-03-30",
          "2020-03-31",
          "2020-04-01",
          "2020-04-02",
          "2020-04-03",
          "2020-04-04",
          "2020-04-05",
          "2020-04-06",
          "2020-04-07"
         ],
         "y": [
          0.03063063063063063,
          0.027522935779816515,
          0.02763018065887354,
          0.029288702928870293,
          0.02644003777148253,
          0.02801503245644004,
          0.023485120114736465,
          0.021569899448589037,
          0.020767549186300704,
          0.021456633423995165,
          0.021515201860774213,
          0.021564305712753917,
          0.02142749358684171,
          0.02059266700150678,
          0.020408901755020806,
          0.020588426316814963,
          0.020906632549213457,
          0.021713362068965517,
          0.0225653798256538,
          0.023689256816799963,
          0.02484264095352886,
          0.02472302691227527,
          0.022710707659687253,
          0.022770426852059506,
          0.02413443430392583,
          0.024851173761653376,
          0.02549892161948183,
          0.026711563032367974,
          0.028054310606962018,
          0.02948934997440844,
          0.029302646480688373,
          0.03128340884793565,
          0.03126978900174777,
          0.03304382800618393,
          0.03367907867572072,
          0.03403450140069789,
          0.034007686172141255,
          0.034144949591021496,
          0.03419330085686714,
          0.03390329187837364,
          0.03416162824175581,
          0.034037052994398964,
          0.0342094196804037,
          0.03420305253049466,
          0.03398787831160794,
          0.033614556860373936,
          0.03461997250070569,
          0.03510872435953869,
          0.035929860057325916,
          0.03666335650446872,
          0.03677387185240588,
          0.03721634929926655,
          0.03727714748784441,
          0.038458322882702116,
          0.039245706984480155,
          0.04010613793873223,
          0.04065245017945173,
          0.04067691800305066,
          0.04150869923000059,
          0.04260328990794957,
          0.04348084154169869,
          0.04363689240815895,
          0.044552619933260776,
          0.045292128993078204,
          0.04526134318747864,
          0.04584259663470371,
          0.046392798006980415,
          0.047108895492543115,
          0.04803456054806076,
          0.04910511762860545,
          0.050191667426187934,
          0.052286543243990055,
          0.05364183601495369,
          0.05395501104471753,
          0.05453437778817167,
          0.05543449897070926,
          0.05740497133432813
         ]
        },
        {
         "mode": "lines",
         "name": "Mean",
         "type": "scatter",
         "x": [
          "2020-01-22",
          "2020-01-23",
          "2020-01-24",
          "2020-01-25",
          "2020-01-26",
          "2020-01-27",
          "2020-01-28",
          "2020-01-29",
          "2020-01-30",
          "2020-01-31",
          "2020-02-01",
          "2020-02-02",
          "2020-02-03",
          "2020-02-04",
          "2020-02-05",
          "2020-02-06",
          "2020-02-07",
          "2020-02-08",
          "2020-02-09",
          "2020-02-10",
          "2020-02-11",
          "2020-02-12",
          "2020-02-13",
          "2020-02-14",
          "2020-02-15",
          "2020-02-16",
          "2020-02-17",
          "2020-02-18",
          "2020-02-19",
          "2020-02-20",
          "2020-02-21",
          "2020-02-22",
          "2020-02-23",
          "2020-02-24",
          "2020-02-25",
          "2020-02-26",
          "2020-02-27",
          "2020-02-28",
          "2020-02-29",
          "2020-03-01",
          "2020-03-02",
          "2020-03-03",
          "2020-03-04",
          "2020-03-05",
          "2020-03-06",
          "2020-03-07",
          "2020-03-08",
          "2020-03-09",
          "2020-03-10",
          "2020-03-11",
          "2020-03-12",
          "2020-03-13",
          "2020-03-14",
          "2020-03-15",
          "2020-03-16",
          "2020-03-17",
          "2020-03-18",
          "2020-03-19",
          "2020-03-20",
          "2020-03-21",
          "2020-03-22",
          "2020-03-23",
          "2020-03-24",
          "2020-03-25",
          "2020-03-26",
          "2020-03-27",
          "2020-03-28",
          "2020-03-29",
          "2020-03-30",
          "2020-03-31",
          "2020-04-01",
          "2020-04-02",
          "2020-04-03",
          "2020-04-04",
          "2020-04-05",
          "2020-04-06",
          "2020-04-07"
         ],
         "y": [
          0.03417712314917393,
          0.03417712314917393,
          0.03417712314917393,
          0.03417712314917393,
          0.03417712314917393,
          0.03417712314917393,
          0.03417712314917393,
          0.03417712314917393,
          0.03417712314917393,
          0.03417712314917393,
          0.03417712314917393,
          0.03417712314917393,
          0.03417712314917393,
          0.03417712314917393,
          0.03417712314917393,
          0.03417712314917393,
          0.03417712314917393,
          0.03417712314917393,
          0.03417712314917393,
          0.03417712314917393,
          0.03417712314917393,
          0.03417712314917393,
          0.03417712314917393,
          0.03417712314917393,
          0.03417712314917393,
          0.03417712314917393,
          0.03417712314917393,
          0.03417712314917393,
          0.03417712314917393,
          0.03417712314917393,
          0.03417712314917393,
          0.03417712314917393,
          0.03417712314917393,
          0.03417712314917393,
          0.03417712314917393,
          0.03417712314917393,
          0.03417712314917393,
          0.03417712314917393,
          0.03417712314917393,
          0.03417712314917393,
          0.03417712314917393,
          0.03417712314917393,
          0.03417712314917393,
          0.03417712314917393,
          0.03417712314917393,
          0.03417712314917393,
          0.03417712314917393,
          0.03417712314917393,
          0.03417712314917393,
          0.03417712314917393,
          0.03417712314917393,
          0.03417712314917393,
          0.03417712314917393,
          0.03417712314917393,
          0.03417712314917393,
          0.03417712314917393,
          0.03417712314917393,
          0.03417712314917393,
          0.03417712314917393,
          0.03417712314917393,
          0.03417712314917393,
          0.03417712314917393,
          0.03417712314917393,
          0.03417712314917393,
          0.03417712314917393,
          0.03417712314917393,
          0.03417712314917393,
          0.03417712314917393,
          0.03417712314917393,
          0.03417712314917393,
          0.03417712314917393,
          0.03417712314917393,
          0.03417712314917393,
          0.03417712314917393,
          0.03417712314917393,
          0.03417712314917393,
          0.03417712314917393
         ]
        }
       ],
       "layout": {
        "annotations": [
         {
          "text": "5.7%",
          "x": "2020-04-07",
          "xref": "x",
          "y": 0.05740497133432813,
          "yref": "y",
          "yshift": 0
         },
         {
          "text": "5.4%",
          "x": "2020-04-04",
          "xref": "x",
          "y": 0.05395501104471753,
          "yref": "y",
          "yshift": 0
         },
         {
          "text": "5.0%",
          "x": "2020-04-01",
          "xref": "x",
          "y": 0.050191667426187934,
          "yref": "y",
          "yshift": 0
         },
         {
          "text": "4.7%",
          "x": "2020-03-29",
          "xref": "x",
          "y": 0.047108895492543115,
          "yref": "y",
          "yshift": 0
         },
         {
          "text": "4.5%",
          "x": "2020-03-26",
          "xref": "x",
          "y": 0.04526134318747864,
          "yref": "y",
          "yshift": 0
         },
         {
          "text": "4.4%",
          "x": "2020-03-23",
          "xref": "x",
          "y": 0.04363689240815895,
          "yref": "y",
          "yshift": 0
         },
         {
          "text": "4.2%",
          "x": "2020-03-20",
          "xref": "x",
          "y": 0.04150869923000059,
          "yref": "y",
          "yshift": 0
         },
         {
          "text": "4.0%",
          "x": "2020-03-17",
          "xref": "x",
          "y": 0.04010613793873223,
          "yref": "y",
          "yshift": 0
         },
         {
          "text": "3.7%",
          "x": "2020-03-14",
          "xref": "x",
          "y": 0.03727714748784441,
          "yref": "y",
          "yshift": 0
         },
         {
          "text": "3.7%",
          "x": "2020-03-11",
          "xref": "x",
          "y": 0.03666335650446872,
          "yref": "y",
          "yshift": 0
         },
         {
          "text": "3.5%",
          "x": "2020-03-08",
          "xref": "x",
          "y": 0.03461997250070569,
          "yref": "y",
          "yshift": 0
         },
         {
          "text": "3.4%",
          "x": "2020-03-05",
          "xref": "x",
          "y": 0.03420305253049466,
          "yref": "y",
          "yshift": 0
         },
         {
          "text": "3.4%",
          "x": "2020-03-02",
          "xref": "x",
          "y": 0.03416162824175581,
          "yref": "y",
          "yshift": 0
         },
         {
          "text": "3.4%",
          "x": "2020-02-28",
          "xref": "x",
          "y": 0.034144949591021496,
          "yref": "y",
          "yshift": 0
         },
         {
          "text": "3.4%",
          "x": "2020-02-25",
          "xref": "x",
          "y": 0.03367907867572072,
          "yref": "y",
          "yshift": 0
         },
         {
          "text": "3.1%",
          "x": "2020-02-22",
          "xref": "x",
          "y": 0.03128340884793565,
          "yref": "y",
          "yshift": 0
         },
         {
          "text": "2.8%",
          "x": "2020-02-19",
          "xref": "x",
          "y": 0.028054310606962018,
          "yref": "y",
          "yshift": 0
         },
         {
          "text": "2.5%",
          "x": "2020-02-16",
          "xref": "x",
          "y": 0.024851173761653376,
          "yref": "y",
          "yshift": 0
         },
         {
          "text": "2.3%",
          "x": "2020-02-13",
          "xref": "x",
          "y": 0.022710707659687253,
          "yref": "y",
          "yshift": 0
         },
         {
          "text": "2.4%",
          "x": "2020-02-10",
          "xref": "x",
          "y": 0.023689256816799963,
          "yref": "y",
          "yshift": 0
         },
         {
          "text": "2.1%",
          "x": "2020-02-07",
          "xref": "x",
          "y": 0.020906632549213457,
          "yref": "y",
          "yshift": 0
         },
         {
          "text": "2.1%",
          "x": "2020-02-04",
          "xref": "x",
          "y": 0.02059266700150678,
          "yref": "y",
          "yshift": 0
         },
         {
          "text": "2.2%",
          "x": "2020-02-01",
          "xref": "x",
          "y": 0.021515201860774213,
          "yref": "y",
          "yshift": 0
         },
         {
          "text": "2.2%",
          "x": "2020-01-29",
          "xref": "x",
          "y": 0.021569899448589037,
          "yref": "y",
          "yshift": 0
         },
         {
          "text": "2.6%",
          "x": "2020-01-26",
          "xref": "x",
          "y": 0.02644003777148253,
          "yref": "y",
          "yshift": 0
         },
         {
          "text": "2.8%",
          "x": "2020-01-23",
          "xref": "x",
          "y": 0.027522935779816515,
          "yref": "y",
          "yshift": 0
         },
         {
          "text": "3.42%",
          "x": "2020-04-07",
          "xref": "x",
          "y": 0.03417712314917393,
          "yref": "y",
          "yshift": 0
         }
        ],
        "legend": {
         "x": 0.01,
         "y": 0.99
        },
        "template": {
         "data": {
          "bar": [
           {
            "error_x": {
             "color": "#2a3f5f"
            },
            "error_y": {
             "color": "#2a3f5f"
            },
            "marker": {
             "line": {
              "color": "#E5ECF6",
              "width": 0.5
             }
            },
            "type": "bar"
           }
          ],
          "barpolar": [
           {
            "marker": {
             "line": {
              "color": "#E5ECF6",
              "width": 0.5
             }
            },
            "type": "barpolar"
           }
          ],
          "carpet": [
           {
            "aaxis": {
             "endlinecolor": "#2a3f5f",
             "gridcolor": "white",
             "linecolor": "white",
             "minorgridcolor": "white",
             "startlinecolor": "#2a3f5f"
            },
            "baxis": {
             "endlinecolor": "#2a3f5f",
             "gridcolor": "white",
             "linecolor": "white",
             "minorgridcolor": "white",
             "startlinecolor": "#2a3f5f"
            },
            "type": "carpet"
           }
          ],
          "choropleth": [
           {
            "colorbar": {
             "outlinewidth": 0,
             "ticks": ""
            },
            "type": "choropleth"
           }
          ],
          "contour": [
           {
            "colorbar": {
             "outlinewidth": 0,
             "ticks": ""
            },
            "colorscale": [
             [
              0,
              "#0d0887"
             ],
             [
              0.1111111111111111,
              "#46039f"
             ],
             [
              0.2222222222222222,
              "#7201a8"
             ],
             [
              0.3333333333333333,
              "#9c179e"
             ],
             [
              0.4444444444444444,
              "#bd3786"
             ],
             [
              0.5555555555555556,
              "#d8576b"
             ],
             [
              0.6666666666666666,
              "#ed7953"
             ],
             [
              0.7777777777777778,
              "#fb9f3a"
             ],
             [
              0.8888888888888888,
              "#fdca26"
             ],
             [
              1,
              "#f0f921"
             ]
            ],
            "type": "contour"
           }
          ],
          "contourcarpet": [
           {
            "colorbar": {
             "outlinewidth": 0,
             "ticks": ""
            },
            "type": "contourcarpet"
           }
          ],
          "heatmap": [
           {
            "colorbar": {
             "outlinewidth": 0,
             "ticks": ""
            },
            "colorscale": [
             [
              0,
              "#0d0887"
             ],
             [
              0.1111111111111111,
              "#46039f"
             ],
             [
              0.2222222222222222,
              "#7201a8"
             ],
             [
              0.3333333333333333,
              "#9c179e"
             ],
             [
              0.4444444444444444,
              "#bd3786"
             ],
             [
              0.5555555555555556,
              "#d8576b"
             ],
             [
              0.6666666666666666,
              "#ed7953"
             ],
             [
              0.7777777777777778,
              "#fb9f3a"
             ],
             [
              0.8888888888888888,
              "#fdca26"
             ],
             [
              1,
              "#f0f921"
             ]
            ],
            "type": "heatmap"
           }
          ],
          "heatmapgl": [
           {
            "colorbar": {
             "outlinewidth": 0,
             "ticks": ""
            },
            "colorscale": [
             [
              0,
              "#0d0887"
             ],
             [
              0.1111111111111111,
              "#46039f"
             ],
             [
              0.2222222222222222,
              "#7201a8"
             ],
             [
              0.3333333333333333,
              "#9c179e"
             ],
             [
              0.4444444444444444,
              "#bd3786"
             ],
             [
              0.5555555555555556,
              "#d8576b"
             ],
             [
              0.6666666666666666,
              "#ed7953"
             ],
             [
              0.7777777777777778,
              "#fb9f3a"
             ],
             [
              0.8888888888888888,
              "#fdca26"
             ],
             [
              1,
              "#f0f921"
             ]
            ],
            "type": "heatmapgl"
           }
          ],
          "histogram": [
           {
            "marker": {
             "colorbar": {
              "outlinewidth": 0,
              "ticks": ""
             }
            },
            "type": "histogram"
           }
          ],
          "histogram2d": [
           {
            "colorbar": {
             "outlinewidth": 0,
             "ticks": ""
            },
            "colorscale": [
             [
              0,
              "#0d0887"
             ],
             [
              0.1111111111111111,
              "#46039f"
             ],
             [
              0.2222222222222222,
              "#7201a8"
             ],
             [
              0.3333333333333333,
              "#9c179e"
             ],
             [
              0.4444444444444444,
              "#bd3786"
             ],
             [
              0.5555555555555556,
              "#d8576b"
             ],
             [
              0.6666666666666666,
              "#ed7953"
             ],
             [
              0.7777777777777778,
              "#fb9f3a"
             ],
             [
              0.8888888888888888,
              "#fdca26"
             ],
             [
              1,
              "#f0f921"
             ]
            ],
            "type": "histogram2d"
           }
          ],
          "histogram2dcontour": [
           {
            "colorbar": {
             "outlinewidth": 0,
             "ticks": ""
            },
            "colorscale": [
             [
              0,
              "#0d0887"
             ],
             [
              0.1111111111111111,
              "#46039f"
             ],
             [
              0.2222222222222222,
              "#7201a8"
             ],
             [
              0.3333333333333333,
              "#9c179e"
             ],
             [
              0.4444444444444444,
              "#bd3786"
             ],
             [
              0.5555555555555556,
              "#d8576b"
             ],
             [
              0.6666666666666666,
              "#ed7953"
             ],
             [
              0.7777777777777778,
              "#fb9f3a"
             ],
             [
              0.8888888888888888,
              "#fdca26"
             ],
             [
              1,
              "#f0f921"
             ]
            ],
            "type": "histogram2dcontour"
           }
          ],
          "mesh3d": [
           {
            "colorbar": {
             "outlinewidth": 0,
             "ticks": ""
            },
            "type": "mesh3d"
           }
          ],
          "parcoords": [
           {
            "line": {
             "colorbar": {
              "outlinewidth": 0,
              "ticks": ""
             }
            },
            "type": "parcoords"
           }
          ],
          "pie": [
           {
            "automargin": true,
            "type": "pie"
           }
          ],
          "scatter": [
           {
            "marker": {
             "colorbar": {
              "outlinewidth": 0,
              "ticks": ""
             }
            },
            "type": "scatter"
           }
          ],
          "scatter3d": [
           {
            "line": {
             "colorbar": {
              "outlinewidth": 0,
              "ticks": ""
             }
            },
            "marker": {
             "colorbar": {
              "outlinewidth": 0,
              "ticks": ""
             }
            },
            "type": "scatter3d"
           }
          ],
          "scattercarpet": [
           {
            "marker": {
             "colorbar": {
              "outlinewidth": 0,
              "ticks": ""
             }
            },
            "type": "scattercarpet"
           }
          ],
          "scattergeo": [
           {
            "marker": {
             "colorbar": {
              "outlinewidth": 0,
              "ticks": ""
             }
            },
            "type": "scattergeo"
           }
          ],
          "scattergl": [
           {
            "marker": {
             "colorbar": {
              "outlinewidth": 0,
              "ticks": ""
             }
            },
            "type": "scattergl"
           }
          ],
          "scattermapbox": [
           {
            "marker": {
             "colorbar": {
              "outlinewidth": 0,
              "ticks": ""
             }
            },
            "type": "scattermapbox"
           }
          ],
          "scatterpolar": [
           {
            "marker": {
             "colorbar": {
              "outlinewidth": 0,
              "ticks": ""
             }
            },
            "type": "scatterpolar"
           }
          ],
          "scatterpolargl": [
           {
            "marker": {
             "colorbar": {
              "outlinewidth": 0,
              "ticks": ""
             }
            },
            "type": "scatterpolargl"
           }
          ],
          "scatterternary": [
           {
            "marker": {
             "colorbar": {
              "outlinewidth": 0,
              "ticks": ""
             }
            },
            "type": "scatterternary"
           }
          ],
          "surface": [
           {
            "colorbar": {
             "outlinewidth": 0,
             "ticks": ""
            },
            "colorscale": [
             [
              0,
              "#0d0887"
             ],
             [
              0.1111111111111111,
              "#46039f"
             ],
             [
              0.2222222222222222,
              "#7201a8"
             ],
             [
              0.3333333333333333,
              "#9c179e"
             ],
             [
              0.4444444444444444,
              "#bd3786"
             ],
             [
              0.5555555555555556,
              "#d8576b"
             ],
             [
              0.6666666666666666,
              "#ed7953"
             ],
             [
              0.7777777777777778,
              "#fb9f3a"
             ],
             [
              0.8888888888888888,
              "#fdca26"
             ],
             [
              1,
              "#f0f921"
             ]
            ],
            "type": "surface"
           }
          ],
          "table": [
           {
            "cells": {
             "fill": {
              "color": "#EBF0F8"
             },
             "line": {
              "color": "white"
             }
            },
            "header": {
             "fill": {
              "color": "#C8D4E3"
             },
             "line": {
              "color": "white"
             }
            },
            "type": "table"
           }
          ]
         },
         "layout": {
          "annotationdefaults": {
           "arrowcolor": "#2a3f5f",
           "arrowhead": 0,
           "arrowwidth": 1
          },
          "coloraxis": {
           "colorbar": {
            "outlinewidth": 0,
            "ticks": ""
           }
          },
          "colorscale": {
           "diverging": [
            [
             0,
             "#8e0152"
            ],
            [
             0.1,
             "#c51b7d"
            ],
            [
             0.2,
             "#de77ae"
            ],
            [
             0.3,
             "#f1b6da"
            ],
            [
             0.4,
             "#fde0ef"
            ],
            [
             0.5,
             "#f7f7f7"
            ],
            [
             0.6,
             "#e6f5d0"
            ],
            [
             0.7,
             "#b8e186"
            ],
            [
             0.8,
             "#7fbc41"
            ],
            [
             0.9,
             "#4d9221"
            ],
            [
             1,
             "#276419"
            ]
           ],
           "sequential": [
            [
             0,
             "#0d0887"
            ],
            [
             0.1111111111111111,
             "#46039f"
            ],
            [
             0.2222222222222222,
             "#7201a8"
            ],
            [
             0.3333333333333333,
             "#9c179e"
            ],
            [
             0.4444444444444444,
             "#bd3786"
            ],
            [
             0.5555555555555556,
             "#d8576b"
            ],
            [
             0.6666666666666666,
             "#ed7953"
            ],
            [
             0.7777777777777778,
             "#fb9f3a"
            ],
            [
             0.8888888888888888,
             "#fdca26"
            ],
            [
             1,
             "#f0f921"
            ]
           ],
           "sequentialminus": [
            [
             0,
             "#0d0887"
            ],
            [
             0.1111111111111111,
             "#46039f"
            ],
            [
             0.2222222222222222,
             "#7201a8"
            ],
            [
             0.3333333333333333,
             "#9c179e"
            ],
            [
             0.4444444444444444,
             "#bd3786"
            ],
            [
             0.5555555555555556,
             "#d8576b"
            ],
            [
             0.6666666666666666,
             "#ed7953"
            ],
            [
             0.7777777777777778,
             "#fb9f3a"
            ],
            [
             0.8888888888888888,
             "#fdca26"
            ],
            [
             1,
             "#f0f921"
            ]
           ]
          },
          "colorway": [
           "#636efa",
           "#EF553B",
           "#00cc96",
           "#ab63fa",
           "#FFA15A",
           "#19d3f3",
           "#FF6692",
           "#B6E880",
           "#FF97FF",
           "#FECB52"
          ],
          "font": {
           "color": "#2a3f5f"
          },
          "geo": {
           "bgcolor": "white",
           "lakecolor": "white",
           "landcolor": "#E5ECF6",
           "showlakes": true,
           "showland": true,
           "subunitcolor": "white"
          },
          "hoverlabel": {
           "align": "left"
          },
          "hovermode": "closest",
          "mapbox": {
           "style": "light"
          },
          "paper_bgcolor": "white",
          "plot_bgcolor": "#E5ECF6",
          "polar": {
           "angularaxis": {
            "gridcolor": "white",
            "linecolor": "white",
            "ticks": ""
           },
           "bgcolor": "#E5ECF6",
           "radialaxis": {
            "gridcolor": "white",
            "linecolor": "white",
            "ticks": ""
           }
          },
          "scene": {
           "xaxis": {
            "backgroundcolor": "#E5ECF6",
            "gridcolor": "white",
            "gridwidth": 2,
            "linecolor": "white",
            "showbackground": true,
            "ticks": "",
            "zerolinecolor": "white"
           },
           "yaxis": {
            "backgroundcolor": "#E5ECF6",
            "gridcolor": "white",
            "gridwidth": 2,
            "linecolor": "white",
            "showbackground": true,
            "ticks": "",
            "zerolinecolor": "white"
           },
           "zaxis": {
            "backgroundcolor": "#E5ECF6",
            "gridcolor": "white",
            "gridwidth": 2,
            "linecolor": "white",
            "showbackground": true,
            "ticks": "",
            "zerolinecolor": "white"
           }
          },
          "shapedefaults": {
           "line": {
            "color": "#2a3f5f"
           }
          },
          "ternary": {
           "aaxis": {
            "gridcolor": "white",
            "linecolor": "white",
            "ticks": ""
           },
           "baxis": {
            "gridcolor": "white",
            "linecolor": "white",
            "ticks": ""
           },
           "bgcolor": "#E5ECF6",
           "caxis": {
            "gridcolor": "white",
            "linecolor": "white",
            "ticks": ""
           }
          },
          "title": {
           "x": 0.05
          },
          "xaxis": {
           "automargin": true,
           "gridcolor": "white",
           "linecolor": "white",
           "ticks": "",
           "title": {
            "standoff": 15
           },
           "zerolinecolor": "white",
           "zerolinewidth": 2
          },
          "yaxis": {
           "automargin": true,
           "gridcolor": "white",
           "linecolor": "white",
           "ticks": "",
           "title": {
            "standoff": 15
           },
           "zerolinecolor": "white",
           "zerolinewidth": 2
          }
         }
        },
        "title": {
         "text": "<b>Global Mortality Rate</b>"
        },
        "xaxis": {
         "title": {
          "text": "Date"
         }
        },
        "yaxis": {
         "title": {}
        }
       }
      },
      "text/html": [
       "<div>\n",
       "        \n",
       "        \n",
       "            <div id=\"e42c13d6-1bc8-471e-acc4-f15ec10a5e58\" class=\"plotly-graph-div\" style=\"height:525px; width:100%;\"></div>\n",
       "            <script type=\"text/javascript\">\n",
       "                require([\"plotly\"], function(Plotly) {\n",
       "                    window.PLOTLYENV=window.PLOTLYENV || {};\n",
       "                    \n",
       "                if (document.getElementById(\"e42c13d6-1bc8-471e-acc4-f15ec10a5e58\")) {\n",
       "                    Plotly.newPlot(\n",
       "                        'e42c13d6-1bc8-471e-acc4-f15ec10a5e58',\n",
       "                        [{\"mode\": \"lines+markers\", \"name\": \"Mortality Rate\", \"type\": \"scatter\", \"x\": [\"2020-01-22\", \"2020-01-23\", \"2020-01-24\", \"2020-01-25\", \"2020-01-26\", \"2020-01-27\", \"2020-01-28\", \"2020-01-29\", \"2020-01-30\", \"2020-01-31\", \"2020-02-01\", \"2020-02-02\", \"2020-02-03\", \"2020-02-04\", \"2020-02-05\", \"2020-02-06\", \"2020-02-07\", \"2020-02-08\", \"2020-02-09\", \"2020-02-10\", \"2020-02-11\", \"2020-02-12\", \"2020-02-13\", \"2020-02-14\", \"2020-02-15\", \"2020-02-16\", \"2020-02-17\", \"2020-02-18\", \"2020-02-19\", \"2020-02-20\", \"2020-02-21\", \"2020-02-22\", \"2020-02-23\", \"2020-02-24\", \"2020-02-25\", \"2020-02-26\", \"2020-02-27\", \"2020-02-28\", \"2020-02-29\", \"2020-03-01\", \"2020-03-02\", \"2020-03-03\", \"2020-03-04\", \"2020-03-05\", \"2020-03-06\", \"2020-03-07\", \"2020-03-08\", \"2020-03-09\", \"2020-03-10\", \"2020-03-11\", \"2020-03-12\", \"2020-03-13\", \"2020-03-14\", \"2020-03-15\", \"2020-03-16\", \"2020-03-17\", \"2020-03-18\", \"2020-03-19\", \"2020-03-20\", \"2020-03-21\", \"2020-03-22\", \"2020-03-23\", \"2020-03-24\", \"2020-03-25\", \"2020-03-26\", \"2020-03-27\", \"2020-03-28\", \"2020-03-29\", \"2020-03-30\", \"2020-03-31\", \"2020-04-01\", \"2020-04-02\", \"2020-04-03\", \"2020-04-04\", \"2020-04-05\", \"2020-04-06\", \"2020-04-07\"], \"y\": [0.03063063063063063, 0.027522935779816515, 0.02763018065887354, 0.029288702928870293, 0.02644003777148253, 0.02801503245644004, 0.023485120114736465, 0.021569899448589037, 0.020767549186300704, 0.021456633423995165, 0.021515201860774213, 0.021564305712753917, 0.02142749358684171, 0.02059266700150678, 0.020408901755020806, 0.020588426316814963, 0.020906632549213457, 0.021713362068965517, 0.0225653798256538, 0.023689256816799963, 0.02484264095352886, 0.02472302691227527, 0.022710707659687253, 0.022770426852059506, 0.02413443430392583, 0.024851173761653376, 0.02549892161948183, 0.026711563032367974, 0.028054310606962018, 0.02948934997440844, 0.029302646480688373, 0.03128340884793565, 0.03126978900174777, 0.03304382800618393, 0.03367907867572072, 0.03403450140069789, 0.034007686172141255, 0.034144949591021496, 0.03419330085686714, 0.03390329187837364, 0.03416162824175581, 0.034037052994398964, 0.0342094196804037, 0.03420305253049466, 0.03398787831160794, 0.033614556860373936, 0.03461997250070569, 0.03510872435953869, 0.035929860057325916, 0.03666335650446872, 0.03677387185240588, 0.03721634929926655, 0.03727714748784441, 0.038458322882702116, 0.039245706984480155, 0.04010613793873223, 0.04065245017945173, 0.04067691800305066, 0.04150869923000059, 0.04260328990794957, 0.04348084154169869, 0.04363689240815895, 0.044552619933260776, 0.045292128993078204, 0.04526134318747864, 0.04584259663470371, 0.046392798006980415, 0.047108895492543115, 0.04803456054806076, 0.04910511762860545, 0.050191667426187934, 0.052286543243990055, 0.05364183601495369, 0.05395501104471753, 0.05453437778817167, 0.05543449897070926, 0.05740497133432813]}, {\"mode\": \"lines\", \"name\": \"Mean\", \"type\": \"scatter\", \"x\": [\"2020-01-22\", \"2020-01-23\", \"2020-01-24\", \"2020-01-25\", \"2020-01-26\", \"2020-01-27\", \"2020-01-28\", \"2020-01-29\", \"2020-01-30\", \"2020-01-31\", \"2020-02-01\", \"2020-02-02\", \"2020-02-03\", \"2020-02-04\", \"2020-02-05\", \"2020-02-06\", \"2020-02-07\", \"2020-02-08\", \"2020-02-09\", \"2020-02-10\", \"2020-02-11\", \"2020-02-12\", \"2020-02-13\", \"2020-02-14\", \"2020-02-15\", \"2020-02-16\", \"2020-02-17\", \"2020-02-18\", \"2020-02-19\", \"2020-02-20\", \"2020-02-21\", \"2020-02-22\", \"2020-02-23\", \"2020-02-24\", \"2020-02-25\", \"2020-02-26\", \"2020-02-27\", \"2020-02-28\", \"2020-02-29\", \"2020-03-01\", \"2020-03-02\", \"2020-03-03\", \"2020-03-04\", \"2020-03-05\", \"2020-03-06\", \"2020-03-07\", \"2020-03-08\", \"2020-03-09\", \"2020-03-10\", \"2020-03-11\", \"2020-03-12\", \"2020-03-13\", \"2020-03-14\", \"2020-03-15\", \"2020-03-16\", \"2020-03-17\", \"2020-03-18\", \"2020-03-19\", \"2020-03-20\", \"2020-03-21\", \"2020-03-22\", \"2020-03-23\", \"2020-03-24\", \"2020-03-25\", \"2020-03-26\", \"2020-03-27\", \"2020-03-28\", \"2020-03-29\", \"2020-03-30\", \"2020-03-31\", \"2020-04-01\", \"2020-04-02\", \"2020-04-03\", \"2020-04-04\", \"2020-04-05\", \"2020-04-06\", \"2020-04-07\"], \"y\": [0.03417712314917393, 0.03417712314917393, 0.03417712314917393, 0.03417712314917393, 0.03417712314917393, 0.03417712314917393, 0.03417712314917393, 0.03417712314917393, 0.03417712314917393, 0.03417712314917393, 0.03417712314917393, 0.03417712314917393, 0.03417712314917393, 0.03417712314917393, 0.03417712314917393, 0.03417712314917393, 0.03417712314917393, 0.03417712314917393, 0.03417712314917393, 0.03417712314917393, 0.03417712314917393, 0.03417712314917393, 0.03417712314917393, 0.03417712314917393, 0.03417712314917393, 0.03417712314917393, 0.03417712314917393, 0.03417712314917393, 0.03417712314917393, 0.03417712314917393, 0.03417712314917393, 0.03417712314917393, 0.03417712314917393, 0.03417712314917393, 0.03417712314917393, 0.03417712314917393, 0.03417712314917393, 0.03417712314917393, 0.03417712314917393, 0.03417712314917393, 0.03417712314917393, 0.03417712314917393, 0.03417712314917393, 0.03417712314917393, 0.03417712314917393, 0.03417712314917393, 0.03417712314917393, 0.03417712314917393, 0.03417712314917393, 0.03417712314917393, 0.03417712314917393, 0.03417712314917393, 0.03417712314917393, 0.03417712314917393, 0.03417712314917393, 0.03417712314917393, 0.03417712314917393, 0.03417712314917393, 0.03417712314917393, 0.03417712314917393, 0.03417712314917393, 0.03417712314917393, 0.03417712314917393, 0.03417712314917393, 0.03417712314917393, 0.03417712314917393, 0.03417712314917393, 0.03417712314917393, 0.03417712314917393, 0.03417712314917393, 0.03417712314917393, 0.03417712314917393, 0.03417712314917393, 0.03417712314917393, 0.03417712314917393, 0.03417712314917393, 0.03417712314917393]}],\n",
       "                        {\"annotations\": [{\"text\": \"5.7%\", \"x\": \"2020-04-07\", \"xref\": \"x\", \"y\": 0.05740497133432813, \"yref\": \"y\", \"yshift\": 0}, {\"text\": \"5.4%\", \"x\": \"2020-04-04\", \"xref\": \"x\", \"y\": 0.05395501104471753, \"yref\": \"y\", \"yshift\": 0}, {\"text\": \"5.0%\", \"x\": \"2020-04-01\", \"xref\": \"x\", \"y\": 0.050191667426187934, \"yref\": \"y\", \"yshift\": 0}, {\"text\": \"4.7%\", \"x\": \"2020-03-29\", \"xref\": \"x\", \"y\": 0.047108895492543115, \"yref\": \"y\", \"yshift\": 0}, {\"text\": \"4.5%\", \"x\": \"2020-03-26\", \"xref\": \"x\", \"y\": 0.04526134318747864, \"yref\": \"y\", \"yshift\": 0}, {\"text\": \"4.4%\", \"x\": \"2020-03-23\", \"xref\": \"x\", \"y\": 0.04363689240815895, \"yref\": \"y\", \"yshift\": 0}, {\"text\": \"4.2%\", \"x\": \"2020-03-20\", \"xref\": \"x\", \"y\": 0.04150869923000059, \"yref\": \"y\", \"yshift\": 0}, {\"text\": \"4.0%\", \"x\": \"2020-03-17\", \"xref\": \"x\", \"y\": 0.04010613793873223, \"yref\": \"y\", \"yshift\": 0}, {\"text\": \"3.7%\", \"x\": \"2020-03-14\", \"xref\": \"x\", \"y\": 0.03727714748784441, \"yref\": \"y\", \"yshift\": 0}, {\"text\": \"3.7%\", \"x\": \"2020-03-11\", \"xref\": \"x\", \"y\": 0.03666335650446872, \"yref\": \"y\", \"yshift\": 0}, {\"text\": \"3.5%\", \"x\": \"2020-03-08\", \"xref\": \"x\", \"y\": 0.03461997250070569, \"yref\": \"y\", \"yshift\": 0}, {\"text\": \"3.4%\", \"x\": \"2020-03-05\", \"xref\": \"x\", \"y\": 0.03420305253049466, \"yref\": \"y\", \"yshift\": 0}, {\"text\": \"3.4%\", \"x\": \"2020-03-02\", \"xref\": \"x\", \"y\": 0.03416162824175581, \"yref\": \"y\", \"yshift\": 0}, {\"text\": \"3.4%\", \"x\": \"2020-02-28\", \"xref\": \"x\", \"y\": 0.034144949591021496, \"yref\": \"y\", \"yshift\": 0}, {\"text\": \"3.4%\", \"x\": \"2020-02-25\", \"xref\": \"x\", \"y\": 0.03367907867572072, \"yref\": \"y\", \"yshift\": 0}, {\"text\": \"3.1%\", \"x\": \"2020-02-22\", \"xref\": \"x\", \"y\": 0.03128340884793565, \"yref\": \"y\", \"yshift\": 0}, {\"text\": \"2.8%\", \"x\": \"2020-02-19\", \"xref\": \"x\", \"y\": 0.028054310606962018, \"yref\": \"y\", \"yshift\": 0}, {\"text\": \"2.5%\", \"x\": \"2020-02-16\", \"xref\": \"x\", \"y\": 0.024851173761653376, \"yref\": \"y\", \"yshift\": 0}, {\"text\": \"2.3%\", \"x\": \"2020-02-13\", \"xref\": \"x\", \"y\": 0.022710707659687253, \"yref\": \"y\", \"yshift\": 0}, {\"text\": \"2.4%\", \"x\": \"2020-02-10\", \"xref\": \"x\", \"y\": 0.023689256816799963, \"yref\": \"y\", \"yshift\": 0}, {\"text\": \"2.1%\", \"x\": \"2020-02-07\", \"xref\": \"x\", \"y\": 0.020906632549213457, \"yref\": \"y\", \"yshift\": 0}, {\"text\": \"2.1%\", \"x\": \"2020-02-04\", \"xref\": \"x\", \"y\": 0.02059266700150678, \"yref\": \"y\", \"yshift\": 0}, {\"text\": \"2.2%\", \"x\": \"2020-02-01\", \"xref\": \"x\", \"y\": 0.021515201860774213, \"yref\": \"y\", \"yshift\": 0}, {\"text\": \"2.2%\", \"x\": \"2020-01-29\", \"xref\": \"x\", \"y\": 0.021569899448589037, \"yref\": \"y\", \"yshift\": 0}, {\"text\": \"2.6%\", \"x\": \"2020-01-26\", \"xref\": \"x\", \"y\": 0.02644003777148253, \"yref\": \"y\", \"yshift\": 0}, {\"text\": \"2.8%\", \"x\": \"2020-01-23\", \"xref\": \"x\", \"y\": 0.027522935779816515, \"yref\": \"y\", \"yshift\": 0}, {\"text\": \"3.42%\", \"x\": \"2020-04-07\", \"xref\": \"x\", \"y\": 0.03417712314917393, \"yref\": \"y\", \"yshift\": 0}], \"legend\": {\"x\": 0.01, \"y\": 0.99}, \"template\": {\"data\": {\"bar\": [{\"error_x\": {\"color\": \"#2a3f5f\"}, \"error_y\": {\"color\": \"#2a3f5f\"}, \"marker\": {\"line\": {\"color\": \"#E5ECF6\", \"width\": 0.5}}, \"type\": \"bar\"}], \"barpolar\": [{\"marker\": {\"line\": {\"color\": \"#E5ECF6\", \"width\": 0.5}}, \"type\": \"barpolar\"}], \"carpet\": [{\"aaxis\": {\"endlinecolor\": \"#2a3f5f\", \"gridcolor\": \"white\", \"linecolor\": \"white\", \"minorgridcolor\": \"white\", \"startlinecolor\": \"#2a3f5f\"}, \"baxis\": {\"endlinecolor\": \"#2a3f5f\", \"gridcolor\": \"white\", \"linecolor\": \"white\", \"minorgridcolor\": \"white\", \"startlinecolor\": \"#2a3f5f\"}, \"type\": \"carpet\"}], \"choropleth\": [{\"colorbar\": {\"outlinewidth\": 0, \"ticks\": \"\"}, \"type\": \"choropleth\"}], \"contour\": [{\"colorbar\": {\"outlinewidth\": 0, \"ticks\": \"\"}, \"colorscale\": [[0.0, \"#0d0887\"], [0.1111111111111111, \"#46039f\"], [0.2222222222222222, \"#7201a8\"], [0.3333333333333333, \"#9c179e\"], [0.4444444444444444, \"#bd3786\"], [0.5555555555555556, \"#d8576b\"], [0.6666666666666666, \"#ed7953\"], [0.7777777777777778, \"#fb9f3a\"], [0.8888888888888888, \"#fdca26\"], [1.0, \"#f0f921\"]], \"type\": \"contour\"}], \"contourcarpet\": [{\"colorbar\": {\"outlinewidth\": 0, \"ticks\": \"\"}, \"type\": \"contourcarpet\"}], \"heatmap\": [{\"colorbar\": {\"outlinewidth\": 0, \"ticks\": \"\"}, \"colorscale\": [[0.0, \"#0d0887\"], [0.1111111111111111, \"#46039f\"], [0.2222222222222222, \"#7201a8\"], [0.3333333333333333, \"#9c179e\"], [0.4444444444444444, \"#bd3786\"], [0.5555555555555556, \"#d8576b\"], [0.6666666666666666, \"#ed7953\"], [0.7777777777777778, \"#fb9f3a\"], [0.8888888888888888, \"#fdca26\"], [1.0, \"#f0f921\"]], \"type\": \"heatmap\"}], \"heatmapgl\": [{\"colorbar\": {\"outlinewidth\": 0, \"ticks\": \"\"}, \"colorscale\": [[0.0, \"#0d0887\"], [0.1111111111111111, \"#46039f\"], [0.2222222222222222, \"#7201a8\"], [0.3333333333333333, \"#9c179e\"], [0.4444444444444444, \"#bd3786\"], [0.5555555555555556, \"#d8576b\"], [0.6666666666666666, \"#ed7953\"], [0.7777777777777778, \"#fb9f3a\"], [0.8888888888888888, \"#fdca26\"], [1.0, \"#f0f921\"]], \"type\": \"heatmapgl\"}], \"histogram\": [{\"marker\": {\"colorbar\": {\"outlinewidth\": 0, \"ticks\": \"\"}}, \"type\": \"histogram\"}], \"histogram2d\": [{\"colorbar\": {\"outlinewidth\": 0, \"ticks\": \"\"}, \"colorscale\": [[0.0, \"#0d0887\"], [0.1111111111111111, \"#46039f\"], [0.2222222222222222, \"#7201a8\"], [0.3333333333333333, \"#9c179e\"], [0.4444444444444444, \"#bd3786\"], [0.5555555555555556, \"#d8576b\"], [0.6666666666666666, \"#ed7953\"], [0.7777777777777778, \"#fb9f3a\"], [0.8888888888888888, \"#fdca26\"], [1.0, \"#f0f921\"]], \"type\": \"histogram2d\"}], \"histogram2dcontour\": [{\"colorbar\": {\"outlinewidth\": 0, \"ticks\": \"\"}, \"colorscale\": [[0.0, \"#0d0887\"], [0.1111111111111111, \"#46039f\"], [0.2222222222222222, \"#7201a8\"], [0.3333333333333333, \"#9c179e\"], [0.4444444444444444, \"#bd3786\"], [0.5555555555555556, \"#d8576b\"], [0.6666666666666666, \"#ed7953\"], [0.7777777777777778, \"#fb9f3a\"], [0.8888888888888888, \"#fdca26\"], [1.0, \"#f0f921\"]], \"type\": \"histogram2dcontour\"}], \"mesh3d\": [{\"colorbar\": {\"outlinewidth\": 0, \"ticks\": \"\"}, \"type\": \"mesh3d\"}], \"parcoords\": [{\"line\": {\"colorbar\": {\"outlinewidth\": 0, \"ticks\": \"\"}}, \"type\": \"parcoords\"}], \"pie\": [{\"automargin\": true, \"type\": \"pie\"}], \"scatter\": [{\"marker\": {\"colorbar\": {\"outlinewidth\": 0, \"ticks\": \"\"}}, \"type\": \"scatter\"}], \"scatter3d\": [{\"line\": {\"colorbar\": {\"outlinewidth\": 0, \"ticks\": \"\"}}, \"marker\": {\"colorbar\": {\"outlinewidth\": 0, \"ticks\": \"\"}}, \"type\": \"scatter3d\"}], \"scattercarpet\": [{\"marker\": {\"colorbar\": {\"outlinewidth\": 0, \"ticks\": \"\"}}, \"type\": \"scattercarpet\"}], \"scattergeo\": [{\"marker\": {\"colorbar\": {\"outlinewidth\": 0, \"ticks\": \"\"}}, \"type\": \"scattergeo\"}], \"scattergl\": [{\"marker\": {\"colorbar\": {\"outlinewidth\": 0, \"ticks\": \"\"}}, \"type\": \"scattergl\"}], \"scattermapbox\": [{\"marker\": {\"colorbar\": {\"outlinewidth\": 0, \"ticks\": \"\"}}, \"type\": \"scattermapbox\"}], \"scatterpolar\": [{\"marker\": {\"colorbar\": {\"outlinewidth\": 0, \"ticks\": \"\"}}, \"type\": \"scatterpolar\"}], \"scatterpolargl\": [{\"marker\": {\"colorbar\": {\"outlinewidth\": 0, \"ticks\": \"\"}}, \"type\": \"scatterpolargl\"}], \"scatterternary\": [{\"marker\": {\"colorbar\": {\"outlinewidth\": 0, \"ticks\": \"\"}}, \"type\": \"scatterternary\"}], \"surface\": [{\"colorbar\": {\"outlinewidth\": 0, \"ticks\": \"\"}, \"colorscale\": [[0.0, \"#0d0887\"], [0.1111111111111111, \"#46039f\"], [0.2222222222222222, \"#7201a8\"], [0.3333333333333333, \"#9c179e\"], [0.4444444444444444, \"#bd3786\"], [0.5555555555555556, \"#d8576b\"], [0.6666666666666666, \"#ed7953\"], [0.7777777777777778, \"#fb9f3a\"], [0.8888888888888888, \"#fdca26\"], [1.0, \"#f0f921\"]], \"type\": \"surface\"}], \"table\": [{\"cells\": {\"fill\": {\"color\": \"#EBF0F8\"}, \"line\": {\"color\": \"white\"}}, \"header\": {\"fill\": {\"color\": \"#C8D4E3\"}, \"line\": {\"color\": \"white\"}}, \"type\": \"table\"}]}, \"layout\": {\"annotationdefaults\": {\"arrowcolor\": \"#2a3f5f\", \"arrowhead\": 0, \"arrowwidth\": 1}, \"coloraxis\": {\"colorbar\": {\"outlinewidth\": 0, \"ticks\": \"\"}}, \"colorscale\": {\"diverging\": [[0, \"#8e0152\"], [0.1, \"#c51b7d\"], [0.2, \"#de77ae\"], [0.3, \"#f1b6da\"], [0.4, \"#fde0ef\"], [0.5, \"#f7f7f7\"], [0.6, \"#e6f5d0\"], [0.7, \"#b8e186\"], [0.8, \"#7fbc41\"], [0.9, \"#4d9221\"], [1, \"#276419\"]], \"sequential\": [[0.0, \"#0d0887\"], [0.1111111111111111, \"#46039f\"], [0.2222222222222222, \"#7201a8\"], [0.3333333333333333, \"#9c179e\"], [0.4444444444444444, \"#bd3786\"], [0.5555555555555556, \"#d8576b\"], [0.6666666666666666, \"#ed7953\"], [0.7777777777777778, \"#fb9f3a\"], [0.8888888888888888, \"#fdca26\"], [1.0, \"#f0f921\"]], \"sequentialminus\": [[0.0, \"#0d0887\"], [0.1111111111111111, \"#46039f\"], [0.2222222222222222, \"#7201a8\"], [0.3333333333333333, \"#9c179e\"], [0.4444444444444444, \"#bd3786\"], [0.5555555555555556, \"#d8576b\"], [0.6666666666666666, \"#ed7953\"], [0.7777777777777778, \"#fb9f3a\"], [0.8888888888888888, \"#fdca26\"], [1.0, \"#f0f921\"]]}, \"colorway\": [\"#636efa\", \"#EF553B\", \"#00cc96\", \"#ab63fa\", \"#FFA15A\", \"#19d3f3\", \"#FF6692\", \"#B6E880\", \"#FF97FF\", \"#FECB52\"], \"font\": {\"color\": \"#2a3f5f\"}, \"geo\": {\"bgcolor\": \"white\", \"lakecolor\": \"white\", \"landcolor\": \"#E5ECF6\", \"showlakes\": true, \"showland\": true, \"subunitcolor\": \"white\"}, \"hoverlabel\": {\"align\": \"left\"}, \"hovermode\": \"closest\", \"mapbox\": {\"style\": \"light\"}, \"paper_bgcolor\": \"white\", \"plot_bgcolor\": \"#E5ECF6\", \"polar\": {\"angularaxis\": {\"gridcolor\": \"white\", \"linecolor\": \"white\", \"ticks\": \"\"}, \"bgcolor\": \"#E5ECF6\", \"radialaxis\": {\"gridcolor\": \"white\", \"linecolor\": \"white\", \"ticks\": \"\"}}, \"scene\": {\"xaxis\": {\"backgroundcolor\": \"#E5ECF6\", \"gridcolor\": \"white\", \"gridwidth\": 2, \"linecolor\": \"white\", \"showbackground\": true, \"ticks\": \"\", \"zerolinecolor\": \"white\"}, \"yaxis\": {\"backgroundcolor\": \"#E5ECF6\", \"gridcolor\": \"white\", \"gridwidth\": 2, \"linecolor\": \"white\", \"showbackground\": true, \"ticks\": \"\", \"zerolinecolor\": \"white\"}, \"zaxis\": {\"backgroundcolor\": \"#E5ECF6\", \"gridcolor\": \"white\", \"gridwidth\": 2, \"linecolor\": \"white\", \"showbackground\": true, \"ticks\": \"\", \"zerolinecolor\": \"white\"}}, \"shapedefaults\": {\"line\": {\"color\": \"#2a3f5f\"}}, \"ternary\": {\"aaxis\": {\"gridcolor\": \"white\", \"linecolor\": \"white\", \"ticks\": \"\"}, \"baxis\": {\"gridcolor\": \"white\", \"linecolor\": \"white\", \"ticks\": \"\"}, \"bgcolor\": \"#E5ECF6\", \"caxis\": {\"gridcolor\": \"white\", \"linecolor\": \"white\", \"ticks\": \"\"}}, \"title\": {\"x\": 0.05}, \"xaxis\": {\"automargin\": true, \"gridcolor\": \"white\", \"linecolor\": \"white\", \"ticks\": \"\", \"title\": {\"standoff\": 15}, \"zerolinecolor\": \"white\", \"zerolinewidth\": 2}, \"yaxis\": {\"automargin\": true, \"gridcolor\": \"white\", \"linecolor\": \"white\", \"ticks\": \"\", \"title\": {\"standoff\": 15}, \"zerolinecolor\": \"white\", \"zerolinewidth\": 2}}}, \"title\": {\"text\": \"<b>Global Mortality Rate</b>\"}, \"xaxis\": {\"title\": {\"text\": \"Date\"}}, \"yaxis\": {\"title\": {}}},\n",
       "                        {\"responsive\": true}\n",
       "                    ).then(function(){\n",
       "                            \n",
       "var gd = document.getElementById('e42c13d6-1bc8-471e-acc4-f15ec10a5e58');\n",
       "var x = new MutationObserver(function (mutations, observer) {{\n",
       "        var display = window.getComputedStyle(gd).display;\n",
       "        if (!display || display === 'none') {{\n",
       "            console.log([gd, 'removed!']);\n",
       "            Plotly.purge(gd);\n",
       "            observer.disconnect();\n",
       "        }}\n",
       "}});\n",
       "\n",
       "// Listen for the removal of the full notebook cells\n",
       "var notebookContainer = gd.closest('#notebook-container');\n",
       "if (notebookContainer) {{\n",
       "    x.observe(notebookContainer, {childList: true});\n",
       "}}\n",
       "\n",
       "// Listen for the clearing of the current output cell\n",
       "var outputEl = gd.closest('.output');\n",
       "if (outputEl) {{\n",
       "    x.observe(outputEl, {childList: true});\n",
       "}}\n",
       "\n",
       "                        })\n",
       "                };\n",
       "                });\n",
       "            </script>\n",
       "        </div>"
      ]
     },
     "metadata": {},
     "output_type": "display_data"
    }
   ],
   "source": [
    "def plot_line_mortality_rate():\n",
    "    \n",
    "    confirmed = TimeSeries(confirmed_df).data.groupby(lambda x: True).sum().transpose()\n",
    "    deaths = TimeSeries(deaths_df).data.groupby(lambda x: True).sum().transpose()\n",
    "    mort_rates = deaths/confirmed\n",
    "    mort_rates.columns = ['Mortality Rate']\n",
    "    n = len(mort_rates)\n",
    "    \n",
    "    fig = go.Figure()\n",
    "    fig.add_trace(go.Scatter(x=mort_rates.index,y=mort_rates['Mortality Rate'],\n",
    "                            mode='lines+markers',name='Mortality Rate'))\n",
    "    fig.add_trace(go.Scatter(x=mort_rates.index,\n",
    "                             y=[mort_rates['Mortality Rate'].mean()]*len(mort_rates),\n",
    "                            mode='lines',name='Mean'))\n",
    "    annotations = []\n",
    "    for i in range(len(mort_rates['Mortality Rate'])):\n",
    "        if (i)%3==0:\n",
    "            annotations.append(dict(x=mort_rates.index.to_list()[n-i-1],\n",
    "                                    y=mort_rates['Mortality Rate'][n-i-1],\n",
    "                                    xref=\"x\",yref=\"y\",\n",
    "                                    text='{:.1f}%'.format(mort_rates['Mortality Rate'][n-1-i]*100),\n",
    "                                    yshift=0))\n",
    "\n",
    "    annotations.append(dict(x=mort_rates.index.to_list()[-1],\n",
    "                            y=mort_rates['Mortality Rate'].mean(),\n",
    "                            xref=\"x\",yref=\"y\",\n",
    "                            text='{:.2f}%'.format(mort_rates['Mortality Rate'].mean()*100),\n",
    "                            yshift=0))\n",
    "    \n",
    "    fig.update_layout(title=\"<b>Global Mortality Rate</b>\",\n",
    "                      xaxis_title=\"Date\",yaxis_title=None,\n",
    "                      annotations=annotations,\n",
    "                      legend=dict(x=.01, y=.99))\n",
    "\n",
    "    fig.show()\n",
    "\n",
    "plot_line_mortality_rate()"
   ]
  },
  {
   "cell_type": "markdown",
   "metadata": {},
   "source": [
    "# Global COVID-19 Top Countries\n",
    "\n",
    "Here are the bar plots, showing the countries with the highest number of the following:\n",
    "\n",
    "* Confirmed cases\n",
    "* Deaths cases\n",
    "* Mortality rates\n",
    "* Recovered cases"
   ]
  },
  {
   "cell_type": "code",
   "execution_count": 217,
   "metadata": {
    "scrolled": true
   },
   "outputs": [
    {
     "data": {
      "application/vnd.plotly.v1+json": {
       "config": {
        "plotlyServerURL": "https://plot.ly"
       },
       "data": [
        {
         "alignmentgroup": "True",
         "hoverlabel": {
          "namelength": 0
         },
         "hovertemplate": "color=Others<br>x=%{x}<br>y=%{y}<br>text=%{text}",
         "legendgroup": "color=Others",
         "marker": {
          "color": "#636efa"
         },
         "name": "color=Others",
         "offsetgroup": "color=Others",
         "orientation": "h",
         "showlegend": true,
         "text": [
          190551
         ],
         "textposition": "inside",
         "texttemplate": "%{x:,}",
         "type": "bar",
         "x": [
          190551
         ],
         "xaxis": "x",
         "y": [
          "Others"
         ],
         "yaxis": "y"
        },
        {
         "alignmentgroup": "True",
         "hoverlabel": {
          "namelength": 0
         },
         "hovertemplate": "color=Austria<br>x=%{x}<br>y=%{y}<br>text=%{text}",
         "legendgroup": "color=Austria",
         "marker": {
          "color": "#EF553B"
         },
         "name": "color=Austria",
         "offsetgroup": "color=Austria",
         "orientation": "h",
         "showlegend": true,
         "text": [
          12639
         ],
         "textposition": "inside",
         "texttemplate": "%{x:,}",
         "type": "bar",
         "x": [
          12639
         ],
         "xaxis": "x",
         "y": [
          "Austria"
         ],
         "yaxis": "y"
        },
        {
         "alignmentgroup": "True",
         "hoverlabel": {
          "namelength": 0
         },
         "hovertemplate": "color=Brazil<br>x=%{x}<br>y=%{y}<br>text=%{text}",
         "legendgroup": "color=Brazil",
         "marker": {
          "color": "#00cc96"
         },
         "name": "color=Brazil",
         "offsetgroup": "color=Brazil",
         "orientation": "h",
         "showlegend": true,
         "text": [
          14034
         ],
         "textposition": "inside",
         "texttemplate": "%{x:,}",
         "type": "bar",
         "x": [
          14034
         ],
         "xaxis": "x",
         "y": [
          "Brazil"
         ],
         "yaxis": "y"
        },
        {
         "alignmentgroup": "True",
         "hoverlabel": {
          "namelength": 0
         },
         "hovertemplate": "color=Canada<br>x=%{x}<br>y=%{y}<br>text=%{text}",
         "legendgroup": "color=Canada",
         "marker": {
          "color": "#ab63fa"
         },
         "name": "color=Canada",
         "offsetgroup": "color=Canada",
         "orientation": "h",
         "showlegend": true,
         "text": [
          17872
         ],
         "textposition": "inside",
         "texttemplate": "%{x:,}",
         "type": "bar",
         "x": [
          17872
         ],
         "xaxis": "x",
         "y": [
          "Canada"
         ],
         "yaxis": "y"
        },
        {
         "alignmentgroup": "True",
         "hoverlabel": {
          "namelength": 0
         },
         "hovertemplate": "color=Netherlands<br>x=%{x}<br>y=%{y}<br>text=%{text}",
         "legendgroup": "color=Netherlands",
         "marker": {
          "color": "#FFA15A"
         },
         "name": "color=Netherlands",
         "offsetgroup": "color=Netherlands",
         "orientation": "h",
         "showlegend": true,
         "text": [
          19709
         ],
         "textposition": "inside",
         "texttemplate": "%{x:,}",
         "type": "bar",
         "x": [
          19709
         ],
         "xaxis": "x",
         "y": [
          "Netherlands"
         ],
         "yaxis": "y"
        },
        {
         "alignmentgroup": "True",
         "hoverlabel": {
          "namelength": 0
         },
         "hovertemplate": "color=Belgium<br>x=%{x}<br>y=%{y}<br>text=%{text}",
         "legendgroup": "color=Belgium",
         "marker": {
          "color": "#19d3f3"
         },
         "name": "color=Belgium",
         "offsetgroup": "color=Belgium",
         "orientation": "h",
         "showlegend": true,
         "text": [
          22194
         ],
         "textposition": "inside",
         "texttemplate": "%{x:,}",
         "type": "bar",
         "x": [
          22194
         ],
         "xaxis": "x",
         "y": [
          "Belgium"
         ],
         "yaxis": "y"
        },
        {
         "alignmentgroup": "True",
         "hoverlabel": {
          "namelength": 0
         },
         "hovertemplate": "color=Switzerland<br>x=%{x}<br>y=%{y}<br>text=%{text}",
         "legendgroup": "color=Switzerland",
         "marker": {
          "color": "#FF6692"
         },
         "name": "color=Switzerland",
         "offsetgroup": "color=Switzerland",
         "orientation": "h",
         "showlegend": true,
         "text": [
          22253
         ],
         "textposition": "inside",
         "texttemplate": "%{x:,}",
         "type": "bar",
         "x": [
          22253
         ],
         "xaxis": "x",
         "y": [
          "Switzerland"
         ],
         "yaxis": "y"
        },
        {
         "alignmentgroup": "True",
         "hoverlabel": {
          "namelength": 0
         },
         "hovertemplate": "color=Turkey<br>x=%{x}<br>y=%{y}<br>text=%{text}",
         "legendgroup": "color=Turkey",
         "marker": {
          "color": "#B6E880"
         },
         "name": "color=Turkey",
         "offsetgroup": "color=Turkey",
         "orientation": "h",
         "showlegend": true,
         "text": [
          34109
         ],
         "textposition": "inside",
         "texttemplate": "%{x:,}",
         "type": "bar",
         "x": [
          34109
         ],
         "xaxis": "x",
         "y": [
          "Turkey"
         ],
         "yaxis": "y"
        },
        {
         "alignmentgroup": "True",
         "hoverlabel": {
          "namelength": 0
         },
         "hovertemplate": "color=United Kingdom<br>x=%{x}<br>y=%{y}<br>text=%{text}",
         "legendgroup": "color=United Kingdom",
         "marker": {
          "color": "#FF97FF"
         },
         "name": "color=United Kingdom",
         "offsetgroup": "color=United Kingdom",
         "orientation": "h",
         "showlegend": true,
         "text": [
          55949
         ],
         "textposition": "inside",
         "texttemplate": "%{x:,}",
         "type": "bar",
         "x": [
          55949
         ],
         "xaxis": "x",
         "y": [
          "United Kingdom"
         ],
         "yaxis": "y"
        },
        {
         "alignmentgroup": "True",
         "hoverlabel": {
          "namelength": 0
         },
         "hovertemplate": "color=Iran<br>x=%{x}<br>y=%{y}<br>text=%{text}",
         "legendgroup": "color=Iran",
         "marker": {
          "color": "#FECB52"
         },
         "name": "color=Iran",
         "offsetgroup": "color=Iran",
         "orientation": "h",
         "showlegend": true,
         "text": [
          62589
         ],
         "textposition": "inside",
         "texttemplate": "%{x:,}",
         "type": "bar",
         "x": [
          62589
         ],
         "xaxis": "x",
         "y": [
          "Iran"
         ],
         "yaxis": "y"
        },
        {
         "alignmentgroup": "True",
         "hoverlabel": {
          "namelength": 0
         },
         "hovertemplate": "color=China<br>x=%{x}<br>y=%{y}<br>text=%{text}",
         "legendgroup": "color=China",
         "marker": {
          "color": "#636efa"
         },
         "name": "color=China",
         "offsetgroup": "color=China",
         "orientation": "h",
         "showlegend": true,
         "text": [
          82718
         ],
         "textposition": "inside",
         "texttemplate": "%{x:,}",
         "type": "bar",
         "x": [
          82718
         ],
         "xaxis": "x",
         "y": [
          "China"
         ],
         "yaxis": "y"
        },
        {
         "alignmentgroup": "True",
         "hoverlabel": {
          "namelength": 0
         },
         "hovertemplate": "color=Germany<br>x=%{x}<br>y=%{y}<br>text=%{text}",
         "legendgroup": "color=Germany",
         "marker": {
          "color": "#EF553B"
         },
         "name": "color=Germany",
         "offsetgroup": "color=Germany",
         "orientation": "h",
         "showlegend": true,
         "text": [
          107663
         ],
         "textposition": "inside",
         "texttemplate": "%{x:,}",
         "type": "bar",
         "x": [
          107663
         ],
         "xaxis": "x",
         "y": [
          "Germany"
         ],
         "yaxis": "y"
        },
        {
         "alignmentgroup": "True",
         "hoverlabel": {
          "namelength": 0
         },
         "hovertemplate": "color=France<br>x=%{x}<br>y=%{y}<br>text=%{text}",
         "legendgroup": "color=France",
         "marker": {
          "color": "#00cc96"
         },
         "name": "color=France",
         "offsetgroup": "color=France",
         "orientation": "h",
         "showlegend": true,
         "text": [
          110065
         ],
         "textposition": "inside",
         "texttemplate": "%{x:,}",
         "type": "bar",
         "x": [
          110065
         ],
         "xaxis": "x",
         "y": [
          "France"
         ],
         "yaxis": "y"
        },
        {
         "alignmentgroup": "True",
         "hoverlabel": {
          "namelength": 0
         },
         "hovertemplate": "color=Italy<br>x=%{x}<br>y=%{y}<br>text=%{text}",
         "legendgroup": "color=Italy",
         "marker": {
          "color": "#ab63fa"
         },
         "name": "color=Italy",
         "offsetgroup": "color=Italy",
         "orientation": "h",
         "showlegend": true,
         "text": [
          135586
         ],
         "textposition": "inside",
         "texttemplate": "%{x:,}",
         "type": "bar",
         "x": [
          135586
         ],
         "xaxis": "x",
         "y": [
          "Italy"
         ],
         "yaxis": "y"
        },
        {
         "alignmentgroup": "True",
         "hoverlabel": {
          "namelength": 0
         },
         "hovertemplate": "color=Spain<br>x=%{x}<br>y=%{y}<br>text=%{text}",
         "legendgroup": "color=Spain",
         "marker": {
          "color": "#FFA15A"
         },
         "name": "color=Spain",
         "offsetgroup": "color=Spain",
         "orientation": "h",
         "showlegend": true,
         "text": [
          141942
         ],
         "textposition": "inside",
         "texttemplate": "%{x:,}",
         "type": "bar",
         "x": [
          141942
         ],
         "xaxis": "x",
         "y": [
          "Spain"
         ],
         "yaxis": "y"
        },
        {
         "alignmentgroup": "True",
         "hoverlabel": {
          "namelength": 0
         },
         "hovertemplate": "color=US<br>x=%{x}<br>y=%{y}<br>text=%{text}",
         "legendgroup": "color=US",
         "marker": {
          "color": "#19d3f3"
         },
         "name": "color=US",
         "offsetgroup": "color=US",
         "orientation": "h",
         "showlegend": true,
         "text": [
          396223
         ],
         "textposition": "inside",
         "texttemplate": "%{x:,}",
         "type": "bar",
         "x": [
          396223
         ],
         "xaxis": "x",
         "y": [
          "US"
         ],
         "yaxis": "y"
        }
       ],
       "layout": {
        "barmode": "relative",
        "legend": {
         "tracegroupgap": 0
        },
        "margin": {
         "t": 60
        },
        "showlegend": false,
        "template": {
         "data": {
          "bar": [
           {
            "error_x": {
             "color": "#2a3f5f"
            },
            "error_y": {
             "color": "#2a3f5f"
            },
            "marker": {
             "line": {
              "color": "#E5ECF6",
              "width": 0.5
             }
            },
            "type": "bar"
           }
          ],
          "barpolar": [
           {
            "marker": {
             "line": {
              "color": "#E5ECF6",
              "width": 0.5
             }
            },
            "type": "barpolar"
           }
          ],
          "carpet": [
           {
            "aaxis": {
             "endlinecolor": "#2a3f5f",
             "gridcolor": "white",
             "linecolor": "white",
             "minorgridcolor": "white",
             "startlinecolor": "#2a3f5f"
            },
            "baxis": {
             "endlinecolor": "#2a3f5f",
             "gridcolor": "white",
             "linecolor": "white",
             "minorgridcolor": "white",
             "startlinecolor": "#2a3f5f"
            },
            "type": "carpet"
           }
          ],
          "choropleth": [
           {
            "colorbar": {
             "outlinewidth": 0,
             "ticks": ""
            },
            "type": "choropleth"
           }
          ],
          "contour": [
           {
            "colorbar": {
             "outlinewidth": 0,
             "ticks": ""
            },
            "colorscale": [
             [
              0,
              "#0d0887"
             ],
             [
              0.1111111111111111,
              "#46039f"
             ],
             [
              0.2222222222222222,
              "#7201a8"
             ],
             [
              0.3333333333333333,
              "#9c179e"
             ],
             [
              0.4444444444444444,
              "#bd3786"
             ],
             [
              0.5555555555555556,
              "#d8576b"
             ],
             [
              0.6666666666666666,
              "#ed7953"
             ],
             [
              0.7777777777777778,
              "#fb9f3a"
             ],
             [
              0.8888888888888888,
              "#fdca26"
             ],
             [
              1,
              "#f0f921"
             ]
            ],
            "type": "contour"
           }
          ],
          "contourcarpet": [
           {
            "colorbar": {
             "outlinewidth": 0,
             "ticks": ""
            },
            "type": "contourcarpet"
           }
          ],
          "heatmap": [
           {
            "colorbar": {
             "outlinewidth": 0,
             "ticks": ""
            },
            "colorscale": [
             [
              0,
              "#0d0887"
             ],
             [
              0.1111111111111111,
              "#46039f"
             ],
             [
              0.2222222222222222,
              "#7201a8"
             ],
             [
              0.3333333333333333,
              "#9c179e"
             ],
             [
              0.4444444444444444,
              "#bd3786"
             ],
             [
              0.5555555555555556,
              "#d8576b"
             ],
             [
              0.6666666666666666,
              "#ed7953"
             ],
             [
              0.7777777777777778,
              "#fb9f3a"
             ],
             [
              0.8888888888888888,
              "#fdca26"
             ],
             [
              1,
              "#f0f921"
             ]
            ],
            "type": "heatmap"
           }
          ],
          "heatmapgl": [
           {
            "colorbar": {
             "outlinewidth": 0,
             "ticks": ""
            },
            "colorscale": [
             [
              0,
              "#0d0887"
             ],
             [
              0.1111111111111111,
              "#46039f"
             ],
             [
              0.2222222222222222,
              "#7201a8"
             ],
             [
              0.3333333333333333,
              "#9c179e"
             ],
             [
              0.4444444444444444,
              "#bd3786"
             ],
             [
              0.5555555555555556,
              "#d8576b"
             ],
             [
              0.6666666666666666,
              "#ed7953"
             ],
             [
              0.7777777777777778,
              "#fb9f3a"
             ],
             [
              0.8888888888888888,
              "#fdca26"
             ],
             [
              1,
              "#f0f921"
             ]
            ],
            "type": "heatmapgl"
           }
          ],
          "histogram": [
           {
            "marker": {
             "colorbar": {
              "outlinewidth": 0,
              "ticks": ""
             }
            },
            "type": "histogram"
           }
          ],
          "histogram2d": [
           {
            "colorbar": {
             "outlinewidth": 0,
             "ticks": ""
            },
            "colorscale": [
             [
              0,
              "#0d0887"
             ],
             [
              0.1111111111111111,
              "#46039f"
             ],
             [
              0.2222222222222222,
              "#7201a8"
             ],
             [
              0.3333333333333333,
              "#9c179e"
             ],
             [
              0.4444444444444444,
              "#bd3786"
             ],
             [
              0.5555555555555556,
              "#d8576b"
             ],
             [
              0.6666666666666666,
              "#ed7953"
             ],
             [
              0.7777777777777778,
              "#fb9f3a"
             ],
             [
              0.8888888888888888,
              "#fdca26"
             ],
             [
              1,
              "#f0f921"
             ]
            ],
            "type": "histogram2d"
           }
          ],
          "histogram2dcontour": [
           {
            "colorbar": {
             "outlinewidth": 0,
             "ticks": ""
            },
            "colorscale": [
             [
              0,
              "#0d0887"
             ],
             [
              0.1111111111111111,
              "#46039f"
             ],
             [
              0.2222222222222222,
              "#7201a8"
             ],
             [
              0.3333333333333333,
              "#9c179e"
             ],
             [
              0.4444444444444444,
              "#bd3786"
             ],
             [
              0.5555555555555556,
              "#d8576b"
             ],
             [
              0.6666666666666666,
              "#ed7953"
             ],
             [
              0.7777777777777778,
              "#fb9f3a"
             ],
             [
              0.8888888888888888,
              "#fdca26"
             ],
             [
              1,
              "#f0f921"
             ]
            ],
            "type": "histogram2dcontour"
           }
          ],
          "mesh3d": [
           {
            "colorbar": {
             "outlinewidth": 0,
             "ticks": ""
            },
            "type": "mesh3d"
           }
          ],
          "parcoords": [
           {
            "line": {
             "colorbar": {
              "outlinewidth": 0,
              "ticks": ""
             }
            },
            "type": "parcoords"
           }
          ],
          "pie": [
           {
            "automargin": true,
            "type": "pie"
           }
          ],
          "scatter": [
           {
            "marker": {
             "colorbar": {
              "outlinewidth": 0,
              "ticks": ""
             }
            },
            "type": "scatter"
           }
          ],
          "scatter3d": [
           {
            "line": {
             "colorbar": {
              "outlinewidth": 0,
              "ticks": ""
             }
            },
            "marker": {
             "colorbar": {
              "outlinewidth": 0,
              "ticks": ""
             }
            },
            "type": "scatter3d"
           }
          ],
          "scattercarpet": [
           {
            "marker": {
             "colorbar": {
              "outlinewidth": 0,
              "ticks": ""
             }
            },
            "type": "scattercarpet"
           }
          ],
          "scattergeo": [
           {
            "marker": {
             "colorbar": {
              "outlinewidth": 0,
              "ticks": ""
             }
            },
            "type": "scattergeo"
           }
          ],
          "scattergl": [
           {
            "marker": {
             "colorbar": {
              "outlinewidth": 0,
              "ticks": ""
             }
            },
            "type": "scattergl"
           }
          ],
          "scattermapbox": [
           {
            "marker": {
             "colorbar": {
              "outlinewidth": 0,
              "ticks": ""
             }
            },
            "type": "scattermapbox"
           }
          ],
          "scatterpolar": [
           {
            "marker": {
             "colorbar": {
              "outlinewidth": 0,
              "ticks": ""
             }
            },
            "type": "scatterpolar"
           }
          ],
          "scatterpolargl": [
           {
            "marker": {
             "colorbar": {
              "outlinewidth": 0,
              "ticks": ""
             }
            },
            "type": "scatterpolargl"
           }
          ],
          "scatterternary": [
           {
            "marker": {
             "colorbar": {
              "outlinewidth": 0,
              "ticks": ""
             }
            },
            "type": "scatterternary"
           }
          ],
          "surface": [
           {
            "colorbar": {
             "outlinewidth": 0,
             "ticks": ""
            },
            "colorscale": [
             [
              0,
              "#0d0887"
             ],
             [
              0.1111111111111111,
              "#46039f"
             ],
             [
              0.2222222222222222,
              "#7201a8"
             ],
             [
              0.3333333333333333,
              "#9c179e"
             ],
             [
              0.4444444444444444,
              "#bd3786"
             ],
             [
              0.5555555555555556,
              "#d8576b"
             ],
             [
              0.6666666666666666,
              "#ed7953"
             ],
             [
              0.7777777777777778,
              "#fb9f3a"
             ],
             [
              0.8888888888888888,
              "#fdca26"
             ],
             [
              1,
              "#f0f921"
             ]
            ],
            "type": "surface"
           }
          ],
          "table": [
           {
            "cells": {
             "fill": {
              "color": "#EBF0F8"
             },
             "line": {
              "color": "white"
             }
            },
            "header": {
             "fill": {
              "color": "#C8D4E3"
             },
             "line": {
              "color": "white"
             }
            },
            "type": "table"
           }
          ]
         },
         "layout": {
          "annotationdefaults": {
           "arrowcolor": "#2a3f5f",
           "arrowhead": 0,
           "arrowwidth": 1
          },
          "coloraxis": {
           "colorbar": {
            "outlinewidth": 0,
            "ticks": ""
           }
          },
          "colorscale": {
           "diverging": [
            [
             0,
             "#8e0152"
            ],
            [
             0.1,
             "#c51b7d"
            ],
            [
             0.2,
             "#de77ae"
            ],
            [
             0.3,
             "#f1b6da"
            ],
            [
             0.4,
             "#fde0ef"
            ],
            [
             0.5,
             "#f7f7f7"
            ],
            [
             0.6,
             "#e6f5d0"
            ],
            [
             0.7,
             "#b8e186"
            ],
            [
             0.8,
             "#7fbc41"
            ],
            [
             0.9,
             "#4d9221"
            ],
            [
             1,
             "#276419"
            ]
           ],
           "sequential": [
            [
             0,
             "#0d0887"
            ],
            [
             0.1111111111111111,
             "#46039f"
            ],
            [
             0.2222222222222222,
             "#7201a8"
            ],
            [
             0.3333333333333333,
             "#9c179e"
            ],
            [
             0.4444444444444444,
             "#bd3786"
            ],
            [
             0.5555555555555556,
             "#d8576b"
            ],
            [
             0.6666666666666666,
             "#ed7953"
            ],
            [
             0.7777777777777778,
             "#fb9f3a"
            ],
            [
             0.8888888888888888,
             "#fdca26"
            ],
            [
             1,
             "#f0f921"
            ]
           ],
           "sequentialminus": [
            [
             0,
             "#0d0887"
            ],
            [
             0.1111111111111111,
             "#46039f"
            ],
            [
             0.2222222222222222,
             "#7201a8"
            ],
            [
             0.3333333333333333,
             "#9c179e"
            ],
            [
             0.4444444444444444,
             "#bd3786"
            ],
            [
             0.5555555555555556,
             "#d8576b"
            ],
            [
             0.6666666666666666,
             "#ed7953"
            ],
            [
             0.7777777777777778,
             "#fb9f3a"
            ],
            [
             0.8888888888888888,
             "#fdca26"
            ],
            [
             1,
             "#f0f921"
            ]
           ]
          },
          "colorway": [
           "#636efa",
           "#EF553B",
           "#00cc96",
           "#ab63fa",
           "#FFA15A",
           "#19d3f3",
           "#FF6692",
           "#B6E880",
           "#FF97FF",
           "#FECB52"
          ],
          "font": {
           "color": "#2a3f5f"
          },
          "geo": {
           "bgcolor": "white",
           "lakecolor": "white",
           "landcolor": "#E5ECF6",
           "showlakes": true,
           "showland": true,
           "subunitcolor": "white"
          },
          "hoverlabel": {
           "align": "left"
          },
          "hovermode": "closest",
          "mapbox": {
           "style": "light"
          },
          "paper_bgcolor": "white",
          "plot_bgcolor": "#E5ECF6",
          "polar": {
           "angularaxis": {
            "gridcolor": "white",
            "linecolor": "white",
            "ticks": ""
           },
           "bgcolor": "#E5ECF6",
           "radialaxis": {
            "gridcolor": "white",
            "linecolor": "white",
            "ticks": ""
           }
          },
          "scene": {
           "xaxis": {
            "backgroundcolor": "#E5ECF6",
            "gridcolor": "white",
            "gridwidth": 2,
            "linecolor": "white",
            "showbackground": true,
            "ticks": "",
            "zerolinecolor": "white"
           },
           "yaxis": {
            "backgroundcolor": "#E5ECF6",
            "gridcolor": "white",
            "gridwidth": 2,
            "linecolor": "white",
            "showbackground": true,
            "ticks": "",
            "zerolinecolor": "white"
           },
           "zaxis": {
            "backgroundcolor": "#E5ECF6",
            "gridcolor": "white",
            "gridwidth": 2,
            "linecolor": "white",
            "showbackground": true,
            "ticks": "",
            "zerolinecolor": "white"
           }
          },
          "shapedefaults": {
           "line": {
            "color": "#2a3f5f"
           }
          },
          "ternary": {
           "aaxis": {
            "gridcolor": "white",
            "linecolor": "white",
            "ticks": ""
           },
           "baxis": {
            "gridcolor": "white",
            "linecolor": "white",
            "ticks": ""
           },
           "bgcolor": "#E5ECF6",
           "caxis": {
            "gridcolor": "white",
            "linecolor": "white",
            "ticks": ""
           }
          },
          "title": {
           "x": 0.05
          },
          "xaxis": {
           "automargin": true,
           "gridcolor": "white",
           "linecolor": "white",
           "ticks": "",
           "title": {
            "standoff": 15
           },
           "zerolinecolor": "white",
           "zerolinewidth": 2
          },
          "yaxis": {
           "automargin": true,
           "gridcolor": "white",
           "linecolor": "white",
           "ticks": "",
           "title": {
            "standoff": 15
           },
           "zerolinecolor": "white",
           "zerolinewidth": 2
          }
         }
        },
        "title": {
         "text": "Top 15 Confirmed cases by 2020-04-07"
        },
        "xaxis": {
         "anchor": "y",
         "domain": [
          0,
          1
         ],
         "title": {
          "text": "Confirmed Cases"
         }
        },
        "yaxis": {
         "anchor": "x",
         "domain": [
          0,
          1
         ],
         "title": {
          "text": "Country"
         }
        }
       }
      },
      "text/html": [
       "<div>\n",
       "        \n",
       "        \n",
       "            <div id=\"b048ff12-934c-4199-b77c-5ccd527db849\" class=\"plotly-graph-div\" style=\"height:525px; width:100%;\"></div>\n",
       "            <script type=\"text/javascript\">\n",
       "                require([\"plotly\"], function(Plotly) {\n",
       "                    window.PLOTLYENV=window.PLOTLYENV || {};\n",
       "                    \n",
       "                if (document.getElementById(\"b048ff12-934c-4199-b77c-5ccd527db849\")) {\n",
       "                    Plotly.newPlot(\n",
       "                        'b048ff12-934c-4199-b77c-5ccd527db849',\n",
       "                        [{\"alignmentgroup\": \"True\", \"hoverlabel\": {\"namelength\": 0}, \"hovertemplate\": \"color=Others<br>x=%{x}<br>y=%{y}<br>text=%{text}\", \"legendgroup\": \"color=Others\", \"marker\": {\"color\": \"#636efa\"}, \"name\": \"color=Others\", \"offsetgroup\": \"color=Others\", \"orientation\": \"h\", \"showlegend\": true, \"text\": [190551.0], \"textposition\": \"inside\", \"texttemplate\": \"%{x:,}\", \"type\": \"bar\", \"x\": [190551], \"xaxis\": \"x\", \"y\": [\"Others\"], \"yaxis\": \"y\"}, {\"alignmentgroup\": \"True\", \"hoverlabel\": {\"namelength\": 0}, \"hovertemplate\": \"color=Austria<br>x=%{x}<br>y=%{y}<br>text=%{text}\", \"legendgroup\": \"color=Austria\", \"marker\": {\"color\": \"#EF553B\"}, \"name\": \"color=Austria\", \"offsetgroup\": \"color=Austria\", \"orientation\": \"h\", \"showlegend\": true, \"text\": [12639.0], \"textposition\": \"inside\", \"texttemplate\": \"%{x:,}\", \"type\": \"bar\", \"x\": [12639], \"xaxis\": \"x\", \"y\": [\"Austria\"], \"yaxis\": \"y\"}, {\"alignmentgroup\": \"True\", \"hoverlabel\": {\"namelength\": 0}, \"hovertemplate\": \"color=Brazil<br>x=%{x}<br>y=%{y}<br>text=%{text}\", \"legendgroup\": \"color=Brazil\", \"marker\": {\"color\": \"#00cc96\"}, \"name\": \"color=Brazil\", \"offsetgroup\": \"color=Brazil\", \"orientation\": \"h\", \"showlegend\": true, \"text\": [14034.0], \"textposition\": \"inside\", \"texttemplate\": \"%{x:,}\", \"type\": \"bar\", \"x\": [14034], \"xaxis\": \"x\", \"y\": [\"Brazil\"], \"yaxis\": \"y\"}, {\"alignmentgroup\": \"True\", \"hoverlabel\": {\"namelength\": 0}, \"hovertemplate\": \"color=Canada<br>x=%{x}<br>y=%{y}<br>text=%{text}\", \"legendgroup\": \"color=Canada\", \"marker\": {\"color\": \"#ab63fa\"}, \"name\": \"color=Canada\", \"offsetgroup\": \"color=Canada\", \"orientation\": \"h\", \"showlegend\": true, \"text\": [17872.0], \"textposition\": \"inside\", \"texttemplate\": \"%{x:,}\", \"type\": \"bar\", \"x\": [17872], \"xaxis\": \"x\", \"y\": [\"Canada\"], \"yaxis\": \"y\"}, {\"alignmentgroup\": \"True\", \"hoverlabel\": {\"namelength\": 0}, \"hovertemplate\": \"color=Netherlands<br>x=%{x}<br>y=%{y}<br>text=%{text}\", \"legendgroup\": \"color=Netherlands\", \"marker\": {\"color\": \"#FFA15A\"}, \"name\": \"color=Netherlands\", \"offsetgroup\": \"color=Netherlands\", \"orientation\": \"h\", \"showlegend\": true, \"text\": [19709.0], \"textposition\": \"inside\", \"texttemplate\": \"%{x:,}\", \"type\": \"bar\", \"x\": [19709], \"xaxis\": \"x\", \"y\": [\"Netherlands\"], \"yaxis\": \"y\"}, {\"alignmentgroup\": \"True\", \"hoverlabel\": {\"namelength\": 0}, \"hovertemplate\": \"color=Belgium<br>x=%{x}<br>y=%{y}<br>text=%{text}\", \"legendgroup\": \"color=Belgium\", \"marker\": {\"color\": \"#19d3f3\"}, \"name\": \"color=Belgium\", \"offsetgroup\": \"color=Belgium\", \"orientation\": \"h\", \"showlegend\": true, \"text\": [22194.0], \"textposition\": \"inside\", \"texttemplate\": \"%{x:,}\", \"type\": \"bar\", \"x\": [22194], \"xaxis\": \"x\", \"y\": [\"Belgium\"], \"yaxis\": \"y\"}, {\"alignmentgroup\": \"True\", \"hoverlabel\": {\"namelength\": 0}, \"hovertemplate\": \"color=Switzerland<br>x=%{x}<br>y=%{y}<br>text=%{text}\", \"legendgroup\": \"color=Switzerland\", \"marker\": {\"color\": \"#FF6692\"}, \"name\": \"color=Switzerland\", \"offsetgroup\": \"color=Switzerland\", \"orientation\": \"h\", \"showlegend\": true, \"text\": [22253.0], \"textposition\": \"inside\", \"texttemplate\": \"%{x:,}\", \"type\": \"bar\", \"x\": [22253], \"xaxis\": \"x\", \"y\": [\"Switzerland\"], \"yaxis\": \"y\"}, {\"alignmentgroup\": \"True\", \"hoverlabel\": {\"namelength\": 0}, \"hovertemplate\": \"color=Turkey<br>x=%{x}<br>y=%{y}<br>text=%{text}\", \"legendgroup\": \"color=Turkey\", \"marker\": {\"color\": \"#B6E880\"}, \"name\": \"color=Turkey\", \"offsetgroup\": \"color=Turkey\", \"orientation\": \"h\", \"showlegend\": true, \"text\": [34109.0], \"textposition\": \"inside\", \"texttemplate\": \"%{x:,}\", \"type\": \"bar\", \"x\": [34109], \"xaxis\": \"x\", \"y\": [\"Turkey\"], \"yaxis\": \"y\"}, {\"alignmentgroup\": \"True\", \"hoverlabel\": {\"namelength\": 0}, \"hovertemplate\": \"color=United Kingdom<br>x=%{x}<br>y=%{y}<br>text=%{text}\", \"legendgroup\": \"color=United Kingdom\", \"marker\": {\"color\": \"#FF97FF\"}, \"name\": \"color=United Kingdom\", \"offsetgroup\": \"color=United Kingdom\", \"orientation\": \"h\", \"showlegend\": true, \"text\": [55949.0], \"textposition\": \"inside\", \"texttemplate\": \"%{x:,}\", \"type\": \"bar\", \"x\": [55949], \"xaxis\": \"x\", \"y\": [\"United Kingdom\"], \"yaxis\": \"y\"}, {\"alignmentgroup\": \"True\", \"hoverlabel\": {\"namelength\": 0}, \"hovertemplate\": \"color=Iran<br>x=%{x}<br>y=%{y}<br>text=%{text}\", \"legendgroup\": \"color=Iran\", \"marker\": {\"color\": \"#FECB52\"}, \"name\": \"color=Iran\", \"offsetgroup\": \"color=Iran\", \"orientation\": \"h\", \"showlegend\": true, \"text\": [62589.0], \"textposition\": \"inside\", \"texttemplate\": \"%{x:,}\", \"type\": \"bar\", \"x\": [62589], \"xaxis\": \"x\", \"y\": [\"Iran\"], \"yaxis\": \"y\"}, {\"alignmentgroup\": \"True\", \"hoverlabel\": {\"namelength\": 0}, \"hovertemplate\": \"color=China<br>x=%{x}<br>y=%{y}<br>text=%{text}\", \"legendgroup\": \"color=China\", \"marker\": {\"color\": \"#636efa\"}, \"name\": \"color=China\", \"offsetgroup\": \"color=China\", \"orientation\": \"h\", \"showlegend\": true, \"text\": [82718.0], \"textposition\": \"inside\", \"texttemplate\": \"%{x:,}\", \"type\": \"bar\", \"x\": [82718], \"xaxis\": \"x\", \"y\": [\"China\"], \"yaxis\": \"y\"}, {\"alignmentgroup\": \"True\", \"hoverlabel\": {\"namelength\": 0}, \"hovertemplate\": \"color=Germany<br>x=%{x}<br>y=%{y}<br>text=%{text}\", \"legendgroup\": \"color=Germany\", \"marker\": {\"color\": \"#EF553B\"}, \"name\": \"color=Germany\", \"offsetgroup\": \"color=Germany\", \"orientation\": \"h\", \"showlegend\": true, \"text\": [107663.0], \"textposition\": \"inside\", \"texttemplate\": \"%{x:,}\", \"type\": \"bar\", \"x\": [107663], \"xaxis\": \"x\", \"y\": [\"Germany\"], \"yaxis\": \"y\"}, {\"alignmentgroup\": \"True\", \"hoverlabel\": {\"namelength\": 0}, \"hovertemplate\": \"color=France<br>x=%{x}<br>y=%{y}<br>text=%{text}\", \"legendgroup\": \"color=France\", \"marker\": {\"color\": \"#00cc96\"}, \"name\": \"color=France\", \"offsetgroup\": \"color=France\", \"orientation\": \"h\", \"showlegend\": true, \"text\": [110065.0], \"textposition\": \"inside\", \"texttemplate\": \"%{x:,}\", \"type\": \"bar\", \"x\": [110065], \"xaxis\": \"x\", \"y\": [\"France\"], \"yaxis\": \"y\"}, {\"alignmentgroup\": \"True\", \"hoverlabel\": {\"namelength\": 0}, \"hovertemplate\": \"color=Italy<br>x=%{x}<br>y=%{y}<br>text=%{text}\", \"legendgroup\": \"color=Italy\", \"marker\": {\"color\": \"#ab63fa\"}, \"name\": \"color=Italy\", \"offsetgroup\": \"color=Italy\", \"orientation\": \"h\", \"showlegend\": true, \"text\": [135586.0], \"textposition\": \"inside\", \"texttemplate\": \"%{x:,}\", \"type\": \"bar\", \"x\": [135586], \"xaxis\": \"x\", \"y\": [\"Italy\"], \"yaxis\": \"y\"}, {\"alignmentgroup\": \"True\", \"hoverlabel\": {\"namelength\": 0}, \"hovertemplate\": \"color=Spain<br>x=%{x}<br>y=%{y}<br>text=%{text}\", \"legendgroup\": \"color=Spain\", \"marker\": {\"color\": \"#FFA15A\"}, \"name\": \"color=Spain\", \"offsetgroup\": \"color=Spain\", \"orientation\": \"h\", \"showlegend\": true, \"text\": [141942.0], \"textposition\": \"inside\", \"texttemplate\": \"%{x:,}\", \"type\": \"bar\", \"x\": [141942], \"xaxis\": \"x\", \"y\": [\"Spain\"], \"yaxis\": \"y\"}, {\"alignmentgroup\": \"True\", \"hoverlabel\": {\"namelength\": 0}, \"hovertemplate\": \"color=US<br>x=%{x}<br>y=%{y}<br>text=%{text}\", \"legendgroup\": \"color=US\", \"marker\": {\"color\": \"#19d3f3\"}, \"name\": \"color=US\", \"offsetgroup\": \"color=US\", \"orientation\": \"h\", \"showlegend\": true, \"text\": [396223.0], \"textposition\": \"inside\", \"texttemplate\": \"%{x:,}\", \"type\": \"bar\", \"x\": [396223], \"xaxis\": \"x\", \"y\": [\"US\"], \"yaxis\": \"y\"}],\n",
       "                        {\"barmode\": \"relative\", \"legend\": {\"tracegroupgap\": 0}, \"margin\": {\"t\": 60}, \"showlegend\": false, \"template\": {\"data\": {\"bar\": [{\"error_x\": {\"color\": \"#2a3f5f\"}, \"error_y\": {\"color\": \"#2a3f5f\"}, \"marker\": {\"line\": {\"color\": \"#E5ECF6\", \"width\": 0.5}}, \"type\": \"bar\"}], \"barpolar\": [{\"marker\": {\"line\": {\"color\": \"#E5ECF6\", \"width\": 0.5}}, \"type\": \"barpolar\"}], \"carpet\": [{\"aaxis\": {\"endlinecolor\": \"#2a3f5f\", \"gridcolor\": \"white\", \"linecolor\": \"white\", \"minorgridcolor\": \"white\", \"startlinecolor\": \"#2a3f5f\"}, \"baxis\": {\"endlinecolor\": \"#2a3f5f\", \"gridcolor\": \"white\", \"linecolor\": \"white\", \"minorgridcolor\": \"white\", \"startlinecolor\": \"#2a3f5f\"}, \"type\": \"carpet\"}], \"choropleth\": [{\"colorbar\": {\"outlinewidth\": 0, \"ticks\": \"\"}, \"type\": \"choropleth\"}], \"contour\": [{\"colorbar\": {\"outlinewidth\": 0, \"ticks\": \"\"}, \"colorscale\": [[0.0, \"#0d0887\"], [0.1111111111111111, \"#46039f\"], [0.2222222222222222, \"#7201a8\"], [0.3333333333333333, \"#9c179e\"], [0.4444444444444444, \"#bd3786\"], [0.5555555555555556, \"#d8576b\"], [0.6666666666666666, \"#ed7953\"], [0.7777777777777778, \"#fb9f3a\"], [0.8888888888888888, \"#fdca26\"], [1.0, \"#f0f921\"]], \"type\": \"contour\"}], \"contourcarpet\": [{\"colorbar\": {\"outlinewidth\": 0, \"ticks\": \"\"}, \"type\": \"contourcarpet\"}], \"heatmap\": [{\"colorbar\": {\"outlinewidth\": 0, \"ticks\": \"\"}, \"colorscale\": [[0.0, \"#0d0887\"], [0.1111111111111111, \"#46039f\"], [0.2222222222222222, \"#7201a8\"], [0.3333333333333333, \"#9c179e\"], [0.4444444444444444, \"#bd3786\"], [0.5555555555555556, \"#d8576b\"], [0.6666666666666666, \"#ed7953\"], [0.7777777777777778, \"#fb9f3a\"], [0.8888888888888888, \"#fdca26\"], [1.0, \"#f0f921\"]], \"type\": \"heatmap\"}], \"heatmapgl\": [{\"colorbar\": {\"outlinewidth\": 0, \"ticks\": \"\"}, \"colorscale\": [[0.0, \"#0d0887\"], [0.1111111111111111, \"#46039f\"], [0.2222222222222222, \"#7201a8\"], [0.3333333333333333, \"#9c179e\"], [0.4444444444444444, \"#bd3786\"], [0.5555555555555556, \"#d8576b\"], [0.6666666666666666, \"#ed7953\"], [0.7777777777777778, \"#fb9f3a\"], [0.8888888888888888, \"#fdca26\"], [1.0, \"#f0f921\"]], \"type\": \"heatmapgl\"}], \"histogram\": [{\"marker\": {\"colorbar\": {\"outlinewidth\": 0, \"ticks\": \"\"}}, \"type\": \"histogram\"}], \"histogram2d\": [{\"colorbar\": {\"outlinewidth\": 0, \"ticks\": \"\"}, \"colorscale\": [[0.0, \"#0d0887\"], [0.1111111111111111, \"#46039f\"], [0.2222222222222222, \"#7201a8\"], [0.3333333333333333, \"#9c179e\"], [0.4444444444444444, \"#bd3786\"], [0.5555555555555556, \"#d8576b\"], [0.6666666666666666, \"#ed7953\"], [0.7777777777777778, \"#fb9f3a\"], [0.8888888888888888, \"#fdca26\"], [1.0, \"#f0f921\"]], \"type\": \"histogram2d\"}], \"histogram2dcontour\": [{\"colorbar\": {\"outlinewidth\": 0, \"ticks\": \"\"}, \"colorscale\": [[0.0, \"#0d0887\"], [0.1111111111111111, \"#46039f\"], [0.2222222222222222, \"#7201a8\"], [0.3333333333333333, \"#9c179e\"], [0.4444444444444444, \"#bd3786\"], [0.5555555555555556, \"#d8576b\"], [0.6666666666666666, \"#ed7953\"], [0.7777777777777778, \"#fb9f3a\"], [0.8888888888888888, \"#fdca26\"], [1.0, \"#f0f921\"]], \"type\": \"histogram2dcontour\"}], \"mesh3d\": [{\"colorbar\": {\"outlinewidth\": 0, \"ticks\": \"\"}, \"type\": \"mesh3d\"}], \"parcoords\": [{\"line\": {\"colorbar\": {\"outlinewidth\": 0, \"ticks\": \"\"}}, \"type\": \"parcoords\"}], \"pie\": [{\"automargin\": true, \"type\": \"pie\"}], \"scatter\": [{\"marker\": {\"colorbar\": {\"outlinewidth\": 0, \"ticks\": \"\"}}, \"type\": \"scatter\"}], \"scatter3d\": [{\"line\": {\"colorbar\": {\"outlinewidth\": 0, \"ticks\": \"\"}}, \"marker\": {\"colorbar\": {\"outlinewidth\": 0, \"ticks\": \"\"}}, \"type\": \"scatter3d\"}], \"scattercarpet\": [{\"marker\": {\"colorbar\": {\"outlinewidth\": 0, \"ticks\": \"\"}}, \"type\": \"scattercarpet\"}], \"scattergeo\": [{\"marker\": {\"colorbar\": {\"outlinewidth\": 0, \"ticks\": \"\"}}, \"type\": \"scattergeo\"}], \"scattergl\": [{\"marker\": {\"colorbar\": {\"outlinewidth\": 0, \"ticks\": \"\"}}, \"type\": \"scattergl\"}], \"scattermapbox\": [{\"marker\": {\"colorbar\": {\"outlinewidth\": 0, \"ticks\": \"\"}}, \"type\": \"scattermapbox\"}], \"scatterpolar\": [{\"marker\": {\"colorbar\": {\"outlinewidth\": 0, \"ticks\": \"\"}}, \"type\": \"scatterpolar\"}], \"scatterpolargl\": [{\"marker\": {\"colorbar\": {\"outlinewidth\": 0, \"ticks\": \"\"}}, \"type\": \"scatterpolargl\"}], \"scatterternary\": [{\"marker\": {\"colorbar\": {\"outlinewidth\": 0, \"ticks\": \"\"}}, \"type\": \"scatterternary\"}], \"surface\": [{\"colorbar\": {\"outlinewidth\": 0, \"ticks\": \"\"}, \"colorscale\": [[0.0, \"#0d0887\"], [0.1111111111111111, \"#46039f\"], [0.2222222222222222, \"#7201a8\"], [0.3333333333333333, \"#9c179e\"], [0.4444444444444444, \"#bd3786\"], [0.5555555555555556, \"#d8576b\"], [0.6666666666666666, \"#ed7953\"], [0.7777777777777778, \"#fb9f3a\"], [0.8888888888888888, \"#fdca26\"], [1.0, \"#f0f921\"]], \"type\": \"surface\"}], \"table\": [{\"cells\": {\"fill\": {\"color\": \"#EBF0F8\"}, \"line\": {\"color\": \"white\"}}, \"header\": {\"fill\": {\"color\": \"#C8D4E3\"}, \"line\": {\"color\": \"white\"}}, \"type\": \"table\"}]}, \"layout\": {\"annotationdefaults\": {\"arrowcolor\": \"#2a3f5f\", \"arrowhead\": 0, \"arrowwidth\": 1}, \"coloraxis\": {\"colorbar\": {\"outlinewidth\": 0, \"ticks\": \"\"}}, \"colorscale\": {\"diverging\": [[0, \"#8e0152\"], [0.1, \"#c51b7d\"], [0.2, \"#de77ae\"], [0.3, \"#f1b6da\"], [0.4, \"#fde0ef\"], [0.5, \"#f7f7f7\"], [0.6, \"#e6f5d0\"], [0.7, \"#b8e186\"], [0.8, \"#7fbc41\"], [0.9, \"#4d9221\"], [1, \"#276419\"]], \"sequential\": [[0.0, \"#0d0887\"], [0.1111111111111111, \"#46039f\"], [0.2222222222222222, \"#7201a8\"], [0.3333333333333333, \"#9c179e\"], [0.4444444444444444, \"#bd3786\"], [0.5555555555555556, \"#d8576b\"], [0.6666666666666666, \"#ed7953\"], [0.7777777777777778, \"#fb9f3a\"], [0.8888888888888888, \"#fdca26\"], [1.0, \"#f0f921\"]], \"sequentialminus\": [[0.0, \"#0d0887\"], [0.1111111111111111, \"#46039f\"], [0.2222222222222222, \"#7201a8\"], [0.3333333333333333, \"#9c179e\"], [0.4444444444444444, \"#bd3786\"], [0.5555555555555556, \"#d8576b\"], [0.6666666666666666, \"#ed7953\"], [0.7777777777777778, \"#fb9f3a\"], [0.8888888888888888, \"#fdca26\"], [1.0, \"#f0f921\"]]}, \"colorway\": [\"#636efa\", \"#EF553B\", \"#00cc96\", \"#ab63fa\", \"#FFA15A\", \"#19d3f3\", \"#FF6692\", \"#B6E880\", \"#FF97FF\", \"#FECB52\"], \"font\": {\"color\": \"#2a3f5f\"}, \"geo\": {\"bgcolor\": \"white\", \"lakecolor\": \"white\", \"landcolor\": \"#E5ECF6\", \"showlakes\": true, \"showland\": true, \"subunitcolor\": \"white\"}, \"hoverlabel\": {\"align\": \"left\"}, \"hovermode\": \"closest\", \"mapbox\": {\"style\": \"light\"}, \"paper_bgcolor\": \"white\", \"plot_bgcolor\": \"#E5ECF6\", \"polar\": {\"angularaxis\": {\"gridcolor\": \"white\", \"linecolor\": \"white\", \"ticks\": \"\"}, \"bgcolor\": \"#E5ECF6\", \"radialaxis\": {\"gridcolor\": \"white\", \"linecolor\": \"white\", \"ticks\": \"\"}}, \"scene\": {\"xaxis\": {\"backgroundcolor\": \"#E5ECF6\", \"gridcolor\": \"white\", \"gridwidth\": 2, \"linecolor\": \"white\", \"showbackground\": true, \"ticks\": \"\", \"zerolinecolor\": \"white\"}, \"yaxis\": {\"backgroundcolor\": \"#E5ECF6\", \"gridcolor\": \"white\", \"gridwidth\": 2, \"linecolor\": \"white\", \"showbackground\": true, \"ticks\": \"\", \"zerolinecolor\": \"white\"}, \"zaxis\": {\"backgroundcolor\": \"#E5ECF6\", \"gridcolor\": \"white\", \"gridwidth\": 2, \"linecolor\": \"white\", \"showbackground\": true, \"ticks\": \"\", \"zerolinecolor\": \"white\"}}, \"shapedefaults\": {\"line\": {\"color\": \"#2a3f5f\"}}, \"ternary\": {\"aaxis\": {\"gridcolor\": \"white\", \"linecolor\": \"white\", \"ticks\": \"\"}, \"baxis\": {\"gridcolor\": \"white\", \"linecolor\": \"white\", \"ticks\": \"\"}, \"bgcolor\": \"#E5ECF6\", \"caxis\": {\"gridcolor\": \"white\", \"linecolor\": \"white\", \"ticks\": \"\"}}, \"title\": {\"x\": 0.05}, \"xaxis\": {\"automargin\": true, \"gridcolor\": \"white\", \"linecolor\": \"white\", \"ticks\": \"\", \"title\": {\"standoff\": 15}, \"zerolinecolor\": \"white\", \"zerolinewidth\": 2}, \"yaxis\": {\"automargin\": true, \"gridcolor\": \"white\", \"linecolor\": \"white\", \"ticks\": \"\", \"title\": {\"standoff\": 15}, \"zerolinecolor\": \"white\", \"zerolinewidth\": 2}}}, \"title\": {\"text\": \"Top 15 Confirmed cases by 2020-04-07\"}, \"xaxis\": {\"anchor\": \"y\", \"domain\": [0.0, 1.0], \"title\": {\"text\": \"Confirmed Cases\"}}, \"yaxis\": {\"anchor\": \"x\", \"domain\": [0.0, 1.0], \"title\": {\"text\": \"Country\"}}},\n",
       "                        {\"responsive\": true}\n",
       "                    ).then(function(){\n",
       "                            \n",
       "var gd = document.getElementById('b048ff12-934c-4199-b77c-5ccd527db849');\n",
       "var x = new MutationObserver(function (mutations, observer) {{\n",
       "        var display = window.getComputedStyle(gd).display;\n",
       "        if (!display || display === 'none') {{\n",
       "            console.log([gd, 'removed!']);\n",
       "            Plotly.purge(gd);\n",
       "            observer.disconnect();\n",
       "        }}\n",
       "}});\n",
       "\n",
       "// Listen for the removal of the full notebook cells\n",
       "var notebookContainer = gd.closest('#notebook-container');\n",
       "if (notebookContainer) {{\n",
       "    x.observe(notebookContainer, {childList: true});\n",
       "}}\n",
       "\n",
       "// Listen for the clearing of the current output cell\n",
       "var outputEl = gd.closest('.output');\n",
       "if (outputEl) {{\n",
       "    x.observe(outputEl, {childList: true});\n",
       "}}\n",
       "\n",
       "                        })\n",
       "                };\n",
       "                });\n",
       "            </script>\n",
       "        </div>"
      ]
     },
     "metadata": {},
     "output_type": "display_data"
    },
    {
     "data": {
      "application/vnd.plotly.v1+json": {
       "config": {
        "plotlyServerURL": "https://plot.ly"
       },
       "data": [
        {
         "alignmentgroup": "True",
         "hoverlabel": {
          "namelength": 0
         },
         "hovertemplate": "color=Others<br>x=%{x}<br>y=%{y}<br>text=%{text}",
         "legendgroup": "color=Others",
         "marker": {
          "color": "#636efa"
         },
         "name": "color=Others",
         "offsetgroup": "color=Others",
         "orientation": "h",
         "showlegend": true,
         "text": [
          4893
         ],
         "textposition": "inside",
         "texttemplate": "%{x:,}",
         "type": "bar",
         "x": [
          4893
         ],
         "xaxis": "x",
         "y": [
          "Others"
         ],
         "yaxis": "y"
        },
        {
         "alignmentgroup": "True",
         "hoverlabel": {
          "namelength": 0
         },
         "hovertemplate": "color=Canada<br>x=%{x}<br>y=%{y}<br>text=%{text}",
         "legendgroup": "color=Canada",
         "marker": {
          "color": "#EF553B"
         },
         "name": "color=Canada",
         "offsetgroup": "color=Canada",
         "orientation": "h",
         "showlegend": true,
         "text": [
          375
         ],
         "textposition": "inside",
         "texttemplate": "%{x:,}",
         "type": "bar",
         "x": [
          375
         ],
         "xaxis": "x",
         "y": [
          "Canada"
         ],
         "yaxis": "y"
        },
        {
         "alignmentgroup": "True",
         "hoverlabel": {
          "namelength": 0
         },
         "hovertemplate": "color=Sweden<br>x=%{x}<br>y=%{y}<br>text=%{text}",
         "legendgroup": "color=Sweden",
         "marker": {
          "color": "#00cc96"
         },
         "name": "color=Sweden",
         "offsetgroup": "color=Sweden",
         "orientation": "h",
         "showlegend": true,
         "text": [
          591
         ],
         "textposition": "inside",
         "texttemplate": "%{x:,}",
         "type": "bar",
         "x": [
          591
         ],
         "xaxis": "x",
         "y": [
          "Sweden"
         ],
         "yaxis": "y"
        },
        {
         "alignmentgroup": "True",
         "hoverlabel": {
          "namelength": 0
         },
         "hovertemplate": "color=Brazil<br>x=%{x}<br>y=%{y}<br>text=%{text}",
         "legendgroup": "color=Brazil",
         "marker": {
          "color": "#ab63fa"
         },
         "name": "color=Brazil",
         "offsetgroup": "color=Brazil",
         "orientation": "h",
         "showlegend": true,
         "text": [
          686
         ],
         "textposition": "inside",
         "texttemplate": "%{x:,}",
         "type": "bar",
         "x": [
          686
         ],
         "xaxis": "x",
         "y": [
          "Brazil"
         ],
         "yaxis": "y"
        },
        {
         "alignmentgroup": "True",
         "hoverlabel": {
          "namelength": 0
         },
         "hovertemplate": "color=Turkey<br>x=%{x}<br>y=%{y}<br>text=%{text}",
         "legendgroup": "color=Turkey",
         "marker": {
          "color": "#FFA15A"
         },
         "name": "color=Turkey",
         "offsetgroup": "color=Turkey",
         "orientation": "h",
         "showlegend": true,
         "text": [
          725
         ],
         "textposition": "inside",
         "texttemplate": "%{x:,}",
         "type": "bar",
         "x": [
          725
         ],
         "xaxis": "x",
         "y": [
          "Turkey"
         ],
         "yaxis": "y"
        },
        {
         "alignmentgroup": "True",
         "hoverlabel": {
          "namelength": 0
         },
         "hovertemplate": "color=Switzerland<br>x=%{x}<br>y=%{y}<br>text=%{text}",
         "legendgroup": "color=Switzerland",
         "marker": {
          "color": "#19d3f3"
         },
         "name": "color=Switzerland",
         "offsetgroup": "color=Switzerland",
         "orientation": "h",
         "showlegend": true,
         "text": [
          821
         ],
         "textposition": "inside",
         "texttemplate": "%{x:,}",
         "type": "bar",
         "x": [
          821
         ],
         "xaxis": "x",
         "y": [
          "Switzerland"
         ],
         "yaxis": "y"
        },
        {
         "alignmentgroup": "True",
         "hoverlabel": {
          "namelength": 0
         },
         "hovertemplate": "color=Germany<br>x=%{x}<br>y=%{y}<br>text=%{text}",
         "legendgroup": "color=Germany",
         "marker": {
          "color": "#FF6692"
         },
         "name": "color=Germany",
         "offsetgroup": "color=Germany",
         "orientation": "h",
         "showlegend": true,
         "text": [
          2016
         ],
         "textposition": "inside",
         "texttemplate": "%{x:,}",
         "type": "bar",
         "x": [
          2016
         ],
         "xaxis": "x",
         "y": [
          "Germany"
         ],
         "yaxis": "y"
        },
        {
         "alignmentgroup": "True",
         "hoverlabel": {
          "namelength": 0
         },
         "hovertemplate": "color=Belgium<br>x=%{x}<br>y=%{y}<br>text=%{text}",
         "legendgroup": "color=Belgium",
         "marker": {
          "color": "#B6E880"
         },
         "name": "color=Belgium",
         "offsetgroup": "color=Belgium",
         "orientation": "h",
         "showlegend": true,
         "text": [
          2035
         ],
         "textposition": "inside",
         "texttemplate": "%{x:,}",
         "type": "bar",
         "x": [
          2035
         ],
         "xaxis": "x",
         "y": [
          "Belgium"
         ],
         "yaxis": "y"
        },
        {
         "alignmentgroup": "True",
         "hoverlabel": {
          "namelength": 0
         },
         "hovertemplate": "color=Netherlands<br>x=%{x}<br>y=%{y}<br>text=%{text}",
         "legendgroup": "color=Netherlands",
         "marker": {
          "color": "#FF97FF"
         },
         "name": "color=Netherlands",
         "offsetgroup": "color=Netherlands",
         "orientation": "h",
         "showlegend": true,
         "text": [
          2108
         ],
         "textposition": "inside",
         "texttemplate": "%{x:,}",
         "type": "bar",
         "x": [
          2108
         ],
         "xaxis": "x",
         "y": [
          "Netherlands"
         ],
         "yaxis": "y"
        },
        {
         "alignmentgroup": "True",
         "hoverlabel": {
          "namelength": 0
         },
         "hovertemplate": "color=China<br>x=%{x}<br>y=%{y}<br>text=%{text}",
         "legendgroup": "color=China",
         "marker": {
          "color": "#FECB52"
         },
         "name": "color=China",
         "offsetgroup": "color=China",
         "orientation": "h",
         "showlegend": true,
         "text": [
          3335
         ],
         "textposition": "inside",
         "texttemplate": "%{x:,}",
         "type": "bar",
         "x": [
          3335
         ],
         "xaxis": "x",
         "y": [
          "China"
         ],
         "yaxis": "y"
        },
        {
         "alignmentgroup": "True",
         "hoverlabel": {
          "namelength": 0
         },
         "hovertemplate": "color=Iran<br>x=%{x}<br>y=%{y}<br>text=%{text}",
         "legendgroup": "color=Iran",
         "marker": {
          "color": "#636efa"
         },
         "name": "color=Iran",
         "offsetgroup": "color=Iran",
         "orientation": "h",
         "showlegend": true,
         "text": [
          3872
         ],
         "textposition": "inside",
         "texttemplate": "%{x:,}",
         "type": "bar",
         "x": [
          3872
         ],
         "xaxis": "x",
         "y": [
          "Iran"
         ],
         "yaxis": "y"
        },
        {
         "alignmentgroup": "True",
         "hoverlabel": {
          "namelength": 0
         },
         "hovertemplate": "color=United Kingdom<br>x=%{x}<br>y=%{y}<br>text=%{text}",
         "legendgroup": "color=United Kingdom",
         "marker": {
          "color": "#EF553B"
         },
         "name": "color=United Kingdom",
         "offsetgroup": "color=United Kingdom",
         "orientation": "h",
         "showlegend": true,
         "text": [
          6171
         ],
         "textposition": "inside",
         "texttemplate": "%{x:,}",
         "type": "bar",
         "x": [
          6171
         ],
         "xaxis": "x",
         "y": [
          "United Kingdom"
         ],
         "yaxis": "y"
        },
        {
         "alignmentgroup": "True",
         "hoverlabel": {
          "namelength": 0
         },
         "hovertemplate": "color=France<br>x=%{x}<br>y=%{y}<br>text=%{text}",
         "legendgroup": "color=France",
         "marker": {
          "color": "#00cc96"
         },
         "name": "color=France",
         "offsetgroup": "color=France",
         "orientation": "h",
         "showlegend": true,
         "text": [
          10343
         ],
         "textposition": "inside",
         "texttemplate": "%{x:,}",
         "type": "bar",
         "x": [
          10343
         ],
         "xaxis": "x",
         "y": [
          "France"
         ],
         "yaxis": "y"
        },
        {
         "alignmentgroup": "True",
         "hoverlabel": {
          "namelength": 0
         },
         "hovertemplate": "color=US<br>x=%{x}<br>y=%{y}<br>text=%{text}",
         "legendgroup": "color=US",
         "marker": {
          "color": "#ab63fa"
         },
         "name": "color=US",
         "offsetgroup": "color=US",
         "orientation": "h",
         "showlegend": true,
         "text": [
          12722
         ],
         "textposition": "inside",
         "texttemplate": "%{x:,}",
         "type": "bar",
         "x": [
          12722
         ],
         "xaxis": "x",
         "y": [
          "US"
         ],
         "yaxis": "y"
        },
        {
         "alignmentgroup": "True",
         "hoverlabel": {
          "namelength": 0
         },
         "hovertemplate": "color=Spain<br>x=%{x}<br>y=%{y}<br>text=%{text}",
         "legendgroup": "color=Spain",
         "marker": {
          "color": "#FFA15A"
         },
         "name": "color=Spain",
         "offsetgroup": "color=Spain",
         "orientation": "h",
         "showlegend": true,
         "text": [
          14045
         ],
         "textposition": "inside",
         "texttemplate": "%{x:,}",
         "type": "bar",
         "x": [
          14045
         ],
         "xaxis": "x",
         "y": [
          "Spain"
         ],
         "yaxis": "y"
        },
        {
         "alignmentgroup": "True",
         "hoverlabel": {
          "namelength": 0
         },
         "hovertemplate": "color=Italy<br>x=%{x}<br>y=%{y}<br>text=%{text}",
         "legendgroup": "color=Italy",
         "marker": {
          "color": "#19d3f3"
         },
         "name": "color=Italy",
         "offsetgroup": "color=Italy",
         "orientation": "h",
         "showlegend": true,
         "text": [
          17127
         ],
         "textposition": "inside",
         "texttemplate": "%{x:,}",
         "type": "bar",
         "x": [
          17127
         ],
         "xaxis": "x",
         "y": [
          "Italy"
         ],
         "yaxis": "y"
        }
       ],
       "layout": {
        "barmode": "relative",
        "legend": {
         "tracegroupgap": 0
        },
        "margin": {
         "t": 60
        },
        "showlegend": false,
        "template": {
         "data": {
          "bar": [
           {
            "error_x": {
             "color": "#2a3f5f"
            },
            "error_y": {
             "color": "#2a3f5f"
            },
            "marker": {
             "line": {
              "color": "#E5ECF6",
              "width": 0.5
             }
            },
            "type": "bar"
           }
          ],
          "barpolar": [
           {
            "marker": {
             "line": {
              "color": "#E5ECF6",
              "width": 0.5
             }
            },
            "type": "barpolar"
           }
          ],
          "carpet": [
           {
            "aaxis": {
             "endlinecolor": "#2a3f5f",
             "gridcolor": "white",
             "linecolor": "white",
             "minorgridcolor": "white",
             "startlinecolor": "#2a3f5f"
            },
            "baxis": {
             "endlinecolor": "#2a3f5f",
             "gridcolor": "white",
             "linecolor": "white",
             "minorgridcolor": "white",
             "startlinecolor": "#2a3f5f"
            },
            "type": "carpet"
           }
          ],
          "choropleth": [
           {
            "colorbar": {
             "outlinewidth": 0,
             "ticks": ""
            },
            "type": "choropleth"
           }
          ],
          "contour": [
           {
            "colorbar": {
             "outlinewidth": 0,
             "ticks": ""
            },
            "colorscale": [
             [
              0,
              "#0d0887"
             ],
             [
              0.1111111111111111,
              "#46039f"
             ],
             [
              0.2222222222222222,
              "#7201a8"
             ],
             [
              0.3333333333333333,
              "#9c179e"
             ],
             [
              0.4444444444444444,
              "#bd3786"
             ],
             [
              0.5555555555555556,
              "#d8576b"
             ],
             [
              0.6666666666666666,
              "#ed7953"
             ],
             [
              0.7777777777777778,
              "#fb9f3a"
             ],
             [
              0.8888888888888888,
              "#fdca26"
             ],
             [
              1,
              "#f0f921"
             ]
            ],
            "type": "contour"
           }
          ],
          "contourcarpet": [
           {
            "colorbar": {
             "outlinewidth": 0,
             "ticks": ""
            },
            "type": "contourcarpet"
           }
          ],
          "heatmap": [
           {
            "colorbar": {
             "outlinewidth": 0,
             "ticks": ""
            },
            "colorscale": [
             [
              0,
              "#0d0887"
             ],
             [
              0.1111111111111111,
              "#46039f"
             ],
             [
              0.2222222222222222,
              "#7201a8"
             ],
             [
              0.3333333333333333,
              "#9c179e"
             ],
             [
              0.4444444444444444,
              "#bd3786"
             ],
             [
              0.5555555555555556,
              "#d8576b"
             ],
             [
              0.6666666666666666,
              "#ed7953"
             ],
             [
              0.7777777777777778,
              "#fb9f3a"
             ],
             [
              0.8888888888888888,
              "#fdca26"
             ],
             [
              1,
              "#f0f921"
             ]
            ],
            "type": "heatmap"
           }
          ],
          "heatmapgl": [
           {
            "colorbar": {
             "outlinewidth": 0,
             "ticks": ""
            },
            "colorscale": [
             [
              0,
              "#0d0887"
             ],
             [
              0.1111111111111111,
              "#46039f"
             ],
             [
              0.2222222222222222,
              "#7201a8"
             ],
             [
              0.3333333333333333,
              "#9c179e"
             ],
             [
              0.4444444444444444,
              "#bd3786"
             ],
             [
              0.5555555555555556,
              "#d8576b"
             ],
             [
              0.6666666666666666,
              "#ed7953"
             ],
             [
              0.7777777777777778,
              "#fb9f3a"
             ],
             [
              0.8888888888888888,
              "#fdca26"
             ],
             [
              1,
              "#f0f921"
             ]
            ],
            "type": "heatmapgl"
           }
          ],
          "histogram": [
           {
            "marker": {
             "colorbar": {
              "outlinewidth": 0,
              "ticks": ""
             }
            },
            "type": "histogram"
           }
          ],
          "histogram2d": [
           {
            "colorbar": {
             "outlinewidth": 0,
             "ticks": ""
            },
            "colorscale": [
             [
              0,
              "#0d0887"
             ],
             [
              0.1111111111111111,
              "#46039f"
             ],
             [
              0.2222222222222222,
              "#7201a8"
             ],
             [
              0.3333333333333333,
              "#9c179e"
             ],
             [
              0.4444444444444444,
              "#bd3786"
             ],
             [
              0.5555555555555556,
              "#d8576b"
             ],
             [
              0.6666666666666666,
              "#ed7953"
             ],
             [
              0.7777777777777778,
              "#fb9f3a"
             ],
             [
              0.8888888888888888,
              "#fdca26"
             ],
             [
              1,
              "#f0f921"
             ]
            ],
            "type": "histogram2d"
           }
          ],
          "histogram2dcontour": [
           {
            "colorbar": {
             "outlinewidth": 0,
             "ticks": ""
            },
            "colorscale": [
             [
              0,
              "#0d0887"
             ],
             [
              0.1111111111111111,
              "#46039f"
             ],
             [
              0.2222222222222222,
              "#7201a8"
             ],
             [
              0.3333333333333333,
              "#9c179e"
             ],
             [
              0.4444444444444444,
              "#bd3786"
             ],
             [
              0.5555555555555556,
              "#d8576b"
             ],
             [
              0.6666666666666666,
              "#ed7953"
             ],
             [
              0.7777777777777778,
              "#fb9f3a"
             ],
             [
              0.8888888888888888,
              "#fdca26"
             ],
             [
              1,
              "#f0f921"
             ]
            ],
            "type": "histogram2dcontour"
           }
          ],
          "mesh3d": [
           {
            "colorbar": {
             "outlinewidth": 0,
             "ticks": ""
            },
            "type": "mesh3d"
           }
          ],
          "parcoords": [
           {
            "line": {
             "colorbar": {
              "outlinewidth": 0,
              "ticks": ""
             }
            },
            "type": "parcoords"
           }
          ],
          "pie": [
           {
            "automargin": true,
            "type": "pie"
           }
          ],
          "scatter": [
           {
            "marker": {
             "colorbar": {
              "outlinewidth": 0,
              "ticks": ""
             }
            },
            "type": "scatter"
           }
          ],
          "scatter3d": [
           {
            "line": {
             "colorbar": {
              "outlinewidth": 0,
              "ticks": ""
             }
            },
            "marker": {
             "colorbar": {
              "outlinewidth": 0,
              "ticks": ""
             }
            },
            "type": "scatter3d"
           }
          ],
          "scattercarpet": [
           {
            "marker": {
             "colorbar": {
              "outlinewidth": 0,
              "ticks": ""
             }
            },
            "type": "scattercarpet"
           }
          ],
          "scattergeo": [
           {
            "marker": {
             "colorbar": {
              "outlinewidth": 0,
              "ticks": ""
             }
            },
            "type": "scattergeo"
           }
          ],
          "scattergl": [
           {
            "marker": {
             "colorbar": {
              "outlinewidth": 0,
              "ticks": ""
             }
            },
            "type": "scattergl"
           }
          ],
          "scattermapbox": [
           {
            "marker": {
             "colorbar": {
              "outlinewidth": 0,
              "ticks": ""
             }
            },
            "type": "scattermapbox"
           }
          ],
          "scatterpolar": [
           {
            "marker": {
             "colorbar": {
              "outlinewidth": 0,
              "ticks": ""
             }
            },
            "type": "scatterpolar"
           }
          ],
          "scatterpolargl": [
           {
            "marker": {
             "colorbar": {
              "outlinewidth": 0,
              "ticks": ""
             }
            },
            "type": "scatterpolargl"
           }
          ],
          "scatterternary": [
           {
            "marker": {
             "colorbar": {
              "outlinewidth": 0,
              "ticks": ""
             }
            },
            "type": "scatterternary"
           }
          ],
          "surface": [
           {
            "colorbar": {
             "outlinewidth": 0,
             "ticks": ""
            },
            "colorscale": [
             [
              0,
              "#0d0887"
             ],
             [
              0.1111111111111111,
              "#46039f"
             ],
             [
              0.2222222222222222,
              "#7201a8"
             ],
             [
              0.3333333333333333,
              "#9c179e"
             ],
             [
              0.4444444444444444,
              "#bd3786"
             ],
             [
              0.5555555555555556,
              "#d8576b"
             ],
             [
              0.6666666666666666,
              "#ed7953"
             ],
             [
              0.7777777777777778,
              "#fb9f3a"
             ],
             [
              0.8888888888888888,
              "#fdca26"
             ],
             [
              1,
              "#f0f921"
             ]
            ],
            "type": "surface"
           }
          ],
          "table": [
           {
            "cells": {
             "fill": {
              "color": "#EBF0F8"
             },
             "line": {
              "color": "white"
             }
            },
            "header": {
             "fill": {
              "color": "#C8D4E3"
             },
             "line": {
              "color": "white"
             }
            },
            "type": "table"
           }
          ]
         },
         "layout": {
          "annotationdefaults": {
           "arrowcolor": "#2a3f5f",
           "arrowhead": 0,
           "arrowwidth": 1
          },
          "coloraxis": {
           "colorbar": {
            "outlinewidth": 0,
            "ticks": ""
           }
          },
          "colorscale": {
           "diverging": [
            [
             0,
             "#8e0152"
            ],
            [
             0.1,
             "#c51b7d"
            ],
            [
             0.2,
             "#de77ae"
            ],
            [
             0.3,
             "#f1b6da"
            ],
            [
             0.4,
             "#fde0ef"
            ],
            [
             0.5,
             "#f7f7f7"
            ],
            [
             0.6,
             "#e6f5d0"
            ],
            [
             0.7,
             "#b8e186"
            ],
            [
             0.8,
             "#7fbc41"
            ],
            [
             0.9,
             "#4d9221"
            ],
            [
             1,
             "#276419"
            ]
           ],
           "sequential": [
            [
             0,
             "#0d0887"
            ],
            [
             0.1111111111111111,
             "#46039f"
            ],
            [
             0.2222222222222222,
             "#7201a8"
            ],
            [
             0.3333333333333333,
             "#9c179e"
            ],
            [
             0.4444444444444444,
             "#bd3786"
            ],
            [
             0.5555555555555556,
             "#d8576b"
            ],
            [
             0.6666666666666666,
             "#ed7953"
            ],
            [
             0.7777777777777778,
             "#fb9f3a"
            ],
            [
             0.8888888888888888,
             "#fdca26"
            ],
            [
             1,
             "#f0f921"
            ]
           ],
           "sequentialminus": [
            [
             0,
             "#0d0887"
            ],
            [
             0.1111111111111111,
             "#46039f"
            ],
            [
             0.2222222222222222,
             "#7201a8"
            ],
            [
             0.3333333333333333,
             "#9c179e"
            ],
            [
             0.4444444444444444,
             "#bd3786"
            ],
            [
             0.5555555555555556,
             "#d8576b"
            ],
            [
             0.6666666666666666,
             "#ed7953"
            ],
            [
             0.7777777777777778,
             "#fb9f3a"
            ],
            [
             0.8888888888888888,
             "#fdca26"
            ],
            [
             1,
             "#f0f921"
            ]
           ]
          },
          "colorway": [
           "#636efa",
           "#EF553B",
           "#00cc96",
           "#ab63fa",
           "#FFA15A",
           "#19d3f3",
           "#FF6692",
           "#B6E880",
           "#FF97FF",
           "#FECB52"
          ],
          "font": {
           "color": "#2a3f5f"
          },
          "geo": {
           "bgcolor": "white",
           "lakecolor": "white",
           "landcolor": "#E5ECF6",
           "showlakes": true,
           "showland": true,
           "subunitcolor": "white"
          },
          "hoverlabel": {
           "align": "left"
          },
          "hovermode": "closest",
          "mapbox": {
           "style": "light"
          },
          "paper_bgcolor": "white",
          "plot_bgcolor": "#E5ECF6",
          "polar": {
           "angularaxis": {
            "gridcolor": "white",
            "linecolor": "white",
            "ticks": ""
           },
           "bgcolor": "#E5ECF6",
           "radialaxis": {
            "gridcolor": "white",
            "linecolor": "white",
            "ticks": ""
           }
          },
          "scene": {
           "xaxis": {
            "backgroundcolor": "#E5ECF6",
            "gridcolor": "white",
            "gridwidth": 2,
            "linecolor": "white",
            "showbackground": true,
            "ticks": "",
            "zerolinecolor": "white"
           },
           "yaxis": {
            "backgroundcolor": "#E5ECF6",
            "gridcolor": "white",
            "gridwidth": 2,
            "linecolor": "white",
            "showbackground": true,
            "ticks": "",
            "zerolinecolor": "white"
           },
           "zaxis": {
            "backgroundcolor": "#E5ECF6",
            "gridcolor": "white",
            "gridwidth": 2,
            "linecolor": "white",
            "showbackground": true,
            "ticks": "",
            "zerolinecolor": "white"
           }
          },
          "shapedefaults": {
           "line": {
            "color": "#2a3f5f"
           }
          },
          "ternary": {
           "aaxis": {
            "gridcolor": "white",
            "linecolor": "white",
            "ticks": ""
           },
           "baxis": {
            "gridcolor": "white",
            "linecolor": "white",
            "ticks": ""
           },
           "bgcolor": "#E5ECF6",
           "caxis": {
            "gridcolor": "white",
            "linecolor": "white",
            "ticks": ""
           }
          },
          "title": {
           "x": 0.05
          },
          "xaxis": {
           "automargin": true,
           "gridcolor": "white",
           "linecolor": "white",
           "ticks": "",
           "title": {
            "standoff": 15
           },
           "zerolinecolor": "white",
           "zerolinewidth": 2
          },
          "yaxis": {
           "automargin": true,
           "gridcolor": "white",
           "linecolor": "white",
           "ticks": "",
           "title": {
            "standoff": 15
           },
           "zerolinecolor": "white",
           "zerolinewidth": 2
          }
         }
        },
        "title": {
         "text": "Top 15 Deaths cases by 2020-04-07"
        },
        "xaxis": {
         "anchor": "y",
         "domain": [
          0,
          1
         ],
         "title": {
          "text": "Deaths Cases"
         }
        },
        "yaxis": {
         "anchor": "x",
         "domain": [
          0,
          1
         ],
         "title": {
          "text": "Country"
         }
        }
       }
      },
      "text/html": [
       "<div>\n",
       "        \n",
       "        \n",
       "            <div id=\"eaa28991-fb21-47a2-958a-58733047606a\" class=\"plotly-graph-div\" style=\"height:525px; width:100%;\"></div>\n",
       "            <script type=\"text/javascript\">\n",
       "                require([\"plotly\"], function(Plotly) {\n",
       "                    window.PLOTLYENV=window.PLOTLYENV || {};\n",
       "                    \n",
       "                if (document.getElementById(\"eaa28991-fb21-47a2-958a-58733047606a\")) {\n",
       "                    Plotly.newPlot(\n",
       "                        'eaa28991-fb21-47a2-958a-58733047606a',\n",
       "                        [{\"alignmentgroup\": \"True\", \"hoverlabel\": {\"namelength\": 0}, \"hovertemplate\": \"color=Others<br>x=%{x}<br>y=%{y}<br>text=%{text}\", \"legendgroup\": \"color=Others\", \"marker\": {\"color\": \"#636efa\"}, \"name\": \"color=Others\", \"offsetgroup\": \"color=Others\", \"orientation\": \"h\", \"showlegend\": true, \"text\": [4893.0], \"textposition\": \"inside\", \"texttemplate\": \"%{x:,}\", \"type\": \"bar\", \"x\": [4893], \"xaxis\": \"x\", \"y\": [\"Others\"], \"yaxis\": \"y\"}, {\"alignmentgroup\": \"True\", \"hoverlabel\": {\"namelength\": 0}, \"hovertemplate\": \"color=Canada<br>x=%{x}<br>y=%{y}<br>text=%{text}\", \"legendgroup\": \"color=Canada\", \"marker\": {\"color\": \"#EF553B\"}, \"name\": \"color=Canada\", \"offsetgroup\": \"color=Canada\", \"orientation\": \"h\", \"showlegend\": true, \"text\": [375.0], \"textposition\": \"inside\", \"texttemplate\": \"%{x:,}\", \"type\": \"bar\", \"x\": [375], \"xaxis\": \"x\", \"y\": [\"Canada\"], \"yaxis\": \"y\"}, {\"alignmentgroup\": \"True\", \"hoverlabel\": {\"namelength\": 0}, \"hovertemplate\": \"color=Sweden<br>x=%{x}<br>y=%{y}<br>text=%{text}\", \"legendgroup\": \"color=Sweden\", \"marker\": {\"color\": \"#00cc96\"}, \"name\": \"color=Sweden\", \"offsetgroup\": \"color=Sweden\", \"orientation\": \"h\", \"showlegend\": true, \"text\": [591.0], \"textposition\": \"inside\", \"texttemplate\": \"%{x:,}\", \"type\": \"bar\", \"x\": [591], \"xaxis\": \"x\", \"y\": [\"Sweden\"], \"yaxis\": \"y\"}, {\"alignmentgroup\": \"True\", \"hoverlabel\": {\"namelength\": 0}, \"hovertemplate\": \"color=Brazil<br>x=%{x}<br>y=%{y}<br>text=%{text}\", \"legendgroup\": \"color=Brazil\", \"marker\": {\"color\": \"#ab63fa\"}, \"name\": \"color=Brazil\", \"offsetgroup\": \"color=Brazil\", \"orientation\": \"h\", \"showlegend\": true, \"text\": [686.0], \"textposition\": \"inside\", \"texttemplate\": \"%{x:,}\", \"type\": \"bar\", \"x\": [686], \"xaxis\": \"x\", \"y\": [\"Brazil\"], \"yaxis\": \"y\"}, {\"alignmentgroup\": \"True\", \"hoverlabel\": {\"namelength\": 0}, \"hovertemplate\": \"color=Turkey<br>x=%{x}<br>y=%{y}<br>text=%{text}\", \"legendgroup\": \"color=Turkey\", \"marker\": {\"color\": \"#FFA15A\"}, \"name\": \"color=Turkey\", \"offsetgroup\": \"color=Turkey\", \"orientation\": \"h\", \"showlegend\": true, \"text\": [725.0], \"textposition\": \"inside\", \"texttemplate\": \"%{x:,}\", \"type\": \"bar\", \"x\": [725], \"xaxis\": \"x\", \"y\": [\"Turkey\"], \"yaxis\": \"y\"}, {\"alignmentgroup\": \"True\", \"hoverlabel\": {\"namelength\": 0}, \"hovertemplate\": \"color=Switzerland<br>x=%{x}<br>y=%{y}<br>text=%{text}\", \"legendgroup\": \"color=Switzerland\", \"marker\": {\"color\": \"#19d3f3\"}, \"name\": \"color=Switzerland\", \"offsetgroup\": \"color=Switzerland\", \"orientation\": \"h\", \"showlegend\": true, \"text\": [821.0], \"textposition\": \"inside\", \"texttemplate\": \"%{x:,}\", \"type\": \"bar\", \"x\": [821], \"xaxis\": \"x\", \"y\": [\"Switzerland\"], \"yaxis\": \"y\"}, {\"alignmentgroup\": \"True\", \"hoverlabel\": {\"namelength\": 0}, \"hovertemplate\": \"color=Germany<br>x=%{x}<br>y=%{y}<br>text=%{text}\", \"legendgroup\": \"color=Germany\", \"marker\": {\"color\": \"#FF6692\"}, \"name\": \"color=Germany\", \"offsetgroup\": \"color=Germany\", \"orientation\": \"h\", \"showlegend\": true, \"text\": [2016.0], \"textposition\": \"inside\", \"texttemplate\": \"%{x:,}\", \"type\": \"bar\", \"x\": [2016], \"xaxis\": \"x\", \"y\": [\"Germany\"], \"yaxis\": \"y\"}, {\"alignmentgroup\": \"True\", \"hoverlabel\": {\"namelength\": 0}, \"hovertemplate\": \"color=Belgium<br>x=%{x}<br>y=%{y}<br>text=%{text}\", \"legendgroup\": \"color=Belgium\", \"marker\": {\"color\": \"#B6E880\"}, \"name\": \"color=Belgium\", \"offsetgroup\": \"color=Belgium\", \"orientation\": \"h\", \"showlegend\": true, \"text\": [2035.0], \"textposition\": \"inside\", \"texttemplate\": \"%{x:,}\", \"type\": \"bar\", \"x\": [2035], \"xaxis\": \"x\", \"y\": [\"Belgium\"], \"yaxis\": \"y\"}, {\"alignmentgroup\": \"True\", \"hoverlabel\": {\"namelength\": 0}, \"hovertemplate\": \"color=Netherlands<br>x=%{x}<br>y=%{y}<br>text=%{text}\", \"legendgroup\": \"color=Netherlands\", \"marker\": {\"color\": \"#FF97FF\"}, \"name\": \"color=Netherlands\", \"offsetgroup\": \"color=Netherlands\", \"orientation\": \"h\", \"showlegend\": true, \"text\": [2108.0], \"textposition\": \"inside\", \"texttemplate\": \"%{x:,}\", \"type\": \"bar\", \"x\": [2108], \"xaxis\": \"x\", \"y\": [\"Netherlands\"], \"yaxis\": \"y\"}, {\"alignmentgroup\": \"True\", \"hoverlabel\": {\"namelength\": 0}, \"hovertemplate\": \"color=China<br>x=%{x}<br>y=%{y}<br>text=%{text}\", \"legendgroup\": \"color=China\", \"marker\": {\"color\": \"#FECB52\"}, \"name\": \"color=China\", \"offsetgroup\": \"color=China\", \"orientation\": \"h\", \"showlegend\": true, \"text\": [3335.0], \"textposition\": \"inside\", \"texttemplate\": \"%{x:,}\", \"type\": \"bar\", \"x\": [3335], \"xaxis\": \"x\", \"y\": [\"China\"], \"yaxis\": \"y\"}, {\"alignmentgroup\": \"True\", \"hoverlabel\": {\"namelength\": 0}, \"hovertemplate\": \"color=Iran<br>x=%{x}<br>y=%{y}<br>text=%{text}\", \"legendgroup\": \"color=Iran\", \"marker\": {\"color\": \"#636efa\"}, \"name\": \"color=Iran\", \"offsetgroup\": \"color=Iran\", \"orientation\": \"h\", \"showlegend\": true, \"text\": [3872.0], \"textposition\": \"inside\", \"texttemplate\": \"%{x:,}\", \"type\": \"bar\", \"x\": [3872], \"xaxis\": \"x\", \"y\": [\"Iran\"], \"yaxis\": \"y\"}, {\"alignmentgroup\": \"True\", \"hoverlabel\": {\"namelength\": 0}, \"hovertemplate\": \"color=United Kingdom<br>x=%{x}<br>y=%{y}<br>text=%{text}\", \"legendgroup\": \"color=United Kingdom\", \"marker\": {\"color\": \"#EF553B\"}, \"name\": \"color=United Kingdom\", \"offsetgroup\": \"color=United Kingdom\", \"orientation\": \"h\", \"showlegend\": true, \"text\": [6171.0], \"textposition\": \"inside\", \"texttemplate\": \"%{x:,}\", \"type\": \"bar\", \"x\": [6171], \"xaxis\": \"x\", \"y\": [\"United Kingdom\"], \"yaxis\": \"y\"}, {\"alignmentgroup\": \"True\", \"hoverlabel\": {\"namelength\": 0}, \"hovertemplate\": \"color=France<br>x=%{x}<br>y=%{y}<br>text=%{text}\", \"legendgroup\": \"color=France\", \"marker\": {\"color\": \"#00cc96\"}, \"name\": \"color=France\", \"offsetgroup\": \"color=France\", \"orientation\": \"h\", \"showlegend\": true, \"text\": [10343.0], \"textposition\": \"inside\", \"texttemplate\": \"%{x:,}\", \"type\": \"bar\", \"x\": [10343], \"xaxis\": \"x\", \"y\": [\"France\"], \"yaxis\": \"y\"}, {\"alignmentgroup\": \"True\", \"hoverlabel\": {\"namelength\": 0}, \"hovertemplate\": \"color=US<br>x=%{x}<br>y=%{y}<br>text=%{text}\", \"legendgroup\": \"color=US\", \"marker\": {\"color\": \"#ab63fa\"}, \"name\": \"color=US\", \"offsetgroup\": \"color=US\", \"orientation\": \"h\", \"showlegend\": true, \"text\": [12722.0], \"textposition\": \"inside\", \"texttemplate\": \"%{x:,}\", \"type\": \"bar\", \"x\": [12722], \"xaxis\": \"x\", \"y\": [\"US\"], \"yaxis\": \"y\"}, {\"alignmentgroup\": \"True\", \"hoverlabel\": {\"namelength\": 0}, \"hovertemplate\": \"color=Spain<br>x=%{x}<br>y=%{y}<br>text=%{text}\", \"legendgroup\": \"color=Spain\", \"marker\": {\"color\": \"#FFA15A\"}, \"name\": \"color=Spain\", \"offsetgroup\": \"color=Spain\", \"orientation\": \"h\", \"showlegend\": true, \"text\": [14045.0], \"textposition\": \"inside\", \"texttemplate\": \"%{x:,}\", \"type\": \"bar\", \"x\": [14045], \"xaxis\": \"x\", \"y\": [\"Spain\"], \"yaxis\": \"y\"}, {\"alignmentgroup\": \"True\", \"hoverlabel\": {\"namelength\": 0}, \"hovertemplate\": \"color=Italy<br>x=%{x}<br>y=%{y}<br>text=%{text}\", \"legendgroup\": \"color=Italy\", \"marker\": {\"color\": \"#19d3f3\"}, \"name\": \"color=Italy\", \"offsetgroup\": \"color=Italy\", \"orientation\": \"h\", \"showlegend\": true, \"text\": [17127.0], \"textposition\": \"inside\", \"texttemplate\": \"%{x:,}\", \"type\": \"bar\", \"x\": [17127], \"xaxis\": \"x\", \"y\": [\"Italy\"], \"yaxis\": \"y\"}],\n",
       "                        {\"barmode\": \"relative\", \"legend\": {\"tracegroupgap\": 0}, \"margin\": {\"t\": 60}, \"showlegend\": false, \"template\": {\"data\": {\"bar\": [{\"error_x\": {\"color\": \"#2a3f5f\"}, \"error_y\": {\"color\": \"#2a3f5f\"}, \"marker\": {\"line\": {\"color\": \"#E5ECF6\", \"width\": 0.5}}, \"type\": \"bar\"}], \"barpolar\": [{\"marker\": {\"line\": {\"color\": \"#E5ECF6\", \"width\": 0.5}}, \"type\": \"barpolar\"}], \"carpet\": [{\"aaxis\": {\"endlinecolor\": \"#2a3f5f\", \"gridcolor\": \"white\", \"linecolor\": \"white\", \"minorgridcolor\": \"white\", \"startlinecolor\": \"#2a3f5f\"}, \"baxis\": {\"endlinecolor\": \"#2a3f5f\", \"gridcolor\": \"white\", \"linecolor\": \"white\", \"minorgridcolor\": \"white\", \"startlinecolor\": \"#2a3f5f\"}, \"type\": \"carpet\"}], \"choropleth\": [{\"colorbar\": {\"outlinewidth\": 0, \"ticks\": \"\"}, \"type\": \"choropleth\"}], \"contour\": [{\"colorbar\": {\"outlinewidth\": 0, \"ticks\": \"\"}, \"colorscale\": [[0.0, \"#0d0887\"], [0.1111111111111111, \"#46039f\"], [0.2222222222222222, \"#7201a8\"], [0.3333333333333333, \"#9c179e\"], [0.4444444444444444, \"#bd3786\"], [0.5555555555555556, \"#d8576b\"], [0.6666666666666666, \"#ed7953\"], [0.7777777777777778, \"#fb9f3a\"], [0.8888888888888888, \"#fdca26\"], [1.0, \"#f0f921\"]], \"type\": \"contour\"}], \"contourcarpet\": [{\"colorbar\": {\"outlinewidth\": 0, \"ticks\": \"\"}, \"type\": \"contourcarpet\"}], \"heatmap\": [{\"colorbar\": {\"outlinewidth\": 0, \"ticks\": \"\"}, \"colorscale\": [[0.0, \"#0d0887\"], [0.1111111111111111, \"#46039f\"], [0.2222222222222222, \"#7201a8\"], [0.3333333333333333, \"#9c179e\"], [0.4444444444444444, \"#bd3786\"], [0.5555555555555556, \"#d8576b\"], [0.6666666666666666, \"#ed7953\"], [0.7777777777777778, \"#fb9f3a\"], [0.8888888888888888, \"#fdca26\"], [1.0, \"#f0f921\"]], \"type\": \"heatmap\"}], \"heatmapgl\": [{\"colorbar\": {\"outlinewidth\": 0, \"ticks\": \"\"}, \"colorscale\": [[0.0, \"#0d0887\"], [0.1111111111111111, \"#46039f\"], [0.2222222222222222, \"#7201a8\"], [0.3333333333333333, \"#9c179e\"], [0.4444444444444444, \"#bd3786\"], [0.5555555555555556, \"#d8576b\"], [0.6666666666666666, \"#ed7953\"], [0.7777777777777778, \"#fb9f3a\"], [0.8888888888888888, \"#fdca26\"], [1.0, \"#f0f921\"]], \"type\": \"heatmapgl\"}], \"histogram\": [{\"marker\": {\"colorbar\": {\"outlinewidth\": 0, \"ticks\": \"\"}}, \"type\": \"histogram\"}], \"histogram2d\": [{\"colorbar\": {\"outlinewidth\": 0, \"ticks\": \"\"}, \"colorscale\": [[0.0, \"#0d0887\"], [0.1111111111111111, \"#46039f\"], [0.2222222222222222, \"#7201a8\"], [0.3333333333333333, \"#9c179e\"], [0.4444444444444444, \"#bd3786\"], [0.5555555555555556, \"#d8576b\"], [0.6666666666666666, \"#ed7953\"], [0.7777777777777778, \"#fb9f3a\"], [0.8888888888888888, \"#fdca26\"], [1.0, \"#f0f921\"]], \"type\": \"histogram2d\"}], \"histogram2dcontour\": [{\"colorbar\": {\"outlinewidth\": 0, \"ticks\": \"\"}, \"colorscale\": [[0.0, \"#0d0887\"], [0.1111111111111111, \"#46039f\"], [0.2222222222222222, \"#7201a8\"], [0.3333333333333333, \"#9c179e\"], [0.4444444444444444, \"#bd3786\"], [0.5555555555555556, \"#d8576b\"], [0.6666666666666666, \"#ed7953\"], [0.7777777777777778, \"#fb9f3a\"], [0.8888888888888888, \"#fdca26\"], [1.0, \"#f0f921\"]], \"type\": \"histogram2dcontour\"}], \"mesh3d\": [{\"colorbar\": {\"outlinewidth\": 0, \"ticks\": \"\"}, \"type\": \"mesh3d\"}], \"parcoords\": [{\"line\": {\"colorbar\": {\"outlinewidth\": 0, \"ticks\": \"\"}}, \"type\": \"parcoords\"}], \"pie\": [{\"automargin\": true, \"type\": \"pie\"}], \"scatter\": [{\"marker\": {\"colorbar\": {\"outlinewidth\": 0, \"ticks\": \"\"}}, \"type\": \"scatter\"}], \"scatter3d\": [{\"line\": {\"colorbar\": {\"outlinewidth\": 0, \"ticks\": \"\"}}, \"marker\": {\"colorbar\": {\"outlinewidth\": 0, \"ticks\": \"\"}}, \"type\": \"scatter3d\"}], \"scattercarpet\": [{\"marker\": {\"colorbar\": {\"outlinewidth\": 0, \"ticks\": \"\"}}, \"type\": \"scattercarpet\"}], \"scattergeo\": [{\"marker\": {\"colorbar\": {\"outlinewidth\": 0, \"ticks\": \"\"}}, \"type\": \"scattergeo\"}], \"scattergl\": [{\"marker\": {\"colorbar\": {\"outlinewidth\": 0, \"ticks\": \"\"}}, \"type\": \"scattergl\"}], \"scattermapbox\": [{\"marker\": {\"colorbar\": {\"outlinewidth\": 0, \"ticks\": \"\"}}, \"type\": \"scattermapbox\"}], \"scatterpolar\": [{\"marker\": {\"colorbar\": {\"outlinewidth\": 0, \"ticks\": \"\"}}, \"type\": \"scatterpolar\"}], \"scatterpolargl\": [{\"marker\": {\"colorbar\": {\"outlinewidth\": 0, \"ticks\": \"\"}}, \"type\": \"scatterpolargl\"}], \"scatterternary\": [{\"marker\": {\"colorbar\": {\"outlinewidth\": 0, \"ticks\": \"\"}}, \"type\": \"scatterternary\"}], \"surface\": [{\"colorbar\": {\"outlinewidth\": 0, \"ticks\": \"\"}, \"colorscale\": [[0.0, \"#0d0887\"], [0.1111111111111111, \"#46039f\"], [0.2222222222222222, \"#7201a8\"], [0.3333333333333333, \"#9c179e\"], [0.4444444444444444, \"#bd3786\"], [0.5555555555555556, \"#d8576b\"], [0.6666666666666666, \"#ed7953\"], [0.7777777777777778, \"#fb9f3a\"], [0.8888888888888888, \"#fdca26\"], [1.0, \"#f0f921\"]], \"type\": \"surface\"}], \"table\": [{\"cells\": {\"fill\": {\"color\": \"#EBF0F8\"}, \"line\": {\"color\": \"white\"}}, \"header\": {\"fill\": {\"color\": \"#C8D4E3\"}, \"line\": {\"color\": \"white\"}}, \"type\": \"table\"}]}, \"layout\": {\"annotationdefaults\": {\"arrowcolor\": \"#2a3f5f\", \"arrowhead\": 0, \"arrowwidth\": 1}, \"coloraxis\": {\"colorbar\": {\"outlinewidth\": 0, \"ticks\": \"\"}}, \"colorscale\": {\"diverging\": [[0, \"#8e0152\"], [0.1, \"#c51b7d\"], [0.2, \"#de77ae\"], [0.3, \"#f1b6da\"], [0.4, \"#fde0ef\"], [0.5, \"#f7f7f7\"], [0.6, \"#e6f5d0\"], [0.7, \"#b8e186\"], [0.8, \"#7fbc41\"], [0.9, \"#4d9221\"], [1, \"#276419\"]], \"sequential\": [[0.0, \"#0d0887\"], [0.1111111111111111, \"#46039f\"], [0.2222222222222222, \"#7201a8\"], [0.3333333333333333, \"#9c179e\"], [0.4444444444444444, \"#bd3786\"], [0.5555555555555556, \"#d8576b\"], [0.6666666666666666, \"#ed7953\"], [0.7777777777777778, \"#fb9f3a\"], [0.8888888888888888, \"#fdca26\"], [1.0, \"#f0f921\"]], \"sequentialminus\": [[0.0, \"#0d0887\"], [0.1111111111111111, \"#46039f\"], [0.2222222222222222, \"#7201a8\"], [0.3333333333333333, \"#9c179e\"], [0.4444444444444444, \"#bd3786\"], [0.5555555555555556, \"#d8576b\"], [0.6666666666666666, \"#ed7953\"], [0.7777777777777778, \"#fb9f3a\"], [0.8888888888888888, \"#fdca26\"], [1.0, \"#f0f921\"]]}, \"colorway\": [\"#636efa\", \"#EF553B\", \"#00cc96\", \"#ab63fa\", \"#FFA15A\", \"#19d3f3\", \"#FF6692\", \"#B6E880\", \"#FF97FF\", \"#FECB52\"], \"font\": {\"color\": \"#2a3f5f\"}, \"geo\": {\"bgcolor\": \"white\", \"lakecolor\": \"white\", \"landcolor\": \"#E5ECF6\", \"showlakes\": true, \"showland\": true, \"subunitcolor\": \"white\"}, \"hoverlabel\": {\"align\": \"left\"}, \"hovermode\": \"closest\", \"mapbox\": {\"style\": \"light\"}, \"paper_bgcolor\": \"white\", \"plot_bgcolor\": \"#E5ECF6\", \"polar\": {\"angularaxis\": {\"gridcolor\": \"white\", \"linecolor\": \"white\", \"ticks\": \"\"}, \"bgcolor\": \"#E5ECF6\", \"radialaxis\": {\"gridcolor\": \"white\", \"linecolor\": \"white\", \"ticks\": \"\"}}, \"scene\": {\"xaxis\": {\"backgroundcolor\": \"#E5ECF6\", \"gridcolor\": \"white\", \"gridwidth\": 2, \"linecolor\": \"white\", \"showbackground\": true, \"ticks\": \"\", \"zerolinecolor\": \"white\"}, \"yaxis\": {\"backgroundcolor\": \"#E5ECF6\", \"gridcolor\": \"white\", \"gridwidth\": 2, \"linecolor\": \"white\", \"showbackground\": true, \"ticks\": \"\", \"zerolinecolor\": \"white\"}, \"zaxis\": {\"backgroundcolor\": \"#E5ECF6\", \"gridcolor\": \"white\", \"gridwidth\": 2, \"linecolor\": \"white\", \"showbackground\": true, \"ticks\": \"\", \"zerolinecolor\": \"white\"}}, \"shapedefaults\": {\"line\": {\"color\": \"#2a3f5f\"}}, \"ternary\": {\"aaxis\": {\"gridcolor\": \"white\", \"linecolor\": \"white\", \"ticks\": \"\"}, \"baxis\": {\"gridcolor\": \"white\", \"linecolor\": \"white\", \"ticks\": \"\"}, \"bgcolor\": \"#E5ECF6\", \"caxis\": {\"gridcolor\": \"white\", \"linecolor\": \"white\", \"ticks\": \"\"}}, \"title\": {\"x\": 0.05}, \"xaxis\": {\"automargin\": true, \"gridcolor\": \"white\", \"linecolor\": \"white\", \"ticks\": \"\", \"title\": {\"standoff\": 15}, \"zerolinecolor\": \"white\", \"zerolinewidth\": 2}, \"yaxis\": {\"automargin\": true, \"gridcolor\": \"white\", \"linecolor\": \"white\", \"ticks\": \"\", \"title\": {\"standoff\": 15}, \"zerolinecolor\": \"white\", \"zerolinewidth\": 2}}}, \"title\": {\"text\": \"Top 15 Deaths cases by 2020-04-07\"}, \"xaxis\": {\"anchor\": \"y\", \"domain\": [0.0, 1.0], \"title\": {\"text\": \"Deaths Cases\"}}, \"yaxis\": {\"anchor\": \"x\", \"domain\": [0.0, 1.0], \"title\": {\"text\": \"Country\"}}},\n",
       "                        {\"responsive\": true}\n",
       "                    ).then(function(){\n",
       "                            \n",
       "var gd = document.getElementById('eaa28991-fb21-47a2-958a-58733047606a');\n",
       "var x = new MutationObserver(function (mutations, observer) {{\n",
       "        var display = window.getComputedStyle(gd).display;\n",
       "        if (!display || display === 'none') {{\n",
       "            console.log([gd, 'removed!']);\n",
       "            Plotly.purge(gd);\n",
       "            observer.disconnect();\n",
       "        }}\n",
       "}});\n",
       "\n",
       "// Listen for the removal of the full notebook cells\n",
       "var notebookContainer = gd.closest('#notebook-container');\n",
       "if (notebookContainer) {{\n",
       "    x.observe(notebookContainer, {childList: true});\n",
       "}}\n",
       "\n",
       "// Listen for the clearing of the current output cell\n",
       "var outputEl = gd.closest('.output');\n",
       "if (outputEl) {{\n",
       "    x.observe(outputEl, {childList: true});\n",
       "}}\n",
       "\n",
       "                        })\n",
       "                };\n",
       "                });\n",
       "            </script>\n",
       "        </div>"
      ]
     },
     "metadata": {},
     "output_type": "display_data"
    },
    {
     "data": {
      "application/vnd.plotly.v1+json": {
       "config": {
        "plotlyServerURL": "https://plot.ly"
       },
       "data": [
        {
         "alignmentgroup": "True",
         "hoverlabel": {
          "namelength": 0
         },
         "hovertemplate": "color=Iraq<br>x=%{x}<br>y=%{y}<br>text=%{text}",
         "legendgroup": "color=Iraq",
         "marker": {
          "color": "#636efa"
         },
         "name": "color=Iraq",
         "offsetgroup": "color=Iraq",
         "orientation": "h",
         "showlegend": true,
         "text": [
          0.057932263814616754
         ],
         "textposition": "inside",
         "texttemplate": "%{x:.3p}",
         "type": "bar",
         "x": [
          0.057932263814616754
         ],
         "xaxis": "x",
         "y": [
          "Iraq"
         ],
         "yaxis": "y"
        },
        {
         "alignmentgroup": "True",
         "hoverlabel": {
          "namelength": 0
         },
         "hovertemplate": "color=Iran<br>x=%{x}<br>y=%{y}<br>text=%{text}",
         "legendgroup": "color=Iran",
         "marker": {
          "color": "#EF553B"
         },
         "name": "color=Iran",
         "offsetgroup": "color=Iran",
         "orientation": "h",
         "showlegend": true,
         "text": [
          0.061863905798143444
         ],
         "textposition": "inside",
         "texttemplate": "%{x:.3p}",
         "type": "bar",
         "x": [
          0.061863905798143444
         ],
         "xaxis": "x",
         "y": [
          "Iran"
         ],
         "yaxis": "y"
        },
        {
         "alignmentgroup": "True",
         "hoverlabel": {
          "namelength": 0
         },
         "hovertemplate": "color=Egypt<br>x=%{x}<br>y=%{y}<br>text=%{text}",
         "legendgroup": "color=Egypt",
         "marker": {
          "color": "#00cc96"
         },
         "name": "color=Egypt",
         "offsetgroup": "color=Egypt",
         "orientation": "h",
         "showlegend": true,
         "text": [
          0.06482758620689655
         ],
         "textposition": "inside",
         "texttemplate": "%{x:.3p}",
         "type": "bar",
         "x": [
          0.06482758620689655
         ],
         "xaxis": "x",
         "y": [
          "Egypt"
         ],
         "yaxis": "y"
        },
        {
         "alignmentgroup": "True",
         "hoverlabel": {
          "namelength": 0
         },
         "hovertemplate": "color=Honduras<br>x=%{x}<br>y=%{y}<br>text=%{text}",
         "legendgroup": "color=Honduras",
         "marker": {
          "color": "#ab63fa"
         },
         "name": "color=Honduras",
         "offsetgroup": "color=Honduras",
         "orientation": "h",
         "showlegend": true,
         "text": [
          0.07213114754098361
         ],
         "textposition": "inside",
         "texttemplate": "%{x:.3p}",
         "type": "bar",
         "x": [
          0.07213114754098361
         ],
         "xaxis": "x",
         "y": [
          "Honduras"
         ],
         "yaxis": "y"
        },
        {
         "alignmentgroup": "True",
         "hoverlabel": {
          "namelength": 0
         },
         "hovertemplate": "color=Morocco<br>x=%{x}<br>y=%{y}<br>text=%{text}",
         "legendgroup": "color=Morocco",
         "marker": {
          "color": "#FFA15A"
         },
         "name": "color=Morocco",
         "offsetgroup": "color=Morocco",
         "orientation": "h",
         "showlegend": true,
         "text": [
          0.07601351351351351
         ],
         "textposition": "inside",
         "texttemplate": "%{x:.3p}",
         "type": "bar",
         "x": [
          0.07601351351351351
         ],
         "xaxis": "x",
         "y": [
          "Morocco"
         ],
         "yaxis": "y"
        },
        {
         "alignmentgroup": "True",
         "hoverlabel": {
          "namelength": 0
         },
         "hovertemplate": "color=Sweden<br>x=%{x}<br>y=%{y}<br>text=%{text}",
         "legendgroup": "color=Sweden",
         "marker": {
          "color": "#19d3f3"
         },
         "name": "color=Sweden",
         "offsetgroup": "color=Sweden",
         "orientation": "h",
         "showlegend": true,
         "text": [
          0.076823085922267
         ],
         "textposition": "inside",
         "texttemplate": "%{x:.3p}",
         "type": "bar",
         "x": [
          0.076823085922267
         ],
         "xaxis": "x",
         "y": [
          "Sweden"
         ],
         "yaxis": "y"
        },
        {
         "alignmentgroup": "True",
         "hoverlabel": {
          "namelength": 0
         },
         "hovertemplate": "color=Indonesia<br>x=%{x}<br>y=%{y}<br>text=%{text}",
         "legendgroup": "color=Indonesia",
         "marker": {
          "color": "#FF6692"
         },
         "name": "color=Indonesia",
         "offsetgroup": "color=Indonesia",
         "orientation": "h",
         "showlegend": true,
         "text": [
          0.08071585098612126
         ],
         "textposition": "inside",
         "texttemplate": "%{x:.3p}",
         "type": "bar",
         "x": [
          0.08071585098612126
         ],
         "xaxis": "x",
         "y": [
          "Indonesia"
         ],
         "yaxis": "y"
        },
        {
         "alignmentgroup": "True",
         "hoverlabel": {
          "namelength": 0
         },
         "hovertemplate": "color=Belgium<br>x=%{x}<br>y=%{y}<br>text=%{text}",
         "legendgroup": "color=Belgium",
         "marker": {
          "color": "#B6E880"
         },
         "name": "color=Belgium",
         "offsetgroup": "color=Belgium",
         "orientation": "h",
         "showlegend": true,
         "text": [
          0.0916914481391367
         ],
         "textposition": "inside",
         "texttemplate": "%{x:.3p}",
         "type": "bar",
         "x": [
          0.0916914481391367
         ],
         "xaxis": "x",
         "y": [
          "Belgium"
         ],
         "yaxis": "y"
        },
        {
         "alignmentgroup": "True",
         "hoverlabel": {
          "namelength": 0
         },
         "hovertemplate": "color=France<br>x=%{x}<br>y=%{y}<br>text=%{text}",
         "legendgroup": "color=France",
         "marker": {
          "color": "#FF97FF"
         },
         "name": "color=France",
         "offsetgroup": "color=France",
         "orientation": "h",
         "showlegend": true,
         "text": [
          0.09397174396947258
         ],
         "textposition": "inside",
         "texttemplate": "%{x:.3p}",
         "type": "bar",
         "x": [
          0.09397174396947258
         ],
         "xaxis": "x",
         "y": [
          "France"
         ],
         "yaxis": "y"
        },
        {
         "alignmentgroup": "True",
         "hoverlabel": {
          "namelength": 0
         },
         "hovertemplate": "color=Spain<br>x=%{x}<br>y=%{y}<br>text=%{text}",
         "legendgroup": "color=Spain",
         "marker": {
          "color": "#FECB52"
         },
         "name": "color=Spain",
         "offsetgroup": "color=Spain",
         "orientation": "h",
         "showlegend": true,
         "text": [
          0.09894886643840442
         ],
         "textposition": "inside",
         "texttemplate": "%{x:.3p}",
         "type": "bar",
         "x": [
          0.09894886643840442
         ],
         "xaxis": "x",
         "y": [
          "Spain"
         ],
         "yaxis": "y"
        },
        {
         "alignmentgroup": "True",
         "hoverlabel": {
          "namelength": 0
         },
         "hovertemplate": "color=Netherlands<br>x=%{x}<br>y=%{y}<br>text=%{text}",
         "legendgroup": "color=Netherlands",
         "marker": {
          "color": "#636efa"
         },
         "name": "color=Netherlands",
         "offsetgroup": "color=Netherlands",
         "orientation": "h",
         "showlegend": true,
         "text": [
          0.10695621289766097
         ],
         "textposition": "inside",
         "texttemplate": "%{x:.3p}",
         "type": "bar",
         "x": [
          0.10695621289766097
         ],
         "xaxis": "x",
         "y": [
          "Netherlands"
         ],
         "yaxis": "y"
        },
        {
         "alignmentgroup": "True",
         "hoverlabel": {
          "namelength": 0
         },
         "hovertemplate": "color=United Kingdom<br>x=%{x}<br>y=%{y}<br>text=%{text}",
         "legendgroup": "color=United Kingdom",
         "marker": {
          "color": "#EF553B"
         },
         "name": "color=United Kingdom",
         "offsetgroup": "color=United Kingdom",
         "orientation": "h",
         "showlegend": true,
         "text": [
          0.11029687751344974
         ],
         "textposition": "inside",
         "texttemplate": "%{x:.3p}",
         "type": "bar",
         "x": [
          0.11029687751344974
         ],
         "xaxis": "x",
         "y": [
          "United Kingdom"
         ],
         "yaxis": "y"
        },
        {
         "alignmentgroup": "True",
         "hoverlabel": {
          "namelength": 0
         },
         "hovertemplate": "color=San Marino<br>x=%{x}<br>y=%{y}<br>text=%{text}",
         "legendgroup": "color=San Marino",
         "marker": {
          "color": "#00cc96"
         },
         "name": "color=San Marino",
         "offsetgroup": "color=San Marino",
         "orientation": "h",
         "showlegend": true,
         "text": [
          0.12186379928315412
         ],
         "textposition": "inside",
         "texttemplate": "%{x:.3p}",
         "type": "bar",
         "x": [
          0.12186379928315412
         ],
         "xaxis": "x",
         "y": [
          "San Marino"
         ],
         "yaxis": "y"
        },
        {
         "alignmentgroup": "True",
         "hoverlabel": {
          "namelength": 0
         },
         "hovertemplate": "color=Italy<br>x=%{x}<br>y=%{y}<br>text=%{text}",
         "legendgroup": "color=Italy",
         "marker": {
          "color": "#ab63fa"
         },
         "name": "color=Italy",
         "offsetgroup": "color=Italy",
         "orientation": "h",
         "showlegend": true,
         "text": [
          0.12631835145221484
         ],
         "textposition": "inside",
         "texttemplate": "%{x:.3p}",
         "type": "bar",
         "x": [
          0.12631835145221484
         ],
         "xaxis": "x",
         "y": [
          "Italy"
         ],
         "yaxis": "y"
        },
        {
         "alignmentgroup": "True",
         "hoverlabel": {
          "namelength": 0
         },
         "hovertemplate": "color=Algeria<br>x=%{x}<br>y=%{y}<br>text=%{text}",
         "legendgroup": "color=Algeria",
         "marker": {
          "color": "#FFA15A"
         },
         "name": "color=Algeria",
         "offsetgroup": "color=Algeria",
         "orientation": "h",
         "showlegend": true,
         "text": [
          0.13147138964577657
         ],
         "textposition": "inside",
         "texttemplate": "%{x:.3p}",
         "type": "bar",
         "x": [
          0.13147138964577657
         ],
         "xaxis": "x",
         "y": [
          "Algeria"
         ],
         "yaxis": "y"
        }
       ],
       "layout": {
        "barmode": "relative",
        "legend": {
         "tracegroupgap": 0
        },
        "margin": {
         "t": 60
        },
        "showlegend": false,
        "template": {
         "data": {
          "bar": [
           {
            "error_x": {
             "color": "#2a3f5f"
            },
            "error_y": {
             "color": "#2a3f5f"
            },
            "marker": {
             "line": {
              "color": "#E5ECF6",
              "width": 0.5
             }
            },
            "type": "bar"
           }
          ],
          "barpolar": [
           {
            "marker": {
             "line": {
              "color": "#E5ECF6",
              "width": 0.5
             }
            },
            "type": "barpolar"
           }
          ],
          "carpet": [
           {
            "aaxis": {
             "endlinecolor": "#2a3f5f",
             "gridcolor": "white",
             "linecolor": "white",
             "minorgridcolor": "white",
             "startlinecolor": "#2a3f5f"
            },
            "baxis": {
             "endlinecolor": "#2a3f5f",
             "gridcolor": "white",
             "linecolor": "white",
             "minorgridcolor": "white",
             "startlinecolor": "#2a3f5f"
            },
            "type": "carpet"
           }
          ],
          "choropleth": [
           {
            "colorbar": {
             "outlinewidth": 0,
             "ticks": ""
            },
            "type": "choropleth"
           }
          ],
          "contour": [
           {
            "colorbar": {
             "outlinewidth": 0,
             "ticks": ""
            },
            "colorscale": [
             [
              0,
              "#0d0887"
             ],
             [
              0.1111111111111111,
              "#46039f"
             ],
             [
              0.2222222222222222,
              "#7201a8"
             ],
             [
              0.3333333333333333,
              "#9c179e"
             ],
             [
              0.4444444444444444,
              "#bd3786"
             ],
             [
              0.5555555555555556,
              "#d8576b"
             ],
             [
              0.6666666666666666,
              "#ed7953"
             ],
             [
              0.7777777777777778,
              "#fb9f3a"
             ],
             [
              0.8888888888888888,
              "#fdca26"
             ],
             [
              1,
              "#f0f921"
             ]
            ],
            "type": "contour"
           }
          ],
          "contourcarpet": [
           {
            "colorbar": {
             "outlinewidth": 0,
             "ticks": ""
            },
            "type": "contourcarpet"
           }
          ],
          "heatmap": [
           {
            "colorbar": {
             "outlinewidth": 0,
             "ticks": ""
            },
            "colorscale": [
             [
              0,
              "#0d0887"
             ],
             [
              0.1111111111111111,
              "#46039f"
             ],
             [
              0.2222222222222222,
              "#7201a8"
             ],
             [
              0.3333333333333333,
              "#9c179e"
             ],
             [
              0.4444444444444444,
              "#bd3786"
             ],
             [
              0.5555555555555556,
              "#d8576b"
             ],
             [
              0.6666666666666666,
              "#ed7953"
             ],
             [
              0.7777777777777778,
              "#fb9f3a"
             ],
             [
              0.8888888888888888,
              "#fdca26"
             ],
             [
              1,
              "#f0f921"
             ]
            ],
            "type": "heatmap"
           }
          ],
          "heatmapgl": [
           {
            "colorbar": {
             "outlinewidth": 0,
             "ticks": ""
            },
            "colorscale": [
             [
              0,
              "#0d0887"
             ],
             [
              0.1111111111111111,
              "#46039f"
             ],
             [
              0.2222222222222222,
              "#7201a8"
             ],
             [
              0.3333333333333333,
              "#9c179e"
             ],
             [
              0.4444444444444444,
              "#bd3786"
             ],
             [
              0.5555555555555556,
              "#d8576b"
             ],
             [
              0.6666666666666666,
              "#ed7953"
             ],
             [
              0.7777777777777778,
              "#fb9f3a"
             ],
             [
              0.8888888888888888,
              "#fdca26"
             ],
             [
              1,
              "#f0f921"
             ]
            ],
            "type": "heatmapgl"
           }
          ],
          "histogram": [
           {
            "marker": {
             "colorbar": {
              "outlinewidth": 0,
              "ticks": ""
             }
            },
            "type": "histogram"
           }
          ],
          "histogram2d": [
           {
            "colorbar": {
             "outlinewidth": 0,
             "ticks": ""
            },
            "colorscale": [
             [
              0,
              "#0d0887"
             ],
             [
              0.1111111111111111,
              "#46039f"
             ],
             [
              0.2222222222222222,
              "#7201a8"
             ],
             [
              0.3333333333333333,
              "#9c179e"
             ],
             [
              0.4444444444444444,
              "#bd3786"
             ],
             [
              0.5555555555555556,
              "#d8576b"
             ],
             [
              0.6666666666666666,
              "#ed7953"
             ],
             [
              0.7777777777777778,
              "#fb9f3a"
             ],
             [
              0.8888888888888888,
              "#fdca26"
             ],
             [
              1,
              "#f0f921"
             ]
            ],
            "type": "histogram2d"
           }
          ],
          "histogram2dcontour": [
           {
            "colorbar": {
             "outlinewidth": 0,
             "ticks": ""
            },
            "colorscale": [
             [
              0,
              "#0d0887"
             ],
             [
              0.1111111111111111,
              "#46039f"
             ],
             [
              0.2222222222222222,
              "#7201a8"
             ],
             [
              0.3333333333333333,
              "#9c179e"
             ],
             [
              0.4444444444444444,
              "#bd3786"
             ],
             [
              0.5555555555555556,
              "#d8576b"
             ],
             [
              0.6666666666666666,
              "#ed7953"
             ],
             [
              0.7777777777777778,
              "#fb9f3a"
             ],
             [
              0.8888888888888888,
              "#fdca26"
             ],
             [
              1,
              "#f0f921"
             ]
            ],
            "type": "histogram2dcontour"
           }
          ],
          "mesh3d": [
           {
            "colorbar": {
             "outlinewidth": 0,
             "ticks": ""
            },
            "type": "mesh3d"
           }
          ],
          "parcoords": [
           {
            "line": {
             "colorbar": {
              "outlinewidth": 0,
              "ticks": ""
             }
            },
            "type": "parcoords"
           }
          ],
          "pie": [
           {
            "automargin": true,
            "type": "pie"
           }
          ],
          "scatter": [
           {
            "marker": {
             "colorbar": {
              "outlinewidth": 0,
              "ticks": ""
             }
            },
            "type": "scatter"
           }
          ],
          "scatter3d": [
           {
            "line": {
             "colorbar": {
              "outlinewidth": 0,
              "ticks": ""
             }
            },
            "marker": {
             "colorbar": {
              "outlinewidth": 0,
              "ticks": ""
             }
            },
            "type": "scatter3d"
           }
          ],
          "scattercarpet": [
           {
            "marker": {
             "colorbar": {
              "outlinewidth": 0,
              "ticks": ""
             }
            },
            "type": "scattercarpet"
           }
          ],
          "scattergeo": [
           {
            "marker": {
             "colorbar": {
              "outlinewidth": 0,
              "ticks": ""
             }
            },
            "type": "scattergeo"
           }
          ],
          "scattergl": [
           {
            "marker": {
             "colorbar": {
              "outlinewidth": 0,
              "ticks": ""
             }
            },
            "type": "scattergl"
           }
          ],
          "scattermapbox": [
           {
            "marker": {
             "colorbar": {
              "outlinewidth": 0,
              "ticks": ""
             }
            },
            "type": "scattermapbox"
           }
          ],
          "scatterpolar": [
           {
            "marker": {
             "colorbar": {
              "outlinewidth": 0,
              "ticks": ""
             }
            },
            "type": "scatterpolar"
           }
          ],
          "scatterpolargl": [
           {
            "marker": {
             "colorbar": {
              "outlinewidth": 0,
              "ticks": ""
             }
            },
            "type": "scatterpolargl"
           }
          ],
          "scatterternary": [
           {
            "marker": {
             "colorbar": {
              "outlinewidth": 0,
              "ticks": ""
             }
            },
            "type": "scatterternary"
           }
          ],
          "surface": [
           {
            "colorbar": {
             "outlinewidth": 0,
             "ticks": ""
            },
            "colorscale": [
             [
              0,
              "#0d0887"
             ],
             [
              0.1111111111111111,
              "#46039f"
             ],
             [
              0.2222222222222222,
              "#7201a8"
             ],
             [
              0.3333333333333333,
              "#9c179e"
             ],
             [
              0.4444444444444444,
              "#bd3786"
             ],
             [
              0.5555555555555556,
              "#d8576b"
             ],
             [
              0.6666666666666666,
              "#ed7953"
             ],
             [
              0.7777777777777778,
              "#fb9f3a"
             ],
             [
              0.8888888888888888,
              "#fdca26"
             ],
             [
              1,
              "#f0f921"
             ]
            ],
            "type": "surface"
           }
          ],
          "table": [
           {
            "cells": {
             "fill": {
              "color": "#EBF0F8"
             },
             "line": {
              "color": "white"
             }
            },
            "header": {
             "fill": {
              "color": "#C8D4E3"
             },
             "line": {
              "color": "white"
             }
            },
            "type": "table"
           }
          ]
         },
         "layout": {
          "annotationdefaults": {
           "arrowcolor": "#2a3f5f",
           "arrowhead": 0,
           "arrowwidth": 1
          },
          "coloraxis": {
           "colorbar": {
            "outlinewidth": 0,
            "ticks": ""
           }
          },
          "colorscale": {
           "diverging": [
            [
             0,
             "#8e0152"
            ],
            [
             0.1,
             "#c51b7d"
            ],
            [
             0.2,
             "#de77ae"
            ],
            [
             0.3,
             "#f1b6da"
            ],
            [
             0.4,
             "#fde0ef"
            ],
            [
             0.5,
             "#f7f7f7"
            ],
            [
             0.6,
             "#e6f5d0"
            ],
            [
             0.7,
             "#b8e186"
            ],
            [
             0.8,
             "#7fbc41"
            ],
            [
             0.9,
             "#4d9221"
            ],
            [
             1,
             "#276419"
            ]
           ],
           "sequential": [
            [
             0,
             "#0d0887"
            ],
            [
             0.1111111111111111,
             "#46039f"
            ],
            [
             0.2222222222222222,
             "#7201a8"
            ],
            [
             0.3333333333333333,
             "#9c179e"
            ],
            [
             0.4444444444444444,
             "#bd3786"
            ],
            [
             0.5555555555555556,
             "#d8576b"
            ],
            [
             0.6666666666666666,
             "#ed7953"
            ],
            [
             0.7777777777777778,
             "#fb9f3a"
            ],
            [
             0.8888888888888888,
             "#fdca26"
            ],
            [
             1,
             "#f0f921"
            ]
           ],
           "sequentialminus": [
            [
             0,
             "#0d0887"
            ],
            [
             0.1111111111111111,
             "#46039f"
            ],
            [
             0.2222222222222222,
             "#7201a8"
            ],
            [
             0.3333333333333333,
             "#9c179e"
            ],
            [
             0.4444444444444444,
             "#bd3786"
            ],
            [
             0.5555555555555556,
             "#d8576b"
            ],
            [
             0.6666666666666666,
             "#ed7953"
            ],
            [
             0.7777777777777778,
             "#fb9f3a"
            ],
            [
             0.8888888888888888,
             "#fdca26"
            ],
            [
             1,
             "#f0f921"
            ]
           ]
          },
          "colorway": [
           "#636efa",
           "#EF553B",
           "#00cc96",
           "#ab63fa",
           "#FFA15A",
           "#19d3f3",
           "#FF6692",
           "#B6E880",
           "#FF97FF",
           "#FECB52"
          ],
          "font": {
           "color": "#2a3f5f"
          },
          "geo": {
           "bgcolor": "white",
           "lakecolor": "white",
           "landcolor": "#E5ECF6",
           "showlakes": true,
           "showland": true,
           "subunitcolor": "white"
          },
          "hoverlabel": {
           "align": "left"
          },
          "hovermode": "closest",
          "mapbox": {
           "style": "light"
          },
          "paper_bgcolor": "white",
          "plot_bgcolor": "#E5ECF6",
          "polar": {
           "angularaxis": {
            "gridcolor": "white",
            "linecolor": "white",
            "ticks": ""
           },
           "bgcolor": "#E5ECF6",
           "radialaxis": {
            "gridcolor": "white",
            "linecolor": "white",
            "ticks": ""
           }
          },
          "scene": {
           "xaxis": {
            "backgroundcolor": "#E5ECF6",
            "gridcolor": "white",
            "gridwidth": 2,
            "linecolor": "white",
            "showbackground": true,
            "ticks": "",
            "zerolinecolor": "white"
           },
           "yaxis": {
            "backgroundcolor": "#E5ECF6",
            "gridcolor": "white",
            "gridwidth": 2,
            "linecolor": "white",
            "showbackground": true,
            "ticks": "",
            "zerolinecolor": "white"
           },
           "zaxis": {
            "backgroundcolor": "#E5ECF6",
            "gridcolor": "white",
            "gridwidth": 2,
            "linecolor": "white",
            "showbackground": true,
            "ticks": "",
            "zerolinecolor": "white"
           }
          },
          "shapedefaults": {
           "line": {
            "color": "#2a3f5f"
           }
          },
          "ternary": {
           "aaxis": {
            "gridcolor": "white",
            "linecolor": "white",
            "ticks": ""
           },
           "baxis": {
            "gridcolor": "white",
            "linecolor": "white",
            "ticks": ""
           },
           "bgcolor": "#E5ECF6",
           "caxis": {
            "gridcolor": "white",
            "linecolor": "white",
            "ticks": ""
           }
          },
          "title": {
           "x": 0.05
          },
          "xaxis": {
           "automargin": true,
           "gridcolor": "white",
           "linecolor": "white",
           "ticks": "",
           "title": {
            "standoff": 15
           },
           "zerolinecolor": "white",
           "zerolinewidth": 2
          },
          "yaxis": {
           "automargin": true,
           "gridcolor": "white",
           "linecolor": "white",
           "ticks": "",
           "title": {
            "standoff": 15
           },
           "zerolinecolor": "white",
           "zerolinewidth": 2
          }
         }
        },
        "title": {
         "text": "Top 15 Mortality Rate's  by 2020-04-07"
        },
        "xaxis": {
         "anchor": "y",
         "domain": [
          0,
          1
         ],
         "title": {
          "text": "Mortality Rate"
         }
        },
        "yaxis": {
         "anchor": "x",
         "domain": [
          0,
          1
         ],
         "title": {
          "text": "Country"
         }
        }
       }
      },
      "text/html": [
       "<div>\n",
       "        \n",
       "        \n",
       "            <div id=\"49095b3c-8d1e-496a-8d03-a3cfa2ac7c1c\" class=\"plotly-graph-div\" style=\"height:525px; width:100%;\"></div>\n",
       "            <script type=\"text/javascript\">\n",
       "                require([\"plotly\"], function(Plotly) {\n",
       "                    window.PLOTLYENV=window.PLOTLYENV || {};\n",
       "                    \n",
       "                if (document.getElementById(\"49095b3c-8d1e-496a-8d03-a3cfa2ac7c1c\")) {\n",
       "                    Plotly.newPlot(\n",
       "                        '49095b3c-8d1e-496a-8d03-a3cfa2ac7c1c',\n",
       "                        [{\"alignmentgroup\": \"True\", \"hoverlabel\": {\"namelength\": 0}, \"hovertemplate\": \"color=Iraq<br>x=%{x}<br>y=%{y}<br>text=%{text}\", \"legendgroup\": \"color=Iraq\", \"marker\": {\"color\": \"#636efa\"}, \"name\": \"color=Iraq\", \"offsetgroup\": \"color=Iraq\", \"orientation\": \"h\", \"showlegend\": true, \"text\": [0.057932263814616754], \"textposition\": \"inside\", \"texttemplate\": \"%{x:.3p}\", \"type\": \"bar\", \"x\": [0.057932263814616754], \"xaxis\": \"x\", \"y\": [\"Iraq\"], \"yaxis\": \"y\"}, {\"alignmentgroup\": \"True\", \"hoverlabel\": {\"namelength\": 0}, \"hovertemplate\": \"color=Iran<br>x=%{x}<br>y=%{y}<br>text=%{text}\", \"legendgroup\": \"color=Iran\", \"marker\": {\"color\": \"#EF553B\"}, \"name\": \"color=Iran\", \"offsetgroup\": \"color=Iran\", \"orientation\": \"h\", \"showlegend\": true, \"text\": [0.061863905798143444], \"textposition\": \"inside\", \"texttemplate\": \"%{x:.3p}\", \"type\": \"bar\", \"x\": [0.061863905798143444], \"xaxis\": \"x\", \"y\": [\"Iran\"], \"yaxis\": \"y\"}, {\"alignmentgroup\": \"True\", \"hoverlabel\": {\"namelength\": 0}, \"hovertemplate\": \"color=Egypt<br>x=%{x}<br>y=%{y}<br>text=%{text}\", \"legendgroup\": \"color=Egypt\", \"marker\": {\"color\": \"#00cc96\"}, \"name\": \"color=Egypt\", \"offsetgroup\": \"color=Egypt\", \"orientation\": \"h\", \"showlegend\": true, \"text\": [0.06482758620689655], \"textposition\": \"inside\", \"texttemplate\": \"%{x:.3p}\", \"type\": \"bar\", \"x\": [0.06482758620689655], \"xaxis\": \"x\", \"y\": [\"Egypt\"], \"yaxis\": \"y\"}, {\"alignmentgroup\": \"True\", \"hoverlabel\": {\"namelength\": 0}, \"hovertemplate\": \"color=Honduras<br>x=%{x}<br>y=%{y}<br>text=%{text}\", \"legendgroup\": \"color=Honduras\", \"marker\": {\"color\": \"#ab63fa\"}, \"name\": \"color=Honduras\", \"offsetgroup\": \"color=Honduras\", \"orientation\": \"h\", \"showlegend\": true, \"text\": [0.07213114754098361], \"textposition\": \"inside\", \"texttemplate\": \"%{x:.3p}\", \"type\": \"bar\", \"x\": [0.07213114754098361], \"xaxis\": \"x\", \"y\": [\"Honduras\"], \"yaxis\": \"y\"}, {\"alignmentgroup\": \"True\", \"hoverlabel\": {\"namelength\": 0}, \"hovertemplate\": \"color=Morocco<br>x=%{x}<br>y=%{y}<br>text=%{text}\", \"legendgroup\": \"color=Morocco\", \"marker\": {\"color\": \"#FFA15A\"}, \"name\": \"color=Morocco\", \"offsetgroup\": \"color=Morocco\", \"orientation\": \"h\", \"showlegend\": true, \"text\": [0.07601351351351351], \"textposition\": \"inside\", \"texttemplate\": \"%{x:.3p}\", \"type\": \"bar\", \"x\": [0.07601351351351351], \"xaxis\": \"x\", \"y\": [\"Morocco\"], \"yaxis\": \"y\"}, {\"alignmentgroup\": \"True\", \"hoverlabel\": {\"namelength\": 0}, \"hovertemplate\": \"color=Sweden<br>x=%{x}<br>y=%{y}<br>text=%{text}\", \"legendgroup\": \"color=Sweden\", \"marker\": {\"color\": \"#19d3f3\"}, \"name\": \"color=Sweden\", \"offsetgroup\": \"color=Sweden\", \"orientation\": \"h\", \"showlegend\": true, \"text\": [0.076823085922267], \"textposition\": \"inside\", \"texttemplate\": \"%{x:.3p}\", \"type\": \"bar\", \"x\": [0.076823085922267], \"xaxis\": \"x\", \"y\": [\"Sweden\"], \"yaxis\": \"y\"}, {\"alignmentgroup\": \"True\", \"hoverlabel\": {\"namelength\": 0}, \"hovertemplate\": \"color=Indonesia<br>x=%{x}<br>y=%{y}<br>text=%{text}\", \"legendgroup\": \"color=Indonesia\", \"marker\": {\"color\": \"#FF6692\"}, \"name\": \"color=Indonesia\", \"offsetgroup\": \"color=Indonesia\", \"orientation\": \"h\", \"showlegend\": true, \"text\": [0.08071585098612126], \"textposition\": \"inside\", \"texttemplate\": \"%{x:.3p}\", \"type\": \"bar\", \"x\": [0.08071585098612126], \"xaxis\": \"x\", \"y\": [\"Indonesia\"], \"yaxis\": \"y\"}, {\"alignmentgroup\": \"True\", \"hoverlabel\": {\"namelength\": 0}, \"hovertemplate\": \"color=Belgium<br>x=%{x}<br>y=%{y}<br>text=%{text}\", \"legendgroup\": \"color=Belgium\", \"marker\": {\"color\": \"#B6E880\"}, \"name\": \"color=Belgium\", \"offsetgroup\": \"color=Belgium\", \"orientation\": \"h\", \"showlegend\": true, \"text\": [0.0916914481391367], \"textposition\": \"inside\", \"texttemplate\": \"%{x:.3p}\", \"type\": \"bar\", \"x\": [0.0916914481391367], \"xaxis\": \"x\", \"y\": [\"Belgium\"], \"yaxis\": \"y\"}, {\"alignmentgroup\": \"True\", \"hoverlabel\": {\"namelength\": 0}, \"hovertemplate\": \"color=France<br>x=%{x}<br>y=%{y}<br>text=%{text}\", \"legendgroup\": \"color=France\", \"marker\": {\"color\": \"#FF97FF\"}, \"name\": \"color=France\", \"offsetgroup\": \"color=France\", \"orientation\": \"h\", \"showlegend\": true, \"text\": [0.09397174396947258], \"textposition\": \"inside\", \"texttemplate\": \"%{x:.3p}\", \"type\": \"bar\", \"x\": [0.09397174396947258], \"xaxis\": \"x\", \"y\": [\"France\"], \"yaxis\": \"y\"}, {\"alignmentgroup\": \"True\", \"hoverlabel\": {\"namelength\": 0}, \"hovertemplate\": \"color=Spain<br>x=%{x}<br>y=%{y}<br>text=%{text}\", \"legendgroup\": \"color=Spain\", \"marker\": {\"color\": \"#FECB52\"}, \"name\": \"color=Spain\", \"offsetgroup\": \"color=Spain\", \"orientation\": \"h\", \"showlegend\": true, \"text\": [0.09894886643840442], \"textposition\": \"inside\", \"texttemplate\": \"%{x:.3p}\", \"type\": \"bar\", \"x\": [0.09894886643840442], \"xaxis\": \"x\", \"y\": [\"Spain\"], \"yaxis\": \"y\"}, {\"alignmentgroup\": \"True\", \"hoverlabel\": {\"namelength\": 0}, \"hovertemplate\": \"color=Netherlands<br>x=%{x}<br>y=%{y}<br>text=%{text}\", \"legendgroup\": \"color=Netherlands\", \"marker\": {\"color\": \"#636efa\"}, \"name\": \"color=Netherlands\", \"offsetgroup\": \"color=Netherlands\", \"orientation\": \"h\", \"showlegend\": true, \"text\": [0.10695621289766097], \"textposition\": \"inside\", \"texttemplate\": \"%{x:.3p}\", \"type\": \"bar\", \"x\": [0.10695621289766097], \"xaxis\": \"x\", \"y\": [\"Netherlands\"], \"yaxis\": \"y\"}, {\"alignmentgroup\": \"True\", \"hoverlabel\": {\"namelength\": 0}, \"hovertemplate\": \"color=United Kingdom<br>x=%{x}<br>y=%{y}<br>text=%{text}\", \"legendgroup\": \"color=United Kingdom\", \"marker\": {\"color\": \"#EF553B\"}, \"name\": \"color=United Kingdom\", \"offsetgroup\": \"color=United Kingdom\", \"orientation\": \"h\", \"showlegend\": true, \"text\": [0.11029687751344974], \"textposition\": \"inside\", \"texttemplate\": \"%{x:.3p}\", \"type\": \"bar\", \"x\": [0.11029687751344974], \"xaxis\": \"x\", \"y\": [\"United Kingdom\"], \"yaxis\": \"y\"}, {\"alignmentgroup\": \"True\", \"hoverlabel\": {\"namelength\": 0}, \"hovertemplate\": \"color=San Marino<br>x=%{x}<br>y=%{y}<br>text=%{text}\", \"legendgroup\": \"color=San Marino\", \"marker\": {\"color\": \"#00cc96\"}, \"name\": \"color=San Marino\", \"offsetgroup\": \"color=San Marino\", \"orientation\": \"h\", \"showlegend\": true, \"text\": [0.12186379928315412], \"textposition\": \"inside\", \"texttemplate\": \"%{x:.3p}\", \"type\": \"bar\", \"x\": [0.12186379928315412], \"xaxis\": \"x\", \"y\": [\"San Marino\"], \"yaxis\": \"y\"}, {\"alignmentgroup\": \"True\", \"hoverlabel\": {\"namelength\": 0}, \"hovertemplate\": \"color=Italy<br>x=%{x}<br>y=%{y}<br>text=%{text}\", \"legendgroup\": \"color=Italy\", \"marker\": {\"color\": \"#ab63fa\"}, \"name\": \"color=Italy\", \"offsetgroup\": \"color=Italy\", \"orientation\": \"h\", \"showlegend\": true, \"text\": [0.12631835145221484], \"textposition\": \"inside\", \"texttemplate\": \"%{x:.3p}\", \"type\": \"bar\", \"x\": [0.12631835145221484], \"xaxis\": \"x\", \"y\": [\"Italy\"], \"yaxis\": \"y\"}, {\"alignmentgroup\": \"True\", \"hoverlabel\": {\"namelength\": 0}, \"hovertemplate\": \"color=Algeria<br>x=%{x}<br>y=%{y}<br>text=%{text}\", \"legendgroup\": \"color=Algeria\", \"marker\": {\"color\": \"#FFA15A\"}, \"name\": \"color=Algeria\", \"offsetgroup\": \"color=Algeria\", \"orientation\": \"h\", \"showlegend\": true, \"text\": [0.13147138964577657], \"textposition\": \"inside\", \"texttemplate\": \"%{x:.3p}\", \"type\": \"bar\", \"x\": [0.13147138964577657], \"xaxis\": \"x\", \"y\": [\"Algeria\"], \"yaxis\": \"y\"}],\n",
       "                        {\"barmode\": \"relative\", \"legend\": {\"tracegroupgap\": 0}, \"margin\": {\"t\": 60}, \"showlegend\": false, \"template\": {\"data\": {\"bar\": [{\"error_x\": {\"color\": \"#2a3f5f\"}, \"error_y\": {\"color\": \"#2a3f5f\"}, \"marker\": {\"line\": {\"color\": \"#E5ECF6\", \"width\": 0.5}}, \"type\": \"bar\"}], \"barpolar\": [{\"marker\": {\"line\": {\"color\": \"#E5ECF6\", \"width\": 0.5}}, \"type\": \"barpolar\"}], \"carpet\": [{\"aaxis\": {\"endlinecolor\": \"#2a3f5f\", \"gridcolor\": \"white\", \"linecolor\": \"white\", \"minorgridcolor\": \"white\", \"startlinecolor\": \"#2a3f5f\"}, \"baxis\": {\"endlinecolor\": \"#2a3f5f\", \"gridcolor\": \"white\", \"linecolor\": \"white\", \"minorgridcolor\": \"white\", \"startlinecolor\": \"#2a3f5f\"}, \"type\": \"carpet\"}], \"choropleth\": [{\"colorbar\": {\"outlinewidth\": 0, \"ticks\": \"\"}, \"type\": \"choropleth\"}], \"contour\": [{\"colorbar\": {\"outlinewidth\": 0, \"ticks\": \"\"}, \"colorscale\": [[0.0, \"#0d0887\"], [0.1111111111111111, \"#46039f\"], [0.2222222222222222, \"#7201a8\"], [0.3333333333333333, \"#9c179e\"], [0.4444444444444444, \"#bd3786\"], [0.5555555555555556, \"#d8576b\"], [0.6666666666666666, \"#ed7953\"], [0.7777777777777778, \"#fb9f3a\"], [0.8888888888888888, \"#fdca26\"], [1.0, \"#f0f921\"]], \"type\": \"contour\"}], \"contourcarpet\": [{\"colorbar\": {\"outlinewidth\": 0, \"ticks\": \"\"}, \"type\": \"contourcarpet\"}], \"heatmap\": [{\"colorbar\": {\"outlinewidth\": 0, \"ticks\": \"\"}, \"colorscale\": [[0.0, \"#0d0887\"], [0.1111111111111111, \"#46039f\"], [0.2222222222222222, \"#7201a8\"], [0.3333333333333333, \"#9c179e\"], [0.4444444444444444, \"#bd3786\"], [0.5555555555555556, \"#d8576b\"], [0.6666666666666666, \"#ed7953\"], [0.7777777777777778, \"#fb9f3a\"], [0.8888888888888888, \"#fdca26\"], [1.0, \"#f0f921\"]], \"type\": \"heatmap\"}], \"heatmapgl\": [{\"colorbar\": {\"outlinewidth\": 0, \"ticks\": \"\"}, \"colorscale\": [[0.0, \"#0d0887\"], [0.1111111111111111, \"#46039f\"], [0.2222222222222222, \"#7201a8\"], [0.3333333333333333, \"#9c179e\"], [0.4444444444444444, \"#bd3786\"], [0.5555555555555556, \"#d8576b\"], [0.6666666666666666, \"#ed7953\"], [0.7777777777777778, \"#fb9f3a\"], [0.8888888888888888, \"#fdca26\"], [1.0, \"#f0f921\"]], \"type\": \"heatmapgl\"}], \"histogram\": [{\"marker\": {\"colorbar\": {\"outlinewidth\": 0, \"ticks\": \"\"}}, \"type\": \"histogram\"}], \"histogram2d\": [{\"colorbar\": {\"outlinewidth\": 0, \"ticks\": \"\"}, \"colorscale\": [[0.0, \"#0d0887\"], [0.1111111111111111, \"#46039f\"], [0.2222222222222222, \"#7201a8\"], [0.3333333333333333, \"#9c179e\"], [0.4444444444444444, \"#bd3786\"], [0.5555555555555556, \"#d8576b\"], [0.6666666666666666, \"#ed7953\"], [0.7777777777777778, \"#fb9f3a\"], [0.8888888888888888, \"#fdca26\"], [1.0, \"#f0f921\"]], \"type\": \"histogram2d\"}], \"histogram2dcontour\": [{\"colorbar\": {\"outlinewidth\": 0, \"ticks\": \"\"}, \"colorscale\": [[0.0, \"#0d0887\"], [0.1111111111111111, \"#46039f\"], [0.2222222222222222, \"#7201a8\"], [0.3333333333333333, \"#9c179e\"], [0.4444444444444444, \"#bd3786\"], [0.5555555555555556, \"#d8576b\"], [0.6666666666666666, \"#ed7953\"], [0.7777777777777778, \"#fb9f3a\"], [0.8888888888888888, \"#fdca26\"], [1.0, \"#f0f921\"]], \"type\": \"histogram2dcontour\"}], \"mesh3d\": [{\"colorbar\": {\"outlinewidth\": 0, \"ticks\": \"\"}, \"type\": \"mesh3d\"}], \"parcoords\": [{\"line\": {\"colorbar\": {\"outlinewidth\": 0, \"ticks\": \"\"}}, \"type\": \"parcoords\"}], \"pie\": [{\"automargin\": true, \"type\": \"pie\"}], \"scatter\": [{\"marker\": {\"colorbar\": {\"outlinewidth\": 0, \"ticks\": \"\"}}, \"type\": \"scatter\"}], \"scatter3d\": [{\"line\": {\"colorbar\": {\"outlinewidth\": 0, \"ticks\": \"\"}}, \"marker\": {\"colorbar\": {\"outlinewidth\": 0, \"ticks\": \"\"}}, \"type\": \"scatter3d\"}], \"scattercarpet\": [{\"marker\": {\"colorbar\": {\"outlinewidth\": 0, \"ticks\": \"\"}}, \"type\": \"scattercarpet\"}], \"scattergeo\": [{\"marker\": {\"colorbar\": {\"outlinewidth\": 0, \"ticks\": \"\"}}, \"type\": \"scattergeo\"}], \"scattergl\": [{\"marker\": {\"colorbar\": {\"outlinewidth\": 0, \"ticks\": \"\"}}, \"type\": \"scattergl\"}], \"scattermapbox\": [{\"marker\": {\"colorbar\": {\"outlinewidth\": 0, \"ticks\": \"\"}}, \"type\": \"scattermapbox\"}], \"scatterpolar\": [{\"marker\": {\"colorbar\": {\"outlinewidth\": 0, \"ticks\": \"\"}}, \"type\": \"scatterpolar\"}], \"scatterpolargl\": [{\"marker\": {\"colorbar\": {\"outlinewidth\": 0, \"ticks\": \"\"}}, \"type\": \"scatterpolargl\"}], \"scatterternary\": [{\"marker\": {\"colorbar\": {\"outlinewidth\": 0, \"ticks\": \"\"}}, \"type\": \"scatterternary\"}], \"surface\": [{\"colorbar\": {\"outlinewidth\": 0, \"ticks\": \"\"}, \"colorscale\": [[0.0, \"#0d0887\"], [0.1111111111111111, \"#46039f\"], [0.2222222222222222, \"#7201a8\"], [0.3333333333333333, \"#9c179e\"], [0.4444444444444444, \"#bd3786\"], [0.5555555555555556, \"#d8576b\"], [0.6666666666666666, \"#ed7953\"], [0.7777777777777778, \"#fb9f3a\"], [0.8888888888888888, \"#fdca26\"], [1.0, \"#f0f921\"]], \"type\": \"surface\"}], \"table\": [{\"cells\": {\"fill\": {\"color\": \"#EBF0F8\"}, \"line\": {\"color\": \"white\"}}, \"header\": {\"fill\": {\"color\": \"#C8D4E3\"}, \"line\": {\"color\": \"white\"}}, \"type\": \"table\"}]}, \"layout\": {\"annotationdefaults\": {\"arrowcolor\": \"#2a3f5f\", \"arrowhead\": 0, \"arrowwidth\": 1}, \"coloraxis\": {\"colorbar\": {\"outlinewidth\": 0, \"ticks\": \"\"}}, \"colorscale\": {\"diverging\": [[0, \"#8e0152\"], [0.1, \"#c51b7d\"], [0.2, \"#de77ae\"], [0.3, \"#f1b6da\"], [0.4, \"#fde0ef\"], [0.5, \"#f7f7f7\"], [0.6, \"#e6f5d0\"], [0.7, \"#b8e186\"], [0.8, \"#7fbc41\"], [0.9, \"#4d9221\"], [1, \"#276419\"]], \"sequential\": [[0.0, \"#0d0887\"], [0.1111111111111111, \"#46039f\"], [0.2222222222222222, \"#7201a8\"], [0.3333333333333333, \"#9c179e\"], [0.4444444444444444, \"#bd3786\"], [0.5555555555555556, \"#d8576b\"], [0.6666666666666666, \"#ed7953\"], [0.7777777777777778, \"#fb9f3a\"], [0.8888888888888888, \"#fdca26\"], [1.0, \"#f0f921\"]], \"sequentialminus\": [[0.0, \"#0d0887\"], [0.1111111111111111, \"#46039f\"], [0.2222222222222222, \"#7201a8\"], [0.3333333333333333, \"#9c179e\"], [0.4444444444444444, \"#bd3786\"], [0.5555555555555556, \"#d8576b\"], [0.6666666666666666, \"#ed7953\"], [0.7777777777777778, \"#fb9f3a\"], [0.8888888888888888, \"#fdca26\"], [1.0, \"#f0f921\"]]}, \"colorway\": [\"#636efa\", \"#EF553B\", \"#00cc96\", \"#ab63fa\", \"#FFA15A\", \"#19d3f3\", \"#FF6692\", \"#B6E880\", \"#FF97FF\", \"#FECB52\"], \"font\": {\"color\": \"#2a3f5f\"}, \"geo\": {\"bgcolor\": \"white\", \"lakecolor\": \"white\", \"landcolor\": \"#E5ECF6\", \"showlakes\": true, \"showland\": true, \"subunitcolor\": \"white\"}, \"hoverlabel\": {\"align\": \"left\"}, \"hovermode\": \"closest\", \"mapbox\": {\"style\": \"light\"}, \"paper_bgcolor\": \"white\", \"plot_bgcolor\": \"#E5ECF6\", \"polar\": {\"angularaxis\": {\"gridcolor\": \"white\", \"linecolor\": \"white\", \"ticks\": \"\"}, \"bgcolor\": \"#E5ECF6\", \"radialaxis\": {\"gridcolor\": \"white\", \"linecolor\": \"white\", \"ticks\": \"\"}}, \"scene\": {\"xaxis\": {\"backgroundcolor\": \"#E5ECF6\", \"gridcolor\": \"white\", \"gridwidth\": 2, \"linecolor\": \"white\", \"showbackground\": true, \"ticks\": \"\", \"zerolinecolor\": \"white\"}, \"yaxis\": {\"backgroundcolor\": \"#E5ECF6\", \"gridcolor\": \"white\", \"gridwidth\": 2, \"linecolor\": \"white\", \"showbackground\": true, \"ticks\": \"\", \"zerolinecolor\": \"white\"}, \"zaxis\": {\"backgroundcolor\": \"#E5ECF6\", \"gridcolor\": \"white\", \"gridwidth\": 2, \"linecolor\": \"white\", \"showbackground\": true, \"ticks\": \"\", \"zerolinecolor\": \"white\"}}, \"shapedefaults\": {\"line\": {\"color\": \"#2a3f5f\"}}, \"ternary\": {\"aaxis\": {\"gridcolor\": \"white\", \"linecolor\": \"white\", \"ticks\": \"\"}, \"baxis\": {\"gridcolor\": \"white\", \"linecolor\": \"white\", \"ticks\": \"\"}, \"bgcolor\": \"#E5ECF6\", \"caxis\": {\"gridcolor\": \"white\", \"linecolor\": \"white\", \"ticks\": \"\"}}, \"title\": {\"x\": 0.05}, \"xaxis\": {\"automargin\": true, \"gridcolor\": \"white\", \"linecolor\": \"white\", \"ticks\": \"\", \"title\": {\"standoff\": 15}, \"zerolinecolor\": \"white\", \"zerolinewidth\": 2}, \"yaxis\": {\"automargin\": true, \"gridcolor\": \"white\", \"linecolor\": \"white\", \"ticks\": \"\", \"title\": {\"standoff\": 15}, \"zerolinecolor\": \"white\", \"zerolinewidth\": 2}}}, \"title\": {\"text\": \"Top 15 Mortality Rate's  by 2020-04-07\"}, \"xaxis\": {\"anchor\": \"y\", \"domain\": [0.0, 1.0], \"title\": {\"text\": \"Mortality Rate\"}}, \"yaxis\": {\"anchor\": \"x\", \"domain\": [0.0, 1.0], \"title\": {\"text\": \"Country\"}}},\n",
       "                        {\"responsive\": true}\n",
       "                    ).then(function(){\n",
       "                            \n",
       "var gd = document.getElementById('49095b3c-8d1e-496a-8d03-a3cfa2ac7c1c');\n",
       "var x = new MutationObserver(function (mutations, observer) {{\n",
       "        var display = window.getComputedStyle(gd).display;\n",
       "        if (!display || display === 'none') {{\n",
       "            console.log([gd, 'removed!']);\n",
       "            Plotly.purge(gd);\n",
       "            observer.disconnect();\n",
       "        }}\n",
       "}});\n",
       "\n",
       "// Listen for the removal of the full notebook cells\n",
       "var notebookContainer = gd.closest('#notebook-container');\n",
       "if (notebookContainer) {{\n",
       "    x.observe(notebookContainer, {childList: true});\n",
       "}}\n",
       "\n",
       "// Listen for the clearing of the current output cell\n",
       "var outputEl = gd.closest('.output');\n",
       "if (outputEl) {{\n",
       "    x.observe(outputEl, {childList: true});\n",
       "}}\n",
       "\n",
       "                        })\n",
       "                };\n",
       "                });\n",
       "            </script>\n",
       "        </div>"
      ]
     },
     "metadata": {},
     "output_type": "display_data"
    },
    {
     "data": {
      "application/vnd.plotly.v1+json": {
       "config": {
        "plotlyServerURL": "https://plot.ly"
       },
       "data": [
        {
         "alignmentgroup": "True",
         "hoverlabel": {
          "namelength": 0
         },
         "hovertemplate": "color=Others<br>x=%{x}<br>y=%{y}<br>text=%{text}",
         "legendgroup": "color=Others",
         "marker": {
          "color": "#636efa"
         },
         "name": "color=Others",
         "offsetgroup": "color=Others",
         "orientation": "h",
         "showlegend": true,
         "text": [
          18722
         ],
         "textposition": "inside",
         "texttemplate": "%{x:,}",
         "type": "bar",
         "x": [
          18722
         ],
         "xaxis": "x",
         "y": [
          "Others"
         ],
         "yaxis": "y"
        },
        {
         "alignmentgroup": "True",
         "hoverlabel": {
          "namelength": 0
         },
         "hovertemplate": "color=Malaysia<br>x=%{x}<br>y=%{y}<br>text=%{text}",
         "legendgroup": "color=Malaysia",
         "marker": {
          "color": "#EF553B"
         },
         "name": "color=Malaysia",
         "offsetgroup": "color=Malaysia",
         "orientation": "h",
         "showlegend": true,
         "text": [
          1321
         ],
         "textposition": "inside",
         "texttemplate": "%{x:,}",
         "type": "bar",
         "x": [
          1321
         ],
         "xaxis": "x",
         "y": [
          "Malaysia"
         ],
         "yaxis": "y"
        },
        {
         "alignmentgroup": "True",
         "hoverlabel": {
          "namelength": 0
         },
         "hovertemplate": "color=Turkey<br>x=%{x}<br>y=%{y}<br>text=%{text}",
         "legendgroup": "color=Turkey",
         "marker": {
          "color": "#00cc96"
         },
         "name": "color=Turkey",
         "offsetgroup": "color=Turkey",
         "orientation": "h",
         "showlegend": true,
         "text": [
          1582
         ],
         "textposition": "inside",
         "texttemplate": "%{x:,}",
         "type": "bar",
         "x": [
          1582
         ],
         "xaxis": "x",
         "y": [
          "Turkey"
         ],
         "yaxis": "y"
        },
        {
         "alignmentgroup": "True",
         "hoverlabel": {
          "namelength": 0
         },
         "hovertemplate": "color=Denmark<br>x=%{x}<br>y=%{y}<br>text=%{text}",
         "legendgroup": "color=Denmark",
         "marker": {
          "color": "#ab63fa"
         },
         "name": "color=Denmark",
         "offsetgroup": "color=Denmark",
         "orientation": "h",
         "showlegend": true,
         "text": [
          1621
         ],
         "textposition": "inside",
         "texttemplate": "%{x:,}",
         "type": "bar",
         "x": [
          1621
         ],
         "xaxis": "x",
         "y": [
          "Denmark"
         ],
         "yaxis": "y"
        },
        {
         "alignmentgroup": "True",
         "hoverlabel": {
          "namelength": 0
         },
         "hovertemplate": "color=Canada<br>x=%{x}<br>y=%{y}<br>text=%{text}",
         "legendgroup": "color=Canada",
         "marker": {
          "color": "#FFA15A"
         },
         "name": "color=Canada",
         "offsetgroup": "color=Canada",
         "orientation": "h",
         "showlegend": true,
         "text": [
          3791
         ],
         "textposition": "inside",
         "texttemplate": "%{x:,}",
         "type": "bar",
         "x": [
          3791
         ],
         "xaxis": "x",
         "y": [
          "Canada"
         ],
         "yaxis": "y"
        },
        {
         "alignmentgroup": "True",
         "hoverlabel": {
          "namelength": 0
         },
         "hovertemplate": "color=Austria<br>x=%{x}<br>y=%{y}<br>text=%{text}",
         "legendgroup": "color=Austria",
         "marker": {
          "color": "#19d3f3"
         },
         "name": "color=Austria",
         "offsetgroup": "color=Austria",
         "orientation": "h",
         "showlegend": true,
         "text": [
          4046
         ],
         "textposition": "inside",
         "texttemplate": "%{x:,}",
         "type": "bar",
         "x": [
          4046
         ],
         "xaxis": "x",
         "y": [
          "Austria"
         ],
         "yaxis": "y"
        },
        {
         "alignmentgroup": "True",
         "hoverlabel": {
          "namelength": 0
         },
         "hovertemplate": "color=Belgium<br>x=%{x}<br>y=%{y}<br>text=%{text}",
         "legendgroup": "color=Belgium",
         "marker": {
          "color": "#FF6692"
         },
         "name": "color=Belgium",
         "offsetgroup": "color=Belgium",
         "orientation": "h",
         "showlegend": true,
         "text": [
          4157
         ],
         "textposition": "inside",
         "texttemplate": "%{x:,}",
         "type": "bar",
         "x": [
          4157
         ],
         "xaxis": "x",
         "y": [
          "Belgium"
         ],
         "yaxis": "y"
        },
        {
         "alignmentgroup": "True",
         "hoverlabel": {
          "namelength": 0
         },
         "hovertemplate": "color=Korea, South<br>x=%{x}<br>y=%{y}<br>text=%{text}",
         "legendgroup": "color=Korea, South",
         "marker": {
          "color": "#B6E880"
         },
         "name": "color=Korea, South",
         "offsetgroup": "color=Korea, South",
         "orientation": "h",
         "showlegend": true,
         "text": [
          6694
         ],
         "textposition": "inside",
         "texttemplate": "%{x:,}",
         "type": "bar",
         "x": [
          6694
         ],
         "xaxis": "x",
         "y": [
          "Korea, South"
         ],
         "yaxis": "y"
        },
        {
         "alignmentgroup": "True",
         "hoverlabel": {
          "namelength": 0
         },
         "hovertemplate": "color=Switzerland<br>x=%{x}<br>y=%{y}<br>text=%{text}",
         "legendgroup": "color=Switzerland",
         "marker": {
          "color": "#FF97FF"
         },
         "name": "color=Switzerland",
         "offsetgroup": "color=Switzerland",
         "orientation": "h",
         "showlegend": true,
         "text": [
          8704
         ],
         "textposition": "inside",
         "texttemplate": "%{x:,}",
         "type": "bar",
         "x": [
          8704
         ],
         "xaxis": "x",
         "y": [
          "Switzerland"
         ],
         "yaxis": "y"
        },
        {
         "alignmentgroup": "True",
         "hoverlabel": {
          "namelength": 0
         },
         "hovertemplate": "color=France<br>x=%{x}<br>y=%{y}<br>text=%{text}",
         "legendgroup": "color=France",
         "marker": {
          "color": "#FECB52"
         },
         "name": "color=France",
         "offsetgroup": "color=France",
         "orientation": "h",
         "showlegend": true,
         "text": [
          19523
         ],
         "textposition": "inside",
         "texttemplate": "%{x:,}",
         "type": "bar",
         "x": [
          19523
         ],
         "xaxis": "x",
         "y": [
          "France"
         ],
         "yaxis": "y"
        },
        {
         "alignmentgroup": "True",
         "hoverlabel": {
          "namelength": 0
         },
         "hovertemplate": "color=US<br>x=%{x}<br>y=%{y}<br>text=%{text}",
         "legendgroup": "color=US",
         "marker": {
          "color": "#636efa"
         },
         "name": "color=US",
         "offsetgroup": "color=US",
         "orientation": "h",
         "showlegend": true,
         "text": [
          21763
         ],
         "textposition": "inside",
         "texttemplate": "%{x:,}",
         "type": "bar",
         "x": [
          21763
         ],
         "xaxis": "x",
         "y": [
          "US"
         ],
         "yaxis": "y"
        },
        {
         "alignmentgroup": "True",
         "hoverlabel": {
          "namelength": 0
         },
         "hovertemplate": "color=Italy<br>x=%{x}<br>y=%{y}<br>text=%{text}",
         "legendgroup": "color=Italy",
         "marker": {
          "color": "#EF553B"
         },
         "name": "color=Italy",
         "offsetgroup": "color=Italy",
         "orientation": "h",
         "showlegend": true,
         "text": [
          24392
         ],
         "textposition": "inside",
         "texttemplate": "%{x:,}",
         "type": "bar",
         "x": [
          24392
         ],
         "xaxis": "x",
         "y": [
          "Italy"
         ],
         "yaxis": "y"
        },
        {
         "alignmentgroup": "True",
         "hoverlabel": {
          "namelength": 0
         },
         "hovertemplate": "color=Iran<br>x=%{x}<br>y=%{y}<br>text=%{text}",
         "legendgroup": "color=Iran",
         "marker": {
          "color": "#00cc96"
         },
         "name": "color=Iran",
         "offsetgroup": "color=Iran",
         "orientation": "h",
         "showlegend": true,
         "text": [
          27039
         ],
         "textposition": "inside",
         "texttemplate": "%{x:,}",
         "type": "bar",
         "x": [
          27039
         ],
         "xaxis": "x",
         "y": [
          "Iran"
         ],
         "yaxis": "y"
        },
        {
         "alignmentgroup": "True",
         "hoverlabel": {
          "namelength": 0
         },
         "hovertemplate": "color=Germany<br>x=%{x}<br>y=%{y}<br>text=%{text}",
         "legendgroup": "color=Germany",
         "marker": {
          "color": "#ab63fa"
         },
         "name": "color=Germany",
         "offsetgroup": "color=Germany",
         "orientation": "h",
         "showlegend": true,
         "text": [
          36081
         ],
         "textposition": "inside",
         "texttemplate": "%{x:,}",
         "type": "bar",
         "x": [
          36081
         ],
         "xaxis": "x",
         "y": [
          "Germany"
         ],
         "yaxis": "y"
        },
        {
         "alignmentgroup": "True",
         "hoverlabel": {
          "namelength": 0
         },
         "hovertemplate": "color=Spain<br>x=%{x}<br>y=%{y}<br>text=%{text}",
         "legendgroup": "color=Spain",
         "marker": {
          "color": "#FFA15A"
         },
         "name": "color=Spain",
         "offsetgroup": "color=Spain",
         "orientation": "h",
         "showlegend": true,
         "text": [
          43208
         ],
         "textposition": "inside",
         "texttemplate": "%{x:,}",
         "type": "bar",
         "x": [
          43208
         ],
         "xaxis": "x",
         "y": [
          "Spain"
         ],
         "yaxis": "y"
        },
        {
         "alignmentgroup": "True",
         "hoverlabel": {
          "namelength": 0
         },
         "hovertemplate": "color=China<br>x=%{x}<br>y=%{y}<br>text=%{text}",
         "legendgroup": "color=China",
         "marker": {
          "color": "#19d3f3"
         },
         "name": "color=China",
         "offsetgroup": "color=China",
         "orientation": "h",
         "showlegend": true,
         "text": [
          77410
         ],
         "textposition": "inside",
         "texttemplate": "%{x:,}",
         "type": "bar",
         "x": [
          77410
         ],
         "xaxis": "x",
         "y": [
          "China"
         ],
         "yaxis": "y"
        }
       ],
       "layout": {
        "barmode": "relative",
        "legend": {
         "tracegroupgap": 0
        },
        "margin": {
         "t": 60
        },
        "showlegend": false,
        "template": {
         "data": {
          "bar": [
           {
            "error_x": {
             "color": "#2a3f5f"
            },
            "error_y": {
             "color": "#2a3f5f"
            },
            "marker": {
             "line": {
              "color": "#E5ECF6",
              "width": 0.5
             }
            },
            "type": "bar"
           }
          ],
          "barpolar": [
           {
            "marker": {
             "line": {
              "color": "#E5ECF6",
              "width": 0.5
             }
            },
            "type": "barpolar"
           }
          ],
          "carpet": [
           {
            "aaxis": {
             "endlinecolor": "#2a3f5f",
             "gridcolor": "white",
             "linecolor": "white",
             "minorgridcolor": "white",
             "startlinecolor": "#2a3f5f"
            },
            "baxis": {
             "endlinecolor": "#2a3f5f",
             "gridcolor": "white",
             "linecolor": "white",
             "minorgridcolor": "white",
             "startlinecolor": "#2a3f5f"
            },
            "type": "carpet"
           }
          ],
          "choropleth": [
           {
            "colorbar": {
             "outlinewidth": 0,
             "ticks": ""
            },
            "type": "choropleth"
           }
          ],
          "contour": [
           {
            "colorbar": {
             "outlinewidth": 0,
             "ticks": ""
            },
            "colorscale": [
             [
              0,
              "#0d0887"
             ],
             [
              0.1111111111111111,
              "#46039f"
             ],
             [
              0.2222222222222222,
              "#7201a8"
             ],
             [
              0.3333333333333333,
              "#9c179e"
             ],
             [
              0.4444444444444444,
              "#bd3786"
             ],
             [
              0.5555555555555556,
              "#d8576b"
             ],
             [
              0.6666666666666666,
              "#ed7953"
             ],
             [
              0.7777777777777778,
              "#fb9f3a"
             ],
             [
              0.8888888888888888,
              "#fdca26"
             ],
             [
              1,
              "#f0f921"
             ]
            ],
            "type": "contour"
           }
          ],
          "contourcarpet": [
           {
            "colorbar": {
             "outlinewidth": 0,
             "ticks": ""
            },
            "type": "contourcarpet"
           }
          ],
          "heatmap": [
           {
            "colorbar": {
             "outlinewidth": 0,
             "ticks": ""
            },
            "colorscale": [
             [
              0,
              "#0d0887"
             ],
             [
              0.1111111111111111,
              "#46039f"
             ],
             [
              0.2222222222222222,
              "#7201a8"
             ],
             [
              0.3333333333333333,
              "#9c179e"
             ],
             [
              0.4444444444444444,
              "#bd3786"
             ],
             [
              0.5555555555555556,
              "#d8576b"
             ],
             [
              0.6666666666666666,
              "#ed7953"
             ],
             [
              0.7777777777777778,
              "#fb9f3a"
             ],
             [
              0.8888888888888888,
              "#fdca26"
             ],
             [
              1,
              "#f0f921"
             ]
            ],
            "type": "heatmap"
           }
          ],
          "heatmapgl": [
           {
            "colorbar": {
             "outlinewidth": 0,
             "ticks": ""
            },
            "colorscale": [
             [
              0,
              "#0d0887"
             ],
             [
              0.1111111111111111,
              "#46039f"
             ],
             [
              0.2222222222222222,
              "#7201a8"
             ],
             [
              0.3333333333333333,
              "#9c179e"
             ],
             [
              0.4444444444444444,
              "#bd3786"
             ],
             [
              0.5555555555555556,
              "#d8576b"
             ],
             [
              0.6666666666666666,
              "#ed7953"
             ],
             [
              0.7777777777777778,
              "#fb9f3a"
             ],
             [
              0.8888888888888888,
              "#fdca26"
             ],
             [
              1,
              "#f0f921"
             ]
            ],
            "type": "heatmapgl"
           }
          ],
          "histogram": [
           {
            "marker": {
             "colorbar": {
              "outlinewidth": 0,
              "ticks": ""
             }
            },
            "type": "histogram"
           }
          ],
          "histogram2d": [
           {
            "colorbar": {
             "outlinewidth": 0,
             "ticks": ""
            },
            "colorscale": [
             [
              0,
              "#0d0887"
             ],
             [
              0.1111111111111111,
              "#46039f"
             ],
             [
              0.2222222222222222,
              "#7201a8"
             ],
             [
              0.3333333333333333,
              "#9c179e"
             ],
             [
              0.4444444444444444,
              "#bd3786"
             ],
             [
              0.5555555555555556,
              "#d8576b"
             ],
             [
              0.6666666666666666,
              "#ed7953"
             ],
             [
              0.7777777777777778,
              "#fb9f3a"
             ],
             [
              0.8888888888888888,
              "#fdca26"
             ],
             [
              1,
              "#f0f921"
             ]
            ],
            "type": "histogram2d"
           }
          ],
          "histogram2dcontour": [
           {
            "colorbar": {
             "outlinewidth": 0,
             "ticks": ""
            },
            "colorscale": [
             [
              0,
              "#0d0887"
             ],
             [
              0.1111111111111111,
              "#46039f"
             ],
             [
              0.2222222222222222,
              "#7201a8"
             ],
             [
              0.3333333333333333,
              "#9c179e"
             ],
             [
              0.4444444444444444,
              "#bd3786"
             ],
             [
              0.5555555555555556,
              "#d8576b"
             ],
             [
              0.6666666666666666,
              "#ed7953"
             ],
             [
              0.7777777777777778,
              "#fb9f3a"
             ],
             [
              0.8888888888888888,
              "#fdca26"
             ],
             [
              1,
              "#f0f921"
             ]
            ],
            "type": "histogram2dcontour"
           }
          ],
          "mesh3d": [
           {
            "colorbar": {
             "outlinewidth": 0,
             "ticks": ""
            },
            "type": "mesh3d"
           }
          ],
          "parcoords": [
           {
            "line": {
             "colorbar": {
              "outlinewidth": 0,
              "ticks": ""
             }
            },
            "type": "parcoords"
           }
          ],
          "pie": [
           {
            "automargin": true,
            "type": "pie"
           }
          ],
          "scatter": [
           {
            "marker": {
             "colorbar": {
              "outlinewidth": 0,
              "ticks": ""
             }
            },
            "type": "scatter"
           }
          ],
          "scatter3d": [
           {
            "line": {
             "colorbar": {
              "outlinewidth": 0,
              "ticks": ""
             }
            },
            "marker": {
             "colorbar": {
              "outlinewidth": 0,
              "ticks": ""
             }
            },
            "type": "scatter3d"
           }
          ],
          "scattercarpet": [
           {
            "marker": {
             "colorbar": {
              "outlinewidth": 0,
              "ticks": ""
             }
            },
            "type": "scattercarpet"
           }
          ],
          "scattergeo": [
           {
            "marker": {
             "colorbar": {
              "outlinewidth": 0,
              "ticks": ""
             }
            },
            "type": "scattergeo"
           }
          ],
          "scattergl": [
           {
            "marker": {
             "colorbar": {
              "outlinewidth": 0,
              "ticks": ""
             }
            },
            "type": "scattergl"
           }
          ],
          "scattermapbox": [
           {
            "marker": {
             "colorbar": {
              "outlinewidth": 0,
              "ticks": ""
             }
            },
            "type": "scattermapbox"
           }
          ],
          "scatterpolar": [
           {
            "marker": {
             "colorbar": {
              "outlinewidth": 0,
              "ticks": ""
             }
            },
            "type": "scatterpolar"
           }
          ],
          "scatterpolargl": [
           {
            "marker": {
             "colorbar": {
              "outlinewidth": 0,
              "ticks": ""
             }
            },
            "type": "scatterpolargl"
           }
          ],
          "scatterternary": [
           {
            "marker": {
             "colorbar": {
              "outlinewidth": 0,
              "ticks": ""
             }
            },
            "type": "scatterternary"
           }
          ],
          "surface": [
           {
            "colorbar": {
             "outlinewidth": 0,
             "ticks": ""
            },
            "colorscale": [
             [
              0,
              "#0d0887"
             ],
             [
              0.1111111111111111,
              "#46039f"
             ],
             [
              0.2222222222222222,
              "#7201a8"
             ],
             [
              0.3333333333333333,
              "#9c179e"
             ],
             [
              0.4444444444444444,
              "#bd3786"
             ],
             [
              0.5555555555555556,
              "#d8576b"
             ],
             [
              0.6666666666666666,
              "#ed7953"
             ],
             [
              0.7777777777777778,
              "#fb9f3a"
             ],
             [
              0.8888888888888888,
              "#fdca26"
             ],
             [
              1,
              "#f0f921"
             ]
            ],
            "type": "surface"
           }
          ],
          "table": [
           {
            "cells": {
             "fill": {
              "color": "#EBF0F8"
             },
             "line": {
              "color": "white"
             }
            },
            "header": {
             "fill": {
              "color": "#C8D4E3"
             },
             "line": {
              "color": "white"
             }
            },
            "type": "table"
           }
          ]
         },
         "layout": {
          "annotationdefaults": {
           "arrowcolor": "#2a3f5f",
           "arrowhead": 0,
           "arrowwidth": 1
          },
          "coloraxis": {
           "colorbar": {
            "outlinewidth": 0,
            "ticks": ""
           }
          },
          "colorscale": {
           "diverging": [
            [
             0,
             "#8e0152"
            ],
            [
             0.1,
             "#c51b7d"
            ],
            [
             0.2,
             "#de77ae"
            ],
            [
             0.3,
             "#f1b6da"
            ],
            [
             0.4,
             "#fde0ef"
            ],
            [
             0.5,
             "#f7f7f7"
            ],
            [
             0.6,
             "#e6f5d0"
            ],
            [
             0.7,
             "#b8e186"
            ],
            [
             0.8,
             "#7fbc41"
            ],
            [
             0.9,
             "#4d9221"
            ],
            [
             1,
             "#276419"
            ]
           ],
           "sequential": [
            [
             0,
             "#0d0887"
            ],
            [
             0.1111111111111111,
             "#46039f"
            ],
            [
             0.2222222222222222,
             "#7201a8"
            ],
            [
             0.3333333333333333,
             "#9c179e"
            ],
            [
             0.4444444444444444,
             "#bd3786"
            ],
            [
             0.5555555555555556,
             "#d8576b"
            ],
            [
             0.6666666666666666,
             "#ed7953"
            ],
            [
             0.7777777777777778,
             "#fb9f3a"
            ],
            [
             0.8888888888888888,
             "#fdca26"
            ],
            [
             1,
             "#f0f921"
            ]
           ],
           "sequentialminus": [
            [
             0,
             "#0d0887"
            ],
            [
             0.1111111111111111,
             "#46039f"
            ],
            [
             0.2222222222222222,
             "#7201a8"
            ],
            [
             0.3333333333333333,
             "#9c179e"
            ],
            [
             0.4444444444444444,
             "#bd3786"
            ],
            [
             0.5555555555555556,
             "#d8576b"
            ],
            [
             0.6666666666666666,
             "#ed7953"
            ],
            [
             0.7777777777777778,
             "#fb9f3a"
            ],
            [
             0.8888888888888888,
             "#fdca26"
            ],
            [
             1,
             "#f0f921"
            ]
           ]
          },
          "colorway": [
           "#636efa",
           "#EF553B",
           "#00cc96",
           "#ab63fa",
           "#FFA15A",
           "#19d3f3",
           "#FF6692",
           "#B6E880",
           "#FF97FF",
           "#FECB52"
          ],
          "font": {
           "color": "#2a3f5f"
          },
          "geo": {
           "bgcolor": "white",
           "lakecolor": "white",
           "landcolor": "#E5ECF6",
           "showlakes": true,
           "showland": true,
           "subunitcolor": "white"
          },
          "hoverlabel": {
           "align": "left"
          },
          "hovermode": "closest",
          "mapbox": {
           "style": "light"
          },
          "paper_bgcolor": "white",
          "plot_bgcolor": "#E5ECF6",
          "polar": {
           "angularaxis": {
            "gridcolor": "white",
            "linecolor": "white",
            "ticks": ""
           },
           "bgcolor": "#E5ECF6",
           "radialaxis": {
            "gridcolor": "white",
            "linecolor": "white",
            "ticks": ""
           }
          },
          "scene": {
           "xaxis": {
            "backgroundcolor": "#E5ECF6",
            "gridcolor": "white",
            "gridwidth": 2,
            "linecolor": "white",
            "showbackground": true,
            "ticks": "",
            "zerolinecolor": "white"
           },
           "yaxis": {
            "backgroundcolor": "#E5ECF6",
            "gridcolor": "white",
            "gridwidth": 2,
            "linecolor": "white",
            "showbackground": true,
            "ticks": "",
            "zerolinecolor": "white"
           },
           "zaxis": {
            "backgroundcolor": "#E5ECF6",
            "gridcolor": "white",
            "gridwidth": 2,
            "linecolor": "white",
            "showbackground": true,
            "ticks": "",
            "zerolinecolor": "white"
           }
          },
          "shapedefaults": {
           "line": {
            "color": "#2a3f5f"
           }
          },
          "ternary": {
           "aaxis": {
            "gridcolor": "white",
            "linecolor": "white",
            "ticks": ""
           },
           "baxis": {
            "gridcolor": "white",
            "linecolor": "white",
            "ticks": ""
           },
           "bgcolor": "#E5ECF6",
           "caxis": {
            "gridcolor": "white",
            "linecolor": "white",
            "ticks": ""
           }
          },
          "title": {
           "x": 0.05
          },
          "xaxis": {
           "automargin": true,
           "gridcolor": "white",
           "linecolor": "white",
           "ticks": "",
           "title": {
            "standoff": 15
           },
           "zerolinecolor": "white",
           "zerolinewidth": 2
          },
          "yaxis": {
           "automargin": true,
           "gridcolor": "white",
           "linecolor": "white",
           "ticks": "",
           "title": {
            "standoff": 15
           },
           "zerolinecolor": "white",
           "zerolinewidth": 2
          }
         }
        },
        "title": {
         "text": "Top 15 Recovered cases by 2020-04-07"
        },
        "xaxis": {
         "anchor": "y",
         "domain": [
          0,
          1
         ],
         "title": {
          "text": "Recovered Cases"
         }
        },
        "yaxis": {
         "anchor": "x",
         "domain": [
          0,
          1
         ],
         "title": {
          "text": "Country"
         }
        }
       }
      },
      "text/html": [
       "<div>\n",
       "        \n",
       "        \n",
       "            <div id=\"bd8ff2cc-dfb8-4892-a628-b906a5f41a39\" class=\"plotly-graph-div\" style=\"height:525px; width:100%;\"></div>\n",
       "            <script type=\"text/javascript\">\n",
       "                require([\"plotly\"], function(Plotly) {\n",
       "                    window.PLOTLYENV=window.PLOTLYENV || {};\n",
       "                    \n",
       "                if (document.getElementById(\"bd8ff2cc-dfb8-4892-a628-b906a5f41a39\")) {\n",
       "                    Plotly.newPlot(\n",
       "                        'bd8ff2cc-dfb8-4892-a628-b906a5f41a39',\n",
       "                        [{\"alignmentgroup\": \"True\", \"hoverlabel\": {\"namelength\": 0}, \"hovertemplate\": \"color=Others<br>x=%{x}<br>y=%{y}<br>text=%{text}\", \"legendgroup\": \"color=Others\", \"marker\": {\"color\": \"#636efa\"}, \"name\": \"color=Others\", \"offsetgroup\": \"color=Others\", \"orientation\": \"h\", \"showlegend\": true, \"text\": [18722.0], \"textposition\": \"inside\", \"texttemplate\": \"%{x:,}\", \"type\": \"bar\", \"x\": [18722], \"xaxis\": \"x\", \"y\": [\"Others\"], \"yaxis\": \"y\"}, {\"alignmentgroup\": \"True\", \"hoverlabel\": {\"namelength\": 0}, \"hovertemplate\": \"color=Malaysia<br>x=%{x}<br>y=%{y}<br>text=%{text}\", \"legendgroup\": \"color=Malaysia\", \"marker\": {\"color\": \"#EF553B\"}, \"name\": \"color=Malaysia\", \"offsetgroup\": \"color=Malaysia\", \"orientation\": \"h\", \"showlegend\": true, \"text\": [1321.0], \"textposition\": \"inside\", \"texttemplate\": \"%{x:,}\", \"type\": \"bar\", \"x\": [1321], \"xaxis\": \"x\", \"y\": [\"Malaysia\"], \"yaxis\": \"y\"}, {\"alignmentgroup\": \"True\", \"hoverlabel\": {\"namelength\": 0}, \"hovertemplate\": \"color=Turkey<br>x=%{x}<br>y=%{y}<br>text=%{text}\", \"legendgroup\": \"color=Turkey\", \"marker\": {\"color\": \"#00cc96\"}, \"name\": \"color=Turkey\", \"offsetgroup\": \"color=Turkey\", \"orientation\": \"h\", \"showlegend\": true, \"text\": [1582.0], \"textposition\": \"inside\", \"texttemplate\": \"%{x:,}\", \"type\": \"bar\", \"x\": [1582], \"xaxis\": \"x\", \"y\": [\"Turkey\"], \"yaxis\": \"y\"}, {\"alignmentgroup\": \"True\", \"hoverlabel\": {\"namelength\": 0}, \"hovertemplate\": \"color=Denmark<br>x=%{x}<br>y=%{y}<br>text=%{text}\", \"legendgroup\": \"color=Denmark\", \"marker\": {\"color\": \"#ab63fa\"}, \"name\": \"color=Denmark\", \"offsetgroup\": \"color=Denmark\", \"orientation\": \"h\", \"showlegend\": true, \"text\": [1621.0], \"textposition\": \"inside\", \"texttemplate\": \"%{x:,}\", \"type\": \"bar\", \"x\": [1621], \"xaxis\": \"x\", \"y\": [\"Denmark\"], \"yaxis\": \"y\"}, {\"alignmentgroup\": \"True\", \"hoverlabel\": {\"namelength\": 0}, \"hovertemplate\": \"color=Canada<br>x=%{x}<br>y=%{y}<br>text=%{text}\", \"legendgroup\": \"color=Canada\", \"marker\": {\"color\": \"#FFA15A\"}, \"name\": \"color=Canada\", \"offsetgroup\": \"color=Canada\", \"orientation\": \"h\", \"showlegend\": true, \"text\": [3791.0], \"textposition\": \"inside\", \"texttemplate\": \"%{x:,}\", \"type\": \"bar\", \"x\": [3791], \"xaxis\": \"x\", \"y\": [\"Canada\"], \"yaxis\": \"y\"}, {\"alignmentgroup\": \"True\", \"hoverlabel\": {\"namelength\": 0}, \"hovertemplate\": \"color=Austria<br>x=%{x}<br>y=%{y}<br>text=%{text}\", \"legendgroup\": \"color=Austria\", \"marker\": {\"color\": \"#19d3f3\"}, \"name\": \"color=Austria\", \"offsetgroup\": \"color=Austria\", \"orientation\": \"h\", \"showlegend\": true, \"text\": [4046.0], \"textposition\": \"inside\", \"texttemplate\": \"%{x:,}\", \"type\": \"bar\", \"x\": [4046], \"xaxis\": \"x\", \"y\": [\"Austria\"], \"yaxis\": \"y\"}, {\"alignmentgroup\": \"True\", \"hoverlabel\": {\"namelength\": 0}, \"hovertemplate\": \"color=Belgium<br>x=%{x}<br>y=%{y}<br>text=%{text}\", \"legendgroup\": \"color=Belgium\", \"marker\": {\"color\": \"#FF6692\"}, \"name\": \"color=Belgium\", \"offsetgroup\": \"color=Belgium\", \"orientation\": \"h\", \"showlegend\": true, \"text\": [4157.0], \"textposition\": \"inside\", \"texttemplate\": \"%{x:,}\", \"type\": \"bar\", \"x\": [4157], \"xaxis\": \"x\", \"y\": [\"Belgium\"], \"yaxis\": \"y\"}, {\"alignmentgroup\": \"True\", \"hoverlabel\": {\"namelength\": 0}, \"hovertemplate\": \"color=Korea, South<br>x=%{x}<br>y=%{y}<br>text=%{text}\", \"legendgroup\": \"color=Korea, South\", \"marker\": {\"color\": \"#B6E880\"}, \"name\": \"color=Korea, South\", \"offsetgroup\": \"color=Korea, South\", \"orientation\": \"h\", \"showlegend\": true, \"text\": [6694.0], \"textposition\": \"inside\", \"texttemplate\": \"%{x:,}\", \"type\": \"bar\", \"x\": [6694], \"xaxis\": \"x\", \"y\": [\"Korea, South\"], \"yaxis\": \"y\"}, {\"alignmentgroup\": \"True\", \"hoverlabel\": {\"namelength\": 0}, \"hovertemplate\": \"color=Switzerland<br>x=%{x}<br>y=%{y}<br>text=%{text}\", \"legendgroup\": \"color=Switzerland\", \"marker\": {\"color\": \"#FF97FF\"}, \"name\": \"color=Switzerland\", \"offsetgroup\": \"color=Switzerland\", \"orientation\": \"h\", \"showlegend\": true, \"text\": [8704.0], \"textposition\": \"inside\", \"texttemplate\": \"%{x:,}\", \"type\": \"bar\", \"x\": [8704], \"xaxis\": \"x\", \"y\": [\"Switzerland\"], \"yaxis\": \"y\"}, {\"alignmentgroup\": \"True\", \"hoverlabel\": {\"namelength\": 0}, \"hovertemplate\": \"color=France<br>x=%{x}<br>y=%{y}<br>text=%{text}\", \"legendgroup\": \"color=France\", \"marker\": {\"color\": \"#FECB52\"}, \"name\": \"color=France\", \"offsetgroup\": \"color=France\", \"orientation\": \"h\", \"showlegend\": true, \"text\": [19523.0], \"textposition\": \"inside\", \"texttemplate\": \"%{x:,}\", \"type\": \"bar\", \"x\": [19523], \"xaxis\": \"x\", \"y\": [\"France\"], \"yaxis\": \"y\"}, {\"alignmentgroup\": \"True\", \"hoverlabel\": {\"namelength\": 0}, \"hovertemplate\": \"color=US<br>x=%{x}<br>y=%{y}<br>text=%{text}\", \"legendgroup\": \"color=US\", \"marker\": {\"color\": \"#636efa\"}, \"name\": \"color=US\", \"offsetgroup\": \"color=US\", \"orientation\": \"h\", \"showlegend\": true, \"text\": [21763.0], \"textposition\": \"inside\", \"texttemplate\": \"%{x:,}\", \"type\": \"bar\", \"x\": [21763], \"xaxis\": \"x\", \"y\": [\"US\"], \"yaxis\": \"y\"}, {\"alignmentgroup\": \"True\", \"hoverlabel\": {\"namelength\": 0}, \"hovertemplate\": \"color=Italy<br>x=%{x}<br>y=%{y}<br>text=%{text}\", \"legendgroup\": \"color=Italy\", \"marker\": {\"color\": \"#EF553B\"}, \"name\": \"color=Italy\", \"offsetgroup\": \"color=Italy\", \"orientation\": \"h\", \"showlegend\": true, \"text\": [24392.0], \"textposition\": \"inside\", \"texttemplate\": \"%{x:,}\", \"type\": \"bar\", \"x\": [24392], \"xaxis\": \"x\", \"y\": [\"Italy\"], \"yaxis\": \"y\"}, {\"alignmentgroup\": \"True\", \"hoverlabel\": {\"namelength\": 0}, \"hovertemplate\": \"color=Iran<br>x=%{x}<br>y=%{y}<br>text=%{text}\", \"legendgroup\": \"color=Iran\", \"marker\": {\"color\": \"#00cc96\"}, \"name\": \"color=Iran\", \"offsetgroup\": \"color=Iran\", \"orientation\": \"h\", \"showlegend\": true, \"text\": [27039.0], \"textposition\": \"inside\", \"texttemplate\": \"%{x:,}\", \"type\": \"bar\", \"x\": [27039], \"xaxis\": \"x\", \"y\": [\"Iran\"], \"yaxis\": \"y\"}, {\"alignmentgroup\": \"True\", \"hoverlabel\": {\"namelength\": 0}, \"hovertemplate\": \"color=Germany<br>x=%{x}<br>y=%{y}<br>text=%{text}\", \"legendgroup\": \"color=Germany\", \"marker\": {\"color\": \"#ab63fa\"}, \"name\": \"color=Germany\", \"offsetgroup\": \"color=Germany\", \"orientation\": \"h\", \"showlegend\": true, \"text\": [36081.0], \"textposition\": \"inside\", \"texttemplate\": \"%{x:,}\", \"type\": \"bar\", \"x\": [36081], \"xaxis\": \"x\", \"y\": [\"Germany\"], \"yaxis\": \"y\"}, {\"alignmentgroup\": \"True\", \"hoverlabel\": {\"namelength\": 0}, \"hovertemplate\": \"color=Spain<br>x=%{x}<br>y=%{y}<br>text=%{text}\", \"legendgroup\": \"color=Spain\", \"marker\": {\"color\": \"#FFA15A\"}, \"name\": \"color=Spain\", \"offsetgroup\": \"color=Spain\", \"orientation\": \"h\", \"showlegend\": true, \"text\": [43208.0], \"textposition\": \"inside\", \"texttemplate\": \"%{x:,}\", \"type\": \"bar\", \"x\": [43208], \"xaxis\": \"x\", \"y\": [\"Spain\"], \"yaxis\": \"y\"}, {\"alignmentgroup\": \"True\", \"hoverlabel\": {\"namelength\": 0}, \"hovertemplate\": \"color=China<br>x=%{x}<br>y=%{y}<br>text=%{text}\", \"legendgroup\": \"color=China\", \"marker\": {\"color\": \"#19d3f3\"}, \"name\": \"color=China\", \"offsetgroup\": \"color=China\", \"orientation\": \"h\", \"showlegend\": true, \"text\": [77410.0], \"textposition\": \"inside\", \"texttemplate\": \"%{x:,}\", \"type\": \"bar\", \"x\": [77410], \"xaxis\": \"x\", \"y\": [\"China\"], \"yaxis\": \"y\"}],\n",
       "                        {\"barmode\": \"relative\", \"legend\": {\"tracegroupgap\": 0}, \"margin\": {\"t\": 60}, \"showlegend\": false, \"template\": {\"data\": {\"bar\": [{\"error_x\": {\"color\": \"#2a3f5f\"}, \"error_y\": {\"color\": \"#2a3f5f\"}, \"marker\": {\"line\": {\"color\": \"#E5ECF6\", \"width\": 0.5}}, \"type\": \"bar\"}], \"barpolar\": [{\"marker\": {\"line\": {\"color\": \"#E5ECF6\", \"width\": 0.5}}, \"type\": \"barpolar\"}], \"carpet\": [{\"aaxis\": {\"endlinecolor\": \"#2a3f5f\", \"gridcolor\": \"white\", \"linecolor\": \"white\", \"minorgridcolor\": \"white\", \"startlinecolor\": \"#2a3f5f\"}, \"baxis\": {\"endlinecolor\": \"#2a3f5f\", \"gridcolor\": \"white\", \"linecolor\": \"white\", \"minorgridcolor\": \"white\", \"startlinecolor\": \"#2a3f5f\"}, \"type\": \"carpet\"}], \"choropleth\": [{\"colorbar\": {\"outlinewidth\": 0, \"ticks\": \"\"}, \"type\": \"choropleth\"}], \"contour\": [{\"colorbar\": {\"outlinewidth\": 0, \"ticks\": \"\"}, \"colorscale\": [[0.0, \"#0d0887\"], [0.1111111111111111, \"#46039f\"], [0.2222222222222222, \"#7201a8\"], [0.3333333333333333, \"#9c179e\"], [0.4444444444444444, \"#bd3786\"], [0.5555555555555556, \"#d8576b\"], [0.6666666666666666, \"#ed7953\"], [0.7777777777777778, \"#fb9f3a\"], [0.8888888888888888, \"#fdca26\"], [1.0, \"#f0f921\"]], \"type\": \"contour\"}], \"contourcarpet\": [{\"colorbar\": {\"outlinewidth\": 0, \"ticks\": \"\"}, \"type\": \"contourcarpet\"}], \"heatmap\": [{\"colorbar\": {\"outlinewidth\": 0, \"ticks\": \"\"}, \"colorscale\": [[0.0, \"#0d0887\"], [0.1111111111111111, \"#46039f\"], [0.2222222222222222, \"#7201a8\"], [0.3333333333333333, \"#9c179e\"], [0.4444444444444444, \"#bd3786\"], [0.5555555555555556, \"#d8576b\"], [0.6666666666666666, \"#ed7953\"], [0.7777777777777778, \"#fb9f3a\"], [0.8888888888888888, \"#fdca26\"], [1.0, \"#f0f921\"]], \"type\": \"heatmap\"}], \"heatmapgl\": [{\"colorbar\": {\"outlinewidth\": 0, \"ticks\": \"\"}, \"colorscale\": [[0.0, \"#0d0887\"], [0.1111111111111111, \"#46039f\"], [0.2222222222222222, \"#7201a8\"], [0.3333333333333333, \"#9c179e\"], [0.4444444444444444, \"#bd3786\"], [0.5555555555555556, \"#d8576b\"], [0.6666666666666666, \"#ed7953\"], [0.7777777777777778, \"#fb9f3a\"], [0.8888888888888888, \"#fdca26\"], [1.0, \"#f0f921\"]], \"type\": \"heatmapgl\"}], \"histogram\": [{\"marker\": {\"colorbar\": {\"outlinewidth\": 0, \"ticks\": \"\"}}, \"type\": \"histogram\"}], \"histogram2d\": [{\"colorbar\": {\"outlinewidth\": 0, \"ticks\": \"\"}, \"colorscale\": [[0.0, \"#0d0887\"], [0.1111111111111111, \"#46039f\"], [0.2222222222222222, \"#7201a8\"], [0.3333333333333333, \"#9c179e\"], [0.4444444444444444, \"#bd3786\"], [0.5555555555555556, \"#d8576b\"], [0.6666666666666666, \"#ed7953\"], [0.7777777777777778, \"#fb9f3a\"], [0.8888888888888888, \"#fdca26\"], [1.0, \"#f0f921\"]], \"type\": \"histogram2d\"}], \"histogram2dcontour\": [{\"colorbar\": {\"outlinewidth\": 0, \"ticks\": \"\"}, \"colorscale\": [[0.0, \"#0d0887\"], [0.1111111111111111, \"#46039f\"], [0.2222222222222222, \"#7201a8\"], [0.3333333333333333, \"#9c179e\"], [0.4444444444444444, \"#bd3786\"], [0.5555555555555556, \"#d8576b\"], [0.6666666666666666, \"#ed7953\"], [0.7777777777777778, \"#fb9f3a\"], [0.8888888888888888, \"#fdca26\"], [1.0, \"#f0f921\"]], \"type\": \"histogram2dcontour\"}], \"mesh3d\": [{\"colorbar\": {\"outlinewidth\": 0, \"ticks\": \"\"}, \"type\": \"mesh3d\"}], \"parcoords\": [{\"line\": {\"colorbar\": {\"outlinewidth\": 0, \"ticks\": \"\"}}, \"type\": \"parcoords\"}], \"pie\": [{\"automargin\": true, \"type\": \"pie\"}], \"scatter\": [{\"marker\": {\"colorbar\": {\"outlinewidth\": 0, \"ticks\": \"\"}}, \"type\": \"scatter\"}], \"scatter3d\": [{\"line\": {\"colorbar\": {\"outlinewidth\": 0, \"ticks\": \"\"}}, \"marker\": {\"colorbar\": {\"outlinewidth\": 0, \"ticks\": \"\"}}, \"type\": \"scatter3d\"}], \"scattercarpet\": [{\"marker\": {\"colorbar\": {\"outlinewidth\": 0, \"ticks\": \"\"}}, \"type\": \"scattercarpet\"}], \"scattergeo\": [{\"marker\": {\"colorbar\": {\"outlinewidth\": 0, \"ticks\": \"\"}}, \"type\": \"scattergeo\"}], \"scattergl\": [{\"marker\": {\"colorbar\": {\"outlinewidth\": 0, \"ticks\": \"\"}}, \"type\": \"scattergl\"}], \"scattermapbox\": [{\"marker\": {\"colorbar\": {\"outlinewidth\": 0, \"ticks\": \"\"}}, \"type\": \"scattermapbox\"}], \"scatterpolar\": [{\"marker\": {\"colorbar\": {\"outlinewidth\": 0, \"ticks\": \"\"}}, \"type\": \"scatterpolar\"}], \"scatterpolargl\": [{\"marker\": {\"colorbar\": {\"outlinewidth\": 0, \"ticks\": \"\"}}, \"type\": \"scatterpolargl\"}], \"scatterternary\": [{\"marker\": {\"colorbar\": {\"outlinewidth\": 0, \"ticks\": \"\"}}, \"type\": \"scatterternary\"}], \"surface\": [{\"colorbar\": {\"outlinewidth\": 0, \"ticks\": \"\"}, \"colorscale\": [[0.0, \"#0d0887\"], [0.1111111111111111, \"#46039f\"], [0.2222222222222222, \"#7201a8\"], [0.3333333333333333, \"#9c179e\"], [0.4444444444444444, \"#bd3786\"], [0.5555555555555556, \"#d8576b\"], [0.6666666666666666, \"#ed7953\"], [0.7777777777777778, \"#fb9f3a\"], [0.8888888888888888, \"#fdca26\"], [1.0, \"#f0f921\"]], \"type\": \"surface\"}], \"table\": [{\"cells\": {\"fill\": {\"color\": \"#EBF0F8\"}, \"line\": {\"color\": \"white\"}}, \"header\": {\"fill\": {\"color\": \"#C8D4E3\"}, \"line\": {\"color\": \"white\"}}, \"type\": \"table\"}]}, \"layout\": {\"annotationdefaults\": {\"arrowcolor\": \"#2a3f5f\", \"arrowhead\": 0, \"arrowwidth\": 1}, \"coloraxis\": {\"colorbar\": {\"outlinewidth\": 0, \"ticks\": \"\"}}, \"colorscale\": {\"diverging\": [[0, \"#8e0152\"], [0.1, \"#c51b7d\"], [0.2, \"#de77ae\"], [0.3, \"#f1b6da\"], [0.4, \"#fde0ef\"], [0.5, \"#f7f7f7\"], [0.6, \"#e6f5d0\"], [0.7, \"#b8e186\"], [0.8, \"#7fbc41\"], [0.9, \"#4d9221\"], [1, \"#276419\"]], \"sequential\": [[0.0, \"#0d0887\"], [0.1111111111111111, \"#46039f\"], [0.2222222222222222, \"#7201a8\"], [0.3333333333333333, \"#9c179e\"], [0.4444444444444444, \"#bd3786\"], [0.5555555555555556, \"#d8576b\"], [0.6666666666666666, \"#ed7953\"], [0.7777777777777778, \"#fb9f3a\"], [0.8888888888888888, \"#fdca26\"], [1.0, \"#f0f921\"]], \"sequentialminus\": [[0.0, \"#0d0887\"], [0.1111111111111111, \"#46039f\"], [0.2222222222222222, \"#7201a8\"], [0.3333333333333333, \"#9c179e\"], [0.4444444444444444, \"#bd3786\"], [0.5555555555555556, \"#d8576b\"], [0.6666666666666666, \"#ed7953\"], [0.7777777777777778, \"#fb9f3a\"], [0.8888888888888888, \"#fdca26\"], [1.0, \"#f0f921\"]]}, \"colorway\": [\"#636efa\", \"#EF553B\", \"#00cc96\", \"#ab63fa\", \"#FFA15A\", \"#19d3f3\", \"#FF6692\", \"#B6E880\", \"#FF97FF\", \"#FECB52\"], \"font\": {\"color\": \"#2a3f5f\"}, \"geo\": {\"bgcolor\": \"white\", \"lakecolor\": \"white\", \"landcolor\": \"#E5ECF6\", \"showlakes\": true, \"showland\": true, \"subunitcolor\": \"white\"}, \"hoverlabel\": {\"align\": \"left\"}, \"hovermode\": \"closest\", \"mapbox\": {\"style\": \"light\"}, \"paper_bgcolor\": \"white\", \"plot_bgcolor\": \"#E5ECF6\", \"polar\": {\"angularaxis\": {\"gridcolor\": \"white\", \"linecolor\": \"white\", \"ticks\": \"\"}, \"bgcolor\": \"#E5ECF6\", \"radialaxis\": {\"gridcolor\": \"white\", \"linecolor\": \"white\", \"ticks\": \"\"}}, \"scene\": {\"xaxis\": {\"backgroundcolor\": \"#E5ECF6\", \"gridcolor\": \"white\", \"gridwidth\": 2, \"linecolor\": \"white\", \"showbackground\": true, \"ticks\": \"\", \"zerolinecolor\": \"white\"}, \"yaxis\": {\"backgroundcolor\": \"#E5ECF6\", \"gridcolor\": \"white\", \"gridwidth\": 2, \"linecolor\": \"white\", \"showbackground\": true, \"ticks\": \"\", \"zerolinecolor\": \"white\"}, \"zaxis\": {\"backgroundcolor\": \"#E5ECF6\", \"gridcolor\": \"white\", \"gridwidth\": 2, \"linecolor\": \"white\", \"showbackground\": true, \"ticks\": \"\", \"zerolinecolor\": \"white\"}}, \"shapedefaults\": {\"line\": {\"color\": \"#2a3f5f\"}}, \"ternary\": {\"aaxis\": {\"gridcolor\": \"white\", \"linecolor\": \"white\", \"ticks\": \"\"}, \"baxis\": {\"gridcolor\": \"white\", \"linecolor\": \"white\", \"ticks\": \"\"}, \"bgcolor\": \"#E5ECF6\", \"caxis\": {\"gridcolor\": \"white\", \"linecolor\": \"white\", \"ticks\": \"\"}}, \"title\": {\"x\": 0.05}, \"xaxis\": {\"automargin\": true, \"gridcolor\": \"white\", \"linecolor\": \"white\", \"ticks\": \"\", \"title\": {\"standoff\": 15}, \"zerolinecolor\": \"white\", \"zerolinewidth\": 2}, \"yaxis\": {\"automargin\": true, \"gridcolor\": \"white\", \"linecolor\": \"white\", \"ticks\": \"\", \"title\": {\"standoff\": 15}, \"zerolinecolor\": \"white\", \"zerolinewidth\": 2}}}, \"title\": {\"text\": \"Top 15 Recovered cases by 2020-04-07\"}, \"xaxis\": {\"anchor\": \"y\", \"domain\": [0.0, 1.0], \"title\": {\"text\": \"Recovered Cases\"}}, \"yaxis\": {\"anchor\": \"x\", \"domain\": [0.0, 1.0], \"title\": {\"text\": \"Country\"}}},\n",
       "                        {\"responsive\": true}\n",
       "                    ).then(function(){\n",
       "                            \n",
       "var gd = document.getElementById('bd8ff2cc-dfb8-4892-a628-b906a5f41a39');\n",
       "var x = new MutationObserver(function (mutations, observer) {{\n",
       "        var display = window.getComputedStyle(gd).display;\n",
       "        if (!display || display === 'none') {{\n",
       "            console.log([gd, 'removed!']);\n",
       "            Plotly.purge(gd);\n",
       "            observer.disconnect();\n",
       "        }}\n",
       "}});\n",
       "\n",
       "// Listen for the removal of the full notebook cells\n",
       "var notebookContainer = gd.closest('#notebook-container');\n",
       "if (notebookContainer) {{\n",
       "    x.observe(notebookContainer, {childList: true});\n",
       "}}\n",
       "\n",
       "// Listen for the clearing of the current output cell\n",
       "var outputEl = gd.closest('.output');\n",
       "if (outputEl) {{\n",
       "    x.observe(outputEl, {childList: true});\n",
       "}}\n",
       "\n",
       "                        })\n",
       "                };\n",
       "                });\n",
       "            </script>\n",
       "        </div>"
      ]
     },
     "metadata": {},
     "output_type": "display_data"
    }
   ],
   "source": [
    "def plot_bar_top(n, kind, ascending=False):\n",
    "    \n",
    "    def plot_mortality_rate():\n",
    "        confirmed = TimeSeries(data_dict['Confirmed']).get_last_values()\n",
    "        deaths = TimeSeries(data_dict['Deaths']).get_last_values()\n",
    "        df = pd.DataFrame({'Confirmed':confirmed,'Deaths':deaths,'Mortality Rate':deaths/confirmed})\n",
    "        df = df[df['Confirmed']>250]\n",
    "        mortality_rates = df['Mortality Rate']\n",
    "        top_values = mortality_rates.sort_values(ascending=ascending).head(n)\n",
    "        top_values = top_values[::-1]\n",
    "        \n",
    "        title = \"Top {} {}'s  by {}\".format(n,kind,last_update)\n",
    "        xaxis_title = '{}'.format(kind)\n",
    "        \n",
    "        fig = px.bar(x=top_values.values,y=top_values.index,color=top_values.index,\n",
    "                     orientation='h',text=top_values.values)\n",
    "        fig.update_layout(showlegend=False,title=title,xaxis_title=xaxis_title,\n",
    "                         yaxis_title='Country')\n",
    "        fig.update_traces(textposition='inside',texttemplate='%{x:.3p}')\n",
    "        fig.show()\n",
    "    \n",
    "    if kind == 'Mortality Rate':\n",
    "        plot_mortality_rate()\n",
    "        \n",
    "    else:\n",
    "        data_source = data_dict[kind]\n",
    "        data = TimeSeries(data_source).get_last_values()\n",
    "\n",
    "        top_values = list(data.sort_values(ascending=ascending).head(n).values)\n",
    "        others_sum = data.sort_values().head(len(data)-n).sum()\n",
    "        top_values.append(others_sum)\n",
    "\n",
    "        y = data.sort_values(ascending=ascending).head(n).index.to_list()\n",
    "        y.append('Others')\n",
    "        y=y[::-1]\n",
    "        x = top_values[::-1]\n",
    "\n",
    "        title = 'Top {} {} cases by {}'.format(n,kind,last_update)\n",
    "        xaxis_title = '{} Cases'.format(kind)\n",
    "\n",
    "        fig = px.bar(x=x,y=y,color=y,orientation='h',text=x)\n",
    "        fig.update_layout(showlegend=False,title=title,xaxis_title=xaxis_title,\n",
    "                         yaxis_title='Country')\n",
    "        fig.update_traces(textposition='inside',texttemplate='%{x:,}')\n",
    "        fig.show()\n",
    "\n",
    "plot_bar_top(15,'Confirmed')\n",
    "plot_bar_top(15,'Deaths')\n",
    "plot_bar_top(15,'Mortality Rate')\n",
    "plot_bar_top(15,'Recovered')"
   ]
  },
  {
   "cell_type": "markdown",
   "metadata": {},
   "source": [
    "# Countries with the lowest mortality rates\n",
    "\n",
    "> **Note:** Taking in consideration only the countries that have 250 or more confirmed cases"
   ]
  },
  {
   "cell_type": "code",
   "execution_count": 108,
   "metadata": {
    "scrolled": true
   },
   "outputs": [
    {
     "data": {
      "application/vnd.plotly.v1+json": {
       "config": {
        "plotlyServerURL": "https://plot.ly"
       },
       "data": [
        {
         "alignmentgroup": "True",
         "hoverlabel": {
          "namelength": 0
         },
         "hovertemplate": "color=Israel<br>x=%{x}<br>y=%{y}<br>text=%{text}",
         "legendgroup": "color=Israel",
         "marker": {
          "color": "#636efa"
         },
         "name": "color=Israel",
         "offsetgroup": "color=Israel",
         "orientation": "h",
         "showlegend": true,
         "text": [
          0.007028546712802768
         ],
         "textposition": "inside",
         "texttemplate": "%{x:.3p}",
         "type": "bar",
         "x": [
          0.007028546712802768
         ],
         "xaxis": "x",
         "y": [
          "Israel"
         ],
         "yaxis": "y"
        },
        {
         "alignmentgroup": "True",
         "hoverlabel": {
          "namelength": 0
         },
         "hovertemplate": "color=Bahrain<br>x=%{x}<br>y=%{y}<br>text=%{text}",
         "legendgroup": "color=Bahrain",
         "marker": {
          "color": "#EF553B"
         },
         "name": "color=Bahrain",
         "offsetgroup": "color=Bahrain",
         "orientation": "h",
         "showlegend": true,
         "text": [
          0.006165228113440197
         ],
         "textposition": "inside",
         "texttemplate": "%{x:.3p}",
         "type": "bar",
         "x": [
          0.006165228113440197
         ],
         "xaxis": "x",
         "y": [
          "Bahrain"
         ],
         "yaxis": "y"
        },
        {
         "alignmentgroup": "True",
         "hoverlabel": {
          "namelength": 0
         },
         "hovertemplate": "color=Oman<br>x=%{x}<br>y=%{y}<br>text=%{text}",
         "legendgroup": "color=Oman",
         "marker": {
          "color": "#00cc96"
         },
         "name": "color=Oman",
         "offsetgroup": "color=Oman",
         "orientation": "h",
         "showlegend": true,
         "text": [
          0.005390835579514825
         ],
         "textposition": "inside",
         "texttemplate": "%{x:.3p}",
         "type": "bar",
         "x": [
          0.005390835579514825
         ],
         "xaxis": "x",
         "y": [
          "Oman"
         ],
         "yaxis": "y"
        },
        {
         "alignmentgroup": "True",
         "hoverlabel": {
          "namelength": 0
         },
         "hovertemplate": "color=United Arab Emirates<br>x=%{x}<br>y=%{y}<br>text=%{text}",
         "legendgroup": "color=United Arab Emirates",
         "marker": {
          "color": "#ab63fa"
         },
         "name": "color=United Arab Emirates",
         "offsetgroup": "color=United Arab Emirates",
         "orientation": "h",
         "showlegend": true,
         "text": [
          0.005086901229334464
         ],
         "textposition": "inside",
         "texttemplate": "%{x:.3p}",
         "type": "bar",
         "x": [
          0.005086901229334464
         ],
         "xaxis": "x",
         "y": [
          "United Arab Emirates"
         ],
         "yaxis": "y"
        },
        {
         "alignmentgroup": "True",
         "hoverlabel": {
          "namelength": 0
         },
         "hovertemplate": "color=Costa Rica<br>x=%{x}<br>y=%{y}<br>text=%{text}",
         "legendgroup": "color=Costa Rica",
         "marker": {
          "color": "#FFA15A"
         },
         "name": "color=Costa Rica",
         "offsetgroup": "color=Costa Rica",
         "orientation": "h",
         "showlegend": true,
         "text": [
          0.004140786749482402
         ],
         "textposition": "inside",
         "texttemplate": "%{x:.3p}",
         "type": "bar",
         "x": [
          0.004140786749482402
         ],
         "xaxis": "x",
         "y": [
          "Costa Rica"
         ],
         "yaxis": "y"
        },
        {
         "alignmentgroup": "True",
         "hoverlabel": {
          "namelength": 0
         },
         "hovertemplate": "color=Singapore<br>x=%{x}<br>y=%{y}<br>text=%{text}",
         "legendgroup": "color=Singapore",
         "marker": {
          "color": "#19d3f3"
         },
         "name": "color=Singapore",
         "offsetgroup": "color=Singapore",
         "orientation": "h",
         "showlegend": true,
         "text": [
          0.004051316677920324
         ],
         "textposition": "inside",
         "texttemplate": "%{x:.3p}",
         "type": "bar",
         "x": [
          0.004051316677920324
         ],
         "xaxis": "x",
         "y": [
          "Singapore"
         ],
         "yaxis": "y"
        },
        {
         "alignmentgroup": "True",
         "hoverlabel": {
          "namelength": 0
         },
         "hovertemplate": "color=Uzbekistan<br>x=%{x}<br>y=%{y}<br>text=%{text}",
         "legendgroup": "color=Uzbekistan",
         "marker": {
          "color": "#FF6692"
         },
         "name": "color=Uzbekistan",
         "offsetgroup": "color=Uzbekistan",
         "orientation": "h",
         "showlegend": true,
         "text": [
          0.0038461538461538464
         ],
         "textposition": "inside",
         "texttemplate": "%{x:.3p}",
         "type": "bar",
         "x": [
          0.0038461538461538464
         ],
         "xaxis": "x",
         "y": [
          "Uzbekistan"
         ],
         "yaxis": "y"
        },
        {
         "alignmentgroup": "True",
         "hoverlabel": {
          "namelength": 0
         },
         "hovertemplate": "color=West Bank and Gaza<br>x=%{x}<br>y=%{y}<br>text=%{text}",
         "legendgroup": "color=West Bank and Gaza",
         "marker": {
          "color": "#B6E880"
         },
         "name": "color=West Bank and Gaza",
         "offsetgroup": "color=West Bank and Gaza",
         "orientation": "h",
         "showlegend": true,
         "text": [
          0.0038314176245210726
         ],
         "textposition": "inside",
         "texttemplate": "%{x:.3p}",
         "type": "bar",
         "x": [
          0.0038314176245210726
         ],
         "xaxis": "x",
         "y": [
          "West Bank and Gaza"
         ],
         "yaxis": "y"
        },
        {
         "alignmentgroup": "True",
         "hoverlabel": {
          "namelength": 0
         },
         "hovertemplate": "color=Iceland<br>x=%{x}<br>y=%{y}<br>text=%{text}",
         "legendgroup": "color=Iceland",
         "marker": {
          "color": "#FF97FF"
         },
         "name": "color=Iceland",
         "offsetgroup": "color=Iceland",
         "orientation": "h",
         "showlegend": true,
         "text": [
          0.0037831021437578815
         ],
         "textposition": "inside",
         "texttemplate": "%{x:.3p}",
         "type": "bar",
         "x": [
          0.0037831021437578815
         ],
         "xaxis": "x",
         "y": [
          "Iceland"
         ],
         "yaxis": "y"
        },
        {
         "alignmentgroup": "True",
         "hoverlabel": {
          "namelength": 0
         },
         "hovertemplate": "color=Latvia<br>x=%{x}<br>y=%{y}<br>text=%{text}",
         "legendgroup": "color=Latvia",
         "marker": {
          "color": "#FECB52"
         },
         "name": "color=Latvia",
         "offsetgroup": "color=Latvia",
         "orientation": "h",
         "showlegend": true,
         "text": [
          0.0036496350364963502
         ],
         "textposition": "inside",
         "texttemplate": "%{x:.3p}",
         "type": "bar",
         "x": [
          0.0036496350364963502
         ],
         "xaxis": "x",
         "y": [
          "Latvia"
         ],
         "yaxis": "y"
        },
        {
         "alignmentgroup": "True",
         "hoverlabel": {
          "namelength": 0
         },
         "hovertemplate": "color=Slovakia<br>x=%{x}<br>y=%{y}<br>text=%{text}",
         "legendgroup": "color=Slovakia",
         "marker": {
          "color": "#636efa"
         },
         "name": "color=Slovakia",
         "offsetgroup": "color=Slovakia",
         "orientation": "h",
         "showlegend": true,
         "text": [
          0.0034423407917383822
         ],
         "textposition": "inside",
         "texttemplate": "%{x:.3p}",
         "type": "bar",
         "x": [
          0.0034423407917383822
         ],
         "xaxis": "x",
         "y": [
          "Slovakia"
         ],
         "yaxis": "y"
        },
        {
         "alignmentgroup": "True",
         "hoverlabel": {
          "namelength": 0
         },
         "hovertemplate": "color=Qatar<br>x=%{x}<br>y=%{y}<br>text=%{text}",
         "legendgroup": "color=Qatar",
         "marker": {
          "color": "#EF553B"
         },
         "name": "color=Qatar",
         "offsetgroup": "color=Qatar",
         "orientation": "h",
         "showlegend": true,
         "text": [
          0.002916869227029655
         ],
         "textposition": "inside",
         "texttemplate": "%{x:.3p}",
         "type": "bar",
         "x": [
          0.002916869227029655
         ],
         "xaxis": "x",
         "y": [
          "Qatar"
         ],
         "yaxis": "y"
        },
        {
         "alignmentgroup": "True",
         "hoverlabel": {
          "namelength": 0
         },
         "hovertemplate": "color=Kuwait<br>x=%{x}<br>y=%{y}<br>text=%{text}",
         "legendgroup": "color=Kuwait",
         "marker": {
          "color": "#00cc96"
         },
         "name": "color=Kuwait",
         "offsetgroup": "color=Kuwait",
         "orientation": "h",
         "showlegend": true,
         "text": [
          0.0013458950201884253
         ],
         "textposition": "inside",
         "texttemplate": "%{x:.3p}",
         "type": "bar",
         "x": [
          0.0013458950201884253
         ],
         "xaxis": "x",
         "y": [
          "Kuwait"
         ],
         "yaxis": "y"
        },
        {
         "alignmentgroup": "True",
         "hoverlabel": {
          "namelength": 0
         },
         "hovertemplate": "color=New Zealand<br>x=%{x}<br>y=%{y}<br>text=%{text}",
         "legendgroup": "color=New Zealand",
         "marker": {
          "color": "#ab63fa"
         },
         "name": "color=New Zealand",
         "offsetgroup": "color=New Zealand",
         "orientation": "h",
         "showlegend": true,
         "text": [
          0.0008620689655172414
         ],
         "textposition": "inside",
         "texttemplate": "%{x:.3p}",
         "type": "bar",
         "x": [
          0.0008620689655172414
         ],
         "xaxis": "x",
         "y": [
          "New Zealand"
         ],
         "yaxis": "y"
        },
        {
         "alignmentgroup": "True",
         "hoverlabel": {
          "namelength": 0
         },
         "hovertemplate": "color=Malta<br>x=%{x}<br>y=%{y}<br>text=%{text}",
         "legendgroup": "color=Malta",
         "marker": {
          "color": "#FFA15A"
         },
         "name": "color=Malta",
         "offsetgroup": "color=Malta",
         "orientation": "h",
         "showlegend": true,
         "text": [
          0
         ],
         "textposition": "inside",
         "texttemplate": "%{x:.3p}",
         "type": "bar",
         "x": [
          0
         ],
         "xaxis": "x",
         "y": [
          "Malta"
         ],
         "yaxis": "y"
        }
       ],
       "layout": {
        "barmode": "relative",
        "legend": {
         "tracegroupgap": 0
        },
        "margin": {
         "t": 60
        },
        "showlegend": false,
        "template": {
         "data": {
          "bar": [
           {
            "error_x": {
             "color": "#2a3f5f"
            },
            "error_y": {
             "color": "#2a3f5f"
            },
            "marker": {
             "line": {
              "color": "#E5ECF6",
              "width": 0.5
             }
            },
            "type": "bar"
           }
          ],
          "barpolar": [
           {
            "marker": {
             "line": {
              "color": "#E5ECF6",
              "width": 0.5
             }
            },
            "type": "barpolar"
           }
          ],
          "carpet": [
           {
            "aaxis": {
             "endlinecolor": "#2a3f5f",
             "gridcolor": "white",
             "linecolor": "white",
             "minorgridcolor": "white",
             "startlinecolor": "#2a3f5f"
            },
            "baxis": {
             "endlinecolor": "#2a3f5f",
             "gridcolor": "white",
             "linecolor": "white",
             "minorgridcolor": "white",
             "startlinecolor": "#2a3f5f"
            },
            "type": "carpet"
           }
          ],
          "choropleth": [
           {
            "colorbar": {
             "outlinewidth": 0,
             "ticks": ""
            },
            "type": "choropleth"
           }
          ],
          "contour": [
           {
            "colorbar": {
             "outlinewidth": 0,
             "ticks": ""
            },
            "colorscale": [
             [
              0,
              "#0d0887"
             ],
             [
              0.1111111111111111,
              "#46039f"
             ],
             [
              0.2222222222222222,
              "#7201a8"
             ],
             [
              0.3333333333333333,
              "#9c179e"
             ],
             [
              0.4444444444444444,
              "#bd3786"
             ],
             [
              0.5555555555555556,
              "#d8576b"
             ],
             [
              0.6666666666666666,
              "#ed7953"
             ],
             [
              0.7777777777777778,
              "#fb9f3a"
             ],
             [
              0.8888888888888888,
              "#fdca26"
             ],
             [
              1,
              "#f0f921"
             ]
            ],
            "type": "contour"
           }
          ],
          "contourcarpet": [
           {
            "colorbar": {
             "outlinewidth": 0,
             "ticks": ""
            },
            "type": "contourcarpet"
           }
          ],
          "heatmap": [
           {
            "colorbar": {
             "outlinewidth": 0,
             "ticks": ""
            },
            "colorscale": [
             [
              0,
              "#0d0887"
             ],
             [
              0.1111111111111111,
              "#46039f"
             ],
             [
              0.2222222222222222,
              "#7201a8"
             ],
             [
              0.3333333333333333,
              "#9c179e"
             ],
             [
              0.4444444444444444,
              "#bd3786"
             ],
             [
              0.5555555555555556,
              "#d8576b"
             ],
             [
              0.6666666666666666,
              "#ed7953"
             ],
             [
              0.7777777777777778,
              "#fb9f3a"
             ],
             [
              0.8888888888888888,
              "#fdca26"
             ],
             [
              1,
              "#f0f921"
             ]
            ],
            "type": "heatmap"
           }
          ],
          "heatmapgl": [
           {
            "colorbar": {
             "outlinewidth": 0,
             "ticks": ""
            },
            "colorscale": [
             [
              0,
              "#0d0887"
             ],
             [
              0.1111111111111111,
              "#46039f"
             ],
             [
              0.2222222222222222,
              "#7201a8"
             ],
             [
              0.3333333333333333,
              "#9c179e"
             ],
             [
              0.4444444444444444,
              "#bd3786"
             ],
             [
              0.5555555555555556,
              "#d8576b"
             ],
             [
              0.6666666666666666,
              "#ed7953"
             ],
             [
              0.7777777777777778,
              "#fb9f3a"
             ],
             [
              0.8888888888888888,
              "#fdca26"
             ],
             [
              1,
              "#f0f921"
             ]
            ],
            "type": "heatmapgl"
           }
          ],
          "histogram": [
           {
            "marker": {
             "colorbar": {
              "outlinewidth": 0,
              "ticks": ""
             }
            },
            "type": "histogram"
           }
          ],
          "histogram2d": [
           {
            "colorbar": {
             "outlinewidth": 0,
             "ticks": ""
            },
            "colorscale": [
             [
              0,
              "#0d0887"
             ],
             [
              0.1111111111111111,
              "#46039f"
             ],
             [
              0.2222222222222222,
              "#7201a8"
             ],
             [
              0.3333333333333333,
              "#9c179e"
             ],
             [
              0.4444444444444444,
              "#bd3786"
             ],
             [
              0.5555555555555556,
              "#d8576b"
             ],
             [
              0.6666666666666666,
              "#ed7953"
             ],
             [
              0.7777777777777778,
              "#fb9f3a"
             ],
             [
              0.8888888888888888,
              "#fdca26"
             ],
             [
              1,
              "#f0f921"
             ]
            ],
            "type": "histogram2d"
           }
          ],
          "histogram2dcontour": [
           {
            "colorbar": {
             "outlinewidth": 0,
             "ticks": ""
            },
            "colorscale": [
             [
              0,
              "#0d0887"
             ],
             [
              0.1111111111111111,
              "#46039f"
             ],
             [
              0.2222222222222222,
              "#7201a8"
             ],
             [
              0.3333333333333333,
              "#9c179e"
             ],
             [
              0.4444444444444444,
              "#bd3786"
             ],
             [
              0.5555555555555556,
              "#d8576b"
             ],
             [
              0.6666666666666666,
              "#ed7953"
             ],
             [
              0.7777777777777778,
              "#fb9f3a"
             ],
             [
              0.8888888888888888,
              "#fdca26"
             ],
             [
              1,
              "#f0f921"
             ]
            ],
            "type": "histogram2dcontour"
           }
          ],
          "mesh3d": [
           {
            "colorbar": {
             "outlinewidth": 0,
             "ticks": ""
            },
            "type": "mesh3d"
           }
          ],
          "parcoords": [
           {
            "line": {
             "colorbar": {
              "outlinewidth": 0,
              "ticks": ""
             }
            },
            "type": "parcoords"
           }
          ],
          "pie": [
           {
            "automargin": true,
            "type": "pie"
           }
          ],
          "scatter": [
           {
            "marker": {
             "colorbar": {
              "outlinewidth": 0,
              "ticks": ""
             }
            },
            "type": "scatter"
           }
          ],
          "scatter3d": [
           {
            "line": {
             "colorbar": {
              "outlinewidth": 0,
              "ticks": ""
             }
            },
            "marker": {
             "colorbar": {
              "outlinewidth": 0,
              "ticks": ""
             }
            },
            "type": "scatter3d"
           }
          ],
          "scattercarpet": [
           {
            "marker": {
             "colorbar": {
              "outlinewidth": 0,
              "ticks": ""
             }
            },
            "type": "scattercarpet"
           }
          ],
          "scattergeo": [
           {
            "marker": {
             "colorbar": {
              "outlinewidth": 0,
              "ticks": ""
             }
            },
            "type": "scattergeo"
           }
          ],
          "scattergl": [
           {
            "marker": {
             "colorbar": {
              "outlinewidth": 0,
              "ticks": ""
             }
            },
            "type": "scattergl"
           }
          ],
          "scattermapbox": [
           {
            "marker": {
             "colorbar": {
              "outlinewidth": 0,
              "ticks": ""
             }
            },
            "type": "scattermapbox"
           }
          ],
          "scatterpolar": [
           {
            "marker": {
             "colorbar": {
              "outlinewidth": 0,
              "ticks": ""
             }
            },
            "type": "scatterpolar"
           }
          ],
          "scatterpolargl": [
           {
            "marker": {
             "colorbar": {
              "outlinewidth": 0,
              "ticks": ""
             }
            },
            "type": "scatterpolargl"
           }
          ],
          "scatterternary": [
           {
            "marker": {
             "colorbar": {
              "outlinewidth": 0,
              "ticks": ""
             }
            },
            "type": "scatterternary"
           }
          ],
          "surface": [
           {
            "colorbar": {
             "outlinewidth": 0,
             "ticks": ""
            },
            "colorscale": [
             [
              0,
              "#0d0887"
             ],
             [
              0.1111111111111111,
              "#46039f"
             ],
             [
              0.2222222222222222,
              "#7201a8"
             ],
             [
              0.3333333333333333,
              "#9c179e"
             ],
             [
              0.4444444444444444,
              "#bd3786"
             ],
             [
              0.5555555555555556,
              "#d8576b"
             ],
             [
              0.6666666666666666,
              "#ed7953"
             ],
             [
              0.7777777777777778,
              "#fb9f3a"
             ],
             [
              0.8888888888888888,
              "#fdca26"
             ],
             [
              1,
              "#f0f921"
             ]
            ],
            "type": "surface"
           }
          ],
          "table": [
           {
            "cells": {
             "fill": {
              "color": "#EBF0F8"
             },
             "line": {
              "color": "white"
             }
            },
            "header": {
             "fill": {
              "color": "#C8D4E3"
             },
             "line": {
              "color": "white"
             }
            },
            "type": "table"
           }
          ]
         },
         "layout": {
          "annotationdefaults": {
           "arrowcolor": "#2a3f5f",
           "arrowhead": 0,
           "arrowwidth": 1
          },
          "coloraxis": {
           "colorbar": {
            "outlinewidth": 0,
            "ticks": ""
           }
          },
          "colorscale": {
           "diverging": [
            [
             0,
             "#8e0152"
            ],
            [
             0.1,
             "#c51b7d"
            ],
            [
             0.2,
             "#de77ae"
            ],
            [
             0.3,
             "#f1b6da"
            ],
            [
             0.4,
             "#fde0ef"
            ],
            [
             0.5,
             "#f7f7f7"
            ],
            [
             0.6,
             "#e6f5d0"
            ],
            [
             0.7,
             "#b8e186"
            ],
            [
             0.8,
             "#7fbc41"
            ],
            [
             0.9,
             "#4d9221"
            ],
            [
             1,
             "#276419"
            ]
           ],
           "sequential": [
            [
             0,
             "#0d0887"
            ],
            [
             0.1111111111111111,
             "#46039f"
            ],
            [
             0.2222222222222222,
             "#7201a8"
            ],
            [
             0.3333333333333333,
             "#9c179e"
            ],
            [
             0.4444444444444444,
             "#bd3786"
            ],
            [
             0.5555555555555556,
             "#d8576b"
            ],
            [
             0.6666666666666666,
             "#ed7953"
            ],
            [
             0.7777777777777778,
             "#fb9f3a"
            ],
            [
             0.8888888888888888,
             "#fdca26"
            ],
            [
             1,
             "#f0f921"
            ]
           ],
           "sequentialminus": [
            [
             0,
             "#0d0887"
            ],
            [
             0.1111111111111111,
             "#46039f"
            ],
            [
             0.2222222222222222,
             "#7201a8"
            ],
            [
             0.3333333333333333,
             "#9c179e"
            ],
            [
             0.4444444444444444,
             "#bd3786"
            ],
            [
             0.5555555555555556,
             "#d8576b"
            ],
            [
             0.6666666666666666,
             "#ed7953"
            ],
            [
             0.7777777777777778,
             "#fb9f3a"
            ],
            [
             0.8888888888888888,
             "#fdca26"
            ],
            [
             1,
             "#f0f921"
            ]
           ]
          },
          "colorway": [
           "#636efa",
           "#EF553B",
           "#00cc96",
           "#ab63fa",
           "#FFA15A",
           "#19d3f3",
           "#FF6692",
           "#B6E880",
           "#FF97FF",
           "#FECB52"
          ],
          "font": {
           "color": "#2a3f5f"
          },
          "geo": {
           "bgcolor": "white",
           "lakecolor": "white",
           "landcolor": "#E5ECF6",
           "showlakes": true,
           "showland": true,
           "subunitcolor": "white"
          },
          "hoverlabel": {
           "align": "left"
          },
          "hovermode": "closest",
          "mapbox": {
           "style": "light"
          },
          "paper_bgcolor": "white",
          "plot_bgcolor": "#E5ECF6",
          "polar": {
           "angularaxis": {
            "gridcolor": "white",
            "linecolor": "white",
            "ticks": ""
           },
           "bgcolor": "#E5ECF6",
           "radialaxis": {
            "gridcolor": "white",
            "linecolor": "white",
            "ticks": ""
           }
          },
          "scene": {
           "xaxis": {
            "backgroundcolor": "#E5ECF6",
            "gridcolor": "white",
            "gridwidth": 2,
            "linecolor": "white",
            "showbackground": true,
            "ticks": "",
            "zerolinecolor": "white"
           },
           "yaxis": {
            "backgroundcolor": "#E5ECF6",
            "gridcolor": "white",
            "gridwidth": 2,
            "linecolor": "white",
            "showbackground": true,
            "ticks": "",
            "zerolinecolor": "white"
           },
           "zaxis": {
            "backgroundcolor": "#E5ECF6",
            "gridcolor": "white",
            "gridwidth": 2,
            "linecolor": "white",
            "showbackground": true,
            "ticks": "",
            "zerolinecolor": "white"
           }
          },
          "shapedefaults": {
           "line": {
            "color": "#2a3f5f"
           }
          },
          "ternary": {
           "aaxis": {
            "gridcolor": "white",
            "linecolor": "white",
            "ticks": ""
           },
           "baxis": {
            "gridcolor": "white",
            "linecolor": "white",
            "ticks": ""
           },
           "bgcolor": "#E5ECF6",
           "caxis": {
            "gridcolor": "white",
            "linecolor": "white",
            "ticks": ""
           }
          },
          "title": {
           "x": 0.05
          },
          "xaxis": {
           "automargin": true,
           "gridcolor": "white",
           "linecolor": "white",
           "ticks": "",
           "title": {
            "standoff": 15
           },
           "zerolinecolor": "white",
           "zerolinewidth": 2
          },
          "yaxis": {
           "automargin": true,
           "gridcolor": "white",
           "linecolor": "white",
           "ticks": "",
           "title": {
            "standoff": 15
           },
           "zerolinecolor": "white",
           "zerolinewidth": 2
          }
         }
        },
        "title": {
         "text": "Top 15 Mortality Rate's  by 2020-04-07"
        },
        "xaxis": {
         "anchor": "y",
         "domain": [
          0,
          1
         ],
         "title": {
          "text": "Mortality Rate"
         }
        },
        "yaxis": {
         "anchor": "x",
         "domain": [
          0,
          1
         ],
         "title": {
          "text": "Country"
         }
        }
       }
      },
      "text/html": [
       "<div>\n",
       "        \n",
       "        \n",
       "            <div id=\"8b16c7e0-9405-4199-9721-0dd23ca923dd\" class=\"plotly-graph-div\" style=\"height:525px; width:100%;\"></div>\n",
       "            <script type=\"text/javascript\">\n",
       "                require([\"plotly\"], function(Plotly) {\n",
       "                    window.PLOTLYENV=window.PLOTLYENV || {};\n",
       "                    \n",
       "                if (document.getElementById(\"8b16c7e0-9405-4199-9721-0dd23ca923dd\")) {\n",
       "                    Plotly.newPlot(\n",
       "                        '8b16c7e0-9405-4199-9721-0dd23ca923dd',\n",
       "                        [{\"alignmentgroup\": \"True\", \"hoverlabel\": {\"namelength\": 0}, \"hovertemplate\": \"color=Israel<br>x=%{x}<br>y=%{y}<br>text=%{text}\", \"legendgroup\": \"color=Israel\", \"marker\": {\"color\": \"#636efa\"}, \"name\": \"color=Israel\", \"offsetgroup\": \"color=Israel\", \"orientation\": \"h\", \"showlegend\": true, \"text\": [0.007028546712802768], \"textposition\": \"inside\", \"texttemplate\": \"%{x:.3p}\", \"type\": \"bar\", \"x\": [0.007028546712802768], \"xaxis\": \"x\", \"y\": [\"Israel\"], \"yaxis\": \"y\"}, {\"alignmentgroup\": \"True\", \"hoverlabel\": {\"namelength\": 0}, \"hovertemplate\": \"color=Bahrain<br>x=%{x}<br>y=%{y}<br>text=%{text}\", \"legendgroup\": \"color=Bahrain\", \"marker\": {\"color\": \"#EF553B\"}, \"name\": \"color=Bahrain\", \"offsetgroup\": \"color=Bahrain\", \"orientation\": \"h\", \"showlegend\": true, \"text\": [0.006165228113440197], \"textposition\": \"inside\", \"texttemplate\": \"%{x:.3p}\", \"type\": \"bar\", \"x\": [0.006165228113440197], \"xaxis\": \"x\", \"y\": [\"Bahrain\"], \"yaxis\": \"y\"}, {\"alignmentgroup\": \"True\", \"hoverlabel\": {\"namelength\": 0}, \"hovertemplate\": \"color=Oman<br>x=%{x}<br>y=%{y}<br>text=%{text}\", \"legendgroup\": \"color=Oman\", \"marker\": {\"color\": \"#00cc96\"}, \"name\": \"color=Oman\", \"offsetgroup\": \"color=Oman\", \"orientation\": \"h\", \"showlegend\": true, \"text\": [0.005390835579514825], \"textposition\": \"inside\", \"texttemplate\": \"%{x:.3p}\", \"type\": \"bar\", \"x\": [0.005390835579514825], \"xaxis\": \"x\", \"y\": [\"Oman\"], \"yaxis\": \"y\"}, {\"alignmentgroup\": \"True\", \"hoverlabel\": {\"namelength\": 0}, \"hovertemplate\": \"color=United Arab Emirates<br>x=%{x}<br>y=%{y}<br>text=%{text}\", \"legendgroup\": \"color=United Arab Emirates\", \"marker\": {\"color\": \"#ab63fa\"}, \"name\": \"color=United Arab Emirates\", \"offsetgroup\": \"color=United Arab Emirates\", \"orientation\": \"h\", \"showlegend\": true, \"text\": [0.005086901229334464], \"textposition\": \"inside\", \"texttemplate\": \"%{x:.3p}\", \"type\": \"bar\", \"x\": [0.005086901229334464], \"xaxis\": \"x\", \"y\": [\"United Arab Emirates\"], \"yaxis\": \"y\"}, {\"alignmentgroup\": \"True\", \"hoverlabel\": {\"namelength\": 0}, \"hovertemplate\": \"color=Costa Rica<br>x=%{x}<br>y=%{y}<br>text=%{text}\", \"legendgroup\": \"color=Costa Rica\", \"marker\": {\"color\": \"#FFA15A\"}, \"name\": \"color=Costa Rica\", \"offsetgroup\": \"color=Costa Rica\", \"orientation\": \"h\", \"showlegend\": true, \"text\": [0.004140786749482402], \"textposition\": \"inside\", \"texttemplate\": \"%{x:.3p}\", \"type\": \"bar\", \"x\": [0.004140786749482402], \"xaxis\": \"x\", \"y\": [\"Costa Rica\"], \"yaxis\": \"y\"}, {\"alignmentgroup\": \"True\", \"hoverlabel\": {\"namelength\": 0}, \"hovertemplate\": \"color=Singapore<br>x=%{x}<br>y=%{y}<br>text=%{text}\", \"legendgroup\": \"color=Singapore\", \"marker\": {\"color\": \"#19d3f3\"}, \"name\": \"color=Singapore\", \"offsetgroup\": \"color=Singapore\", \"orientation\": \"h\", \"showlegend\": true, \"text\": [0.004051316677920324], \"textposition\": \"inside\", \"texttemplate\": \"%{x:.3p}\", \"type\": \"bar\", \"x\": [0.004051316677920324], \"xaxis\": \"x\", \"y\": [\"Singapore\"], \"yaxis\": \"y\"}, {\"alignmentgroup\": \"True\", \"hoverlabel\": {\"namelength\": 0}, \"hovertemplate\": \"color=Uzbekistan<br>x=%{x}<br>y=%{y}<br>text=%{text}\", \"legendgroup\": \"color=Uzbekistan\", \"marker\": {\"color\": \"#FF6692\"}, \"name\": \"color=Uzbekistan\", \"offsetgroup\": \"color=Uzbekistan\", \"orientation\": \"h\", \"showlegend\": true, \"text\": [0.0038461538461538464], \"textposition\": \"inside\", \"texttemplate\": \"%{x:.3p}\", \"type\": \"bar\", \"x\": [0.0038461538461538464], \"xaxis\": \"x\", \"y\": [\"Uzbekistan\"], \"yaxis\": \"y\"}, {\"alignmentgroup\": \"True\", \"hoverlabel\": {\"namelength\": 0}, \"hovertemplate\": \"color=West Bank and Gaza<br>x=%{x}<br>y=%{y}<br>text=%{text}\", \"legendgroup\": \"color=West Bank and Gaza\", \"marker\": {\"color\": \"#B6E880\"}, \"name\": \"color=West Bank and Gaza\", \"offsetgroup\": \"color=West Bank and Gaza\", \"orientation\": \"h\", \"showlegend\": true, \"text\": [0.0038314176245210726], \"textposition\": \"inside\", \"texttemplate\": \"%{x:.3p}\", \"type\": \"bar\", \"x\": [0.0038314176245210726], \"xaxis\": \"x\", \"y\": [\"West Bank and Gaza\"], \"yaxis\": \"y\"}, {\"alignmentgroup\": \"True\", \"hoverlabel\": {\"namelength\": 0}, \"hovertemplate\": \"color=Iceland<br>x=%{x}<br>y=%{y}<br>text=%{text}\", \"legendgroup\": \"color=Iceland\", \"marker\": {\"color\": \"#FF97FF\"}, \"name\": \"color=Iceland\", \"offsetgroup\": \"color=Iceland\", \"orientation\": \"h\", \"showlegend\": true, \"text\": [0.0037831021437578815], \"textposition\": \"inside\", \"texttemplate\": \"%{x:.3p}\", \"type\": \"bar\", \"x\": [0.0037831021437578815], \"xaxis\": \"x\", \"y\": [\"Iceland\"], \"yaxis\": \"y\"}, {\"alignmentgroup\": \"True\", \"hoverlabel\": {\"namelength\": 0}, \"hovertemplate\": \"color=Latvia<br>x=%{x}<br>y=%{y}<br>text=%{text}\", \"legendgroup\": \"color=Latvia\", \"marker\": {\"color\": \"#FECB52\"}, \"name\": \"color=Latvia\", \"offsetgroup\": \"color=Latvia\", \"orientation\": \"h\", \"showlegend\": true, \"text\": [0.0036496350364963502], \"textposition\": \"inside\", \"texttemplate\": \"%{x:.3p}\", \"type\": \"bar\", \"x\": [0.0036496350364963502], \"xaxis\": \"x\", \"y\": [\"Latvia\"], \"yaxis\": \"y\"}, {\"alignmentgroup\": \"True\", \"hoverlabel\": {\"namelength\": 0}, \"hovertemplate\": \"color=Slovakia<br>x=%{x}<br>y=%{y}<br>text=%{text}\", \"legendgroup\": \"color=Slovakia\", \"marker\": {\"color\": \"#636efa\"}, \"name\": \"color=Slovakia\", \"offsetgroup\": \"color=Slovakia\", \"orientation\": \"h\", \"showlegend\": true, \"text\": [0.0034423407917383822], \"textposition\": \"inside\", \"texttemplate\": \"%{x:.3p}\", \"type\": \"bar\", \"x\": [0.0034423407917383822], \"xaxis\": \"x\", \"y\": [\"Slovakia\"], \"yaxis\": \"y\"}, {\"alignmentgroup\": \"True\", \"hoverlabel\": {\"namelength\": 0}, \"hovertemplate\": \"color=Qatar<br>x=%{x}<br>y=%{y}<br>text=%{text}\", \"legendgroup\": \"color=Qatar\", \"marker\": {\"color\": \"#EF553B\"}, \"name\": \"color=Qatar\", \"offsetgroup\": \"color=Qatar\", \"orientation\": \"h\", \"showlegend\": true, \"text\": [0.002916869227029655], \"textposition\": \"inside\", \"texttemplate\": \"%{x:.3p}\", \"type\": \"bar\", \"x\": [0.002916869227029655], \"xaxis\": \"x\", \"y\": [\"Qatar\"], \"yaxis\": \"y\"}, {\"alignmentgroup\": \"True\", \"hoverlabel\": {\"namelength\": 0}, \"hovertemplate\": \"color=Kuwait<br>x=%{x}<br>y=%{y}<br>text=%{text}\", \"legendgroup\": \"color=Kuwait\", \"marker\": {\"color\": \"#00cc96\"}, \"name\": \"color=Kuwait\", \"offsetgroup\": \"color=Kuwait\", \"orientation\": \"h\", \"showlegend\": true, \"text\": [0.0013458950201884253], \"textposition\": \"inside\", \"texttemplate\": \"%{x:.3p}\", \"type\": \"bar\", \"x\": [0.0013458950201884253], \"xaxis\": \"x\", \"y\": [\"Kuwait\"], \"yaxis\": \"y\"}, {\"alignmentgroup\": \"True\", \"hoverlabel\": {\"namelength\": 0}, \"hovertemplate\": \"color=New Zealand<br>x=%{x}<br>y=%{y}<br>text=%{text}\", \"legendgroup\": \"color=New Zealand\", \"marker\": {\"color\": \"#ab63fa\"}, \"name\": \"color=New Zealand\", \"offsetgroup\": \"color=New Zealand\", \"orientation\": \"h\", \"showlegend\": true, \"text\": [0.0008620689655172414], \"textposition\": \"inside\", \"texttemplate\": \"%{x:.3p}\", \"type\": \"bar\", \"x\": [0.0008620689655172414], \"xaxis\": \"x\", \"y\": [\"New Zealand\"], \"yaxis\": \"y\"}, {\"alignmentgroup\": \"True\", \"hoverlabel\": {\"namelength\": 0}, \"hovertemplate\": \"color=Malta<br>x=%{x}<br>y=%{y}<br>text=%{text}\", \"legendgroup\": \"color=Malta\", \"marker\": {\"color\": \"#FFA15A\"}, \"name\": \"color=Malta\", \"offsetgroup\": \"color=Malta\", \"orientation\": \"h\", \"showlegend\": true, \"text\": [0.0], \"textposition\": \"inside\", \"texttemplate\": \"%{x:.3p}\", \"type\": \"bar\", \"x\": [0.0], \"xaxis\": \"x\", \"y\": [\"Malta\"], \"yaxis\": \"y\"}],\n",
       "                        {\"barmode\": \"relative\", \"legend\": {\"tracegroupgap\": 0}, \"margin\": {\"t\": 60}, \"showlegend\": false, \"template\": {\"data\": {\"bar\": [{\"error_x\": {\"color\": \"#2a3f5f\"}, \"error_y\": {\"color\": \"#2a3f5f\"}, \"marker\": {\"line\": {\"color\": \"#E5ECF6\", \"width\": 0.5}}, \"type\": \"bar\"}], \"barpolar\": [{\"marker\": {\"line\": {\"color\": \"#E5ECF6\", \"width\": 0.5}}, \"type\": \"barpolar\"}], \"carpet\": [{\"aaxis\": {\"endlinecolor\": \"#2a3f5f\", \"gridcolor\": \"white\", \"linecolor\": \"white\", \"minorgridcolor\": \"white\", \"startlinecolor\": \"#2a3f5f\"}, \"baxis\": {\"endlinecolor\": \"#2a3f5f\", \"gridcolor\": \"white\", \"linecolor\": \"white\", \"minorgridcolor\": \"white\", \"startlinecolor\": \"#2a3f5f\"}, \"type\": \"carpet\"}], \"choropleth\": [{\"colorbar\": {\"outlinewidth\": 0, \"ticks\": \"\"}, \"type\": \"choropleth\"}], \"contour\": [{\"colorbar\": {\"outlinewidth\": 0, \"ticks\": \"\"}, \"colorscale\": [[0.0, \"#0d0887\"], [0.1111111111111111, \"#46039f\"], [0.2222222222222222, \"#7201a8\"], [0.3333333333333333, \"#9c179e\"], [0.4444444444444444, \"#bd3786\"], [0.5555555555555556, \"#d8576b\"], [0.6666666666666666, \"#ed7953\"], [0.7777777777777778, \"#fb9f3a\"], [0.8888888888888888, \"#fdca26\"], [1.0, \"#f0f921\"]], \"type\": \"contour\"}], \"contourcarpet\": [{\"colorbar\": {\"outlinewidth\": 0, \"ticks\": \"\"}, \"type\": \"contourcarpet\"}], \"heatmap\": [{\"colorbar\": {\"outlinewidth\": 0, \"ticks\": \"\"}, \"colorscale\": [[0.0, \"#0d0887\"], [0.1111111111111111, \"#46039f\"], [0.2222222222222222, \"#7201a8\"], [0.3333333333333333, \"#9c179e\"], [0.4444444444444444, \"#bd3786\"], [0.5555555555555556, \"#d8576b\"], [0.6666666666666666, \"#ed7953\"], [0.7777777777777778, \"#fb9f3a\"], [0.8888888888888888, \"#fdca26\"], [1.0, \"#f0f921\"]], \"type\": \"heatmap\"}], \"heatmapgl\": [{\"colorbar\": {\"outlinewidth\": 0, \"ticks\": \"\"}, \"colorscale\": [[0.0, \"#0d0887\"], [0.1111111111111111, \"#46039f\"], [0.2222222222222222, \"#7201a8\"], [0.3333333333333333, \"#9c179e\"], [0.4444444444444444, \"#bd3786\"], [0.5555555555555556, \"#d8576b\"], [0.6666666666666666, \"#ed7953\"], [0.7777777777777778, \"#fb9f3a\"], [0.8888888888888888, \"#fdca26\"], [1.0, \"#f0f921\"]], \"type\": \"heatmapgl\"}], \"histogram\": [{\"marker\": {\"colorbar\": {\"outlinewidth\": 0, \"ticks\": \"\"}}, \"type\": \"histogram\"}], \"histogram2d\": [{\"colorbar\": {\"outlinewidth\": 0, \"ticks\": \"\"}, \"colorscale\": [[0.0, \"#0d0887\"], [0.1111111111111111, \"#46039f\"], [0.2222222222222222, \"#7201a8\"], [0.3333333333333333, \"#9c179e\"], [0.4444444444444444, \"#bd3786\"], [0.5555555555555556, \"#d8576b\"], [0.6666666666666666, \"#ed7953\"], [0.7777777777777778, \"#fb9f3a\"], [0.8888888888888888, \"#fdca26\"], [1.0, \"#f0f921\"]], \"type\": \"histogram2d\"}], \"histogram2dcontour\": [{\"colorbar\": {\"outlinewidth\": 0, \"ticks\": \"\"}, \"colorscale\": [[0.0, \"#0d0887\"], [0.1111111111111111, \"#46039f\"], [0.2222222222222222, \"#7201a8\"], [0.3333333333333333, \"#9c179e\"], [0.4444444444444444, \"#bd3786\"], [0.5555555555555556, \"#d8576b\"], [0.6666666666666666, \"#ed7953\"], [0.7777777777777778, \"#fb9f3a\"], [0.8888888888888888, \"#fdca26\"], [1.0, \"#f0f921\"]], \"type\": \"histogram2dcontour\"}], \"mesh3d\": [{\"colorbar\": {\"outlinewidth\": 0, \"ticks\": \"\"}, \"type\": \"mesh3d\"}], \"parcoords\": [{\"line\": {\"colorbar\": {\"outlinewidth\": 0, \"ticks\": \"\"}}, \"type\": \"parcoords\"}], \"pie\": [{\"automargin\": true, \"type\": \"pie\"}], \"scatter\": [{\"marker\": {\"colorbar\": {\"outlinewidth\": 0, \"ticks\": \"\"}}, \"type\": \"scatter\"}], \"scatter3d\": [{\"line\": {\"colorbar\": {\"outlinewidth\": 0, \"ticks\": \"\"}}, \"marker\": {\"colorbar\": {\"outlinewidth\": 0, \"ticks\": \"\"}}, \"type\": \"scatter3d\"}], \"scattercarpet\": [{\"marker\": {\"colorbar\": {\"outlinewidth\": 0, \"ticks\": \"\"}}, \"type\": \"scattercarpet\"}], \"scattergeo\": [{\"marker\": {\"colorbar\": {\"outlinewidth\": 0, \"ticks\": \"\"}}, \"type\": \"scattergeo\"}], \"scattergl\": [{\"marker\": {\"colorbar\": {\"outlinewidth\": 0, \"ticks\": \"\"}}, \"type\": \"scattergl\"}], \"scattermapbox\": [{\"marker\": {\"colorbar\": {\"outlinewidth\": 0, \"ticks\": \"\"}}, \"type\": \"scattermapbox\"}], \"scatterpolar\": [{\"marker\": {\"colorbar\": {\"outlinewidth\": 0, \"ticks\": \"\"}}, \"type\": \"scatterpolar\"}], \"scatterpolargl\": [{\"marker\": {\"colorbar\": {\"outlinewidth\": 0, \"ticks\": \"\"}}, \"type\": \"scatterpolargl\"}], \"scatterternary\": [{\"marker\": {\"colorbar\": {\"outlinewidth\": 0, \"ticks\": \"\"}}, \"type\": \"scatterternary\"}], \"surface\": [{\"colorbar\": {\"outlinewidth\": 0, \"ticks\": \"\"}, \"colorscale\": [[0.0, \"#0d0887\"], [0.1111111111111111, \"#46039f\"], [0.2222222222222222, \"#7201a8\"], [0.3333333333333333, \"#9c179e\"], [0.4444444444444444, \"#bd3786\"], [0.5555555555555556, \"#d8576b\"], [0.6666666666666666, \"#ed7953\"], [0.7777777777777778, \"#fb9f3a\"], [0.8888888888888888, \"#fdca26\"], [1.0, \"#f0f921\"]], \"type\": \"surface\"}], \"table\": [{\"cells\": {\"fill\": {\"color\": \"#EBF0F8\"}, \"line\": {\"color\": \"white\"}}, \"header\": {\"fill\": {\"color\": \"#C8D4E3\"}, \"line\": {\"color\": \"white\"}}, \"type\": \"table\"}]}, \"layout\": {\"annotationdefaults\": {\"arrowcolor\": \"#2a3f5f\", \"arrowhead\": 0, \"arrowwidth\": 1}, \"coloraxis\": {\"colorbar\": {\"outlinewidth\": 0, \"ticks\": \"\"}}, \"colorscale\": {\"diverging\": [[0, \"#8e0152\"], [0.1, \"#c51b7d\"], [0.2, \"#de77ae\"], [0.3, \"#f1b6da\"], [0.4, \"#fde0ef\"], [0.5, \"#f7f7f7\"], [0.6, \"#e6f5d0\"], [0.7, \"#b8e186\"], [0.8, \"#7fbc41\"], [0.9, \"#4d9221\"], [1, \"#276419\"]], \"sequential\": [[0.0, \"#0d0887\"], [0.1111111111111111, \"#46039f\"], [0.2222222222222222, \"#7201a8\"], [0.3333333333333333, \"#9c179e\"], [0.4444444444444444, \"#bd3786\"], [0.5555555555555556, \"#d8576b\"], [0.6666666666666666, \"#ed7953\"], [0.7777777777777778, \"#fb9f3a\"], [0.8888888888888888, \"#fdca26\"], [1.0, \"#f0f921\"]], \"sequentialminus\": [[0.0, \"#0d0887\"], [0.1111111111111111, \"#46039f\"], [0.2222222222222222, \"#7201a8\"], [0.3333333333333333, \"#9c179e\"], [0.4444444444444444, \"#bd3786\"], [0.5555555555555556, \"#d8576b\"], [0.6666666666666666, \"#ed7953\"], [0.7777777777777778, \"#fb9f3a\"], [0.8888888888888888, \"#fdca26\"], [1.0, \"#f0f921\"]]}, \"colorway\": [\"#636efa\", \"#EF553B\", \"#00cc96\", \"#ab63fa\", \"#FFA15A\", \"#19d3f3\", \"#FF6692\", \"#B6E880\", \"#FF97FF\", \"#FECB52\"], \"font\": {\"color\": \"#2a3f5f\"}, \"geo\": {\"bgcolor\": \"white\", \"lakecolor\": \"white\", \"landcolor\": \"#E5ECF6\", \"showlakes\": true, \"showland\": true, \"subunitcolor\": \"white\"}, \"hoverlabel\": {\"align\": \"left\"}, \"hovermode\": \"closest\", \"mapbox\": {\"style\": \"light\"}, \"paper_bgcolor\": \"white\", \"plot_bgcolor\": \"#E5ECF6\", \"polar\": {\"angularaxis\": {\"gridcolor\": \"white\", \"linecolor\": \"white\", \"ticks\": \"\"}, \"bgcolor\": \"#E5ECF6\", \"radialaxis\": {\"gridcolor\": \"white\", \"linecolor\": \"white\", \"ticks\": \"\"}}, \"scene\": {\"xaxis\": {\"backgroundcolor\": \"#E5ECF6\", \"gridcolor\": \"white\", \"gridwidth\": 2, \"linecolor\": \"white\", \"showbackground\": true, \"ticks\": \"\", \"zerolinecolor\": \"white\"}, \"yaxis\": {\"backgroundcolor\": \"#E5ECF6\", \"gridcolor\": \"white\", \"gridwidth\": 2, \"linecolor\": \"white\", \"showbackground\": true, \"ticks\": \"\", \"zerolinecolor\": \"white\"}, \"zaxis\": {\"backgroundcolor\": \"#E5ECF6\", \"gridcolor\": \"white\", \"gridwidth\": 2, \"linecolor\": \"white\", \"showbackground\": true, \"ticks\": \"\", \"zerolinecolor\": \"white\"}}, \"shapedefaults\": {\"line\": {\"color\": \"#2a3f5f\"}}, \"ternary\": {\"aaxis\": {\"gridcolor\": \"white\", \"linecolor\": \"white\", \"ticks\": \"\"}, \"baxis\": {\"gridcolor\": \"white\", \"linecolor\": \"white\", \"ticks\": \"\"}, \"bgcolor\": \"#E5ECF6\", \"caxis\": {\"gridcolor\": \"white\", \"linecolor\": \"white\", \"ticks\": \"\"}}, \"title\": {\"x\": 0.05}, \"xaxis\": {\"automargin\": true, \"gridcolor\": \"white\", \"linecolor\": \"white\", \"ticks\": \"\", \"title\": {\"standoff\": 15}, \"zerolinecolor\": \"white\", \"zerolinewidth\": 2}, \"yaxis\": {\"automargin\": true, \"gridcolor\": \"white\", \"linecolor\": \"white\", \"ticks\": \"\", \"title\": {\"standoff\": 15}, \"zerolinecolor\": \"white\", \"zerolinewidth\": 2}}}, \"title\": {\"text\": \"Top 15 Mortality Rate's  by 2020-04-07\"}, \"xaxis\": {\"anchor\": \"y\", \"domain\": [0.0, 1.0], \"title\": {\"text\": \"Mortality Rate\"}}, \"yaxis\": {\"anchor\": \"x\", \"domain\": [0.0, 1.0], \"title\": {\"text\": \"Country\"}}},\n",
       "                        {\"responsive\": true}\n",
       "                    ).then(function(){\n",
       "                            \n",
       "var gd = document.getElementById('8b16c7e0-9405-4199-9721-0dd23ca923dd');\n",
       "var x = new MutationObserver(function (mutations, observer) {{\n",
       "        var display = window.getComputedStyle(gd).display;\n",
       "        if (!display || display === 'none') {{\n",
       "            console.log([gd, 'removed!']);\n",
       "            Plotly.purge(gd);\n",
       "            observer.disconnect();\n",
       "        }}\n",
       "}});\n",
       "\n",
       "// Listen for the removal of the full notebook cells\n",
       "var notebookContainer = gd.closest('#notebook-container');\n",
       "if (notebookContainer) {{\n",
       "    x.observe(notebookContainer, {childList: true});\n",
       "}}\n",
       "\n",
       "// Listen for the clearing of the current output cell\n",
       "var outputEl = gd.closest('.output');\n",
       "if (outputEl) {{\n",
       "    x.observe(outputEl, {childList: true});\n",
       "}}\n",
       "\n",
       "                        })\n",
       "                };\n",
       "                });\n",
       "            </script>\n",
       "        </div>"
      ]
     },
     "metadata": {},
     "output_type": "display_data"
    }
   ],
   "source": [
    "# Countries with the lowest mortality rates\n",
    "plot_bar_top(15,'Mortality Rate',ascending=True)"
   ]
  },
  {
   "cell_type": "markdown",
   "metadata": {},
   "source": [
    "# Global Daily New Cases\n",
    "\n",
    "This are the global new cases through the time since January 22th, 2020. This are divided in 3:\n",
    "\n",
    "* Confirmed\n",
    "* Deaths\n",
    "* Recovered"
   ]
  },
  {
   "cell_type": "code",
   "execution_count": 216,
   "metadata": {},
   "outputs": [
    {
     "data": {
      "application/vnd.plotly.v1+json": {
       "config": {
        "plotlyServerURL": "https://plot.ly"
       },
       "data": [
        {
         "alignmentgroup": "True",
         "hoverlabel": {
          "namelength": 0
         },
         "hovertemplate": "x=%{x}<br>y=%{y}<br>color=%{marker.color}",
         "legendgroup": "",
         "marker": {
          "color": [
           555,
           99,
           287,
           493,
           684,
           809,
           2651,
           588,
           2068,
           1693,
           2111,
           4749,
           3094,
           4011,
           3743,
           3159,
           3597,
           2729,
           3030,
           2612,
           2040,
           419,
           15147,
           6517,
           2145,
           2194,
           2034,
           1878,
           503,
           558,
           622,
           1753,
           386,
           603,
           845,
           982,
           1358,
           1366,
           1899,
           2358,
           1937,
           2534,
           2280,
           2766,
           3915,
           4046,
           3974,
           3769,
           5030,
           7255,
           2477,
           16853,
           10896,
           11353,
           14120,
           15528,
           17719,
           27749,
           29638,
           32299,
           32446,
           41282,
           39810,
           49608,
           61938,
           63700,
           67415,
           59434,
           62255,
           75092,
           75118,
           80715,
           82597,
           101488,
           74710,
           72986,
           80995
          ],
          "coloraxis": "coloraxis"
         },
         "name": "",
         "offsetgroup": "",
         "orientation": "v",
         "showlegend": false,
         "textposition": "auto",
         "type": "bar",
         "x": [
          "2020-01-22",
          "2020-01-23",
          "2020-01-24",
          "2020-01-25",
          "2020-01-26",
          "2020-01-27",
          "2020-01-28",
          "2020-01-29",
          "2020-01-30",
          "2020-01-31",
          "2020-02-01",
          "2020-02-02",
          "2020-02-03",
          "2020-02-04",
          "2020-02-05",
          "2020-02-06",
          "2020-02-07",
          "2020-02-08",
          "2020-02-09",
          "2020-02-10",
          "2020-02-11",
          "2020-02-12",
          "2020-02-13",
          "2020-02-14",
          "2020-02-15",
          "2020-02-16",
          "2020-02-17",
          "2020-02-18",
          "2020-02-19",
          "2020-02-20",
          "2020-02-21",
          "2020-02-22",
          "2020-02-23",
          "2020-02-24",
          "2020-02-25",
          "2020-02-26",
          "2020-02-27",
          "2020-02-28",
          "2020-02-29",
          "2020-03-01",
          "2020-03-02",
          "2020-03-03",
          "2020-03-04",
          "2020-03-05",
          "2020-03-06",
          "2020-03-07",
          "2020-03-08",
          "2020-03-09",
          "2020-03-10",
          "2020-03-11",
          "2020-03-12",
          "2020-03-13",
          "2020-03-14",
          "2020-03-15",
          "2020-03-16",
          "2020-03-17",
          "2020-03-18",
          "2020-03-19",
          "2020-03-20",
          "2020-03-21",
          "2020-03-22",
          "2020-03-23",
          "2020-03-24",
          "2020-03-25",
          "2020-03-26",
          "2020-03-27",
          "2020-03-28",
          "2020-03-29",
          "2020-03-30",
          "2020-03-31",
          "2020-04-01",
          "2020-04-02",
          "2020-04-03",
          "2020-04-04",
          "2020-04-05",
          "2020-04-06",
          "2020-04-07"
         ],
         "xaxis": "x",
         "y": [
          555,
          99,
          287,
          493,
          684,
          809,
          2651,
          588,
          2068,
          1693,
          2111,
          4749,
          3094,
          4011,
          3743,
          3159,
          3597,
          2729,
          3030,
          2612,
          2040,
          419,
          15147,
          6517,
          2145,
          2194,
          2034,
          1878,
          503,
          558,
          622,
          1753,
          386,
          603,
          845,
          982,
          1358,
          1366,
          1899,
          2358,
          1937,
          2534,
          2280,
          2766,
          3915,
          4046,
          3974,
          3769,
          5030,
          7255,
          2477,
          16853,
          10896,
          11353,
          14120,
          15528,
          17719,
          27749,
          29638,
          32299,
          32446,
          41282,
          39810,
          49608,
          61938,
          63700,
          67415,
          59434,
          62255,
          75092,
          75118,
          80715,
          82597,
          101488,
          74710,
          72986,
          80995
         ],
         "yaxis": "y"
        }
       ],
       "layout": {
        "annotations": [
         {
          "text": "80,995",
          "x": "2020-04-07",
          "xref": "x",
          "y": 80995,
          "yref": "y"
         },
         {
          "text": "Max: 101,488<br>2020-04-04",
          "x": "2020-04-04",
          "xref": "x",
          "y": 101488,
          "yref": "y"
         }
        ],
        "barmode": "relative",
        "coloraxis": {
         "colorbar": {
          "title": {
           "text": "color"
          }
         },
         "colorscale": [
          [
           0,
           "#0d0887"
          ],
          [
           0.1111111111111111,
           "#46039f"
          ],
          [
           0.2222222222222222,
           "#7201a8"
          ],
          [
           0.3333333333333333,
           "#9c179e"
          ],
          [
           0.4444444444444444,
           "#bd3786"
          ],
          [
           0.5555555555555556,
           "#d8576b"
          ],
          [
           0.6666666666666666,
           "#ed7953"
          ],
          [
           0.7777777777777778,
           "#fb9f3a"
          ],
          [
           0.8888888888888888,
           "#fdca26"
          ],
          [
           1,
           "#f0f921"
          ]
         ]
        },
        "legend": {
         "tracegroupgap": 0
        },
        "margin": {
         "t": 60
        },
        "template": {
         "data": {
          "bar": [
           {
            "error_x": {
             "color": "#2a3f5f"
            },
            "error_y": {
             "color": "#2a3f5f"
            },
            "marker": {
             "line": {
              "color": "#E5ECF6",
              "width": 0.5
             }
            },
            "type": "bar"
           }
          ],
          "barpolar": [
           {
            "marker": {
             "line": {
              "color": "#E5ECF6",
              "width": 0.5
             }
            },
            "type": "barpolar"
           }
          ],
          "carpet": [
           {
            "aaxis": {
             "endlinecolor": "#2a3f5f",
             "gridcolor": "white",
             "linecolor": "white",
             "minorgridcolor": "white",
             "startlinecolor": "#2a3f5f"
            },
            "baxis": {
             "endlinecolor": "#2a3f5f",
             "gridcolor": "white",
             "linecolor": "white",
             "minorgridcolor": "white",
             "startlinecolor": "#2a3f5f"
            },
            "type": "carpet"
           }
          ],
          "choropleth": [
           {
            "colorbar": {
             "outlinewidth": 0,
             "ticks": ""
            },
            "type": "choropleth"
           }
          ],
          "contour": [
           {
            "colorbar": {
             "outlinewidth": 0,
             "ticks": ""
            },
            "colorscale": [
             [
              0,
              "#0d0887"
             ],
             [
              0.1111111111111111,
              "#46039f"
             ],
             [
              0.2222222222222222,
              "#7201a8"
             ],
             [
              0.3333333333333333,
              "#9c179e"
             ],
             [
              0.4444444444444444,
              "#bd3786"
             ],
             [
              0.5555555555555556,
              "#d8576b"
             ],
             [
              0.6666666666666666,
              "#ed7953"
             ],
             [
              0.7777777777777778,
              "#fb9f3a"
             ],
             [
              0.8888888888888888,
              "#fdca26"
             ],
             [
              1,
              "#f0f921"
             ]
            ],
            "type": "contour"
           }
          ],
          "contourcarpet": [
           {
            "colorbar": {
             "outlinewidth": 0,
             "ticks": ""
            },
            "type": "contourcarpet"
           }
          ],
          "heatmap": [
           {
            "colorbar": {
             "outlinewidth": 0,
             "ticks": ""
            },
            "colorscale": [
             [
              0,
              "#0d0887"
             ],
             [
              0.1111111111111111,
              "#46039f"
             ],
             [
              0.2222222222222222,
              "#7201a8"
             ],
             [
              0.3333333333333333,
              "#9c179e"
             ],
             [
              0.4444444444444444,
              "#bd3786"
             ],
             [
              0.5555555555555556,
              "#d8576b"
             ],
             [
              0.6666666666666666,
              "#ed7953"
             ],
             [
              0.7777777777777778,
              "#fb9f3a"
             ],
             [
              0.8888888888888888,
              "#fdca26"
             ],
             [
              1,
              "#f0f921"
             ]
            ],
            "type": "heatmap"
           }
          ],
          "heatmapgl": [
           {
            "colorbar": {
             "outlinewidth": 0,
             "ticks": ""
            },
            "colorscale": [
             [
              0,
              "#0d0887"
             ],
             [
              0.1111111111111111,
              "#46039f"
             ],
             [
              0.2222222222222222,
              "#7201a8"
             ],
             [
              0.3333333333333333,
              "#9c179e"
             ],
             [
              0.4444444444444444,
              "#bd3786"
             ],
             [
              0.5555555555555556,
              "#d8576b"
             ],
             [
              0.6666666666666666,
              "#ed7953"
             ],
             [
              0.7777777777777778,
              "#fb9f3a"
             ],
             [
              0.8888888888888888,
              "#fdca26"
             ],
             [
              1,
              "#f0f921"
             ]
            ],
            "type": "heatmapgl"
           }
          ],
          "histogram": [
           {
            "marker": {
             "colorbar": {
              "outlinewidth": 0,
              "ticks": ""
             }
            },
            "type": "histogram"
           }
          ],
          "histogram2d": [
           {
            "colorbar": {
             "outlinewidth": 0,
             "ticks": ""
            },
            "colorscale": [
             [
              0,
              "#0d0887"
             ],
             [
              0.1111111111111111,
              "#46039f"
             ],
             [
              0.2222222222222222,
              "#7201a8"
             ],
             [
              0.3333333333333333,
              "#9c179e"
             ],
             [
              0.4444444444444444,
              "#bd3786"
             ],
             [
              0.5555555555555556,
              "#d8576b"
             ],
             [
              0.6666666666666666,
              "#ed7953"
             ],
             [
              0.7777777777777778,
              "#fb9f3a"
             ],
             [
              0.8888888888888888,
              "#fdca26"
             ],
             [
              1,
              "#f0f921"
             ]
            ],
            "type": "histogram2d"
           }
          ],
          "histogram2dcontour": [
           {
            "colorbar": {
             "outlinewidth": 0,
             "ticks": ""
            },
            "colorscale": [
             [
              0,
              "#0d0887"
             ],
             [
              0.1111111111111111,
              "#46039f"
             ],
             [
              0.2222222222222222,
              "#7201a8"
             ],
             [
              0.3333333333333333,
              "#9c179e"
             ],
             [
              0.4444444444444444,
              "#bd3786"
             ],
             [
              0.5555555555555556,
              "#d8576b"
             ],
             [
              0.6666666666666666,
              "#ed7953"
             ],
             [
              0.7777777777777778,
              "#fb9f3a"
             ],
             [
              0.8888888888888888,
              "#fdca26"
             ],
             [
              1,
              "#f0f921"
             ]
            ],
            "type": "histogram2dcontour"
           }
          ],
          "mesh3d": [
           {
            "colorbar": {
             "outlinewidth": 0,
             "ticks": ""
            },
            "type": "mesh3d"
           }
          ],
          "parcoords": [
           {
            "line": {
             "colorbar": {
              "outlinewidth": 0,
              "ticks": ""
             }
            },
            "type": "parcoords"
           }
          ],
          "pie": [
           {
            "automargin": true,
            "type": "pie"
           }
          ],
          "scatter": [
           {
            "marker": {
             "colorbar": {
              "outlinewidth": 0,
              "ticks": ""
             }
            },
            "type": "scatter"
           }
          ],
          "scatter3d": [
           {
            "line": {
             "colorbar": {
              "outlinewidth": 0,
              "ticks": ""
             }
            },
            "marker": {
             "colorbar": {
              "outlinewidth": 0,
              "ticks": ""
             }
            },
            "type": "scatter3d"
           }
          ],
          "scattercarpet": [
           {
            "marker": {
             "colorbar": {
              "outlinewidth": 0,
              "ticks": ""
             }
            },
            "type": "scattercarpet"
           }
          ],
          "scattergeo": [
           {
            "marker": {
             "colorbar": {
              "outlinewidth": 0,
              "ticks": ""
             }
            },
            "type": "scattergeo"
           }
          ],
          "scattergl": [
           {
            "marker": {
             "colorbar": {
              "outlinewidth": 0,
              "ticks": ""
             }
            },
            "type": "scattergl"
           }
          ],
          "scattermapbox": [
           {
            "marker": {
             "colorbar": {
              "outlinewidth": 0,
              "ticks": ""
             }
            },
            "type": "scattermapbox"
           }
          ],
          "scatterpolar": [
           {
            "marker": {
             "colorbar": {
              "outlinewidth": 0,
              "ticks": ""
             }
            },
            "type": "scatterpolar"
           }
          ],
          "scatterpolargl": [
           {
            "marker": {
             "colorbar": {
              "outlinewidth": 0,
              "ticks": ""
             }
            },
            "type": "scatterpolargl"
           }
          ],
          "scatterternary": [
           {
            "marker": {
             "colorbar": {
              "outlinewidth": 0,
              "ticks": ""
             }
            },
            "type": "scatterternary"
           }
          ],
          "surface": [
           {
            "colorbar": {
             "outlinewidth": 0,
             "ticks": ""
            },
            "colorscale": [
             [
              0,
              "#0d0887"
             ],
             [
              0.1111111111111111,
              "#46039f"
             ],
             [
              0.2222222222222222,
              "#7201a8"
             ],
             [
              0.3333333333333333,
              "#9c179e"
             ],
             [
              0.4444444444444444,
              "#bd3786"
             ],
             [
              0.5555555555555556,
              "#d8576b"
             ],
             [
              0.6666666666666666,
              "#ed7953"
             ],
             [
              0.7777777777777778,
              "#fb9f3a"
             ],
             [
              0.8888888888888888,
              "#fdca26"
             ],
             [
              1,
              "#f0f921"
             ]
            ],
            "type": "surface"
           }
          ],
          "table": [
           {
            "cells": {
             "fill": {
              "color": "#EBF0F8"
             },
             "line": {
              "color": "white"
             }
            },
            "header": {
             "fill": {
              "color": "#C8D4E3"
             },
             "line": {
              "color": "white"
             }
            },
            "type": "table"
           }
          ]
         },
         "layout": {
          "annotationdefaults": {
           "arrowcolor": "#2a3f5f",
           "arrowhead": 0,
           "arrowwidth": 1
          },
          "coloraxis": {
           "colorbar": {
            "outlinewidth": 0,
            "ticks": ""
           }
          },
          "colorscale": {
           "diverging": [
            [
             0,
             "#8e0152"
            ],
            [
             0.1,
             "#c51b7d"
            ],
            [
             0.2,
             "#de77ae"
            ],
            [
             0.3,
             "#f1b6da"
            ],
            [
             0.4,
             "#fde0ef"
            ],
            [
             0.5,
             "#f7f7f7"
            ],
            [
             0.6,
             "#e6f5d0"
            ],
            [
             0.7,
             "#b8e186"
            ],
            [
             0.8,
             "#7fbc41"
            ],
            [
             0.9,
             "#4d9221"
            ],
            [
             1,
             "#276419"
            ]
           ],
           "sequential": [
            [
             0,
             "#0d0887"
            ],
            [
             0.1111111111111111,
             "#46039f"
            ],
            [
             0.2222222222222222,
             "#7201a8"
            ],
            [
             0.3333333333333333,
             "#9c179e"
            ],
            [
             0.4444444444444444,
             "#bd3786"
            ],
            [
             0.5555555555555556,
             "#d8576b"
            ],
            [
             0.6666666666666666,
             "#ed7953"
            ],
            [
             0.7777777777777778,
             "#fb9f3a"
            ],
            [
             0.8888888888888888,
             "#fdca26"
            ],
            [
             1,
             "#f0f921"
            ]
           ],
           "sequentialminus": [
            [
             0,
             "#0d0887"
            ],
            [
             0.1111111111111111,
             "#46039f"
            ],
            [
             0.2222222222222222,
             "#7201a8"
            ],
            [
             0.3333333333333333,
             "#9c179e"
            ],
            [
             0.4444444444444444,
             "#bd3786"
            ],
            [
             0.5555555555555556,
             "#d8576b"
            ],
            [
             0.6666666666666666,
             "#ed7953"
            ],
            [
             0.7777777777777778,
             "#fb9f3a"
            ],
            [
             0.8888888888888888,
             "#fdca26"
            ],
            [
             1,
             "#f0f921"
            ]
           ]
          },
          "colorway": [
           "#636efa",
           "#EF553B",
           "#00cc96",
           "#ab63fa",
           "#FFA15A",
           "#19d3f3",
           "#FF6692",
           "#B6E880",
           "#FF97FF",
           "#FECB52"
          ],
          "font": {
           "color": "#2a3f5f"
          },
          "geo": {
           "bgcolor": "white",
           "lakecolor": "white",
           "landcolor": "#E5ECF6",
           "showlakes": true,
           "showland": true,
           "subunitcolor": "white"
          },
          "hoverlabel": {
           "align": "left"
          },
          "hovermode": "closest",
          "mapbox": {
           "style": "light"
          },
          "paper_bgcolor": "white",
          "plot_bgcolor": "#E5ECF6",
          "polar": {
           "angularaxis": {
            "gridcolor": "white",
            "linecolor": "white",
            "ticks": ""
           },
           "bgcolor": "#E5ECF6",
           "radialaxis": {
            "gridcolor": "white",
            "linecolor": "white",
            "ticks": ""
           }
          },
          "scene": {
           "xaxis": {
            "backgroundcolor": "#E5ECF6",
            "gridcolor": "white",
            "gridwidth": 2,
            "linecolor": "white",
            "showbackground": true,
            "ticks": "",
            "zerolinecolor": "white"
           },
           "yaxis": {
            "backgroundcolor": "#E5ECF6",
            "gridcolor": "white",
            "gridwidth": 2,
            "linecolor": "white",
            "showbackground": true,
            "ticks": "",
            "zerolinecolor": "white"
           },
           "zaxis": {
            "backgroundcolor": "#E5ECF6",
            "gridcolor": "white",
            "gridwidth": 2,
            "linecolor": "white",
            "showbackground": true,
            "ticks": "",
            "zerolinecolor": "white"
           }
          },
          "shapedefaults": {
           "line": {
            "color": "#2a3f5f"
           }
          },
          "ternary": {
           "aaxis": {
            "gridcolor": "white",
            "linecolor": "white",
            "ticks": ""
           },
           "baxis": {
            "gridcolor": "white",
            "linecolor": "white",
            "ticks": ""
           },
           "bgcolor": "#E5ECF6",
           "caxis": {
            "gridcolor": "white",
            "linecolor": "white",
            "ticks": ""
           }
          },
          "title": {
           "x": 0.05
          },
          "xaxis": {
           "automargin": true,
           "gridcolor": "white",
           "linecolor": "white",
           "ticks": "",
           "title": {
            "standoff": 15
           },
           "zerolinecolor": "white",
           "zerolinewidth": 2
          },
          "yaxis": {
           "automargin": true,
           "gridcolor": "white",
           "linecolor": "white",
           "ticks": "",
           "title": {
            "standoff": 15
           },
           "zerolinecolor": "white",
           "zerolinewidth": 2
          }
         }
        },
        "title": {
         "text": "Global Confirmed Daily New Cases by 2020-04-07"
        },
        "xaxis": {
         "anchor": "y",
         "domain": [
          0,
          1
         ],
         "title": {
          "text": "Dates"
         }
        },
        "yaxis": {
         "anchor": "x",
         "domain": [
          0,
          1
         ],
         "title": {
          "text": "Confirmed new cases"
         }
        }
       }
      },
      "text/html": [
       "<div>\n",
       "        \n",
       "        \n",
       "            <div id=\"6b4851e6-7f6f-48dc-b870-b6fe63457199\" class=\"plotly-graph-div\" style=\"height:525px; width:100%;\"></div>\n",
       "            <script type=\"text/javascript\">\n",
       "                require([\"plotly\"], function(Plotly) {\n",
       "                    window.PLOTLYENV=window.PLOTLYENV || {};\n",
       "                    \n",
       "                if (document.getElementById(\"6b4851e6-7f6f-48dc-b870-b6fe63457199\")) {\n",
       "                    Plotly.newPlot(\n",
       "                        '6b4851e6-7f6f-48dc-b870-b6fe63457199',\n",
       "                        [{\"alignmentgroup\": \"True\", \"hoverlabel\": {\"namelength\": 0}, \"hovertemplate\": \"x=%{x}<br>y=%{y}<br>color=%{marker.color}\", \"legendgroup\": \"\", \"marker\": {\"color\": [555, 99, 287, 493, 684, 809, 2651, 588, 2068, 1693, 2111, 4749, 3094, 4011, 3743, 3159, 3597, 2729, 3030, 2612, 2040, 419, 15147, 6517, 2145, 2194, 2034, 1878, 503, 558, 622, 1753, 386, 603, 845, 982, 1358, 1366, 1899, 2358, 1937, 2534, 2280, 2766, 3915, 4046, 3974, 3769, 5030, 7255, 2477, 16853, 10896, 11353, 14120, 15528, 17719, 27749, 29638, 32299, 32446, 41282, 39810, 49608, 61938, 63700, 67415, 59434, 62255, 75092, 75118, 80715, 82597, 101488, 74710, 72986, 80995], \"coloraxis\": \"coloraxis\"}, \"name\": \"\", \"offsetgroup\": \"\", \"orientation\": \"v\", \"showlegend\": false, \"textposition\": \"auto\", \"type\": \"bar\", \"x\": [\"2020-01-22\", \"2020-01-23\", \"2020-01-24\", \"2020-01-25\", \"2020-01-26\", \"2020-01-27\", \"2020-01-28\", \"2020-01-29\", \"2020-01-30\", \"2020-01-31\", \"2020-02-01\", \"2020-02-02\", \"2020-02-03\", \"2020-02-04\", \"2020-02-05\", \"2020-02-06\", \"2020-02-07\", \"2020-02-08\", \"2020-02-09\", \"2020-02-10\", \"2020-02-11\", \"2020-02-12\", \"2020-02-13\", \"2020-02-14\", \"2020-02-15\", \"2020-02-16\", \"2020-02-17\", \"2020-02-18\", \"2020-02-19\", \"2020-02-20\", \"2020-02-21\", \"2020-02-22\", \"2020-02-23\", \"2020-02-24\", \"2020-02-25\", \"2020-02-26\", \"2020-02-27\", \"2020-02-28\", \"2020-02-29\", \"2020-03-01\", \"2020-03-02\", \"2020-03-03\", \"2020-03-04\", \"2020-03-05\", \"2020-03-06\", \"2020-03-07\", \"2020-03-08\", \"2020-03-09\", \"2020-03-10\", \"2020-03-11\", \"2020-03-12\", \"2020-03-13\", \"2020-03-14\", \"2020-03-15\", \"2020-03-16\", \"2020-03-17\", \"2020-03-18\", \"2020-03-19\", \"2020-03-20\", \"2020-03-21\", \"2020-03-22\", \"2020-03-23\", \"2020-03-24\", \"2020-03-25\", \"2020-03-26\", \"2020-03-27\", \"2020-03-28\", \"2020-03-29\", \"2020-03-30\", \"2020-03-31\", \"2020-04-01\", \"2020-04-02\", \"2020-04-03\", \"2020-04-04\", \"2020-04-05\", \"2020-04-06\", \"2020-04-07\"], \"xaxis\": \"x\", \"y\": [555, 99, 287, 493, 684, 809, 2651, 588, 2068, 1693, 2111, 4749, 3094, 4011, 3743, 3159, 3597, 2729, 3030, 2612, 2040, 419, 15147, 6517, 2145, 2194, 2034, 1878, 503, 558, 622, 1753, 386, 603, 845, 982, 1358, 1366, 1899, 2358, 1937, 2534, 2280, 2766, 3915, 4046, 3974, 3769, 5030, 7255, 2477, 16853, 10896, 11353, 14120, 15528, 17719, 27749, 29638, 32299, 32446, 41282, 39810, 49608, 61938, 63700, 67415, 59434, 62255, 75092, 75118, 80715, 82597, 101488, 74710, 72986, 80995], \"yaxis\": \"y\"}],\n",
       "                        {\"annotations\": [{\"text\": \"80,995\", \"x\": \"2020-04-07\", \"xref\": \"x\", \"y\": 80995, \"yref\": \"y\"}, {\"text\": \"Max: 101,488<br>2020-04-04\", \"x\": \"2020-04-04\", \"xref\": \"x\", \"y\": 101488, \"yref\": \"y\"}], \"barmode\": \"relative\", \"coloraxis\": {\"colorbar\": {\"title\": {\"text\": \"color\"}}, \"colorscale\": [[0.0, \"#0d0887\"], [0.1111111111111111, \"#46039f\"], [0.2222222222222222, \"#7201a8\"], [0.3333333333333333, \"#9c179e\"], [0.4444444444444444, \"#bd3786\"], [0.5555555555555556, \"#d8576b\"], [0.6666666666666666, \"#ed7953\"], [0.7777777777777778, \"#fb9f3a\"], [0.8888888888888888, \"#fdca26\"], [1.0, \"#f0f921\"]]}, \"legend\": {\"tracegroupgap\": 0}, \"margin\": {\"t\": 60}, \"template\": {\"data\": {\"bar\": [{\"error_x\": {\"color\": \"#2a3f5f\"}, \"error_y\": {\"color\": \"#2a3f5f\"}, \"marker\": {\"line\": {\"color\": \"#E5ECF6\", \"width\": 0.5}}, \"type\": \"bar\"}], \"barpolar\": [{\"marker\": {\"line\": {\"color\": \"#E5ECF6\", \"width\": 0.5}}, \"type\": \"barpolar\"}], \"carpet\": [{\"aaxis\": {\"endlinecolor\": \"#2a3f5f\", \"gridcolor\": \"white\", \"linecolor\": \"white\", \"minorgridcolor\": \"white\", \"startlinecolor\": \"#2a3f5f\"}, \"baxis\": {\"endlinecolor\": \"#2a3f5f\", \"gridcolor\": \"white\", \"linecolor\": \"white\", \"minorgridcolor\": \"white\", \"startlinecolor\": \"#2a3f5f\"}, \"type\": \"carpet\"}], \"choropleth\": [{\"colorbar\": {\"outlinewidth\": 0, \"ticks\": \"\"}, \"type\": \"choropleth\"}], \"contour\": [{\"colorbar\": {\"outlinewidth\": 0, \"ticks\": \"\"}, \"colorscale\": [[0.0, \"#0d0887\"], [0.1111111111111111, \"#46039f\"], [0.2222222222222222, \"#7201a8\"], [0.3333333333333333, \"#9c179e\"], [0.4444444444444444, \"#bd3786\"], [0.5555555555555556, \"#d8576b\"], [0.6666666666666666, \"#ed7953\"], [0.7777777777777778, \"#fb9f3a\"], [0.8888888888888888, \"#fdca26\"], [1.0, \"#f0f921\"]], \"type\": \"contour\"}], \"contourcarpet\": [{\"colorbar\": {\"outlinewidth\": 0, \"ticks\": \"\"}, \"type\": \"contourcarpet\"}], \"heatmap\": [{\"colorbar\": {\"outlinewidth\": 0, \"ticks\": \"\"}, \"colorscale\": [[0.0, \"#0d0887\"], [0.1111111111111111, \"#46039f\"], [0.2222222222222222, \"#7201a8\"], [0.3333333333333333, \"#9c179e\"], [0.4444444444444444, \"#bd3786\"], [0.5555555555555556, \"#d8576b\"], [0.6666666666666666, \"#ed7953\"], [0.7777777777777778, \"#fb9f3a\"], [0.8888888888888888, \"#fdca26\"], [1.0, \"#f0f921\"]], \"type\": \"heatmap\"}], \"heatmapgl\": [{\"colorbar\": {\"outlinewidth\": 0, \"ticks\": \"\"}, \"colorscale\": [[0.0, \"#0d0887\"], [0.1111111111111111, \"#46039f\"], [0.2222222222222222, \"#7201a8\"], [0.3333333333333333, \"#9c179e\"], [0.4444444444444444, \"#bd3786\"], [0.5555555555555556, \"#d8576b\"], [0.6666666666666666, \"#ed7953\"], [0.7777777777777778, \"#fb9f3a\"], [0.8888888888888888, \"#fdca26\"], [1.0, \"#f0f921\"]], \"type\": \"heatmapgl\"}], \"histogram\": [{\"marker\": {\"colorbar\": {\"outlinewidth\": 0, \"ticks\": \"\"}}, \"type\": \"histogram\"}], \"histogram2d\": [{\"colorbar\": {\"outlinewidth\": 0, \"ticks\": \"\"}, \"colorscale\": [[0.0, \"#0d0887\"], [0.1111111111111111, \"#46039f\"], [0.2222222222222222, \"#7201a8\"], [0.3333333333333333, \"#9c179e\"], [0.4444444444444444, \"#bd3786\"], [0.5555555555555556, \"#d8576b\"], [0.6666666666666666, \"#ed7953\"], [0.7777777777777778, \"#fb9f3a\"], [0.8888888888888888, \"#fdca26\"], [1.0, \"#f0f921\"]], \"type\": \"histogram2d\"}], \"histogram2dcontour\": [{\"colorbar\": {\"outlinewidth\": 0, \"ticks\": \"\"}, \"colorscale\": [[0.0, \"#0d0887\"], [0.1111111111111111, \"#46039f\"], [0.2222222222222222, \"#7201a8\"], [0.3333333333333333, \"#9c179e\"], [0.4444444444444444, \"#bd3786\"], [0.5555555555555556, \"#d8576b\"], [0.6666666666666666, \"#ed7953\"], [0.7777777777777778, \"#fb9f3a\"], [0.8888888888888888, \"#fdca26\"], [1.0, \"#f0f921\"]], \"type\": \"histogram2dcontour\"}], \"mesh3d\": [{\"colorbar\": {\"outlinewidth\": 0, \"ticks\": \"\"}, \"type\": \"mesh3d\"}], \"parcoords\": [{\"line\": {\"colorbar\": {\"outlinewidth\": 0, \"ticks\": \"\"}}, \"type\": \"parcoords\"}], \"pie\": [{\"automargin\": true, \"type\": \"pie\"}], \"scatter\": [{\"marker\": {\"colorbar\": {\"outlinewidth\": 0, \"ticks\": \"\"}}, \"type\": \"scatter\"}], \"scatter3d\": [{\"line\": {\"colorbar\": {\"outlinewidth\": 0, \"ticks\": \"\"}}, \"marker\": {\"colorbar\": {\"outlinewidth\": 0, \"ticks\": \"\"}}, \"type\": \"scatter3d\"}], \"scattercarpet\": [{\"marker\": {\"colorbar\": {\"outlinewidth\": 0, \"ticks\": \"\"}}, \"type\": \"scattercarpet\"}], \"scattergeo\": [{\"marker\": {\"colorbar\": {\"outlinewidth\": 0, \"ticks\": \"\"}}, \"type\": \"scattergeo\"}], \"scattergl\": [{\"marker\": {\"colorbar\": {\"outlinewidth\": 0, \"ticks\": \"\"}}, \"type\": \"scattergl\"}], \"scattermapbox\": [{\"marker\": {\"colorbar\": {\"outlinewidth\": 0, \"ticks\": \"\"}}, \"type\": \"scattermapbox\"}], \"scatterpolar\": [{\"marker\": {\"colorbar\": {\"outlinewidth\": 0, \"ticks\": \"\"}}, \"type\": \"scatterpolar\"}], \"scatterpolargl\": [{\"marker\": {\"colorbar\": {\"outlinewidth\": 0, \"ticks\": \"\"}}, \"type\": \"scatterpolargl\"}], \"scatterternary\": [{\"marker\": {\"colorbar\": {\"outlinewidth\": 0, \"ticks\": \"\"}}, \"type\": \"scatterternary\"}], \"surface\": [{\"colorbar\": {\"outlinewidth\": 0, \"ticks\": \"\"}, \"colorscale\": [[0.0, \"#0d0887\"], [0.1111111111111111, \"#46039f\"], [0.2222222222222222, \"#7201a8\"], [0.3333333333333333, \"#9c179e\"], [0.4444444444444444, \"#bd3786\"], [0.5555555555555556, \"#d8576b\"], [0.6666666666666666, \"#ed7953\"], [0.7777777777777778, \"#fb9f3a\"], [0.8888888888888888, \"#fdca26\"], [1.0, \"#f0f921\"]], \"type\": \"surface\"}], \"table\": [{\"cells\": {\"fill\": {\"color\": \"#EBF0F8\"}, \"line\": {\"color\": \"white\"}}, \"header\": {\"fill\": {\"color\": \"#C8D4E3\"}, \"line\": {\"color\": \"white\"}}, \"type\": \"table\"}]}, \"layout\": {\"annotationdefaults\": {\"arrowcolor\": \"#2a3f5f\", \"arrowhead\": 0, \"arrowwidth\": 1}, \"coloraxis\": {\"colorbar\": {\"outlinewidth\": 0, \"ticks\": \"\"}}, \"colorscale\": {\"diverging\": [[0, \"#8e0152\"], [0.1, \"#c51b7d\"], [0.2, \"#de77ae\"], [0.3, \"#f1b6da\"], [0.4, \"#fde0ef\"], [0.5, \"#f7f7f7\"], [0.6, \"#e6f5d0\"], [0.7, \"#b8e186\"], [0.8, \"#7fbc41\"], [0.9, \"#4d9221\"], [1, \"#276419\"]], \"sequential\": [[0.0, \"#0d0887\"], [0.1111111111111111, \"#46039f\"], [0.2222222222222222, \"#7201a8\"], [0.3333333333333333, \"#9c179e\"], [0.4444444444444444, \"#bd3786\"], [0.5555555555555556, \"#d8576b\"], [0.6666666666666666, \"#ed7953\"], [0.7777777777777778, \"#fb9f3a\"], [0.8888888888888888, \"#fdca26\"], [1.0, \"#f0f921\"]], \"sequentialminus\": [[0.0, \"#0d0887\"], [0.1111111111111111, \"#46039f\"], [0.2222222222222222, \"#7201a8\"], [0.3333333333333333, \"#9c179e\"], [0.4444444444444444, \"#bd3786\"], [0.5555555555555556, \"#d8576b\"], [0.6666666666666666, \"#ed7953\"], [0.7777777777777778, \"#fb9f3a\"], [0.8888888888888888, \"#fdca26\"], [1.0, \"#f0f921\"]]}, \"colorway\": [\"#636efa\", \"#EF553B\", \"#00cc96\", \"#ab63fa\", \"#FFA15A\", \"#19d3f3\", \"#FF6692\", \"#B6E880\", \"#FF97FF\", \"#FECB52\"], \"font\": {\"color\": \"#2a3f5f\"}, \"geo\": {\"bgcolor\": \"white\", \"lakecolor\": \"white\", \"landcolor\": \"#E5ECF6\", \"showlakes\": true, \"showland\": true, \"subunitcolor\": \"white\"}, \"hoverlabel\": {\"align\": \"left\"}, \"hovermode\": \"closest\", \"mapbox\": {\"style\": \"light\"}, \"paper_bgcolor\": \"white\", \"plot_bgcolor\": \"#E5ECF6\", \"polar\": {\"angularaxis\": {\"gridcolor\": \"white\", \"linecolor\": \"white\", \"ticks\": \"\"}, \"bgcolor\": \"#E5ECF6\", \"radialaxis\": {\"gridcolor\": \"white\", \"linecolor\": \"white\", \"ticks\": \"\"}}, \"scene\": {\"xaxis\": {\"backgroundcolor\": \"#E5ECF6\", \"gridcolor\": \"white\", \"gridwidth\": 2, \"linecolor\": \"white\", \"showbackground\": true, \"ticks\": \"\", \"zerolinecolor\": \"white\"}, \"yaxis\": {\"backgroundcolor\": \"#E5ECF6\", \"gridcolor\": \"white\", \"gridwidth\": 2, \"linecolor\": \"white\", \"showbackground\": true, \"ticks\": \"\", \"zerolinecolor\": \"white\"}, \"zaxis\": {\"backgroundcolor\": \"#E5ECF6\", \"gridcolor\": \"white\", \"gridwidth\": 2, \"linecolor\": \"white\", \"showbackground\": true, \"ticks\": \"\", \"zerolinecolor\": \"white\"}}, \"shapedefaults\": {\"line\": {\"color\": \"#2a3f5f\"}}, \"ternary\": {\"aaxis\": {\"gridcolor\": \"white\", \"linecolor\": \"white\", \"ticks\": \"\"}, \"baxis\": {\"gridcolor\": \"white\", \"linecolor\": \"white\", \"ticks\": \"\"}, \"bgcolor\": \"#E5ECF6\", \"caxis\": {\"gridcolor\": \"white\", \"linecolor\": \"white\", \"ticks\": \"\"}}, \"title\": {\"x\": 0.05}, \"xaxis\": {\"automargin\": true, \"gridcolor\": \"white\", \"linecolor\": \"white\", \"ticks\": \"\", \"title\": {\"standoff\": 15}, \"zerolinecolor\": \"white\", \"zerolinewidth\": 2}, \"yaxis\": {\"automargin\": true, \"gridcolor\": \"white\", \"linecolor\": \"white\", \"ticks\": \"\", \"title\": {\"standoff\": 15}, \"zerolinecolor\": \"white\", \"zerolinewidth\": 2}}}, \"title\": {\"text\": \"Global Confirmed Daily New Cases by 2020-04-07\"}, \"xaxis\": {\"anchor\": \"y\", \"domain\": [0.0, 1.0], \"title\": {\"text\": \"Dates\"}}, \"yaxis\": {\"anchor\": \"x\", \"domain\": [0.0, 1.0], \"title\": {\"text\": \"Confirmed new cases\"}}},\n",
       "                        {\"responsive\": true}\n",
       "                    ).then(function(){\n",
       "                            \n",
       "var gd = document.getElementById('6b4851e6-7f6f-48dc-b870-b6fe63457199');\n",
       "var x = new MutationObserver(function (mutations, observer) {{\n",
       "        var display = window.getComputedStyle(gd).display;\n",
       "        if (!display || display === 'none') {{\n",
       "            console.log([gd, 'removed!']);\n",
       "            Plotly.purge(gd);\n",
       "            observer.disconnect();\n",
       "        }}\n",
       "}});\n",
       "\n",
       "// Listen for the removal of the full notebook cells\n",
       "var notebookContainer = gd.closest('#notebook-container');\n",
       "if (notebookContainer) {{\n",
       "    x.observe(notebookContainer, {childList: true});\n",
       "}}\n",
       "\n",
       "// Listen for the clearing of the current output cell\n",
       "var outputEl = gd.closest('.output');\n",
       "if (outputEl) {{\n",
       "    x.observe(outputEl, {childList: true});\n",
       "}}\n",
       "\n",
       "                        })\n",
       "                };\n",
       "                });\n",
       "            </script>\n",
       "        </div>"
      ]
     },
     "metadata": {},
     "output_type": "display_data"
    },
    {
     "data": {
      "application/vnd.plotly.v1+json": {
       "config": {
        "plotlyServerURL": "https://plot.ly"
       },
       "data": [
        {
         "alignmentgroup": "True",
         "hoverlabel": {
          "namelength": 0
         },
         "hovertemplate": "x=%{x}<br>y=%{y}<br>color=%{marker.color}",
         "legendgroup": "",
         "marker": {
          "color": [
           17,
           1,
           8,
           16,
           14,
           26,
           49,
           2,
           38,
           42,
           46,
           103,
           64,
           66,
           72,
           70,
           85,
           87,
           100,
           107,
           100,
           5,
           253,
           152,
           143,
           104,
           98,
           139,
           115,
           125,
           4,
           207,
           11,
           160,
           79,
           62,
           44,
           58,
           69,
           55,
           89,
           75,
           94,
           94,
           112,
           98,
           244,
           186,
           274,
           353,
           105,
           684,
           415,
           621,
           686,
           779,
           828,
           1134,
           1432,
           1674,
           1678,
           1854,
           2120,
           2556,
           2789,
           3228,
           3454,
           3273,
           3657,
           4525,
           4702,
           6174,
           5804,
           5819,
           4768,
           5191,
           7300
          ],
          "coloraxis": "coloraxis"
         },
         "name": "",
         "offsetgroup": "",
         "orientation": "v",
         "showlegend": false,
         "textposition": "auto",
         "type": "bar",
         "x": [
          "2020-01-22",
          "2020-01-23",
          "2020-01-24",
          "2020-01-25",
          "2020-01-26",
          "2020-01-27",
          "2020-01-28",
          "2020-01-29",
          "2020-01-30",
          "2020-01-31",
          "2020-02-01",
          "2020-02-02",
          "2020-02-03",
          "2020-02-04",
          "2020-02-05",
          "2020-02-06",
          "2020-02-07",
          "2020-02-08",
          "2020-02-09",
          "2020-02-10",
          "2020-02-11",
          "2020-02-12",
          "2020-02-13",
          "2020-02-14",
          "2020-02-15",
          "2020-02-16",
          "2020-02-17",
          "2020-02-18",
          "2020-02-19",
          "2020-02-20",
          "2020-02-21",
          "2020-02-22",
          "2020-02-23",
          "2020-02-24",
          "2020-02-25",
          "2020-02-26",
          "2020-02-27",
          "2020-02-28",
          "2020-02-29",
          "2020-03-01",
          "2020-03-02",
          "2020-03-03",
          "2020-03-04",
          "2020-03-05",
          "2020-03-06",
          "2020-03-07",
          "2020-03-08",
          "2020-03-09",
          "2020-03-10",
          "2020-03-11",
          "2020-03-12",
          "2020-03-13",
          "2020-03-14",
          "2020-03-15",
          "2020-03-16",
          "2020-03-17",
          "2020-03-18",
          "2020-03-19",
          "2020-03-20",
          "2020-03-21",
          "2020-03-22",
          "2020-03-23",
          "2020-03-24",
          "2020-03-25",
          "2020-03-26",
          "2020-03-27",
          "2020-03-28",
          "2020-03-29",
          "2020-03-30",
          "2020-03-31",
          "2020-04-01",
          "2020-04-02",
          "2020-04-03",
          "2020-04-04",
          "2020-04-05",
          "2020-04-06",
          "2020-04-07"
         ],
         "xaxis": "x",
         "y": [
          17,
          1,
          8,
          16,
          14,
          26,
          49,
          2,
          38,
          42,
          46,
          103,
          64,
          66,
          72,
          70,
          85,
          87,
          100,
          107,
          100,
          5,
          253,
          152,
          143,
          104,
          98,
          139,
          115,
          125,
          4,
          207,
          11,
          160,
          79,
          62,
          44,
          58,
          69,
          55,
          89,
          75,
          94,
          94,
          112,
          98,
          244,
          186,
          274,
          353,
          105,
          684,
          415,
          621,
          686,
          779,
          828,
          1134,
          1432,
          1674,
          1678,
          1854,
          2120,
          2556,
          2789,
          3228,
          3454,
          3273,
          3657,
          4525,
          4702,
          6174,
          5804,
          5819,
          4768,
          5191,
          7300
         ],
         "yaxis": "y"
        }
       ],
       "layout": {
        "annotations": [
         {
          "text": "7,300",
          "x": "2020-04-07",
          "xref": "x",
          "y": 7300,
          "yref": "y"
         }
        ],
        "barmode": "relative",
        "coloraxis": {
         "colorbar": {
          "title": {
           "text": "color"
          }
         },
         "colorscale": [
          [
           0,
           "#0d0887"
          ],
          [
           0.1111111111111111,
           "#46039f"
          ],
          [
           0.2222222222222222,
           "#7201a8"
          ],
          [
           0.3333333333333333,
           "#9c179e"
          ],
          [
           0.4444444444444444,
           "#bd3786"
          ],
          [
           0.5555555555555556,
           "#d8576b"
          ],
          [
           0.6666666666666666,
           "#ed7953"
          ],
          [
           0.7777777777777778,
           "#fb9f3a"
          ],
          [
           0.8888888888888888,
           "#fdca26"
          ],
          [
           1,
           "#f0f921"
          ]
         ]
        },
        "legend": {
         "tracegroupgap": 0
        },
        "margin": {
         "t": 60
        },
        "template": {
         "data": {
          "bar": [
           {
            "error_x": {
             "color": "#2a3f5f"
            },
            "error_y": {
             "color": "#2a3f5f"
            },
            "marker": {
             "line": {
              "color": "#E5ECF6",
              "width": 0.5
             }
            },
            "type": "bar"
           }
          ],
          "barpolar": [
           {
            "marker": {
             "line": {
              "color": "#E5ECF6",
              "width": 0.5
             }
            },
            "type": "barpolar"
           }
          ],
          "carpet": [
           {
            "aaxis": {
             "endlinecolor": "#2a3f5f",
             "gridcolor": "white",
             "linecolor": "white",
             "minorgridcolor": "white",
             "startlinecolor": "#2a3f5f"
            },
            "baxis": {
             "endlinecolor": "#2a3f5f",
             "gridcolor": "white",
             "linecolor": "white",
             "minorgridcolor": "white",
             "startlinecolor": "#2a3f5f"
            },
            "type": "carpet"
           }
          ],
          "choropleth": [
           {
            "colorbar": {
             "outlinewidth": 0,
             "ticks": ""
            },
            "type": "choropleth"
           }
          ],
          "contour": [
           {
            "colorbar": {
             "outlinewidth": 0,
             "ticks": ""
            },
            "colorscale": [
             [
              0,
              "#0d0887"
             ],
             [
              0.1111111111111111,
              "#46039f"
             ],
             [
              0.2222222222222222,
              "#7201a8"
             ],
             [
              0.3333333333333333,
              "#9c179e"
             ],
             [
              0.4444444444444444,
              "#bd3786"
             ],
             [
              0.5555555555555556,
              "#d8576b"
             ],
             [
              0.6666666666666666,
              "#ed7953"
             ],
             [
              0.7777777777777778,
              "#fb9f3a"
             ],
             [
              0.8888888888888888,
              "#fdca26"
             ],
             [
              1,
              "#f0f921"
             ]
            ],
            "type": "contour"
           }
          ],
          "contourcarpet": [
           {
            "colorbar": {
             "outlinewidth": 0,
             "ticks": ""
            },
            "type": "contourcarpet"
           }
          ],
          "heatmap": [
           {
            "colorbar": {
             "outlinewidth": 0,
             "ticks": ""
            },
            "colorscale": [
             [
              0,
              "#0d0887"
             ],
             [
              0.1111111111111111,
              "#46039f"
             ],
             [
              0.2222222222222222,
              "#7201a8"
             ],
             [
              0.3333333333333333,
              "#9c179e"
             ],
             [
              0.4444444444444444,
              "#bd3786"
             ],
             [
              0.5555555555555556,
              "#d8576b"
             ],
             [
              0.6666666666666666,
              "#ed7953"
             ],
             [
              0.7777777777777778,
              "#fb9f3a"
             ],
             [
              0.8888888888888888,
              "#fdca26"
             ],
             [
              1,
              "#f0f921"
             ]
            ],
            "type": "heatmap"
           }
          ],
          "heatmapgl": [
           {
            "colorbar": {
             "outlinewidth": 0,
             "ticks": ""
            },
            "colorscale": [
             [
              0,
              "#0d0887"
             ],
             [
              0.1111111111111111,
              "#46039f"
             ],
             [
              0.2222222222222222,
              "#7201a8"
             ],
             [
              0.3333333333333333,
              "#9c179e"
             ],
             [
              0.4444444444444444,
              "#bd3786"
             ],
             [
              0.5555555555555556,
              "#d8576b"
             ],
             [
              0.6666666666666666,
              "#ed7953"
             ],
             [
              0.7777777777777778,
              "#fb9f3a"
             ],
             [
              0.8888888888888888,
              "#fdca26"
             ],
             [
              1,
              "#f0f921"
             ]
            ],
            "type": "heatmapgl"
           }
          ],
          "histogram": [
           {
            "marker": {
             "colorbar": {
              "outlinewidth": 0,
              "ticks": ""
             }
            },
            "type": "histogram"
           }
          ],
          "histogram2d": [
           {
            "colorbar": {
             "outlinewidth": 0,
             "ticks": ""
            },
            "colorscale": [
             [
              0,
              "#0d0887"
             ],
             [
              0.1111111111111111,
              "#46039f"
             ],
             [
              0.2222222222222222,
              "#7201a8"
             ],
             [
              0.3333333333333333,
              "#9c179e"
             ],
             [
              0.4444444444444444,
              "#bd3786"
             ],
             [
              0.5555555555555556,
              "#d8576b"
             ],
             [
              0.6666666666666666,
              "#ed7953"
             ],
             [
              0.7777777777777778,
              "#fb9f3a"
             ],
             [
              0.8888888888888888,
              "#fdca26"
             ],
             [
              1,
              "#f0f921"
             ]
            ],
            "type": "histogram2d"
           }
          ],
          "histogram2dcontour": [
           {
            "colorbar": {
             "outlinewidth": 0,
             "ticks": ""
            },
            "colorscale": [
             [
              0,
              "#0d0887"
             ],
             [
              0.1111111111111111,
              "#46039f"
             ],
             [
              0.2222222222222222,
              "#7201a8"
             ],
             [
              0.3333333333333333,
              "#9c179e"
             ],
             [
              0.4444444444444444,
              "#bd3786"
             ],
             [
              0.5555555555555556,
              "#d8576b"
             ],
             [
              0.6666666666666666,
              "#ed7953"
             ],
             [
              0.7777777777777778,
              "#fb9f3a"
             ],
             [
              0.8888888888888888,
              "#fdca26"
             ],
             [
              1,
              "#f0f921"
             ]
            ],
            "type": "histogram2dcontour"
           }
          ],
          "mesh3d": [
           {
            "colorbar": {
             "outlinewidth": 0,
             "ticks": ""
            },
            "type": "mesh3d"
           }
          ],
          "parcoords": [
           {
            "line": {
             "colorbar": {
              "outlinewidth": 0,
              "ticks": ""
             }
            },
            "type": "parcoords"
           }
          ],
          "pie": [
           {
            "automargin": true,
            "type": "pie"
           }
          ],
          "scatter": [
           {
            "marker": {
             "colorbar": {
              "outlinewidth": 0,
              "ticks": ""
             }
            },
            "type": "scatter"
           }
          ],
          "scatter3d": [
           {
            "line": {
             "colorbar": {
              "outlinewidth": 0,
              "ticks": ""
             }
            },
            "marker": {
             "colorbar": {
              "outlinewidth": 0,
              "ticks": ""
             }
            },
            "type": "scatter3d"
           }
          ],
          "scattercarpet": [
           {
            "marker": {
             "colorbar": {
              "outlinewidth": 0,
              "ticks": ""
             }
            },
            "type": "scattercarpet"
           }
          ],
          "scattergeo": [
           {
            "marker": {
             "colorbar": {
              "outlinewidth": 0,
              "ticks": ""
             }
            },
            "type": "scattergeo"
           }
          ],
          "scattergl": [
           {
            "marker": {
             "colorbar": {
              "outlinewidth": 0,
              "ticks": ""
             }
            },
            "type": "scattergl"
           }
          ],
          "scattermapbox": [
           {
            "marker": {
             "colorbar": {
              "outlinewidth": 0,
              "ticks": ""
             }
            },
            "type": "scattermapbox"
           }
          ],
          "scatterpolar": [
           {
            "marker": {
             "colorbar": {
              "outlinewidth": 0,
              "ticks": ""
             }
            },
            "type": "scatterpolar"
           }
          ],
          "scatterpolargl": [
           {
            "marker": {
             "colorbar": {
              "outlinewidth": 0,
              "ticks": ""
             }
            },
            "type": "scatterpolargl"
           }
          ],
          "scatterternary": [
           {
            "marker": {
             "colorbar": {
              "outlinewidth": 0,
              "ticks": ""
             }
            },
            "type": "scatterternary"
           }
          ],
          "surface": [
           {
            "colorbar": {
             "outlinewidth": 0,
             "ticks": ""
            },
            "colorscale": [
             [
              0,
              "#0d0887"
             ],
             [
              0.1111111111111111,
              "#46039f"
             ],
             [
              0.2222222222222222,
              "#7201a8"
             ],
             [
              0.3333333333333333,
              "#9c179e"
             ],
             [
              0.4444444444444444,
              "#bd3786"
             ],
             [
              0.5555555555555556,
              "#d8576b"
             ],
             [
              0.6666666666666666,
              "#ed7953"
             ],
             [
              0.7777777777777778,
              "#fb9f3a"
             ],
             [
              0.8888888888888888,
              "#fdca26"
             ],
             [
              1,
              "#f0f921"
             ]
            ],
            "type": "surface"
           }
          ],
          "table": [
           {
            "cells": {
             "fill": {
              "color": "#EBF0F8"
             },
             "line": {
              "color": "white"
             }
            },
            "header": {
             "fill": {
              "color": "#C8D4E3"
             },
             "line": {
              "color": "white"
             }
            },
            "type": "table"
           }
          ]
         },
         "layout": {
          "annotationdefaults": {
           "arrowcolor": "#2a3f5f",
           "arrowhead": 0,
           "arrowwidth": 1
          },
          "coloraxis": {
           "colorbar": {
            "outlinewidth": 0,
            "ticks": ""
           }
          },
          "colorscale": {
           "diverging": [
            [
             0,
             "#8e0152"
            ],
            [
             0.1,
             "#c51b7d"
            ],
            [
             0.2,
             "#de77ae"
            ],
            [
             0.3,
             "#f1b6da"
            ],
            [
             0.4,
             "#fde0ef"
            ],
            [
             0.5,
             "#f7f7f7"
            ],
            [
             0.6,
             "#e6f5d0"
            ],
            [
             0.7,
             "#b8e186"
            ],
            [
             0.8,
             "#7fbc41"
            ],
            [
             0.9,
             "#4d9221"
            ],
            [
             1,
             "#276419"
            ]
           ],
           "sequential": [
            [
             0,
             "#0d0887"
            ],
            [
             0.1111111111111111,
             "#46039f"
            ],
            [
             0.2222222222222222,
             "#7201a8"
            ],
            [
             0.3333333333333333,
             "#9c179e"
            ],
            [
             0.4444444444444444,
             "#bd3786"
            ],
            [
             0.5555555555555556,
             "#d8576b"
            ],
            [
             0.6666666666666666,
             "#ed7953"
            ],
            [
             0.7777777777777778,
             "#fb9f3a"
            ],
            [
             0.8888888888888888,
             "#fdca26"
            ],
            [
             1,
             "#f0f921"
            ]
           ],
           "sequentialminus": [
            [
             0,
             "#0d0887"
            ],
            [
             0.1111111111111111,
             "#46039f"
            ],
            [
             0.2222222222222222,
             "#7201a8"
            ],
            [
             0.3333333333333333,
             "#9c179e"
            ],
            [
             0.4444444444444444,
             "#bd3786"
            ],
            [
             0.5555555555555556,
             "#d8576b"
            ],
            [
             0.6666666666666666,
             "#ed7953"
            ],
            [
             0.7777777777777778,
             "#fb9f3a"
            ],
            [
             0.8888888888888888,
             "#fdca26"
            ],
            [
             1,
             "#f0f921"
            ]
           ]
          },
          "colorway": [
           "#636efa",
           "#EF553B",
           "#00cc96",
           "#ab63fa",
           "#FFA15A",
           "#19d3f3",
           "#FF6692",
           "#B6E880",
           "#FF97FF",
           "#FECB52"
          ],
          "font": {
           "color": "#2a3f5f"
          },
          "geo": {
           "bgcolor": "white",
           "lakecolor": "white",
           "landcolor": "#E5ECF6",
           "showlakes": true,
           "showland": true,
           "subunitcolor": "white"
          },
          "hoverlabel": {
           "align": "left"
          },
          "hovermode": "closest",
          "mapbox": {
           "style": "light"
          },
          "paper_bgcolor": "white",
          "plot_bgcolor": "#E5ECF6",
          "polar": {
           "angularaxis": {
            "gridcolor": "white",
            "linecolor": "white",
            "ticks": ""
           },
           "bgcolor": "#E5ECF6",
           "radialaxis": {
            "gridcolor": "white",
            "linecolor": "white",
            "ticks": ""
           }
          },
          "scene": {
           "xaxis": {
            "backgroundcolor": "#E5ECF6",
            "gridcolor": "white",
            "gridwidth": 2,
            "linecolor": "white",
            "showbackground": true,
            "ticks": "",
            "zerolinecolor": "white"
           },
           "yaxis": {
            "backgroundcolor": "#E5ECF6",
            "gridcolor": "white",
            "gridwidth": 2,
            "linecolor": "white",
            "showbackground": true,
            "ticks": "",
            "zerolinecolor": "white"
           },
           "zaxis": {
            "backgroundcolor": "#E5ECF6",
            "gridcolor": "white",
            "gridwidth": 2,
            "linecolor": "white",
            "showbackground": true,
            "ticks": "",
            "zerolinecolor": "white"
           }
          },
          "shapedefaults": {
           "line": {
            "color": "#2a3f5f"
           }
          },
          "ternary": {
           "aaxis": {
            "gridcolor": "white",
            "linecolor": "white",
            "ticks": ""
           },
           "baxis": {
            "gridcolor": "white",
            "linecolor": "white",
            "ticks": ""
           },
           "bgcolor": "#E5ECF6",
           "caxis": {
            "gridcolor": "white",
            "linecolor": "white",
            "ticks": ""
           }
          },
          "title": {
           "x": 0.05
          },
          "xaxis": {
           "automargin": true,
           "gridcolor": "white",
           "linecolor": "white",
           "ticks": "",
           "title": {
            "standoff": 15
           },
           "zerolinecolor": "white",
           "zerolinewidth": 2
          },
          "yaxis": {
           "automargin": true,
           "gridcolor": "white",
           "linecolor": "white",
           "ticks": "",
           "title": {
            "standoff": 15
           },
           "zerolinecolor": "white",
           "zerolinewidth": 2
          }
         }
        },
        "title": {
         "text": "Global Deaths Daily New Cases by 2020-04-07"
        },
        "xaxis": {
         "anchor": "y",
         "domain": [
          0,
          1
         ],
         "title": {
          "text": "Dates"
         }
        },
        "yaxis": {
         "anchor": "x",
         "domain": [
          0,
          1
         ],
         "title": {
          "text": "Deaths new cases"
         }
        }
       }
      },
      "text/html": [
       "<div>\n",
       "        \n",
       "        \n",
       "            <div id=\"21a866dc-ee76-44bf-97c5-56e0c3e689dd\" class=\"plotly-graph-div\" style=\"height:525px; width:100%;\"></div>\n",
       "            <script type=\"text/javascript\">\n",
       "                require([\"plotly\"], function(Plotly) {\n",
       "                    window.PLOTLYENV=window.PLOTLYENV || {};\n",
       "                    \n",
       "                if (document.getElementById(\"21a866dc-ee76-44bf-97c5-56e0c3e689dd\")) {\n",
       "                    Plotly.newPlot(\n",
       "                        '21a866dc-ee76-44bf-97c5-56e0c3e689dd',\n",
       "                        [{\"alignmentgroup\": \"True\", \"hoverlabel\": {\"namelength\": 0}, \"hovertemplate\": \"x=%{x}<br>y=%{y}<br>color=%{marker.color}\", \"legendgroup\": \"\", \"marker\": {\"color\": [17, 1, 8, 16, 14, 26, 49, 2, 38, 42, 46, 103, 64, 66, 72, 70, 85, 87, 100, 107, 100, 5, 253, 152, 143, 104, 98, 139, 115, 125, 4, 207, 11, 160, 79, 62, 44, 58, 69, 55, 89, 75, 94, 94, 112, 98, 244, 186, 274, 353, 105, 684, 415, 621, 686, 779, 828, 1134, 1432, 1674, 1678, 1854, 2120, 2556, 2789, 3228, 3454, 3273, 3657, 4525, 4702, 6174, 5804, 5819, 4768, 5191, 7300], \"coloraxis\": \"coloraxis\"}, \"name\": \"\", \"offsetgroup\": \"\", \"orientation\": \"v\", \"showlegend\": false, \"textposition\": \"auto\", \"type\": \"bar\", \"x\": [\"2020-01-22\", \"2020-01-23\", \"2020-01-24\", \"2020-01-25\", \"2020-01-26\", \"2020-01-27\", \"2020-01-28\", \"2020-01-29\", \"2020-01-30\", \"2020-01-31\", \"2020-02-01\", \"2020-02-02\", \"2020-02-03\", \"2020-02-04\", \"2020-02-05\", \"2020-02-06\", \"2020-02-07\", \"2020-02-08\", \"2020-02-09\", \"2020-02-10\", \"2020-02-11\", \"2020-02-12\", \"2020-02-13\", \"2020-02-14\", \"2020-02-15\", \"2020-02-16\", \"2020-02-17\", \"2020-02-18\", \"2020-02-19\", \"2020-02-20\", \"2020-02-21\", \"2020-02-22\", \"2020-02-23\", \"2020-02-24\", \"2020-02-25\", \"2020-02-26\", \"2020-02-27\", \"2020-02-28\", \"2020-02-29\", \"2020-03-01\", \"2020-03-02\", \"2020-03-03\", \"2020-03-04\", \"2020-03-05\", \"2020-03-06\", \"2020-03-07\", \"2020-03-08\", \"2020-03-09\", \"2020-03-10\", \"2020-03-11\", \"2020-03-12\", \"2020-03-13\", \"2020-03-14\", \"2020-03-15\", \"2020-03-16\", \"2020-03-17\", \"2020-03-18\", \"2020-03-19\", \"2020-03-20\", \"2020-03-21\", \"2020-03-22\", \"2020-03-23\", \"2020-03-24\", \"2020-03-25\", \"2020-03-26\", \"2020-03-27\", \"2020-03-28\", \"2020-03-29\", \"2020-03-30\", \"2020-03-31\", \"2020-04-01\", \"2020-04-02\", \"2020-04-03\", \"2020-04-04\", \"2020-04-05\", \"2020-04-06\", \"2020-04-07\"], \"xaxis\": \"x\", \"y\": [17, 1, 8, 16, 14, 26, 49, 2, 38, 42, 46, 103, 64, 66, 72, 70, 85, 87, 100, 107, 100, 5, 253, 152, 143, 104, 98, 139, 115, 125, 4, 207, 11, 160, 79, 62, 44, 58, 69, 55, 89, 75, 94, 94, 112, 98, 244, 186, 274, 353, 105, 684, 415, 621, 686, 779, 828, 1134, 1432, 1674, 1678, 1854, 2120, 2556, 2789, 3228, 3454, 3273, 3657, 4525, 4702, 6174, 5804, 5819, 4768, 5191, 7300], \"yaxis\": \"y\"}],\n",
       "                        {\"annotations\": [{\"text\": \"7,300\", \"x\": \"2020-04-07\", \"xref\": \"x\", \"y\": 7300, \"yref\": \"y\"}], \"barmode\": \"relative\", \"coloraxis\": {\"colorbar\": {\"title\": {\"text\": \"color\"}}, \"colorscale\": [[0.0, \"#0d0887\"], [0.1111111111111111, \"#46039f\"], [0.2222222222222222, \"#7201a8\"], [0.3333333333333333, \"#9c179e\"], [0.4444444444444444, \"#bd3786\"], [0.5555555555555556, \"#d8576b\"], [0.6666666666666666, \"#ed7953\"], [0.7777777777777778, \"#fb9f3a\"], [0.8888888888888888, \"#fdca26\"], [1.0, \"#f0f921\"]]}, \"legend\": {\"tracegroupgap\": 0}, \"margin\": {\"t\": 60}, \"template\": {\"data\": {\"bar\": [{\"error_x\": {\"color\": \"#2a3f5f\"}, \"error_y\": {\"color\": \"#2a3f5f\"}, \"marker\": {\"line\": {\"color\": \"#E5ECF6\", \"width\": 0.5}}, \"type\": \"bar\"}], \"barpolar\": [{\"marker\": {\"line\": {\"color\": \"#E5ECF6\", \"width\": 0.5}}, \"type\": \"barpolar\"}], \"carpet\": [{\"aaxis\": {\"endlinecolor\": \"#2a3f5f\", \"gridcolor\": \"white\", \"linecolor\": \"white\", \"minorgridcolor\": \"white\", \"startlinecolor\": \"#2a3f5f\"}, \"baxis\": {\"endlinecolor\": \"#2a3f5f\", \"gridcolor\": \"white\", \"linecolor\": \"white\", \"minorgridcolor\": \"white\", \"startlinecolor\": \"#2a3f5f\"}, \"type\": \"carpet\"}], \"choropleth\": [{\"colorbar\": {\"outlinewidth\": 0, \"ticks\": \"\"}, \"type\": \"choropleth\"}], \"contour\": [{\"colorbar\": {\"outlinewidth\": 0, \"ticks\": \"\"}, \"colorscale\": [[0.0, \"#0d0887\"], [0.1111111111111111, \"#46039f\"], [0.2222222222222222, \"#7201a8\"], [0.3333333333333333, \"#9c179e\"], [0.4444444444444444, \"#bd3786\"], [0.5555555555555556, \"#d8576b\"], [0.6666666666666666, \"#ed7953\"], [0.7777777777777778, \"#fb9f3a\"], [0.8888888888888888, \"#fdca26\"], [1.0, \"#f0f921\"]], \"type\": \"contour\"}], \"contourcarpet\": [{\"colorbar\": {\"outlinewidth\": 0, \"ticks\": \"\"}, \"type\": \"contourcarpet\"}], \"heatmap\": [{\"colorbar\": {\"outlinewidth\": 0, \"ticks\": \"\"}, \"colorscale\": [[0.0, \"#0d0887\"], [0.1111111111111111, \"#46039f\"], [0.2222222222222222, \"#7201a8\"], [0.3333333333333333, \"#9c179e\"], [0.4444444444444444, \"#bd3786\"], [0.5555555555555556, \"#d8576b\"], [0.6666666666666666, \"#ed7953\"], [0.7777777777777778, \"#fb9f3a\"], [0.8888888888888888, \"#fdca26\"], [1.0, \"#f0f921\"]], \"type\": \"heatmap\"}], \"heatmapgl\": [{\"colorbar\": {\"outlinewidth\": 0, \"ticks\": \"\"}, \"colorscale\": [[0.0, \"#0d0887\"], [0.1111111111111111, \"#46039f\"], [0.2222222222222222, \"#7201a8\"], [0.3333333333333333, \"#9c179e\"], [0.4444444444444444, \"#bd3786\"], [0.5555555555555556, \"#d8576b\"], [0.6666666666666666, \"#ed7953\"], [0.7777777777777778, \"#fb9f3a\"], [0.8888888888888888, \"#fdca26\"], [1.0, \"#f0f921\"]], \"type\": \"heatmapgl\"}], \"histogram\": [{\"marker\": {\"colorbar\": {\"outlinewidth\": 0, \"ticks\": \"\"}}, \"type\": \"histogram\"}], \"histogram2d\": [{\"colorbar\": {\"outlinewidth\": 0, \"ticks\": \"\"}, \"colorscale\": [[0.0, \"#0d0887\"], [0.1111111111111111, \"#46039f\"], [0.2222222222222222, \"#7201a8\"], [0.3333333333333333, \"#9c179e\"], [0.4444444444444444, \"#bd3786\"], [0.5555555555555556, \"#d8576b\"], [0.6666666666666666, \"#ed7953\"], [0.7777777777777778, \"#fb9f3a\"], [0.8888888888888888, \"#fdca26\"], [1.0, \"#f0f921\"]], \"type\": \"histogram2d\"}], \"histogram2dcontour\": [{\"colorbar\": {\"outlinewidth\": 0, \"ticks\": \"\"}, \"colorscale\": [[0.0, \"#0d0887\"], [0.1111111111111111, \"#46039f\"], [0.2222222222222222, \"#7201a8\"], [0.3333333333333333, \"#9c179e\"], [0.4444444444444444, \"#bd3786\"], [0.5555555555555556, \"#d8576b\"], [0.6666666666666666, \"#ed7953\"], [0.7777777777777778, \"#fb9f3a\"], [0.8888888888888888, \"#fdca26\"], [1.0, \"#f0f921\"]], \"type\": \"histogram2dcontour\"}], \"mesh3d\": [{\"colorbar\": {\"outlinewidth\": 0, \"ticks\": \"\"}, \"type\": \"mesh3d\"}], \"parcoords\": [{\"line\": {\"colorbar\": {\"outlinewidth\": 0, \"ticks\": \"\"}}, \"type\": \"parcoords\"}], \"pie\": [{\"automargin\": true, \"type\": \"pie\"}], \"scatter\": [{\"marker\": {\"colorbar\": {\"outlinewidth\": 0, \"ticks\": \"\"}}, \"type\": \"scatter\"}], \"scatter3d\": [{\"line\": {\"colorbar\": {\"outlinewidth\": 0, \"ticks\": \"\"}}, \"marker\": {\"colorbar\": {\"outlinewidth\": 0, \"ticks\": \"\"}}, \"type\": \"scatter3d\"}], \"scattercarpet\": [{\"marker\": {\"colorbar\": {\"outlinewidth\": 0, \"ticks\": \"\"}}, \"type\": \"scattercarpet\"}], \"scattergeo\": [{\"marker\": {\"colorbar\": {\"outlinewidth\": 0, \"ticks\": \"\"}}, \"type\": \"scattergeo\"}], \"scattergl\": [{\"marker\": {\"colorbar\": {\"outlinewidth\": 0, \"ticks\": \"\"}}, \"type\": \"scattergl\"}], \"scattermapbox\": [{\"marker\": {\"colorbar\": {\"outlinewidth\": 0, \"ticks\": \"\"}}, \"type\": \"scattermapbox\"}], \"scatterpolar\": [{\"marker\": {\"colorbar\": {\"outlinewidth\": 0, \"ticks\": \"\"}}, \"type\": \"scatterpolar\"}], \"scatterpolargl\": [{\"marker\": {\"colorbar\": {\"outlinewidth\": 0, \"ticks\": \"\"}}, \"type\": \"scatterpolargl\"}], \"scatterternary\": [{\"marker\": {\"colorbar\": {\"outlinewidth\": 0, \"ticks\": \"\"}}, \"type\": \"scatterternary\"}], \"surface\": [{\"colorbar\": {\"outlinewidth\": 0, \"ticks\": \"\"}, \"colorscale\": [[0.0, \"#0d0887\"], [0.1111111111111111, \"#46039f\"], [0.2222222222222222, \"#7201a8\"], [0.3333333333333333, \"#9c179e\"], [0.4444444444444444, \"#bd3786\"], [0.5555555555555556, \"#d8576b\"], [0.6666666666666666, \"#ed7953\"], [0.7777777777777778, \"#fb9f3a\"], [0.8888888888888888, \"#fdca26\"], [1.0, \"#f0f921\"]], \"type\": \"surface\"}], \"table\": [{\"cells\": {\"fill\": {\"color\": \"#EBF0F8\"}, \"line\": {\"color\": \"white\"}}, \"header\": {\"fill\": {\"color\": \"#C8D4E3\"}, \"line\": {\"color\": \"white\"}}, \"type\": \"table\"}]}, \"layout\": {\"annotationdefaults\": {\"arrowcolor\": \"#2a3f5f\", \"arrowhead\": 0, \"arrowwidth\": 1}, \"coloraxis\": {\"colorbar\": {\"outlinewidth\": 0, \"ticks\": \"\"}}, \"colorscale\": {\"diverging\": [[0, \"#8e0152\"], [0.1, \"#c51b7d\"], [0.2, \"#de77ae\"], [0.3, \"#f1b6da\"], [0.4, \"#fde0ef\"], [0.5, \"#f7f7f7\"], [0.6, \"#e6f5d0\"], [0.7, \"#b8e186\"], [0.8, \"#7fbc41\"], [0.9, \"#4d9221\"], [1, \"#276419\"]], \"sequential\": [[0.0, \"#0d0887\"], [0.1111111111111111, \"#46039f\"], [0.2222222222222222, \"#7201a8\"], [0.3333333333333333, \"#9c179e\"], [0.4444444444444444, \"#bd3786\"], [0.5555555555555556, \"#d8576b\"], [0.6666666666666666, \"#ed7953\"], [0.7777777777777778, \"#fb9f3a\"], [0.8888888888888888, \"#fdca26\"], [1.0, \"#f0f921\"]], \"sequentialminus\": [[0.0, \"#0d0887\"], [0.1111111111111111, \"#46039f\"], [0.2222222222222222, \"#7201a8\"], [0.3333333333333333, \"#9c179e\"], [0.4444444444444444, \"#bd3786\"], [0.5555555555555556, \"#d8576b\"], [0.6666666666666666, \"#ed7953\"], [0.7777777777777778, \"#fb9f3a\"], [0.8888888888888888, \"#fdca26\"], [1.0, \"#f0f921\"]]}, \"colorway\": [\"#636efa\", \"#EF553B\", \"#00cc96\", \"#ab63fa\", \"#FFA15A\", \"#19d3f3\", \"#FF6692\", \"#B6E880\", \"#FF97FF\", \"#FECB52\"], \"font\": {\"color\": \"#2a3f5f\"}, \"geo\": {\"bgcolor\": \"white\", \"lakecolor\": \"white\", \"landcolor\": \"#E5ECF6\", \"showlakes\": true, \"showland\": true, \"subunitcolor\": \"white\"}, \"hoverlabel\": {\"align\": \"left\"}, \"hovermode\": \"closest\", \"mapbox\": {\"style\": \"light\"}, \"paper_bgcolor\": \"white\", \"plot_bgcolor\": \"#E5ECF6\", \"polar\": {\"angularaxis\": {\"gridcolor\": \"white\", \"linecolor\": \"white\", \"ticks\": \"\"}, \"bgcolor\": \"#E5ECF6\", \"radialaxis\": {\"gridcolor\": \"white\", \"linecolor\": \"white\", \"ticks\": \"\"}}, \"scene\": {\"xaxis\": {\"backgroundcolor\": \"#E5ECF6\", \"gridcolor\": \"white\", \"gridwidth\": 2, \"linecolor\": \"white\", \"showbackground\": true, \"ticks\": \"\", \"zerolinecolor\": \"white\"}, \"yaxis\": {\"backgroundcolor\": \"#E5ECF6\", \"gridcolor\": \"white\", \"gridwidth\": 2, \"linecolor\": \"white\", \"showbackground\": true, \"ticks\": \"\", \"zerolinecolor\": \"white\"}, \"zaxis\": {\"backgroundcolor\": \"#E5ECF6\", \"gridcolor\": \"white\", \"gridwidth\": 2, \"linecolor\": \"white\", \"showbackground\": true, \"ticks\": \"\", \"zerolinecolor\": \"white\"}}, \"shapedefaults\": {\"line\": {\"color\": \"#2a3f5f\"}}, \"ternary\": {\"aaxis\": {\"gridcolor\": \"white\", \"linecolor\": \"white\", \"ticks\": \"\"}, \"baxis\": {\"gridcolor\": \"white\", \"linecolor\": \"white\", \"ticks\": \"\"}, \"bgcolor\": \"#E5ECF6\", \"caxis\": {\"gridcolor\": \"white\", \"linecolor\": \"white\", \"ticks\": \"\"}}, \"title\": {\"x\": 0.05}, \"xaxis\": {\"automargin\": true, \"gridcolor\": \"white\", \"linecolor\": \"white\", \"ticks\": \"\", \"title\": {\"standoff\": 15}, \"zerolinecolor\": \"white\", \"zerolinewidth\": 2}, \"yaxis\": {\"automargin\": true, \"gridcolor\": \"white\", \"linecolor\": \"white\", \"ticks\": \"\", \"title\": {\"standoff\": 15}, \"zerolinecolor\": \"white\", \"zerolinewidth\": 2}}}, \"title\": {\"text\": \"Global Deaths Daily New Cases by 2020-04-07\"}, \"xaxis\": {\"anchor\": \"y\", \"domain\": [0.0, 1.0], \"title\": {\"text\": \"Dates\"}}, \"yaxis\": {\"anchor\": \"x\", \"domain\": [0.0, 1.0], \"title\": {\"text\": \"Deaths new cases\"}}},\n",
       "                        {\"responsive\": true}\n",
       "                    ).then(function(){\n",
       "                            \n",
       "var gd = document.getElementById('21a866dc-ee76-44bf-97c5-56e0c3e689dd');\n",
       "var x = new MutationObserver(function (mutations, observer) {{\n",
       "        var display = window.getComputedStyle(gd).display;\n",
       "        if (!display || display === 'none') {{\n",
       "            console.log([gd, 'removed!']);\n",
       "            Plotly.purge(gd);\n",
       "            observer.disconnect();\n",
       "        }}\n",
       "}});\n",
       "\n",
       "// Listen for the removal of the full notebook cells\n",
       "var notebookContainer = gd.closest('#notebook-container');\n",
       "if (notebookContainer) {{\n",
       "    x.observe(notebookContainer, {childList: true});\n",
       "}}\n",
       "\n",
       "// Listen for the clearing of the current output cell\n",
       "var outputEl = gd.closest('.output');\n",
       "if (outputEl) {{\n",
       "    x.observe(outputEl, {childList: true});\n",
       "}}\n",
       "\n",
       "                        })\n",
       "                };\n",
       "                });\n",
       "            </script>\n",
       "        </div>"
      ]
     },
     "metadata": {},
     "output_type": "display_data"
    },
    {
     "data": {
      "application/vnd.plotly.v1+json": {
       "config": {
        "plotlyServerURL": "https://plot.ly"
       },
       "data": [
        {
         "alignmentgroup": "True",
         "hoverlabel": {
          "namelength": 0
         },
         "hovertemplate": "x=%{x}<br>y=%{y}<br>color=%{marker.color}",
         "legendgroup": "",
         "marker": {
          "color": [
           28,
           2,
           6,
           3,
           13,
           9,
           46,
           19,
           17,
           79,
           62,
           188,
           151,
           229,
           272,
           363,
           524,
           605,
           628,
           702,
           737,
           467,
           1145,
           1763,
           1337,
           1470,
           1718,
           1769,
           1769,
           2056,
           713,
           3996,
           508,
           1833,
           2678,
           2479,
           2893,
           3434,
           3071,
           2934,
           2886,
           2626,
           2942,
           2626,
           2069,
           2493,
           2336,
           1800,
           1910,
           2599,
           1321,
           1927,
           2373,
           3410,
           2054,
           2752,
           2472,
           1663,
           2445,
           4272,
           6207,
           452,
           9649,
           5787,
           8363,
           8765,
           8500,
           9667,
           15484,
           13468,
           15143,
           17086,
           15533,
           20356,
           13860,
           16503,
           23539
          ],
          "coloraxis": "coloraxis"
         },
         "name": "",
         "offsetgroup": "",
         "orientation": "v",
         "showlegend": false,
         "textposition": "auto",
         "type": "bar",
         "x": [
          "2020-01-22",
          "2020-01-23",
          "2020-01-24",
          "2020-01-25",
          "2020-01-26",
          "2020-01-27",
          "2020-01-28",
          "2020-01-29",
          "2020-01-30",
          "2020-01-31",
          "2020-02-01",
          "2020-02-02",
          "2020-02-03",
          "2020-02-04",
          "2020-02-05",
          "2020-02-06",
          "2020-02-07",
          "2020-02-08",
          "2020-02-09",
          "2020-02-10",
          "2020-02-11",
          "2020-02-12",
          "2020-02-13",
          "2020-02-14",
          "2020-02-15",
          "2020-02-16",
          "2020-02-17",
          "2020-02-18",
          "2020-02-19",
          "2020-02-20",
          "2020-02-21",
          "2020-02-22",
          "2020-02-23",
          "2020-02-24",
          "2020-02-25",
          "2020-02-26",
          "2020-02-27",
          "2020-02-28",
          "2020-02-29",
          "2020-03-01",
          "2020-03-02",
          "2020-03-03",
          "2020-03-04",
          "2020-03-05",
          "2020-03-06",
          "2020-03-07",
          "2020-03-08",
          "2020-03-09",
          "2020-03-10",
          "2020-03-11",
          "2020-03-12",
          "2020-03-13",
          "2020-03-14",
          "2020-03-15",
          "2020-03-16",
          "2020-03-17",
          "2020-03-18",
          "2020-03-19",
          "2020-03-20",
          "2020-03-21",
          "2020-03-22",
          "2020-03-23",
          "2020-03-24",
          "2020-03-25",
          "2020-03-26",
          "2020-03-27",
          "2020-03-28",
          "2020-03-29",
          "2020-03-30",
          "2020-03-31",
          "2020-04-01",
          "2020-04-02",
          "2020-04-03",
          "2020-04-04",
          "2020-04-05",
          "2020-04-06",
          "2020-04-07"
         ],
         "xaxis": "x",
         "y": [
          28,
          2,
          6,
          3,
          13,
          9,
          46,
          19,
          17,
          79,
          62,
          188,
          151,
          229,
          272,
          363,
          524,
          605,
          628,
          702,
          737,
          467,
          1145,
          1763,
          1337,
          1470,
          1718,
          1769,
          1769,
          2056,
          713,
          3996,
          508,
          1833,
          2678,
          2479,
          2893,
          3434,
          3071,
          2934,
          2886,
          2626,
          2942,
          2626,
          2069,
          2493,
          2336,
          1800,
          1910,
          2599,
          1321,
          1927,
          2373,
          3410,
          2054,
          2752,
          2472,
          1663,
          2445,
          4272,
          6207,
          452,
          9649,
          5787,
          8363,
          8765,
          8500,
          9667,
          15484,
          13468,
          15143,
          17086,
          15533,
          20356,
          13860,
          16503,
          23539
         ],
         "yaxis": "y"
        }
       ],
       "layout": {
        "annotations": [
         {
          "text": "23,539",
          "x": "2020-04-07",
          "xref": "x",
          "y": 23539,
          "yref": "y"
         }
        ],
        "barmode": "relative",
        "coloraxis": {
         "colorbar": {
          "title": {
           "text": "color"
          }
         },
         "colorscale": [
          [
           0,
           "#0d0887"
          ],
          [
           0.1111111111111111,
           "#46039f"
          ],
          [
           0.2222222222222222,
           "#7201a8"
          ],
          [
           0.3333333333333333,
           "#9c179e"
          ],
          [
           0.4444444444444444,
           "#bd3786"
          ],
          [
           0.5555555555555556,
           "#d8576b"
          ],
          [
           0.6666666666666666,
           "#ed7953"
          ],
          [
           0.7777777777777778,
           "#fb9f3a"
          ],
          [
           0.8888888888888888,
           "#fdca26"
          ],
          [
           1,
           "#f0f921"
          ]
         ]
        },
        "legend": {
         "tracegroupgap": 0
        },
        "margin": {
         "t": 60
        },
        "template": {
         "data": {
          "bar": [
           {
            "error_x": {
             "color": "#2a3f5f"
            },
            "error_y": {
             "color": "#2a3f5f"
            },
            "marker": {
             "line": {
              "color": "#E5ECF6",
              "width": 0.5
             }
            },
            "type": "bar"
           }
          ],
          "barpolar": [
           {
            "marker": {
             "line": {
              "color": "#E5ECF6",
              "width": 0.5
             }
            },
            "type": "barpolar"
           }
          ],
          "carpet": [
           {
            "aaxis": {
             "endlinecolor": "#2a3f5f",
             "gridcolor": "white",
             "linecolor": "white",
             "minorgridcolor": "white",
             "startlinecolor": "#2a3f5f"
            },
            "baxis": {
             "endlinecolor": "#2a3f5f",
             "gridcolor": "white",
             "linecolor": "white",
             "minorgridcolor": "white",
             "startlinecolor": "#2a3f5f"
            },
            "type": "carpet"
           }
          ],
          "choropleth": [
           {
            "colorbar": {
             "outlinewidth": 0,
             "ticks": ""
            },
            "type": "choropleth"
           }
          ],
          "contour": [
           {
            "colorbar": {
             "outlinewidth": 0,
             "ticks": ""
            },
            "colorscale": [
             [
              0,
              "#0d0887"
             ],
             [
              0.1111111111111111,
              "#46039f"
             ],
             [
              0.2222222222222222,
              "#7201a8"
             ],
             [
              0.3333333333333333,
              "#9c179e"
             ],
             [
              0.4444444444444444,
              "#bd3786"
             ],
             [
              0.5555555555555556,
              "#d8576b"
             ],
             [
              0.6666666666666666,
              "#ed7953"
             ],
             [
              0.7777777777777778,
              "#fb9f3a"
             ],
             [
              0.8888888888888888,
              "#fdca26"
             ],
             [
              1,
              "#f0f921"
             ]
            ],
            "type": "contour"
           }
          ],
          "contourcarpet": [
           {
            "colorbar": {
             "outlinewidth": 0,
             "ticks": ""
            },
            "type": "contourcarpet"
           }
          ],
          "heatmap": [
           {
            "colorbar": {
             "outlinewidth": 0,
             "ticks": ""
            },
            "colorscale": [
             [
              0,
              "#0d0887"
             ],
             [
              0.1111111111111111,
              "#46039f"
             ],
             [
              0.2222222222222222,
              "#7201a8"
             ],
             [
              0.3333333333333333,
              "#9c179e"
             ],
             [
              0.4444444444444444,
              "#bd3786"
             ],
             [
              0.5555555555555556,
              "#d8576b"
             ],
             [
              0.6666666666666666,
              "#ed7953"
             ],
             [
              0.7777777777777778,
              "#fb9f3a"
             ],
             [
              0.8888888888888888,
              "#fdca26"
             ],
             [
              1,
              "#f0f921"
             ]
            ],
            "type": "heatmap"
           }
          ],
          "heatmapgl": [
           {
            "colorbar": {
             "outlinewidth": 0,
             "ticks": ""
            },
            "colorscale": [
             [
              0,
              "#0d0887"
             ],
             [
              0.1111111111111111,
              "#46039f"
             ],
             [
              0.2222222222222222,
              "#7201a8"
             ],
             [
              0.3333333333333333,
              "#9c179e"
             ],
             [
              0.4444444444444444,
              "#bd3786"
             ],
             [
              0.5555555555555556,
              "#d8576b"
             ],
             [
              0.6666666666666666,
              "#ed7953"
             ],
             [
              0.7777777777777778,
              "#fb9f3a"
             ],
             [
              0.8888888888888888,
              "#fdca26"
             ],
             [
              1,
              "#f0f921"
             ]
            ],
            "type": "heatmapgl"
           }
          ],
          "histogram": [
           {
            "marker": {
             "colorbar": {
              "outlinewidth": 0,
              "ticks": ""
             }
            },
            "type": "histogram"
           }
          ],
          "histogram2d": [
           {
            "colorbar": {
             "outlinewidth": 0,
             "ticks": ""
            },
            "colorscale": [
             [
              0,
              "#0d0887"
             ],
             [
              0.1111111111111111,
              "#46039f"
             ],
             [
              0.2222222222222222,
              "#7201a8"
             ],
             [
              0.3333333333333333,
              "#9c179e"
             ],
             [
              0.4444444444444444,
              "#bd3786"
             ],
             [
              0.5555555555555556,
              "#d8576b"
             ],
             [
              0.6666666666666666,
              "#ed7953"
             ],
             [
              0.7777777777777778,
              "#fb9f3a"
             ],
             [
              0.8888888888888888,
              "#fdca26"
             ],
             [
              1,
              "#f0f921"
             ]
            ],
            "type": "histogram2d"
           }
          ],
          "histogram2dcontour": [
           {
            "colorbar": {
             "outlinewidth": 0,
             "ticks": ""
            },
            "colorscale": [
             [
              0,
              "#0d0887"
             ],
             [
              0.1111111111111111,
              "#46039f"
             ],
             [
              0.2222222222222222,
              "#7201a8"
             ],
             [
              0.3333333333333333,
              "#9c179e"
             ],
             [
              0.4444444444444444,
              "#bd3786"
             ],
             [
              0.5555555555555556,
              "#d8576b"
             ],
             [
              0.6666666666666666,
              "#ed7953"
             ],
             [
              0.7777777777777778,
              "#fb9f3a"
             ],
             [
              0.8888888888888888,
              "#fdca26"
             ],
             [
              1,
              "#f0f921"
             ]
            ],
            "type": "histogram2dcontour"
           }
          ],
          "mesh3d": [
           {
            "colorbar": {
             "outlinewidth": 0,
             "ticks": ""
            },
            "type": "mesh3d"
           }
          ],
          "parcoords": [
           {
            "line": {
             "colorbar": {
              "outlinewidth": 0,
              "ticks": ""
             }
            },
            "type": "parcoords"
           }
          ],
          "pie": [
           {
            "automargin": true,
            "type": "pie"
           }
          ],
          "scatter": [
           {
            "marker": {
             "colorbar": {
              "outlinewidth": 0,
              "ticks": ""
             }
            },
            "type": "scatter"
           }
          ],
          "scatter3d": [
           {
            "line": {
             "colorbar": {
              "outlinewidth": 0,
              "ticks": ""
             }
            },
            "marker": {
             "colorbar": {
              "outlinewidth": 0,
              "ticks": ""
             }
            },
            "type": "scatter3d"
           }
          ],
          "scattercarpet": [
           {
            "marker": {
             "colorbar": {
              "outlinewidth": 0,
              "ticks": ""
             }
            },
            "type": "scattercarpet"
           }
          ],
          "scattergeo": [
           {
            "marker": {
             "colorbar": {
              "outlinewidth": 0,
              "ticks": ""
             }
            },
            "type": "scattergeo"
           }
          ],
          "scattergl": [
           {
            "marker": {
             "colorbar": {
              "outlinewidth": 0,
              "ticks": ""
             }
            },
            "type": "scattergl"
           }
          ],
          "scattermapbox": [
           {
            "marker": {
             "colorbar": {
              "outlinewidth": 0,
              "ticks": ""
             }
            },
            "type": "scattermapbox"
           }
          ],
          "scatterpolar": [
           {
            "marker": {
             "colorbar": {
              "outlinewidth": 0,
              "ticks": ""
             }
            },
            "type": "scatterpolar"
           }
          ],
          "scatterpolargl": [
           {
            "marker": {
             "colorbar": {
              "outlinewidth": 0,
              "ticks": ""
             }
            },
            "type": "scatterpolargl"
           }
          ],
          "scatterternary": [
           {
            "marker": {
             "colorbar": {
              "outlinewidth": 0,
              "ticks": ""
             }
            },
            "type": "scatterternary"
           }
          ],
          "surface": [
           {
            "colorbar": {
             "outlinewidth": 0,
             "ticks": ""
            },
            "colorscale": [
             [
              0,
              "#0d0887"
             ],
             [
              0.1111111111111111,
              "#46039f"
             ],
             [
              0.2222222222222222,
              "#7201a8"
             ],
             [
              0.3333333333333333,
              "#9c179e"
             ],
             [
              0.4444444444444444,
              "#bd3786"
             ],
             [
              0.5555555555555556,
              "#d8576b"
             ],
             [
              0.6666666666666666,
              "#ed7953"
             ],
             [
              0.7777777777777778,
              "#fb9f3a"
             ],
             [
              0.8888888888888888,
              "#fdca26"
             ],
             [
              1,
              "#f0f921"
             ]
            ],
            "type": "surface"
           }
          ],
          "table": [
           {
            "cells": {
             "fill": {
              "color": "#EBF0F8"
             },
             "line": {
              "color": "white"
             }
            },
            "header": {
             "fill": {
              "color": "#C8D4E3"
             },
             "line": {
              "color": "white"
             }
            },
            "type": "table"
           }
          ]
         },
         "layout": {
          "annotationdefaults": {
           "arrowcolor": "#2a3f5f",
           "arrowhead": 0,
           "arrowwidth": 1
          },
          "coloraxis": {
           "colorbar": {
            "outlinewidth": 0,
            "ticks": ""
           }
          },
          "colorscale": {
           "diverging": [
            [
             0,
             "#8e0152"
            ],
            [
             0.1,
             "#c51b7d"
            ],
            [
             0.2,
             "#de77ae"
            ],
            [
             0.3,
             "#f1b6da"
            ],
            [
             0.4,
             "#fde0ef"
            ],
            [
             0.5,
             "#f7f7f7"
            ],
            [
             0.6,
             "#e6f5d0"
            ],
            [
             0.7,
             "#b8e186"
            ],
            [
             0.8,
             "#7fbc41"
            ],
            [
             0.9,
             "#4d9221"
            ],
            [
             1,
             "#276419"
            ]
           ],
           "sequential": [
            [
             0,
             "#0d0887"
            ],
            [
             0.1111111111111111,
             "#46039f"
            ],
            [
             0.2222222222222222,
             "#7201a8"
            ],
            [
             0.3333333333333333,
             "#9c179e"
            ],
            [
             0.4444444444444444,
             "#bd3786"
            ],
            [
             0.5555555555555556,
             "#d8576b"
            ],
            [
             0.6666666666666666,
             "#ed7953"
            ],
            [
             0.7777777777777778,
             "#fb9f3a"
            ],
            [
             0.8888888888888888,
             "#fdca26"
            ],
            [
             1,
             "#f0f921"
            ]
           ],
           "sequentialminus": [
            [
             0,
             "#0d0887"
            ],
            [
             0.1111111111111111,
             "#46039f"
            ],
            [
             0.2222222222222222,
             "#7201a8"
            ],
            [
             0.3333333333333333,
             "#9c179e"
            ],
            [
             0.4444444444444444,
             "#bd3786"
            ],
            [
             0.5555555555555556,
             "#d8576b"
            ],
            [
             0.6666666666666666,
             "#ed7953"
            ],
            [
             0.7777777777777778,
             "#fb9f3a"
            ],
            [
             0.8888888888888888,
             "#fdca26"
            ],
            [
             1,
             "#f0f921"
            ]
           ]
          },
          "colorway": [
           "#636efa",
           "#EF553B",
           "#00cc96",
           "#ab63fa",
           "#FFA15A",
           "#19d3f3",
           "#FF6692",
           "#B6E880",
           "#FF97FF",
           "#FECB52"
          ],
          "font": {
           "color": "#2a3f5f"
          },
          "geo": {
           "bgcolor": "white",
           "lakecolor": "white",
           "landcolor": "#E5ECF6",
           "showlakes": true,
           "showland": true,
           "subunitcolor": "white"
          },
          "hoverlabel": {
           "align": "left"
          },
          "hovermode": "closest",
          "mapbox": {
           "style": "light"
          },
          "paper_bgcolor": "white",
          "plot_bgcolor": "#E5ECF6",
          "polar": {
           "angularaxis": {
            "gridcolor": "white",
            "linecolor": "white",
            "ticks": ""
           },
           "bgcolor": "#E5ECF6",
           "radialaxis": {
            "gridcolor": "white",
            "linecolor": "white",
            "ticks": ""
           }
          },
          "scene": {
           "xaxis": {
            "backgroundcolor": "#E5ECF6",
            "gridcolor": "white",
            "gridwidth": 2,
            "linecolor": "white",
            "showbackground": true,
            "ticks": "",
            "zerolinecolor": "white"
           },
           "yaxis": {
            "backgroundcolor": "#E5ECF6",
            "gridcolor": "white",
            "gridwidth": 2,
            "linecolor": "white",
            "showbackground": true,
            "ticks": "",
            "zerolinecolor": "white"
           },
           "zaxis": {
            "backgroundcolor": "#E5ECF6",
            "gridcolor": "white",
            "gridwidth": 2,
            "linecolor": "white",
            "showbackground": true,
            "ticks": "",
            "zerolinecolor": "white"
           }
          },
          "shapedefaults": {
           "line": {
            "color": "#2a3f5f"
           }
          },
          "ternary": {
           "aaxis": {
            "gridcolor": "white",
            "linecolor": "white",
            "ticks": ""
           },
           "baxis": {
            "gridcolor": "white",
            "linecolor": "white",
            "ticks": ""
           },
           "bgcolor": "#E5ECF6",
           "caxis": {
            "gridcolor": "white",
            "linecolor": "white",
            "ticks": ""
           }
          },
          "title": {
           "x": 0.05
          },
          "xaxis": {
           "automargin": true,
           "gridcolor": "white",
           "linecolor": "white",
           "ticks": "",
           "title": {
            "standoff": 15
           },
           "zerolinecolor": "white",
           "zerolinewidth": 2
          },
          "yaxis": {
           "automargin": true,
           "gridcolor": "white",
           "linecolor": "white",
           "ticks": "",
           "title": {
            "standoff": 15
           },
           "zerolinecolor": "white",
           "zerolinewidth": 2
          }
         }
        },
        "title": {
         "text": "Global Recovered Daily New Cases by 2020-04-07"
        },
        "xaxis": {
         "anchor": "y",
         "domain": [
          0,
          1
         ],
         "title": {
          "text": "Dates"
         }
        },
        "yaxis": {
         "anchor": "x",
         "domain": [
          0,
          1
         ],
         "title": {
          "text": "Recovered new cases"
         }
        }
       }
      },
      "text/html": [
       "<div>\n",
       "        \n",
       "        \n",
       "            <div id=\"177c62dd-a51e-418b-877f-33c222422b9b\" class=\"plotly-graph-div\" style=\"height:525px; width:100%;\"></div>\n",
       "            <script type=\"text/javascript\">\n",
       "                require([\"plotly\"], function(Plotly) {\n",
       "                    window.PLOTLYENV=window.PLOTLYENV || {};\n",
       "                    \n",
       "                if (document.getElementById(\"177c62dd-a51e-418b-877f-33c222422b9b\")) {\n",
       "                    Plotly.newPlot(\n",
       "                        '177c62dd-a51e-418b-877f-33c222422b9b',\n",
       "                        [{\"alignmentgroup\": \"True\", \"hoverlabel\": {\"namelength\": 0}, \"hovertemplate\": \"x=%{x}<br>y=%{y}<br>color=%{marker.color}\", \"legendgroup\": \"\", \"marker\": {\"color\": [28, 2, 6, 3, 13, 9, 46, 19, 17, 79, 62, 188, 151, 229, 272, 363, 524, 605, 628, 702, 737, 467, 1145, 1763, 1337, 1470, 1718, 1769, 1769, 2056, 713, 3996, 508, 1833, 2678, 2479, 2893, 3434, 3071, 2934, 2886, 2626, 2942, 2626, 2069, 2493, 2336, 1800, 1910, 2599, 1321, 1927, 2373, 3410, 2054, 2752, 2472, 1663, 2445, 4272, 6207, 452, 9649, 5787, 8363, 8765, 8500, 9667, 15484, 13468, 15143, 17086, 15533, 20356, 13860, 16503, 23539], \"coloraxis\": \"coloraxis\"}, \"name\": \"\", \"offsetgroup\": \"\", \"orientation\": \"v\", \"showlegend\": false, \"textposition\": \"auto\", \"type\": \"bar\", \"x\": [\"2020-01-22\", \"2020-01-23\", \"2020-01-24\", \"2020-01-25\", \"2020-01-26\", \"2020-01-27\", \"2020-01-28\", \"2020-01-29\", \"2020-01-30\", \"2020-01-31\", \"2020-02-01\", \"2020-02-02\", \"2020-02-03\", \"2020-02-04\", \"2020-02-05\", \"2020-02-06\", \"2020-02-07\", \"2020-02-08\", \"2020-02-09\", \"2020-02-10\", \"2020-02-11\", \"2020-02-12\", \"2020-02-13\", \"2020-02-14\", \"2020-02-15\", \"2020-02-16\", \"2020-02-17\", \"2020-02-18\", \"2020-02-19\", \"2020-02-20\", \"2020-02-21\", \"2020-02-22\", \"2020-02-23\", \"2020-02-24\", \"2020-02-25\", \"2020-02-26\", \"2020-02-27\", \"2020-02-28\", \"2020-02-29\", \"2020-03-01\", \"2020-03-02\", \"2020-03-03\", \"2020-03-04\", \"2020-03-05\", \"2020-03-06\", \"2020-03-07\", \"2020-03-08\", \"2020-03-09\", \"2020-03-10\", \"2020-03-11\", \"2020-03-12\", \"2020-03-13\", \"2020-03-14\", \"2020-03-15\", \"2020-03-16\", \"2020-03-17\", \"2020-03-18\", \"2020-03-19\", \"2020-03-20\", \"2020-03-21\", \"2020-03-22\", \"2020-03-23\", \"2020-03-24\", \"2020-03-25\", \"2020-03-26\", \"2020-03-27\", \"2020-03-28\", \"2020-03-29\", \"2020-03-30\", \"2020-03-31\", \"2020-04-01\", \"2020-04-02\", \"2020-04-03\", \"2020-04-04\", \"2020-04-05\", \"2020-04-06\", \"2020-04-07\"], \"xaxis\": \"x\", \"y\": [28, 2, 6, 3, 13, 9, 46, 19, 17, 79, 62, 188, 151, 229, 272, 363, 524, 605, 628, 702, 737, 467, 1145, 1763, 1337, 1470, 1718, 1769, 1769, 2056, 713, 3996, 508, 1833, 2678, 2479, 2893, 3434, 3071, 2934, 2886, 2626, 2942, 2626, 2069, 2493, 2336, 1800, 1910, 2599, 1321, 1927, 2373, 3410, 2054, 2752, 2472, 1663, 2445, 4272, 6207, 452, 9649, 5787, 8363, 8765, 8500, 9667, 15484, 13468, 15143, 17086, 15533, 20356, 13860, 16503, 23539], \"yaxis\": \"y\"}],\n",
       "                        {\"annotations\": [{\"text\": \"23,539\", \"x\": \"2020-04-07\", \"xref\": \"x\", \"y\": 23539, \"yref\": \"y\"}], \"barmode\": \"relative\", \"coloraxis\": {\"colorbar\": {\"title\": {\"text\": \"color\"}}, \"colorscale\": [[0.0, \"#0d0887\"], [0.1111111111111111, \"#46039f\"], [0.2222222222222222, \"#7201a8\"], [0.3333333333333333, \"#9c179e\"], [0.4444444444444444, \"#bd3786\"], [0.5555555555555556, \"#d8576b\"], [0.6666666666666666, \"#ed7953\"], [0.7777777777777778, \"#fb9f3a\"], [0.8888888888888888, \"#fdca26\"], [1.0, \"#f0f921\"]]}, \"legend\": {\"tracegroupgap\": 0}, \"margin\": {\"t\": 60}, \"template\": {\"data\": {\"bar\": [{\"error_x\": {\"color\": \"#2a3f5f\"}, \"error_y\": {\"color\": \"#2a3f5f\"}, \"marker\": {\"line\": {\"color\": \"#E5ECF6\", \"width\": 0.5}}, \"type\": \"bar\"}], \"barpolar\": [{\"marker\": {\"line\": {\"color\": \"#E5ECF6\", \"width\": 0.5}}, \"type\": \"barpolar\"}], \"carpet\": [{\"aaxis\": {\"endlinecolor\": \"#2a3f5f\", \"gridcolor\": \"white\", \"linecolor\": \"white\", \"minorgridcolor\": \"white\", \"startlinecolor\": \"#2a3f5f\"}, \"baxis\": {\"endlinecolor\": \"#2a3f5f\", \"gridcolor\": \"white\", \"linecolor\": \"white\", \"minorgridcolor\": \"white\", \"startlinecolor\": \"#2a3f5f\"}, \"type\": \"carpet\"}], \"choropleth\": [{\"colorbar\": {\"outlinewidth\": 0, \"ticks\": \"\"}, \"type\": \"choropleth\"}], \"contour\": [{\"colorbar\": {\"outlinewidth\": 0, \"ticks\": \"\"}, \"colorscale\": [[0.0, \"#0d0887\"], [0.1111111111111111, \"#46039f\"], [0.2222222222222222, \"#7201a8\"], [0.3333333333333333, \"#9c179e\"], [0.4444444444444444, \"#bd3786\"], [0.5555555555555556, \"#d8576b\"], [0.6666666666666666, \"#ed7953\"], [0.7777777777777778, \"#fb9f3a\"], [0.8888888888888888, \"#fdca26\"], [1.0, \"#f0f921\"]], \"type\": \"contour\"}], \"contourcarpet\": [{\"colorbar\": {\"outlinewidth\": 0, \"ticks\": \"\"}, \"type\": \"contourcarpet\"}], \"heatmap\": [{\"colorbar\": {\"outlinewidth\": 0, \"ticks\": \"\"}, \"colorscale\": [[0.0, \"#0d0887\"], [0.1111111111111111, \"#46039f\"], [0.2222222222222222, \"#7201a8\"], [0.3333333333333333, \"#9c179e\"], [0.4444444444444444, \"#bd3786\"], [0.5555555555555556, \"#d8576b\"], [0.6666666666666666, \"#ed7953\"], [0.7777777777777778, \"#fb9f3a\"], [0.8888888888888888, \"#fdca26\"], [1.0, \"#f0f921\"]], \"type\": \"heatmap\"}], \"heatmapgl\": [{\"colorbar\": {\"outlinewidth\": 0, \"ticks\": \"\"}, \"colorscale\": [[0.0, \"#0d0887\"], [0.1111111111111111, \"#46039f\"], [0.2222222222222222, \"#7201a8\"], [0.3333333333333333, \"#9c179e\"], [0.4444444444444444, \"#bd3786\"], [0.5555555555555556, \"#d8576b\"], [0.6666666666666666, \"#ed7953\"], [0.7777777777777778, \"#fb9f3a\"], [0.8888888888888888, \"#fdca26\"], [1.0, \"#f0f921\"]], \"type\": \"heatmapgl\"}], \"histogram\": [{\"marker\": {\"colorbar\": {\"outlinewidth\": 0, \"ticks\": \"\"}}, \"type\": \"histogram\"}], \"histogram2d\": [{\"colorbar\": {\"outlinewidth\": 0, \"ticks\": \"\"}, \"colorscale\": [[0.0, \"#0d0887\"], [0.1111111111111111, \"#46039f\"], [0.2222222222222222, \"#7201a8\"], [0.3333333333333333, \"#9c179e\"], [0.4444444444444444, \"#bd3786\"], [0.5555555555555556, \"#d8576b\"], [0.6666666666666666, \"#ed7953\"], [0.7777777777777778, \"#fb9f3a\"], [0.8888888888888888, \"#fdca26\"], [1.0, \"#f0f921\"]], \"type\": \"histogram2d\"}], \"histogram2dcontour\": [{\"colorbar\": {\"outlinewidth\": 0, \"ticks\": \"\"}, \"colorscale\": [[0.0, \"#0d0887\"], [0.1111111111111111, \"#46039f\"], [0.2222222222222222, \"#7201a8\"], [0.3333333333333333, \"#9c179e\"], [0.4444444444444444, \"#bd3786\"], [0.5555555555555556, \"#d8576b\"], [0.6666666666666666, \"#ed7953\"], [0.7777777777777778, \"#fb9f3a\"], [0.8888888888888888, \"#fdca26\"], [1.0, \"#f0f921\"]], \"type\": \"histogram2dcontour\"}], \"mesh3d\": [{\"colorbar\": {\"outlinewidth\": 0, \"ticks\": \"\"}, \"type\": \"mesh3d\"}], \"parcoords\": [{\"line\": {\"colorbar\": {\"outlinewidth\": 0, \"ticks\": \"\"}}, \"type\": \"parcoords\"}], \"pie\": [{\"automargin\": true, \"type\": \"pie\"}], \"scatter\": [{\"marker\": {\"colorbar\": {\"outlinewidth\": 0, \"ticks\": \"\"}}, \"type\": \"scatter\"}], \"scatter3d\": [{\"line\": {\"colorbar\": {\"outlinewidth\": 0, \"ticks\": \"\"}}, \"marker\": {\"colorbar\": {\"outlinewidth\": 0, \"ticks\": \"\"}}, \"type\": \"scatter3d\"}], \"scattercarpet\": [{\"marker\": {\"colorbar\": {\"outlinewidth\": 0, \"ticks\": \"\"}}, \"type\": \"scattercarpet\"}], \"scattergeo\": [{\"marker\": {\"colorbar\": {\"outlinewidth\": 0, \"ticks\": \"\"}}, \"type\": \"scattergeo\"}], \"scattergl\": [{\"marker\": {\"colorbar\": {\"outlinewidth\": 0, \"ticks\": \"\"}}, \"type\": \"scattergl\"}], \"scattermapbox\": [{\"marker\": {\"colorbar\": {\"outlinewidth\": 0, \"ticks\": \"\"}}, \"type\": \"scattermapbox\"}], \"scatterpolar\": [{\"marker\": {\"colorbar\": {\"outlinewidth\": 0, \"ticks\": \"\"}}, \"type\": \"scatterpolar\"}], \"scatterpolargl\": [{\"marker\": {\"colorbar\": {\"outlinewidth\": 0, \"ticks\": \"\"}}, \"type\": \"scatterpolargl\"}], \"scatterternary\": [{\"marker\": {\"colorbar\": {\"outlinewidth\": 0, \"ticks\": \"\"}}, \"type\": \"scatterternary\"}], \"surface\": [{\"colorbar\": {\"outlinewidth\": 0, \"ticks\": \"\"}, \"colorscale\": [[0.0, \"#0d0887\"], [0.1111111111111111, \"#46039f\"], [0.2222222222222222, \"#7201a8\"], [0.3333333333333333, \"#9c179e\"], [0.4444444444444444, \"#bd3786\"], [0.5555555555555556, \"#d8576b\"], [0.6666666666666666, \"#ed7953\"], [0.7777777777777778, \"#fb9f3a\"], [0.8888888888888888, \"#fdca26\"], [1.0, \"#f0f921\"]], \"type\": \"surface\"}], \"table\": [{\"cells\": {\"fill\": {\"color\": \"#EBF0F8\"}, \"line\": {\"color\": \"white\"}}, \"header\": {\"fill\": {\"color\": \"#C8D4E3\"}, \"line\": {\"color\": \"white\"}}, \"type\": \"table\"}]}, \"layout\": {\"annotationdefaults\": {\"arrowcolor\": \"#2a3f5f\", \"arrowhead\": 0, \"arrowwidth\": 1}, \"coloraxis\": {\"colorbar\": {\"outlinewidth\": 0, \"ticks\": \"\"}}, \"colorscale\": {\"diverging\": [[0, \"#8e0152\"], [0.1, \"#c51b7d\"], [0.2, \"#de77ae\"], [0.3, \"#f1b6da\"], [0.4, \"#fde0ef\"], [0.5, \"#f7f7f7\"], [0.6, \"#e6f5d0\"], [0.7, \"#b8e186\"], [0.8, \"#7fbc41\"], [0.9, \"#4d9221\"], [1, \"#276419\"]], \"sequential\": [[0.0, \"#0d0887\"], [0.1111111111111111, \"#46039f\"], [0.2222222222222222, \"#7201a8\"], [0.3333333333333333, \"#9c179e\"], [0.4444444444444444, \"#bd3786\"], [0.5555555555555556, \"#d8576b\"], [0.6666666666666666, \"#ed7953\"], [0.7777777777777778, \"#fb9f3a\"], [0.8888888888888888, \"#fdca26\"], [1.0, \"#f0f921\"]], \"sequentialminus\": [[0.0, \"#0d0887\"], [0.1111111111111111, \"#46039f\"], [0.2222222222222222, \"#7201a8\"], [0.3333333333333333, \"#9c179e\"], [0.4444444444444444, \"#bd3786\"], [0.5555555555555556, \"#d8576b\"], [0.6666666666666666, \"#ed7953\"], [0.7777777777777778, \"#fb9f3a\"], [0.8888888888888888, \"#fdca26\"], [1.0, \"#f0f921\"]]}, \"colorway\": [\"#636efa\", \"#EF553B\", \"#00cc96\", \"#ab63fa\", \"#FFA15A\", \"#19d3f3\", \"#FF6692\", \"#B6E880\", \"#FF97FF\", \"#FECB52\"], \"font\": {\"color\": \"#2a3f5f\"}, \"geo\": {\"bgcolor\": \"white\", \"lakecolor\": \"white\", \"landcolor\": \"#E5ECF6\", \"showlakes\": true, \"showland\": true, \"subunitcolor\": \"white\"}, \"hoverlabel\": {\"align\": \"left\"}, \"hovermode\": \"closest\", \"mapbox\": {\"style\": \"light\"}, \"paper_bgcolor\": \"white\", \"plot_bgcolor\": \"#E5ECF6\", \"polar\": {\"angularaxis\": {\"gridcolor\": \"white\", \"linecolor\": \"white\", \"ticks\": \"\"}, \"bgcolor\": \"#E5ECF6\", \"radialaxis\": {\"gridcolor\": \"white\", \"linecolor\": \"white\", \"ticks\": \"\"}}, \"scene\": {\"xaxis\": {\"backgroundcolor\": \"#E5ECF6\", \"gridcolor\": \"white\", \"gridwidth\": 2, \"linecolor\": \"white\", \"showbackground\": true, \"ticks\": \"\", \"zerolinecolor\": \"white\"}, \"yaxis\": {\"backgroundcolor\": \"#E5ECF6\", \"gridcolor\": \"white\", \"gridwidth\": 2, \"linecolor\": \"white\", \"showbackground\": true, \"ticks\": \"\", \"zerolinecolor\": \"white\"}, \"zaxis\": {\"backgroundcolor\": \"#E5ECF6\", \"gridcolor\": \"white\", \"gridwidth\": 2, \"linecolor\": \"white\", \"showbackground\": true, \"ticks\": \"\", \"zerolinecolor\": \"white\"}}, \"shapedefaults\": {\"line\": {\"color\": \"#2a3f5f\"}}, \"ternary\": {\"aaxis\": {\"gridcolor\": \"white\", \"linecolor\": \"white\", \"ticks\": \"\"}, \"baxis\": {\"gridcolor\": \"white\", \"linecolor\": \"white\", \"ticks\": \"\"}, \"bgcolor\": \"#E5ECF6\", \"caxis\": {\"gridcolor\": \"white\", \"linecolor\": \"white\", \"ticks\": \"\"}}, \"title\": {\"x\": 0.05}, \"xaxis\": {\"automargin\": true, \"gridcolor\": \"white\", \"linecolor\": \"white\", \"ticks\": \"\", \"title\": {\"standoff\": 15}, \"zerolinecolor\": \"white\", \"zerolinewidth\": 2}, \"yaxis\": {\"automargin\": true, \"gridcolor\": \"white\", \"linecolor\": \"white\", \"ticks\": \"\", \"title\": {\"standoff\": 15}, \"zerolinecolor\": \"white\", \"zerolinewidth\": 2}}}, \"title\": {\"text\": \"Global Recovered Daily New Cases by 2020-04-07\"}, \"xaxis\": {\"anchor\": \"y\", \"domain\": [0.0, 1.0], \"title\": {\"text\": \"Dates\"}}, \"yaxis\": {\"anchor\": \"x\", \"domain\": [0.0, 1.0], \"title\": {\"text\": \"Recovered new cases\"}}},\n",
       "                        {\"responsive\": true}\n",
       "                    ).then(function(){\n",
       "                            \n",
       "var gd = document.getElementById('177c62dd-a51e-418b-877f-33c222422b9b');\n",
       "var x = new MutationObserver(function (mutations, observer) {{\n",
       "        var display = window.getComputedStyle(gd).display;\n",
       "        if (!display || display === 'none') {{\n",
       "            console.log([gd, 'removed!']);\n",
       "            Plotly.purge(gd);\n",
       "            observer.disconnect();\n",
       "        }}\n",
       "}});\n",
       "\n",
       "// Listen for the removal of the full notebook cells\n",
       "var notebookContainer = gd.closest('#notebook-container');\n",
       "if (notebookContainer) {{\n",
       "    x.observe(notebookContainer, {childList: true});\n",
       "}}\n",
       "\n",
       "// Listen for the clearing of the current output cell\n",
       "var outputEl = gd.closest('.output');\n",
       "if (outputEl) {{\n",
       "    x.observe(outputEl, {childList: true});\n",
       "}}\n",
       "\n",
       "                        })\n",
       "                };\n",
       "                });\n",
       "            </script>\n",
       "        </div>"
      ]
     },
     "metadata": {},
     "output_type": "display_data"
    }
   ],
   "source": [
    "def get_diff(array):\n",
    "    out_arr = []\n",
    "    for i in range(len(array)):\n",
    "        if i==0:\n",
    "            out_arr.append(array[i])\n",
    "        \n",
    "        else:\n",
    "            out_arr.append(array[i]-array[i-1])\n",
    "    \n",
    "    return np.array(out_arr)\n",
    "\n",
    "def plot_daily_diff(kind='Confirmed', country=None):\n",
    "    \n",
    "    # if we want to plot global daily new cases or\n",
    "    # daily new cases of a specific country\n",
    "    if country==None:\n",
    "        cases = TimeSeries(data_dict[kind]).data.groupby(lambda x: 'Global').sum().loc['Global'].values\n",
    "        dates = TimeSeries(data_dict[kind]).data.columns.to_list()\n",
    "        last_date = max(dates)\n",
    "        title = 'Global '+kind + \" Daily New Cases\" + ' by '+ str(last_date)\n",
    "    else:\n",
    "        cases = TimeSeries(data_dict[kind],country).data.loc[country].values\n",
    "        dates = TimeSeries(data_dict[kind],country).data.columns.to_list()\n",
    "        last_date = max(dates)\n",
    "        title = kind + ' Daily New Cases in ' + country + ' by '+ str(last_date)\n",
    "    \n",
    "    daily_cases = get_diff(cases)\n",
    "    \n",
    "    \n",
    "    fig = px.bar(x=dates,y=daily_cases,color=daily_cases)\n",
    "    \n",
    "    annotations = [dict(x=dates[-1],y=daily_cases[-1],xref='x',yref='y',\n",
    "                       text='{:,}'.format(int(daily_cases[-1])))]\n",
    "    \n",
    "    max_value = daily_cases.max()\n",
    "    max_value_ix = np.where(daily_cases == daily_cases.max())[0][0]\n",
    "    \n",
    "    if max_value > daily_cases[-1]:\n",
    "        annotations.append(dict(x=dates[max_value_ix],y=max_value,xref='x',yref='y',\n",
    "                                text='Max: {:,}<br>{}'.format(int(max_value),dates[max_value_ix])))\n",
    "    \n",
    "    xaxis_title = 'Dates'\n",
    "    yaxis_title = kind + ' new cases'\n",
    "    fig.update_layout(title=title,annotations=annotations,xaxis_title=xaxis_title,\n",
    "                     yaxis_title=yaxis_title)\n",
    "    \n",
    "    fig.show()\n",
    "\n",
    "    \n",
    "plot_daily_diff(kind='Confirmed')\n",
    "plot_daily_diff(kind='Deaths')\n",
    "plot_daily_diff(kind='Recovered')\n",
    "# plot_daily_diff(kind='Deaths',country='Mexico')\n",
    "# plot_daily_diff(kind='Deaths',country='US')"
   ]
  },
  {
   "cell_type": "markdown",
   "metadata": {},
   "source": [
    "# Country by country cumulated confirmed cases trajectories"
   ]
  },
  {
   "cell_type": "code",
   "execution_count": 174,
   "metadata": {},
   "outputs": [
    {
     "data": {
      "application/vnd.plotly.v1+json": {
       "config": {
        "plotlyServerURL": "https://plot.ly"
       },
       "data": [
        {
         "marker": {
          "size": 4
         },
         "mode": "lines+markers",
         "name": "US",
         "opacity": 0.8,
         "type": "scatter",
         "y": [
          118,
          149,
          217,
          262,
          402,
          518,
          583,
          959,
          1281,
          1663,
          2179,
          2727,
          3499,
          4632,
          6421,
          7783,
          13747,
          19273,
          25600,
          33276,
          43847,
          53740,
          65778,
          83836,
          101657,
          121478,
          140909,
          161837,
          188172,
          213372,
          243616,
          275586,
          308850,
          337072,
          366667,
          396223
         ]
        },
        {
         "marker": {
          "size": 4
         },
         "mode": "lines+markers",
         "name": "Spain",
         "opacity": 0.8,
         "type": "scatter",
         "y": [
          120,
          165,
          222,
          259,
          400,
          500,
          673,
          1073,
          1695,
          2277,
          2277,
          5232,
          6391,
          7798,
          9942,
          11748,
          13910,
          17963,
          20410,
          25374,
          28768,
          35136,
          39885,
          49515,
          57786,
          65719,
          73235,
          80110,
          87956,
          95923,
          104118,
          112065,
          119199,
          126168,
          131646,
          136675,
          141942
         ]
        },
        {
         "marker": {
          "size": 4
         },
         "mode": "lines+markers",
         "name": "Italy",
         "opacity": 0.8,
         "type": "scatter",
         "y": [
          155,
          229,
          322,
          453,
          655,
          888,
          1128,
          1694,
          2036,
          2502,
          3089,
          3858,
          4636,
          5883,
          7375,
          9172,
          10149,
          12462,
          12462,
          17660,
          21157,
          24747,
          27980,
          31506,
          35713,
          41035,
          47021,
          53578,
          59138,
          63927,
          69176,
          74386,
          80589,
          86498,
          92472,
          97689,
          101739,
          105792,
          110574,
          115242,
          119827,
          124632,
          128948,
          132547,
          135586
         ]
        },
        {
         "marker": {
          "size": 4
         },
         "mode": "lines+markers",
         "name": "France",
         "opacity": 0.8,
         "type": "scatter",
         "y": [
          130,
          191,
          204,
          288,
          380,
          656,
          959,
          1136,
          1219,
          1794,
          2293,
          2293,
          3681,
          4496,
          4532,
          6683,
          7715,
          9124,
          10970,
          12758,
          14463,
          16243,
          20123,
          22622,
          25600,
          29551,
          33402,
          38105,
          40708,
          45170,
          52827,
          57749,
          59929,
          65202,
          90848,
          93773,
          98963,
          110065
         ]
        },
        {
         "marker": {
          "size": 4
         },
         "mode": "lines+markers",
         "name": "Germany",
         "opacity": 0.8,
         "type": "scatter",
         "y": [
          130,
          159,
          196,
          262,
          482,
          670,
          799,
          1040,
          1176,
          1457,
          1908,
          2078,
          3675,
          4585,
          5795,
          7272,
          9257,
          12327,
          15320,
          19848,
          22213,
          24873,
          29056,
          32986,
          37323,
          43938,
          50871,
          57695,
          62095,
          66885,
          71808,
          77872,
          84794,
          91159,
          96092,
          100123,
          103374,
          107663
         ]
        },
        {
         "marker": {
          "size": 4
         },
         "mode": "lines+markers",
         "name": "China",
         "opacity": 0.8,
         "type": "scatter",
         "y": [
          548,
          643,
          920,
          1406,
          2075,
          2877,
          5509,
          6087,
          8141,
          9802,
          11891,
          16630,
          19716,
          23707,
          27440,
          30587,
          34110,
          36814,
          39829,
          42354,
          44386,
          44759,
          59895,
          66358,
          68413,
          70513,
          72434,
          74211,
          74619,
          75077,
          75550,
          77001,
          77022,
          77241,
          77754,
          78166,
          78600,
          78928,
          79356,
          79932,
          80136,
          80261,
          80386,
          80537,
          80690,
          80770,
          80823,
          80860,
          80887
         ]
        },
        {
         "marker": {
          "size": 4
         },
         "mode": "lines+markers",
         "name": "Iran",
         "opacity": 0.8,
         "type": "scatter",
         "y": [
          139,
          245,
          388,
          593,
          978,
          1501,
          2336,
          2922,
          3513,
          4747,
          5823,
          6566,
          7161,
          8042,
          9000,
          10075,
          11364,
          12729,
          13938,
          14991,
          16169,
          17361,
          18407,
          19644,
          20610,
          21638,
          23049,
          24811,
          27017,
          29406,
          32332,
          35408,
          38309,
          41495,
          44605,
          47593,
          50468,
          53183,
          55743,
          58226,
          60500,
          62589
         ]
        },
        {
         "marker": {
          "size": 4
         },
         "mode": "lines+markers",
         "name": "United Kingdom",
         "opacity": 0.8,
         "type": "scatter",
         "y": [
          116,
          164,
          207,
          274,
          322,
          384,
          459,
          459,
          802,
          1144,
          1145,
          1551,
          1960,
          2642,
          2716,
          4014,
          5067,
          5745,
          6726,
          8164,
          9640,
          11812,
          14745,
          17312,
          19780,
          22453,
          25481,
          29865,
          34173,
          38689,
          42477,
          48436,
          52279,
          55949
         ]
        },
        {
         "marker": {
          "size": 4
         },
         "mode": "lines+markers",
         "name": "Turkey",
         "opacity": 0.8,
         "type": "scatter",
         "y": [
          192,
          359,
          670,
          1236,
          1529,
          1872,
          2433,
          3629,
          5698,
          7402,
          9217,
          10827,
          13531,
          15679,
          18135,
          20921,
          23934,
          27069,
          30217,
          34109
         ]
        },
        {
         "marker": {
          "size": 4
         },
         "mode": "lines+markers",
         "name": "Switzerland",
         "opacity": 0.8,
         "type": "scatter",
         "y": [
          114,
          214,
          268,
          337,
          374,
          491,
          652,
          652,
          1139,
          1359,
          2200,
          2200,
          2700,
          3028,
          4075,
          5294,
          6575,
          7474,
          8795,
          9877,
          10897,
          11811,
          12928,
          14076,
          14829,
          15922,
          16605,
          17768,
          18827,
          19606,
          20505,
          21100,
          21657,
          22253
         ]
        },
        {
         "marker": {
          "size": 4
         },
         "mode": "lines+markers",
         "name": "Mexico",
         "opacity": 0.8,
         "type": "scatter",
         "y": [
          118,
          164,
          203,
          251,
          316,
          367,
          405,
          475,
          585,
          717,
          848,
          993,
          1094,
          1215,
          1378,
          1510,
          1688,
          1890,
          2143,
          2439
         ]
        },
        {
         "marker": {
          "color": "black"
         },
         "mode": "lines",
         "name": "Every Day",
         "opacity": 0.5,
         "type": "scatter",
         "y": [
          200,
          400,
          800,
          1600,
          3200,
          6400,
          12800,
          25600
         ]
        },
        {
         "marker": {
          "color": "black"
         },
         "mode": "lines",
         "name": "Every 2 Days",
         "opacity": 0.5,
         "type": "scatter",
         "y": [
          141.4213562373095,
          200,
          282.842712474619,
          400,
          565.685424949238,
          800,
          1131.370849898476,
          1600,
          2262.741699796952,
          3200,
          4525.483399593904,
          6400,
          9050.966799187809,
          12800,
          18101.933598375617,
          25600,
          36203.867196751235,
          51200,
          72407.73439350247,
          102400,
          144815.46878700494,
          204800
         ]
        },
        {
         "marker": {
          "color": "black"
         },
         "mode": "lines",
         "name": "Every 3 Days",
         "opacity": 0.5,
         "type": "scatter",
         "y": [
          125.99210498948732,
          158.74010519681994,
          200,
          251.98420997897463,
          317.48021039363994,
          400,
          503.96841995794927,
          634.9604207872798,
          800,
          1007.9368399158985,
          1269.9208415745595,
          1600,
          2015.8736798317968,
          2539.8416831491195,
          3200,
          4031.7473596635937,
          5079.683366298239,
          6400,
          8063.494719327187,
          10159.366732596478,
          12800,
          16126.989438654375,
          20318.733465192956,
          25600,
          32253.978877308764,
          40637.46693038589,
          51200,
          64507.95775461753,
          81274.93386077178,
          102400,
          129015.91550923506,
          162549.86772154356,
          204800,
          258031.8310184701,
          325099.7354430871,
          409600,
          516063.6620369402,
          650199.4708861742,
          819200
         ]
        },
        {
         "marker": {
          "color": "black"
         },
         "mode": "lines",
         "name": "Every week",
         "opacity": 0.5,
         "type": "scatter",
         "y": [
          109.05077326652577,
          118.9207115002721,
          129.68395546510095,
          141.4213562373095,
          154.22108254079407,
          168.1792830507429,
          183.40080864093423,
          200,
          218.10154653305153,
          237.8414230005442,
          259.3679109302019,
          282.842712474619,
          308.44216508158814,
          336.3585661014858,
          366.80161728186846,
          400,
          436.20309306610307,
          475.6828460010884,
          518.7358218604038,
          565.685424949238,
          616.8843301631763,
          672.7171322029716,
          733.6032345637369,
          800,
          872.4061861322061,
          951.3656920021768,
          1037.4716437208076,
          1131.370849898476,
          1233.7686603263526,
          1345.4342644059432,
          1467.2064691274738,
          1600,
          1744.8123722644123,
          1902.7313840043537,
          2074.943287441615,
          2262.741699796952,
          2467.537320652705,
          2690.8685288118863,
          2934.4129382549477,
          3200,
          3489.6247445288245,
          3805.4627680087074,
          4149.88657488323,
          4525.483399593904,
          4935.07464130541,
          5381.737057623773,
          5868.825876509895,
          6400,
          6979.249489057649
         ]
        }
       ],
       "layout": {
        "annotations": [
         {
          "showarrow": false,
          "text": "US",
          "x": 35,
          "y": 5.5979396819121785,
          "yshift": 8
         },
         {
          "showarrow": false,
          "text": "Spain",
          "x": 36,
          "y": 5.15211092025911,
          "yshift": 8
         },
         {
          "showarrow": false,
          "text": "Italy",
          "x": 44,
          "y": 5.132214848552882,
          "yshift": 8
         },
         {
          "showarrow": false,
          "text": "France",
          "x": 37,
          "y": 5.041649237923496,
          "yshift": 8
         },
         {
          "showarrow": false,
          "text": "Germany",
          "x": 37,
          "y": 5.032066477145035,
          "yshift": 8
         },
         {
          "showarrow": false,
          "text": "China",
          "x": 48,
          "y": 4.907878728263277,
          "yshift": 8
         },
         {
          "showarrow": false,
          "text": "Iran",
          "x": 41,
          "y": 4.796498012777912,
          "yshift": 8
         },
         {
          "showarrow": false,
          "text": "United Kingdom",
          "x": 33,
          "y": 4.747792328605869,
          "yshift": 8
         },
         {
          "showarrow": false,
          "text": "Turkey",
          "x": 19,
          "y": 4.532868987045975,
          "yshift": 8
         },
         {
          "showarrow": false,
          "text": "Switzerland",
          "x": 33,
          "y": 4.34738856792903,
          "yshift": 8
         },
         {
          "showarrow": false,
          "text": "Mexico",
          "x": 19,
          "y": 3.3872118003137306,
          "yshift": 8
         },
         {
          "showarrow": false,
          "text": "Cases Double<br>Every Day",
          "x": 7,
          "y": 4.408239965311849,
          "yshift": 15
         },
         {
          "showarrow": false,
          "text": "Cases Double<br>Every 2 Days",
          "x": 21,
          "y": 5.311329952303793,
          "yshift": 15
         },
         {
          "showarrow": false,
          "text": "Cases Double<br>Every 3 Days",
          "x": 38,
          "y": 5.913389943631755,
          "yshift": 15
         },
         {
          "showarrow": false,
          "text": "Cases Double<br>Every week",
          "x": 48,
          "y": 3.8438087234418847,
          "yshift": 15
         }
        ],
        "showlegend": false,
        "template": {
         "data": {
          "bar": [
           {
            "error_x": {
             "color": "#2a3f5f"
            },
            "error_y": {
             "color": "#2a3f5f"
            },
            "marker": {
             "line": {
              "color": "#E5ECF6",
              "width": 0.5
             }
            },
            "type": "bar"
           }
          ],
          "barpolar": [
           {
            "marker": {
             "line": {
              "color": "#E5ECF6",
              "width": 0.5
             }
            },
            "type": "barpolar"
           }
          ],
          "carpet": [
           {
            "aaxis": {
             "endlinecolor": "#2a3f5f",
             "gridcolor": "white",
             "linecolor": "white",
             "minorgridcolor": "white",
             "startlinecolor": "#2a3f5f"
            },
            "baxis": {
             "endlinecolor": "#2a3f5f",
             "gridcolor": "white",
             "linecolor": "white",
             "minorgridcolor": "white",
             "startlinecolor": "#2a3f5f"
            },
            "type": "carpet"
           }
          ],
          "choropleth": [
           {
            "colorbar": {
             "outlinewidth": 0,
             "ticks": ""
            },
            "type": "choropleth"
           }
          ],
          "contour": [
           {
            "colorbar": {
             "outlinewidth": 0,
             "ticks": ""
            },
            "colorscale": [
             [
              0,
              "#0d0887"
             ],
             [
              0.1111111111111111,
              "#46039f"
             ],
             [
              0.2222222222222222,
              "#7201a8"
             ],
             [
              0.3333333333333333,
              "#9c179e"
             ],
             [
              0.4444444444444444,
              "#bd3786"
             ],
             [
              0.5555555555555556,
              "#d8576b"
             ],
             [
              0.6666666666666666,
              "#ed7953"
             ],
             [
              0.7777777777777778,
              "#fb9f3a"
             ],
             [
              0.8888888888888888,
              "#fdca26"
             ],
             [
              1,
              "#f0f921"
             ]
            ],
            "type": "contour"
           }
          ],
          "contourcarpet": [
           {
            "colorbar": {
             "outlinewidth": 0,
             "ticks": ""
            },
            "type": "contourcarpet"
           }
          ],
          "heatmap": [
           {
            "colorbar": {
             "outlinewidth": 0,
             "ticks": ""
            },
            "colorscale": [
             [
              0,
              "#0d0887"
             ],
             [
              0.1111111111111111,
              "#46039f"
             ],
             [
              0.2222222222222222,
              "#7201a8"
             ],
             [
              0.3333333333333333,
              "#9c179e"
             ],
             [
              0.4444444444444444,
              "#bd3786"
             ],
             [
              0.5555555555555556,
              "#d8576b"
             ],
             [
              0.6666666666666666,
              "#ed7953"
             ],
             [
              0.7777777777777778,
              "#fb9f3a"
             ],
             [
              0.8888888888888888,
              "#fdca26"
             ],
             [
              1,
              "#f0f921"
             ]
            ],
            "type": "heatmap"
           }
          ],
          "heatmapgl": [
           {
            "colorbar": {
             "outlinewidth": 0,
             "ticks": ""
            },
            "colorscale": [
             [
              0,
              "#0d0887"
             ],
             [
              0.1111111111111111,
              "#46039f"
             ],
             [
              0.2222222222222222,
              "#7201a8"
             ],
             [
              0.3333333333333333,
              "#9c179e"
             ],
             [
              0.4444444444444444,
              "#bd3786"
             ],
             [
              0.5555555555555556,
              "#d8576b"
             ],
             [
              0.6666666666666666,
              "#ed7953"
             ],
             [
              0.7777777777777778,
              "#fb9f3a"
             ],
             [
              0.8888888888888888,
              "#fdca26"
             ],
             [
              1,
              "#f0f921"
             ]
            ],
            "type": "heatmapgl"
           }
          ],
          "histogram": [
           {
            "marker": {
             "colorbar": {
              "outlinewidth": 0,
              "ticks": ""
             }
            },
            "type": "histogram"
           }
          ],
          "histogram2d": [
           {
            "colorbar": {
             "outlinewidth": 0,
             "ticks": ""
            },
            "colorscale": [
             [
              0,
              "#0d0887"
             ],
             [
              0.1111111111111111,
              "#46039f"
             ],
             [
              0.2222222222222222,
              "#7201a8"
             ],
             [
              0.3333333333333333,
              "#9c179e"
             ],
             [
              0.4444444444444444,
              "#bd3786"
             ],
             [
              0.5555555555555556,
              "#d8576b"
             ],
             [
              0.6666666666666666,
              "#ed7953"
             ],
             [
              0.7777777777777778,
              "#fb9f3a"
             ],
             [
              0.8888888888888888,
              "#fdca26"
             ],
             [
              1,
              "#f0f921"
             ]
            ],
            "type": "histogram2d"
           }
          ],
          "histogram2dcontour": [
           {
            "colorbar": {
             "outlinewidth": 0,
             "ticks": ""
            },
            "colorscale": [
             [
              0,
              "#0d0887"
             ],
             [
              0.1111111111111111,
              "#46039f"
             ],
             [
              0.2222222222222222,
              "#7201a8"
             ],
             [
              0.3333333333333333,
              "#9c179e"
             ],
             [
              0.4444444444444444,
              "#bd3786"
             ],
             [
              0.5555555555555556,
              "#d8576b"
             ],
             [
              0.6666666666666666,
              "#ed7953"
             ],
             [
              0.7777777777777778,
              "#fb9f3a"
             ],
             [
              0.8888888888888888,
              "#fdca26"
             ],
             [
              1,
              "#f0f921"
             ]
            ],
            "type": "histogram2dcontour"
           }
          ],
          "mesh3d": [
           {
            "colorbar": {
             "outlinewidth": 0,
             "ticks": ""
            },
            "type": "mesh3d"
           }
          ],
          "parcoords": [
           {
            "line": {
             "colorbar": {
              "outlinewidth": 0,
              "ticks": ""
             }
            },
            "type": "parcoords"
           }
          ],
          "pie": [
           {
            "automargin": true,
            "type": "pie"
           }
          ],
          "scatter": [
           {
            "marker": {
             "colorbar": {
              "outlinewidth": 0,
              "ticks": ""
             }
            },
            "type": "scatter"
           }
          ],
          "scatter3d": [
           {
            "line": {
             "colorbar": {
              "outlinewidth": 0,
              "ticks": ""
             }
            },
            "marker": {
             "colorbar": {
              "outlinewidth": 0,
              "ticks": ""
             }
            },
            "type": "scatter3d"
           }
          ],
          "scattercarpet": [
           {
            "marker": {
             "colorbar": {
              "outlinewidth": 0,
              "ticks": ""
             }
            },
            "type": "scattercarpet"
           }
          ],
          "scattergeo": [
           {
            "marker": {
             "colorbar": {
              "outlinewidth": 0,
              "ticks": ""
             }
            },
            "type": "scattergeo"
           }
          ],
          "scattergl": [
           {
            "marker": {
             "colorbar": {
              "outlinewidth": 0,
              "ticks": ""
             }
            },
            "type": "scattergl"
           }
          ],
          "scattermapbox": [
           {
            "marker": {
             "colorbar": {
              "outlinewidth": 0,
              "ticks": ""
             }
            },
            "type": "scattermapbox"
           }
          ],
          "scatterpolar": [
           {
            "marker": {
             "colorbar": {
              "outlinewidth": 0,
              "ticks": ""
             }
            },
            "type": "scatterpolar"
           }
          ],
          "scatterpolargl": [
           {
            "marker": {
             "colorbar": {
              "outlinewidth": 0,
              "ticks": ""
             }
            },
            "type": "scatterpolargl"
           }
          ],
          "scatterternary": [
           {
            "marker": {
             "colorbar": {
              "outlinewidth": 0,
              "ticks": ""
             }
            },
            "type": "scatterternary"
           }
          ],
          "surface": [
           {
            "colorbar": {
             "outlinewidth": 0,
             "ticks": ""
            },
            "colorscale": [
             [
              0,
              "#0d0887"
             ],
             [
              0.1111111111111111,
              "#46039f"
             ],
             [
              0.2222222222222222,
              "#7201a8"
             ],
             [
              0.3333333333333333,
              "#9c179e"
             ],
             [
              0.4444444444444444,
              "#bd3786"
             ],
             [
              0.5555555555555556,
              "#d8576b"
             ],
             [
              0.6666666666666666,
              "#ed7953"
             ],
             [
              0.7777777777777778,
              "#fb9f3a"
             ],
             [
              0.8888888888888888,
              "#fdca26"
             ],
             [
              1,
              "#f0f921"
             ]
            ],
            "type": "surface"
           }
          ],
          "table": [
           {
            "cells": {
             "fill": {
              "color": "#EBF0F8"
             },
             "line": {
              "color": "white"
             }
            },
            "header": {
             "fill": {
              "color": "#C8D4E3"
             },
             "line": {
              "color": "white"
             }
            },
            "type": "table"
           }
          ]
         },
         "layout": {
          "annotationdefaults": {
           "arrowcolor": "#2a3f5f",
           "arrowhead": 0,
           "arrowwidth": 1
          },
          "coloraxis": {
           "colorbar": {
            "outlinewidth": 0,
            "ticks": ""
           }
          },
          "colorscale": {
           "diverging": [
            [
             0,
             "#8e0152"
            ],
            [
             0.1,
             "#c51b7d"
            ],
            [
             0.2,
             "#de77ae"
            ],
            [
             0.3,
             "#f1b6da"
            ],
            [
             0.4,
             "#fde0ef"
            ],
            [
             0.5,
             "#f7f7f7"
            ],
            [
             0.6,
             "#e6f5d0"
            ],
            [
             0.7,
             "#b8e186"
            ],
            [
             0.8,
             "#7fbc41"
            ],
            [
             0.9,
             "#4d9221"
            ],
            [
             1,
             "#276419"
            ]
           ],
           "sequential": [
            [
             0,
             "#0d0887"
            ],
            [
             0.1111111111111111,
             "#46039f"
            ],
            [
             0.2222222222222222,
             "#7201a8"
            ],
            [
             0.3333333333333333,
             "#9c179e"
            ],
            [
             0.4444444444444444,
             "#bd3786"
            ],
            [
             0.5555555555555556,
             "#d8576b"
            ],
            [
             0.6666666666666666,
             "#ed7953"
            ],
            [
             0.7777777777777778,
             "#fb9f3a"
            ],
            [
             0.8888888888888888,
             "#fdca26"
            ],
            [
             1,
             "#f0f921"
            ]
           ],
           "sequentialminus": [
            [
             0,
             "#0d0887"
            ],
            [
             0.1111111111111111,
             "#46039f"
            ],
            [
             0.2222222222222222,
             "#7201a8"
            ],
            [
             0.3333333333333333,
             "#9c179e"
            ],
            [
             0.4444444444444444,
             "#bd3786"
            ],
            [
             0.5555555555555556,
             "#d8576b"
            ],
            [
             0.6666666666666666,
             "#ed7953"
            ],
            [
             0.7777777777777778,
             "#fb9f3a"
            ],
            [
             0.8888888888888888,
             "#fdca26"
            ],
            [
             1,
             "#f0f921"
            ]
           ]
          },
          "colorway": [
           "#636efa",
           "#EF553B",
           "#00cc96",
           "#ab63fa",
           "#FFA15A",
           "#19d3f3",
           "#FF6692",
           "#B6E880",
           "#FF97FF",
           "#FECB52"
          ],
          "font": {
           "color": "#2a3f5f"
          },
          "geo": {
           "bgcolor": "white",
           "lakecolor": "white",
           "landcolor": "#E5ECF6",
           "showlakes": true,
           "showland": true,
           "subunitcolor": "white"
          },
          "hoverlabel": {
           "align": "left"
          },
          "hovermode": "closest",
          "mapbox": {
           "style": "light"
          },
          "paper_bgcolor": "white",
          "plot_bgcolor": "#E5ECF6",
          "polar": {
           "angularaxis": {
            "gridcolor": "white",
            "linecolor": "white",
            "ticks": ""
           },
           "bgcolor": "#E5ECF6",
           "radialaxis": {
            "gridcolor": "white",
            "linecolor": "white",
            "ticks": ""
           }
          },
          "scene": {
           "xaxis": {
            "backgroundcolor": "#E5ECF6",
            "gridcolor": "white",
            "gridwidth": 2,
            "linecolor": "white",
            "showbackground": true,
            "ticks": "",
            "zerolinecolor": "white"
           },
           "yaxis": {
            "backgroundcolor": "#E5ECF6",
            "gridcolor": "white",
            "gridwidth": 2,
            "linecolor": "white",
            "showbackground": true,
            "ticks": "",
            "zerolinecolor": "white"
           },
           "zaxis": {
            "backgroundcolor": "#E5ECF6",
            "gridcolor": "white",
            "gridwidth": 2,
            "linecolor": "white",
            "showbackground": true,
            "ticks": "",
            "zerolinecolor": "white"
           }
          },
          "shapedefaults": {
           "line": {
            "color": "#2a3f5f"
           }
          },
          "ternary": {
           "aaxis": {
            "gridcolor": "white",
            "linecolor": "white",
            "ticks": ""
           },
           "baxis": {
            "gridcolor": "white",
            "linecolor": "white",
            "ticks": ""
           },
           "bgcolor": "#E5ECF6",
           "caxis": {
            "gridcolor": "white",
            "linecolor": "white",
            "ticks": ""
           }
          },
          "title": {
           "x": 0.05
          },
          "xaxis": {
           "automargin": true,
           "gridcolor": "white",
           "linecolor": "white",
           "ticks": "",
           "title": {
            "standoff": 15
           },
           "zerolinecolor": "white",
           "zerolinewidth": 2
          },
          "yaxis": {
           "automargin": true,
           "gridcolor": "white",
           "linecolor": "white",
           "ticks": "",
           "title": {
            "standoff": 15
           },
           "zerolinecolor": "white",
           "zerolinewidth": 2
          }
         }
        },
        "title": {
         "text": "<b>Country by Country: How COVID-19 Confirmed cases trajectories compare</b>"
        },
        "xaxis": {
         "title": {
          "text": "Number of days since 100th case"
         },
         "type": "linear"
        },
        "yaxis": {
         "title": {
          "text": "Number of cumulated confirmed cases"
         },
         "type": "log"
        }
       }
      },
      "text/html": [
       "<div>\n",
       "        \n",
       "        \n",
       "            <div id=\"af801105-ae5e-4a26-8f19-02e0f81990bd\" class=\"plotly-graph-div\" style=\"height:525px; width:100%;\"></div>\n",
       "            <script type=\"text/javascript\">\n",
       "                require([\"plotly\"], function(Plotly) {\n",
       "                    window.PLOTLYENV=window.PLOTLYENV || {};\n",
       "                    \n",
       "                if (document.getElementById(\"af801105-ae5e-4a26-8f19-02e0f81990bd\")) {\n",
       "                    Plotly.newPlot(\n",
       "                        'af801105-ae5e-4a26-8f19-02e0f81990bd',\n",
       "                        [{\"marker\": {\"size\": 4}, \"mode\": \"lines+markers\", \"name\": \"US\", \"opacity\": 0.8, \"type\": \"scatter\", \"y\": [118.0, 149.0, 217.0, 262.0, 402.0, 518.0, 583.0, 959.0, 1281.0, 1663.0, 2179.0, 2727.0, 3499.0, 4632.0, 6421.0, 7783.0, 13747.0, 19273.0, 25600.0, 33276.0, 43847.0, 53740.0, 65778.0, 83836.0, 101657.0, 121478.0, 140909.0, 161837.0, 188172.0, 213372.0, 243616.0, 275586.0, 308850.0, 337072.0, 366667.0, 396223.0]}, {\"marker\": {\"size\": 4}, \"mode\": \"lines+markers\", \"name\": \"Spain\", \"opacity\": 0.8, \"type\": \"scatter\", \"y\": [120.0, 165.0, 222.0, 259.0, 400.0, 500.0, 673.0, 1073.0, 1695.0, 2277.0, 2277.0, 5232.0, 6391.0, 7798.0, 9942.0, 11748.0, 13910.0, 17963.0, 20410.0, 25374.0, 28768.0, 35136.0, 39885.0, 49515.0, 57786.0, 65719.0, 73235.0, 80110.0, 87956.0, 95923.0, 104118.0, 112065.0, 119199.0, 126168.0, 131646.0, 136675.0, 141942.0]}, {\"marker\": {\"size\": 4}, \"mode\": \"lines+markers\", \"name\": \"Italy\", \"opacity\": 0.8, \"type\": \"scatter\", \"y\": [155.0, 229.0, 322.0, 453.0, 655.0, 888.0, 1128.0, 1694.0, 2036.0, 2502.0, 3089.0, 3858.0, 4636.0, 5883.0, 7375.0, 9172.0, 10149.0, 12462.0, 12462.0, 17660.0, 21157.0, 24747.0, 27980.0, 31506.0, 35713.0, 41035.0, 47021.0, 53578.0, 59138.0, 63927.0, 69176.0, 74386.0, 80589.0, 86498.0, 92472.0, 97689.0, 101739.0, 105792.0, 110574.0, 115242.0, 119827.0, 124632.0, 128948.0, 132547.0, 135586.0]}, {\"marker\": {\"size\": 4}, \"mode\": \"lines+markers\", \"name\": \"France\", \"opacity\": 0.8, \"type\": \"scatter\", \"y\": [130.0, 191.0, 204.0, 288.0, 380.0, 656.0, 959.0, 1136.0, 1219.0, 1794.0, 2293.0, 2293.0, 3681.0, 4496.0, 4532.0, 6683.0, 7715.0, 9124.0, 10970.0, 12758.0, 14463.0, 16243.0, 20123.0, 22622.0, 25600.0, 29551.0, 33402.0, 38105.0, 40708.0, 45170.0, 52827.0, 57749.0, 59929.0, 65202.0, 90848.0, 93773.0, 98963.0, 110065.0]}, {\"marker\": {\"size\": 4}, \"mode\": \"lines+markers\", \"name\": \"Germany\", \"opacity\": 0.8, \"type\": \"scatter\", \"y\": [130.0, 159.0, 196.0, 262.0, 482.0, 670.0, 799.0, 1040.0, 1176.0, 1457.0, 1908.0, 2078.0, 3675.0, 4585.0, 5795.0, 7272.0, 9257.0, 12327.0, 15320.0, 19848.0, 22213.0, 24873.0, 29056.0, 32986.0, 37323.0, 43938.0, 50871.0, 57695.0, 62095.0, 66885.0, 71808.0, 77872.0, 84794.0, 91159.0, 96092.0, 100123.0, 103374.0, 107663.0]}, {\"marker\": {\"size\": 4}, \"mode\": \"lines+markers\", \"name\": \"China\", \"opacity\": 0.8, \"type\": \"scatter\", \"y\": [548, 643, 920, 1406, 2075, 2877, 5509, 6087, 8141, 9802, 11891, 16630, 19716, 23707, 27440, 30587, 34110, 36814, 39829, 42354, 44386, 44759, 59895, 66358, 68413, 70513, 72434, 74211, 74619, 75077, 75550, 77001, 77022, 77241, 77754, 78166, 78600, 78928, 79356, 79932, 80136, 80261, 80386, 80537, 80690, 80770, 80823, 80860, 80887]}, {\"marker\": {\"size\": 4}, \"mode\": \"lines+markers\", \"name\": \"Iran\", \"opacity\": 0.8, \"type\": \"scatter\", \"y\": [139.0, 245.0, 388.0, 593.0, 978.0, 1501.0, 2336.0, 2922.0, 3513.0, 4747.0, 5823.0, 6566.0, 7161.0, 8042.0, 9000.0, 10075.0, 11364.0, 12729.0, 13938.0, 14991.0, 16169.0, 17361.0, 18407.0, 19644.0, 20610.0, 21638.0, 23049.0, 24811.0, 27017.0, 29406.0, 32332.0, 35408.0, 38309.0, 41495.0, 44605.0, 47593.0, 50468.0, 53183.0, 55743.0, 58226.0, 60500.0, 62589.0]}, {\"marker\": {\"size\": 4}, \"mode\": \"lines+markers\", \"name\": \"United Kingdom\", \"opacity\": 0.8, \"type\": \"scatter\", \"y\": [116.0, 164.0, 207.0, 274.0, 322.0, 384.0, 459.0, 459.0, 802.0, 1144.0, 1145.0, 1551.0, 1960.0, 2642.0, 2716.0, 4014.0, 5067.0, 5745.0, 6726.0, 8164.0, 9640.0, 11812.0, 14745.0, 17312.0, 19780.0, 22453.0, 25481.0, 29865.0, 34173.0, 38689.0, 42477.0, 48436.0, 52279.0, 55949.0]}, {\"marker\": {\"size\": 4}, \"mode\": \"lines+markers\", \"name\": \"Turkey\", \"opacity\": 0.8, \"type\": \"scatter\", \"y\": [192.0, 359.0, 670.0, 1236.0, 1529.0, 1872.0, 2433.0, 3629.0, 5698.0, 7402.0, 9217.0, 10827.0, 13531.0, 15679.0, 18135.0, 20921.0, 23934.0, 27069.0, 30217.0, 34109.0]}, {\"marker\": {\"size\": 4}, \"mode\": \"lines+markers\", \"name\": \"Switzerland\", \"opacity\": 0.8, \"type\": \"scatter\", \"y\": [114.0, 214.0, 268.0, 337.0, 374.0, 491.0, 652.0, 652.0, 1139.0, 1359.0, 2200.0, 2200.0, 2700.0, 3028.0, 4075.0, 5294.0, 6575.0, 7474.0, 8795.0, 9877.0, 10897.0, 11811.0, 12928.0, 14076.0, 14829.0, 15922.0, 16605.0, 17768.0, 18827.0, 19606.0, 20505.0, 21100.0, 21657.0, 22253.0]}, {\"marker\": {\"size\": 4}, \"mode\": \"lines+markers\", \"name\": \"Mexico\", \"opacity\": 0.8, \"type\": \"scatter\", \"y\": [118.0, 164.0, 203.0, 251.0, 316.0, 367.0, 405.0, 475.0, 585.0, 717.0, 848.0, 993.0, 1094.0, 1215.0, 1378.0, 1510.0, 1688.0, 1890.0, 2143.0, 2439.0]}, {\"marker\": {\"color\": \"black\"}, \"mode\": \"lines\", \"name\": \"Every Day\", \"opacity\": 0.5, \"type\": \"scatter\", \"y\": [200, 400, 800, 1600, 3200, 6400, 12800, 25600]}, {\"marker\": {\"color\": \"black\"}, \"mode\": \"lines\", \"name\": \"Every 2 Days\", \"opacity\": 0.5, \"type\": \"scatter\", \"y\": [141.4213562373095, 200.0, 282.842712474619, 400.0, 565.685424949238, 800.0, 1131.370849898476, 1600.0, 2262.741699796952, 3200.0, 4525.483399593904, 6400.0, 9050.966799187809, 12800.0, 18101.933598375617, 25600.0, 36203.867196751235, 51200.0, 72407.73439350247, 102400.0, 144815.46878700494, 204800.0]}, {\"marker\": {\"color\": \"black\"}, \"mode\": \"lines\", \"name\": \"Every 3 Days\", \"opacity\": 0.5, \"type\": \"scatter\", \"y\": [125.99210498948732, 158.74010519681994, 200.0, 251.98420997897463, 317.48021039363994, 400.0, 503.96841995794927, 634.9604207872798, 800.0, 1007.9368399158985, 1269.9208415745595, 1600.0, 2015.8736798317968, 2539.8416831491195, 3200.0, 4031.7473596635937, 5079.683366298239, 6400.0, 8063.494719327187, 10159.366732596478, 12800.0, 16126.989438654375, 20318.733465192956, 25600.0, 32253.978877308764, 40637.46693038589, 51200.0, 64507.95775461753, 81274.93386077178, 102400.0, 129015.91550923506, 162549.86772154356, 204800.0, 258031.8310184701, 325099.7354430871, 409600.0, 516063.6620369402, 650199.4708861742, 819200.0]}, {\"marker\": {\"color\": \"black\"}, \"mode\": \"lines\", \"name\": \"Every week\", \"opacity\": 0.5, \"type\": \"scatter\", \"y\": [109.05077326652577, 118.9207115002721, 129.68395546510095, 141.4213562373095, 154.22108254079407, 168.1792830507429, 183.40080864093423, 200.0, 218.10154653305153, 237.8414230005442, 259.3679109302019, 282.842712474619, 308.44216508158814, 336.3585661014858, 366.80161728186846, 400.0, 436.20309306610307, 475.6828460010884, 518.7358218604038, 565.685424949238, 616.8843301631763, 672.7171322029716, 733.6032345637369, 800.0, 872.4061861322061, 951.3656920021768, 1037.4716437208076, 1131.370849898476, 1233.7686603263526, 1345.4342644059432, 1467.2064691274738, 1600.0, 1744.8123722644123, 1902.7313840043537, 2074.943287441615, 2262.741699796952, 2467.537320652705, 2690.8685288118863, 2934.4129382549477, 3200.0, 3489.6247445288245, 3805.4627680087074, 4149.88657488323, 4525.483399593904, 4935.07464130541, 5381.737057623773, 5868.825876509895, 6400.0, 6979.249489057649]}],\n",
       "                        {\"annotations\": [{\"showarrow\": false, \"text\": \"US\", \"x\": 35, \"y\": 5.5979396819121785, \"yshift\": 8}, {\"showarrow\": false, \"text\": \"Spain\", \"x\": 36, \"y\": 5.15211092025911, \"yshift\": 8}, {\"showarrow\": false, \"text\": \"Italy\", \"x\": 44, \"y\": 5.132214848552882, \"yshift\": 8}, {\"showarrow\": false, \"text\": \"France\", \"x\": 37, \"y\": 5.041649237923496, \"yshift\": 8}, {\"showarrow\": false, \"text\": \"Germany\", \"x\": 37, \"y\": 5.032066477145035, \"yshift\": 8}, {\"showarrow\": false, \"text\": \"China\", \"x\": 48, \"y\": 4.907878728263277, \"yshift\": 8}, {\"showarrow\": false, \"text\": \"Iran\", \"x\": 41, \"y\": 4.796498012777912, \"yshift\": 8}, {\"showarrow\": false, \"text\": \"United Kingdom\", \"x\": 33, \"y\": 4.747792328605869, \"yshift\": 8}, {\"showarrow\": false, \"text\": \"Turkey\", \"x\": 19, \"y\": 4.532868987045975, \"yshift\": 8}, {\"showarrow\": false, \"text\": \"Switzerland\", \"x\": 33, \"y\": 4.34738856792903, \"yshift\": 8}, {\"showarrow\": false, \"text\": \"Mexico\", \"x\": 19, \"y\": 3.3872118003137306, \"yshift\": 8}, {\"showarrow\": false, \"text\": \"Cases Double<br>Every Day\", \"x\": 7, \"y\": 4.408239965311849, \"yshift\": 15}, {\"showarrow\": false, \"text\": \"Cases Double<br>Every 2 Days\", \"x\": 21, \"y\": 5.311329952303793, \"yshift\": 15}, {\"showarrow\": false, \"text\": \"Cases Double<br>Every 3 Days\", \"x\": 38, \"y\": 5.913389943631755, \"yshift\": 15}, {\"showarrow\": false, \"text\": \"Cases Double<br>Every week\", \"x\": 48, \"y\": 3.8438087234418847, \"yshift\": 15}], \"showlegend\": false, \"template\": {\"data\": {\"bar\": [{\"error_x\": {\"color\": \"#2a3f5f\"}, \"error_y\": {\"color\": \"#2a3f5f\"}, \"marker\": {\"line\": {\"color\": \"#E5ECF6\", \"width\": 0.5}}, \"type\": \"bar\"}], \"barpolar\": [{\"marker\": {\"line\": {\"color\": \"#E5ECF6\", \"width\": 0.5}}, \"type\": \"barpolar\"}], \"carpet\": [{\"aaxis\": {\"endlinecolor\": \"#2a3f5f\", \"gridcolor\": \"white\", \"linecolor\": \"white\", \"minorgridcolor\": \"white\", \"startlinecolor\": \"#2a3f5f\"}, \"baxis\": {\"endlinecolor\": \"#2a3f5f\", \"gridcolor\": \"white\", \"linecolor\": \"white\", \"minorgridcolor\": \"white\", \"startlinecolor\": \"#2a3f5f\"}, \"type\": \"carpet\"}], \"choropleth\": [{\"colorbar\": {\"outlinewidth\": 0, \"ticks\": \"\"}, \"type\": \"choropleth\"}], \"contour\": [{\"colorbar\": {\"outlinewidth\": 0, \"ticks\": \"\"}, \"colorscale\": [[0.0, \"#0d0887\"], [0.1111111111111111, \"#46039f\"], [0.2222222222222222, \"#7201a8\"], [0.3333333333333333, \"#9c179e\"], [0.4444444444444444, \"#bd3786\"], [0.5555555555555556, \"#d8576b\"], [0.6666666666666666, \"#ed7953\"], [0.7777777777777778, \"#fb9f3a\"], [0.8888888888888888, \"#fdca26\"], [1.0, \"#f0f921\"]], \"type\": \"contour\"}], \"contourcarpet\": [{\"colorbar\": {\"outlinewidth\": 0, \"ticks\": \"\"}, \"type\": \"contourcarpet\"}], \"heatmap\": [{\"colorbar\": {\"outlinewidth\": 0, \"ticks\": \"\"}, \"colorscale\": [[0.0, \"#0d0887\"], [0.1111111111111111, \"#46039f\"], [0.2222222222222222, \"#7201a8\"], [0.3333333333333333, \"#9c179e\"], [0.4444444444444444, \"#bd3786\"], [0.5555555555555556, \"#d8576b\"], [0.6666666666666666, \"#ed7953\"], [0.7777777777777778, \"#fb9f3a\"], [0.8888888888888888, \"#fdca26\"], [1.0, \"#f0f921\"]], \"type\": \"heatmap\"}], \"heatmapgl\": [{\"colorbar\": {\"outlinewidth\": 0, \"ticks\": \"\"}, \"colorscale\": [[0.0, \"#0d0887\"], [0.1111111111111111, \"#46039f\"], [0.2222222222222222, \"#7201a8\"], [0.3333333333333333, \"#9c179e\"], [0.4444444444444444, \"#bd3786\"], [0.5555555555555556, \"#d8576b\"], [0.6666666666666666, \"#ed7953\"], [0.7777777777777778, \"#fb9f3a\"], [0.8888888888888888, \"#fdca26\"], [1.0, \"#f0f921\"]], \"type\": \"heatmapgl\"}], \"histogram\": [{\"marker\": {\"colorbar\": {\"outlinewidth\": 0, \"ticks\": \"\"}}, \"type\": \"histogram\"}], \"histogram2d\": [{\"colorbar\": {\"outlinewidth\": 0, \"ticks\": \"\"}, \"colorscale\": [[0.0, \"#0d0887\"], [0.1111111111111111, \"#46039f\"], [0.2222222222222222, \"#7201a8\"], [0.3333333333333333, \"#9c179e\"], [0.4444444444444444, \"#bd3786\"], [0.5555555555555556, \"#d8576b\"], [0.6666666666666666, \"#ed7953\"], [0.7777777777777778, \"#fb9f3a\"], [0.8888888888888888, \"#fdca26\"], [1.0, \"#f0f921\"]], \"type\": \"histogram2d\"}], \"histogram2dcontour\": [{\"colorbar\": {\"outlinewidth\": 0, \"ticks\": \"\"}, \"colorscale\": [[0.0, \"#0d0887\"], [0.1111111111111111, \"#46039f\"], [0.2222222222222222, \"#7201a8\"], [0.3333333333333333, \"#9c179e\"], [0.4444444444444444, \"#bd3786\"], [0.5555555555555556, \"#d8576b\"], [0.6666666666666666, \"#ed7953\"], [0.7777777777777778, \"#fb9f3a\"], [0.8888888888888888, \"#fdca26\"], [1.0, \"#f0f921\"]], \"type\": \"histogram2dcontour\"}], \"mesh3d\": [{\"colorbar\": {\"outlinewidth\": 0, \"ticks\": \"\"}, \"type\": \"mesh3d\"}], \"parcoords\": [{\"line\": {\"colorbar\": {\"outlinewidth\": 0, \"ticks\": \"\"}}, \"type\": \"parcoords\"}], \"pie\": [{\"automargin\": true, \"type\": \"pie\"}], \"scatter\": [{\"marker\": {\"colorbar\": {\"outlinewidth\": 0, \"ticks\": \"\"}}, \"type\": \"scatter\"}], \"scatter3d\": [{\"line\": {\"colorbar\": {\"outlinewidth\": 0, \"ticks\": \"\"}}, \"marker\": {\"colorbar\": {\"outlinewidth\": 0, \"ticks\": \"\"}}, \"type\": \"scatter3d\"}], \"scattercarpet\": [{\"marker\": {\"colorbar\": {\"outlinewidth\": 0, \"ticks\": \"\"}}, \"type\": \"scattercarpet\"}], \"scattergeo\": [{\"marker\": {\"colorbar\": {\"outlinewidth\": 0, \"ticks\": \"\"}}, \"type\": \"scattergeo\"}], \"scattergl\": [{\"marker\": {\"colorbar\": {\"outlinewidth\": 0, \"ticks\": \"\"}}, \"type\": \"scattergl\"}], \"scattermapbox\": [{\"marker\": {\"colorbar\": {\"outlinewidth\": 0, \"ticks\": \"\"}}, \"type\": \"scattermapbox\"}], \"scatterpolar\": [{\"marker\": {\"colorbar\": {\"outlinewidth\": 0, \"ticks\": \"\"}}, \"type\": \"scatterpolar\"}], \"scatterpolargl\": [{\"marker\": {\"colorbar\": {\"outlinewidth\": 0, \"ticks\": \"\"}}, \"type\": \"scatterpolargl\"}], \"scatterternary\": [{\"marker\": {\"colorbar\": {\"outlinewidth\": 0, \"ticks\": \"\"}}, \"type\": \"scatterternary\"}], \"surface\": [{\"colorbar\": {\"outlinewidth\": 0, \"ticks\": \"\"}, \"colorscale\": [[0.0, \"#0d0887\"], [0.1111111111111111, \"#46039f\"], [0.2222222222222222, \"#7201a8\"], [0.3333333333333333, \"#9c179e\"], [0.4444444444444444, \"#bd3786\"], [0.5555555555555556, \"#d8576b\"], [0.6666666666666666, \"#ed7953\"], [0.7777777777777778, \"#fb9f3a\"], [0.8888888888888888, \"#fdca26\"], [1.0, \"#f0f921\"]], \"type\": \"surface\"}], \"table\": [{\"cells\": {\"fill\": {\"color\": \"#EBF0F8\"}, \"line\": {\"color\": \"white\"}}, \"header\": {\"fill\": {\"color\": \"#C8D4E3\"}, \"line\": {\"color\": \"white\"}}, \"type\": \"table\"}]}, \"layout\": {\"annotationdefaults\": {\"arrowcolor\": \"#2a3f5f\", \"arrowhead\": 0, \"arrowwidth\": 1}, \"coloraxis\": {\"colorbar\": {\"outlinewidth\": 0, \"ticks\": \"\"}}, \"colorscale\": {\"diverging\": [[0, \"#8e0152\"], [0.1, \"#c51b7d\"], [0.2, \"#de77ae\"], [0.3, \"#f1b6da\"], [0.4, \"#fde0ef\"], [0.5, \"#f7f7f7\"], [0.6, \"#e6f5d0\"], [0.7, \"#b8e186\"], [0.8, \"#7fbc41\"], [0.9, \"#4d9221\"], [1, \"#276419\"]], \"sequential\": [[0.0, \"#0d0887\"], [0.1111111111111111, \"#46039f\"], [0.2222222222222222, \"#7201a8\"], [0.3333333333333333, \"#9c179e\"], [0.4444444444444444, \"#bd3786\"], [0.5555555555555556, \"#d8576b\"], [0.6666666666666666, \"#ed7953\"], [0.7777777777777778, \"#fb9f3a\"], [0.8888888888888888, \"#fdca26\"], [1.0, \"#f0f921\"]], \"sequentialminus\": [[0.0, \"#0d0887\"], [0.1111111111111111, \"#46039f\"], [0.2222222222222222, \"#7201a8\"], [0.3333333333333333, \"#9c179e\"], [0.4444444444444444, \"#bd3786\"], [0.5555555555555556, \"#d8576b\"], [0.6666666666666666, \"#ed7953\"], [0.7777777777777778, \"#fb9f3a\"], [0.8888888888888888, \"#fdca26\"], [1.0, \"#f0f921\"]]}, \"colorway\": [\"#636efa\", \"#EF553B\", \"#00cc96\", \"#ab63fa\", \"#FFA15A\", \"#19d3f3\", \"#FF6692\", \"#B6E880\", \"#FF97FF\", \"#FECB52\"], \"font\": {\"color\": \"#2a3f5f\"}, \"geo\": {\"bgcolor\": \"white\", \"lakecolor\": \"white\", \"landcolor\": \"#E5ECF6\", \"showlakes\": true, \"showland\": true, \"subunitcolor\": \"white\"}, \"hoverlabel\": {\"align\": \"left\"}, \"hovermode\": \"closest\", \"mapbox\": {\"style\": \"light\"}, \"paper_bgcolor\": \"white\", \"plot_bgcolor\": \"#E5ECF6\", \"polar\": {\"angularaxis\": {\"gridcolor\": \"white\", \"linecolor\": \"white\", \"ticks\": \"\"}, \"bgcolor\": \"#E5ECF6\", \"radialaxis\": {\"gridcolor\": \"white\", \"linecolor\": \"white\", \"ticks\": \"\"}}, \"scene\": {\"xaxis\": {\"backgroundcolor\": \"#E5ECF6\", \"gridcolor\": \"white\", \"gridwidth\": 2, \"linecolor\": \"white\", \"showbackground\": true, \"ticks\": \"\", \"zerolinecolor\": \"white\"}, \"yaxis\": {\"backgroundcolor\": \"#E5ECF6\", \"gridcolor\": \"white\", \"gridwidth\": 2, \"linecolor\": \"white\", \"showbackground\": true, \"ticks\": \"\", \"zerolinecolor\": \"white\"}, \"zaxis\": {\"backgroundcolor\": \"#E5ECF6\", \"gridcolor\": \"white\", \"gridwidth\": 2, \"linecolor\": \"white\", \"showbackground\": true, \"ticks\": \"\", \"zerolinecolor\": \"white\"}}, \"shapedefaults\": {\"line\": {\"color\": \"#2a3f5f\"}}, \"ternary\": {\"aaxis\": {\"gridcolor\": \"white\", \"linecolor\": \"white\", \"ticks\": \"\"}, \"baxis\": {\"gridcolor\": \"white\", \"linecolor\": \"white\", \"ticks\": \"\"}, \"bgcolor\": \"#E5ECF6\", \"caxis\": {\"gridcolor\": \"white\", \"linecolor\": \"white\", \"ticks\": \"\"}}, \"title\": {\"x\": 0.05}, \"xaxis\": {\"automargin\": true, \"gridcolor\": \"white\", \"linecolor\": \"white\", \"ticks\": \"\", \"title\": {\"standoff\": 15}, \"zerolinecolor\": \"white\", \"zerolinewidth\": 2}, \"yaxis\": {\"automargin\": true, \"gridcolor\": \"white\", \"linecolor\": \"white\", \"ticks\": \"\", \"title\": {\"standoff\": 15}, \"zerolinecolor\": \"white\", \"zerolinewidth\": 2}}}, \"title\": {\"text\": \"<b>Country by Country: How COVID-19 Confirmed cases trajectories compare</b>\"}, \"xaxis\": {\"title\": {\"text\": \"Number of days since 100th case\"}, \"type\": \"linear\"}, \"yaxis\": {\"title\": {\"text\": \"Number of cumulated confirmed cases\"}, \"type\": \"log\"}},\n",
       "                        {\"responsive\": true}\n",
       "                    ).then(function(){\n",
       "                            \n",
       "var gd = document.getElementById('af801105-ae5e-4a26-8f19-02e0f81990bd');\n",
       "var x = new MutationObserver(function (mutations, observer) {{\n",
       "        var display = window.getComputedStyle(gd).display;\n",
       "        if (!display || display === 'none') {{\n",
       "            console.log([gd, 'removed!']);\n",
       "            Plotly.purge(gd);\n",
       "            observer.disconnect();\n",
       "        }}\n",
       "}});\n",
       "\n",
       "// Listen for the removal of the full notebook cells\n",
       "var notebookContainer = gd.closest('#notebook-container');\n",
       "if (notebookContainer) {{\n",
       "    x.observe(notebookContainer, {childList: true});\n",
       "}}\n",
       "\n",
       "// Listen for the clearing of the current output cell\n",
       "var outputEl = gd.closest('.output');\n",
       "if (outputEl) {{\n",
       "    x.observe(outputEl, {childList: true});\n",
       "}}\n",
       "\n",
       "                        })\n",
       "                };\n",
       "                });\n",
       "            </script>\n",
       "        </div>"
      ]
     },
     "metadata": {},
     "output_type": "display_data"
    }
   ],
   "source": [
    "def plot_countries_trajectories(countries, kind='Confirmed'):\n",
    "    \n",
    "    data = TimeSeries(data_dict[kind]).get_data_frame(transpose=True)\n",
    "    data = data[data>100]\n",
    "    \n",
    "    cases = []\n",
    "    for country in countries:\n",
    "        values = list(data[country].dropna().values)\n",
    "        if len(values)>50:\n",
    "            cases.append(values[:49])\n",
    "        else:\n",
    "            cases.append(values)\n",
    "    \n",
    "    cases_dict = dict(zip(countries,cases))\n",
    "    \n",
    "    fig = go.Figure()\n",
    "    annot = []\n",
    "    for country in countries:\n",
    "        fig.add_trace(go.Scatter(y=cases_dict[country],name=country,mode='lines+markers',marker_size=4, opacity=0.8))\n",
    "        annot.append(dict(x=cases_dict[country].index(cases_dict[country][-1]),\n",
    "                          y=np.log10(cases_dict[country][-1]),text=country,\n",
    "                          showarrow=False,yshift=8))\n",
    "    \n",
    "    every_1_days = [(2**x)*100 for x in range(1,9)]\n",
    "    every_2_days = [(2**(x/2))*100 for x in range(1,23)]\n",
    "    every_3_days = [(2**(x/3))*100 for x in range(1,40)]\n",
    "    every_8_days = [(2**(x/8))*100 for x in range(1,50)]\n",
    "    dbt = [every_1_days,every_2_days,every_3_days,every_8_days]\n",
    "    dbt_names = ['Every Day','Every 2 Days','Every 3 Days', 'Every week']\n",
    "    dbt_dict = dict(zip(dbt_names,dbt))\n",
    "    \n",
    "    fig.add_trace(go.Scatter(y=every_1_days,name='Every Day',\n",
    "                             opacity=0.5,mode='lines',marker=dict(color='black')))\n",
    "    fig.add_trace(go.Scatter(y=every_2_days,name='Every 2 Days',\n",
    "                             opacity=0.5,mode='lines',marker=dict(color='black')))\n",
    "    fig.add_trace(go.Scatter(y=every_3_days,name='Every 3 Days',\n",
    "                             opacity=0.5,mode='lines',marker=dict(color='black')))\n",
    "    fig.add_trace(go.Scatter(y=every_8_days,name='Every week',\n",
    "                             opacity=0.5,mode='lines',marker=dict(color='black')))\n",
    "    \n",
    "    for label in dbt_names:\n",
    "        text = 'Cases Double<br>'+label\n",
    "        annot.append(dict(x=dbt_dict[label].index(dbt_dict[label][-1]),y=np.log10(dbt_dict[label][-1]),\n",
    "                               text=text,showarrow=False,yshift=15))\n",
    "    title='<b>Country by Country: How COVID-19 '+kind+' cases trajectories compare</b>'\n",
    "    fig.update_layout(title=title,yaxis_type='log',xaxis_type='linear',annotations=annot,showlegend=False,\n",
    "                     xaxis_title='Number of days since 100th case',yaxis_title='Number of cumulated confirmed cases')\n",
    "    fig.show()\n",
    "\n",
    "countries = actual_data.head(10).index.to_list()\n",
    "countries.append('Mexico')\n",
    "plot_countries_trajectories(countries=countries, kind='Confirmed')"
   ]
  },
  {
   "cell_type": "markdown",
   "metadata": {},
   "source": [
    "# How can we measure the velocity of the growth in every country? and how we can tell if a country is still in an exponential growth curve or not?\n",
    "\n",
    "### The answer to this question is:\n",
    "We plot **new confirmed cases** vs **cumulated confirmed cases** on a logaritmic scale.\n",
    "\n",
    "\n",
    "* **In a pandemic, how do the growth of confirmed cases behaves?**\n",
    "<br><br>\n",
    "Nowadays we hear a lot in the news or articles in the web that the confirmed cases of COVID-19 are growing exponentially in several countries and in all of the world. But, we can't have an exponential growth forever, just because of the simple fact that the number of people, that can be infected in all the world, is limited. That is, if in one point in time all of the humans get infected with the virus, there wont be more confirmed cases because there aren't more people to infect.\n",
    "<br><br>\n",
    "I'm not saying that we have to get to that point in order to don't have any more confirmed cases, we can also make a vaccine or the countries can implement social distancing policies in order to decrease the growth of the confirmed cases.\n",
    "<br><br>\n",
    "Having said that, I can introduce you the real curve that the confirmed cases growth follows: **Logistic Curve**.\n",
    "This logistic curve at the beginning is like an exponential curve but, at some point, there is an inflection point where the curve passes from exponential to a kind of logaritmic curve, as you can see in the image below.\n",
    "\n",
    "![Logistic Curve Example](data/img/logistic_example.png)\n",
    "\n",
    "\n",
    "* **Why logaritmic scale?**\n",
    "<br><br>\n",
    "In the first stages of the pandemic in every country, the growth of the cumulative is most likely exponential, also we have that ``log`` is the inverse function of the ``exp`` function, so if we apply ``log`` to the exponential growth we get a 'linear' curve.\n",
    "<br><br>\n",
    "This help us to **visualize and compare better the growths between the countries**, regardless of the big difference of number of cases between one country and another.\n",
    "\n",
    "\n",
    "* **Is my country still going through an exponential growth?**\n",
    "<br><br>\n",
    "When we plot the new confirmed cases vs. cumulated confirmed cases, if the growth is exponential, then in the logaritmic scale we will have a linear curve. So, **if a country has a linear curve that means that the growth is still exponential.**<br><br>\n",
    "In the other hand, **when a country curve is not a straight line** in this plot; then, we have that the country has gone through that inflection point when the curve passes from exponential to logaritmic. So, in this case, we have that the growth of confirmed cases is no longer an exponential growth.\n",
    "\n",
    "\n",
    "\n",
    "> **Note:** In this plots, we take the weekly increments of confirmed cases, not the daily, in order to be a pessimist plot and not take in consideration small decrements of confirmed cases. This means, that a country line will be no longer exponential only if in the last week, the new confirmed cases had decreased significantly compared with the previous week."
   ]
  },
  {
   "cell_type": "markdown",
   "metadata": {},
   "source": [
    "# New Confirmed Cases vs. Cumulated Confirmed Cases\n",
    "Of the 10 countries with more confirmed cases in the world, and Mexico."
   ]
  },
  {
   "cell_type": "code",
   "execution_count": 176,
   "metadata": {},
   "outputs": [
    {
     "data": {
      "application/vnd.plotly.v1+json": {
       "config": {
        "plotlyServerURL": "https://plot.ly"
       },
       "data": [
        {
         "name": "US",
         "type": "scatter",
         "x": [
          58,
          262,
          2727,
          33276,
          161837,
          396223
         ],
         "y": [
          58,
          204,
          2465,
          30549,
          128561,
          234386
         ]
        },
        {
         "name": "Spain",
         "type": "scatter",
         "x": [
          400,
          6391,
          28768,
          87956,
          141942
         ],
         "y": [
          400,
          5991,
          22377,
          59188,
          53986
         ]
        },
        {
         "name": "Italy",
         "type": "scatter",
         "x": [
          655,
          4636,
          21157,
          59138,
          101739,
          135586
         ],
         "y": [
          655,
          3981,
          16521,
          37981,
          42601,
          33847
         ]
        },
        {
         "name": "France",
         "type": "scatter",
         "x": [
          656,
          4496,
          16243,
          45170,
          110065
         ],
         "y": [
          656,
          3840,
          11747,
          28927,
          64895
         ]
        },
        {
         "name": "Germany",
         "type": "scatter",
         "x": [
          670,
          4585,
          24873,
          66885,
          107663
         ],
         "y": [
          670,
          3915,
          20288,
          42012,
          40778
         ]
        },
        {
         "name": "China",
         "type": "scatter",
         "x": [
          2075,
          19716,
          44386,
          74619,
          78600,
          80690,
          80977,
          81435,
          82198,
          82718
         ],
         "y": [
          2075,
          17641,
          24670,
          30233,
          3981,
          2090,
          287,
          458,
          763,
          520
         ]
        },
        {
         "name": "Iran",
         "type": "scatter",
         "x": [
          245,
          4747,
          12729,
          21638,
          41495,
          62589
         ],
         "y": [
          245,
          4502,
          7982,
          8909,
          19857,
          21094
         ]
        },
        {
         "name": "United Kingdom",
         "type": "scatter",
         "x": [
          164,
          1144,
          5745,
          22453,
          55949
         ],
         "y": [
          164,
          980,
          4601,
          16708,
          33496
         ]
        },
        {
         "name": "Turkey",
         "type": "scatter",
         "x": [
          1236,
          10827,
          34109
         ],
         "y": [
          1236,
          9591,
          23282
         ]
        },
        {
         "name": "Switzerland",
         "type": "scatter",
         "x": [
          214,
          1359,
          7474,
          15922,
          22253
         ],
         "y": [
          214,
          1145,
          6115,
          8448,
          6331
         ]
        },
        {
         "name": "Mexico",
         "type": "scatter",
         "x": [
          251,
          993,
          2439
         ],
         "y": [
          251,
          742,
          1446
         ]
        }
       ],
       "layout": {
        "annotations": [
         {
          "showarrow": false,
          "text": "US",
          "x": 5.5979396819121785,
          "xshift": 10,
          "y": 5.369931667481175,
          "yshift": 10
         },
         {
          "showarrow": false,
          "text": "Spain",
          "x": 5.15211092025911,
          "xshift": 10,
          "y": 4.732281150359136,
          "yshift": 10
         },
         {
          "showarrow": false,
          "text": "Italy",
          "x": 5.132214848552882,
          "xshift": 10,
          "y": 4.529520181405683,
          "yshift": 10
         },
         {
          "showarrow": false,
          "text": "France",
          "x": 5.041649237923496,
          "xshift": 10,
          "y": 4.812211236768618,
          "yshift": 10
         },
         {
          "showarrow": false,
          "text": "Germany",
          "x": 5.032066477145035,
          "xshift": 10,
          "y": 4.6104259215337375,
          "yshift": 10
         },
         {
          "showarrow": false,
          "text": "China",
          "x": 4.917600025272784,
          "xshift": 10,
          "y": 2.716003343634799,
          "yshift": 10
         },
         {
          "showarrow": false,
          "text": "Iran",
          "x": 4.796498012777912,
          "xshift": 10,
          "y": 4.324158941674477,
          "yshift": 10
         },
         {
          "showarrow": false,
          "text": "United Kingdom",
          "x": 4.747792328605869,
          "xshift": 10,
          "y": 4.524992947883174,
          "yshift": 10
         },
         {
          "showarrow": false,
          "text": "Turkey",
          "x": 4.532868987045975,
          "xshift": 10,
          "y": 4.367020284897757,
          "yshift": 10
         },
         {
          "showarrow": false,
          "text": "Switzerland",
          "x": 4.34738856792903,
          "xshift": 10,
          "y": 3.801472313521471,
          "yshift": 10
         },
         {
          "showarrow": false,
          "text": "Mexico",
          "x": 3.3872118003137306,
          "xshift": 10,
          "y": 3.160168292958512,
          "yshift": 10
         },
         {
          "showarrow": false,
          "text": "On a logaritmic scale to normalize the exponential growth. Last Update: 2020-04-07",
          "x": -0.04,
          "xref": "paper",
          "y": 1.1,
          "yref": "paper"
         }
        ],
        "showlegend": false,
        "template": {
         "data": {
          "bar": [
           {
            "error_x": {
             "color": "#2a3f5f"
            },
            "error_y": {
             "color": "#2a3f5f"
            },
            "marker": {
             "line": {
              "color": "#E5ECF6",
              "width": 0.5
             }
            },
            "type": "bar"
           }
          ],
          "barpolar": [
           {
            "marker": {
             "line": {
              "color": "#E5ECF6",
              "width": 0.5
             }
            },
            "type": "barpolar"
           }
          ],
          "carpet": [
           {
            "aaxis": {
             "endlinecolor": "#2a3f5f",
             "gridcolor": "white",
             "linecolor": "white",
             "minorgridcolor": "white",
             "startlinecolor": "#2a3f5f"
            },
            "baxis": {
             "endlinecolor": "#2a3f5f",
             "gridcolor": "white",
             "linecolor": "white",
             "minorgridcolor": "white",
             "startlinecolor": "#2a3f5f"
            },
            "type": "carpet"
           }
          ],
          "choropleth": [
           {
            "colorbar": {
             "outlinewidth": 0,
             "ticks": ""
            },
            "type": "choropleth"
           }
          ],
          "contour": [
           {
            "colorbar": {
             "outlinewidth": 0,
             "ticks": ""
            },
            "colorscale": [
             [
              0,
              "#0d0887"
             ],
             [
              0.1111111111111111,
              "#46039f"
             ],
             [
              0.2222222222222222,
              "#7201a8"
             ],
             [
              0.3333333333333333,
              "#9c179e"
             ],
             [
              0.4444444444444444,
              "#bd3786"
             ],
             [
              0.5555555555555556,
              "#d8576b"
             ],
             [
              0.6666666666666666,
              "#ed7953"
             ],
             [
              0.7777777777777778,
              "#fb9f3a"
             ],
             [
              0.8888888888888888,
              "#fdca26"
             ],
             [
              1,
              "#f0f921"
             ]
            ],
            "type": "contour"
           }
          ],
          "contourcarpet": [
           {
            "colorbar": {
             "outlinewidth": 0,
             "ticks": ""
            },
            "type": "contourcarpet"
           }
          ],
          "heatmap": [
           {
            "colorbar": {
             "outlinewidth": 0,
             "ticks": ""
            },
            "colorscale": [
             [
              0,
              "#0d0887"
             ],
             [
              0.1111111111111111,
              "#46039f"
             ],
             [
              0.2222222222222222,
              "#7201a8"
             ],
             [
              0.3333333333333333,
              "#9c179e"
             ],
             [
              0.4444444444444444,
              "#bd3786"
             ],
             [
              0.5555555555555556,
              "#d8576b"
             ],
             [
              0.6666666666666666,
              "#ed7953"
             ],
             [
              0.7777777777777778,
              "#fb9f3a"
             ],
             [
              0.8888888888888888,
              "#fdca26"
             ],
             [
              1,
              "#f0f921"
             ]
            ],
            "type": "heatmap"
           }
          ],
          "heatmapgl": [
           {
            "colorbar": {
             "outlinewidth": 0,
             "ticks": ""
            },
            "colorscale": [
             [
              0,
              "#0d0887"
             ],
             [
              0.1111111111111111,
              "#46039f"
             ],
             [
              0.2222222222222222,
              "#7201a8"
             ],
             [
              0.3333333333333333,
              "#9c179e"
             ],
             [
              0.4444444444444444,
              "#bd3786"
             ],
             [
              0.5555555555555556,
              "#d8576b"
             ],
             [
              0.6666666666666666,
              "#ed7953"
             ],
             [
              0.7777777777777778,
              "#fb9f3a"
             ],
             [
              0.8888888888888888,
              "#fdca26"
             ],
             [
              1,
              "#f0f921"
             ]
            ],
            "type": "heatmapgl"
           }
          ],
          "histogram": [
           {
            "marker": {
             "colorbar": {
              "outlinewidth": 0,
              "ticks": ""
             }
            },
            "type": "histogram"
           }
          ],
          "histogram2d": [
           {
            "colorbar": {
             "outlinewidth": 0,
             "ticks": ""
            },
            "colorscale": [
             [
              0,
              "#0d0887"
             ],
             [
              0.1111111111111111,
              "#46039f"
             ],
             [
              0.2222222222222222,
              "#7201a8"
             ],
             [
              0.3333333333333333,
              "#9c179e"
             ],
             [
              0.4444444444444444,
              "#bd3786"
             ],
             [
              0.5555555555555556,
              "#d8576b"
             ],
             [
              0.6666666666666666,
              "#ed7953"
             ],
             [
              0.7777777777777778,
              "#fb9f3a"
             ],
             [
              0.8888888888888888,
              "#fdca26"
             ],
             [
              1,
              "#f0f921"
             ]
            ],
            "type": "histogram2d"
           }
          ],
          "histogram2dcontour": [
           {
            "colorbar": {
             "outlinewidth": 0,
             "ticks": ""
            },
            "colorscale": [
             [
              0,
              "#0d0887"
             ],
             [
              0.1111111111111111,
              "#46039f"
             ],
             [
              0.2222222222222222,
              "#7201a8"
             ],
             [
              0.3333333333333333,
              "#9c179e"
             ],
             [
              0.4444444444444444,
              "#bd3786"
             ],
             [
              0.5555555555555556,
              "#d8576b"
             ],
             [
              0.6666666666666666,
              "#ed7953"
             ],
             [
              0.7777777777777778,
              "#fb9f3a"
             ],
             [
              0.8888888888888888,
              "#fdca26"
             ],
             [
              1,
              "#f0f921"
             ]
            ],
            "type": "histogram2dcontour"
           }
          ],
          "mesh3d": [
           {
            "colorbar": {
             "outlinewidth": 0,
             "ticks": ""
            },
            "type": "mesh3d"
           }
          ],
          "parcoords": [
           {
            "line": {
             "colorbar": {
              "outlinewidth": 0,
              "ticks": ""
             }
            },
            "type": "parcoords"
           }
          ],
          "pie": [
           {
            "automargin": true,
            "type": "pie"
           }
          ],
          "scatter": [
           {
            "marker": {
             "colorbar": {
              "outlinewidth": 0,
              "ticks": ""
             }
            },
            "type": "scatter"
           }
          ],
          "scatter3d": [
           {
            "line": {
             "colorbar": {
              "outlinewidth": 0,
              "ticks": ""
             }
            },
            "marker": {
             "colorbar": {
              "outlinewidth": 0,
              "ticks": ""
             }
            },
            "type": "scatter3d"
           }
          ],
          "scattercarpet": [
           {
            "marker": {
             "colorbar": {
              "outlinewidth": 0,
              "ticks": ""
             }
            },
            "type": "scattercarpet"
           }
          ],
          "scattergeo": [
           {
            "marker": {
             "colorbar": {
              "outlinewidth": 0,
              "ticks": ""
             }
            },
            "type": "scattergeo"
           }
          ],
          "scattergl": [
           {
            "marker": {
             "colorbar": {
              "outlinewidth": 0,
              "ticks": ""
             }
            },
            "type": "scattergl"
           }
          ],
          "scattermapbox": [
           {
            "marker": {
             "colorbar": {
              "outlinewidth": 0,
              "ticks": ""
             }
            },
            "type": "scattermapbox"
           }
          ],
          "scatterpolar": [
           {
            "marker": {
             "colorbar": {
              "outlinewidth": 0,
              "ticks": ""
             }
            },
            "type": "scatterpolar"
           }
          ],
          "scatterpolargl": [
           {
            "marker": {
             "colorbar": {
              "outlinewidth": 0,
              "ticks": ""
             }
            },
            "type": "scatterpolargl"
           }
          ],
          "scatterternary": [
           {
            "marker": {
             "colorbar": {
              "outlinewidth": 0,
              "ticks": ""
             }
            },
            "type": "scatterternary"
           }
          ],
          "surface": [
           {
            "colorbar": {
             "outlinewidth": 0,
             "ticks": ""
            },
            "colorscale": [
             [
              0,
              "#0d0887"
             ],
             [
              0.1111111111111111,
              "#46039f"
             ],
             [
              0.2222222222222222,
              "#7201a8"
             ],
             [
              0.3333333333333333,
              "#9c179e"
             ],
             [
              0.4444444444444444,
              "#bd3786"
             ],
             [
              0.5555555555555556,
              "#d8576b"
             ],
             [
              0.6666666666666666,
              "#ed7953"
             ],
             [
              0.7777777777777778,
              "#fb9f3a"
             ],
             [
              0.8888888888888888,
              "#fdca26"
             ],
             [
              1,
              "#f0f921"
             ]
            ],
            "type": "surface"
           }
          ],
          "table": [
           {
            "cells": {
             "fill": {
              "color": "#EBF0F8"
             },
             "line": {
              "color": "white"
             }
            },
            "header": {
             "fill": {
              "color": "#C8D4E3"
             },
             "line": {
              "color": "white"
             }
            },
            "type": "table"
           }
          ]
         },
         "layout": {
          "annotationdefaults": {
           "arrowcolor": "#2a3f5f",
           "arrowhead": 0,
           "arrowwidth": 1
          },
          "coloraxis": {
           "colorbar": {
            "outlinewidth": 0,
            "ticks": ""
           }
          },
          "colorscale": {
           "diverging": [
            [
             0,
             "#8e0152"
            ],
            [
             0.1,
             "#c51b7d"
            ],
            [
             0.2,
             "#de77ae"
            ],
            [
             0.3,
             "#f1b6da"
            ],
            [
             0.4,
             "#fde0ef"
            ],
            [
             0.5,
             "#f7f7f7"
            ],
            [
             0.6,
             "#e6f5d0"
            ],
            [
             0.7,
             "#b8e186"
            ],
            [
             0.8,
             "#7fbc41"
            ],
            [
             0.9,
             "#4d9221"
            ],
            [
             1,
             "#276419"
            ]
           ],
           "sequential": [
            [
             0,
             "#0d0887"
            ],
            [
             0.1111111111111111,
             "#46039f"
            ],
            [
             0.2222222222222222,
             "#7201a8"
            ],
            [
             0.3333333333333333,
             "#9c179e"
            ],
            [
             0.4444444444444444,
             "#bd3786"
            ],
            [
             0.5555555555555556,
             "#d8576b"
            ],
            [
             0.6666666666666666,
             "#ed7953"
            ],
            [
             0.7777777777777778,
             "#fb9f3a"
            ],
            [
             0.8888888888888888,
             "#fdca26"
            ],
            [
             1,
             "#f0f921"
            ]
           ],
           "sequentialminus": [
            [
             0,
             "#0d0887"
            ],
            [
             0.1111111111111111,
             "#46039f"
            ],
            [
             0.2222222222222222,
             "#7201a8"
            ],
            [
             0.3333333333333333,
             "#9c179e"
            ],
            [
             0.4444444444444444,
             "#bd3786"
            ],
            [
             0.5555555555555556,
             "#d8576b"
            ],
            [
             0.6666666666666666,
             "#ed7953"
            ],
            [
             0.7777777777777778,
             "#fb9f3a"
            ],
            [
             0.8888888888888888,
             "#fdca26"
            ],
            [
             1,
             "#f0f921"
            ]
           ]
          },
          "colorway": [
           "#636efa",
           "#EF553B",
           "#00cc96",
           "#ab63fa",
           "#FFA15A",
           "#19d3f3",
           "#FF6692",
           "#B6E880",
           "#FF97FF",
           "#FECB52"
          ],
          "font": {
           "color": "#2a3f5f"
          },
          "geo": {
           "bgcolor": "white",
           "lakecolor": "white",
           "landcolor": "#E5ECF6",
           "showlakes": true,
           "showland": true,
           "subunitcolor": "white"
          },
          "hoverlabel": {
           "align": "left"
          },
          "hovermode": "closest",
          "mapbox": {
           "style": "light"
          },
          "paper_bgcolor": "white",
          "plot_bgcolor": "#E5ECF6",
          "polar": {
           "angularaxis": {
            "gridcolor": "white",
            "linecolor": "white",
            "ticks": ""
           },
           "bgcolor": "#E5ECF6",
           "radialaxis": {
            "gridcolor": "white",
            "linecolor": "white",
            "ticks": ""
           }
          },
          "scene": {
           "xaxis": {
            "backgroundcolor": "#E5ECF6",
            "gridcolor": "white",
            "gridwidth": 2,
            "linecolor": "white",
            "showbackground": true,
            "ticks": "",
            "zerolinecolor": "white"
           },
           "yaxis": {
            "backgroundcolor": "#E5ECF6",
            "gridcolor": "white",
            "gridwidth": 2,
            "linecolor": "white",
            "showbackground": true,
            "ticks": "",
            "zerolinecolor": "white"
           },
           "zaxis": {
            "backgroundcolor": "#E5ECF6",
            "gridcolor": "white",
            "gridwidth": 2,
            "linecolor": "white",
            "showbackground": true,
            "ticks": "",
            "zerolinecolor": "white"
           }
          },
          "shapedefaults": {
           "line": {
            "color": "#2a3f5f"
           }
          },
          "ternary": {
           "aaxis": {
            "gridcolor": "white",
            "linecolor": "white",
            "ticks": ""
           },
           "baxis": {
            "gridcolor": "white",
            "linecolor": "white",
            "ticks": ""
           },
           "bgcolor": "#E5ECF6",
           "caxis": {
            "gridcolor": "white",
            "linecolor": "white",
            "ticks": ""
           }
          },
          "title": {
           "x": 0.05
          },
          "xaxis": {
           "automargin": true,
           "gridcolor": "white",
           "linecolor": "white",
           "ticks": "",
           "title": {
            "standoff": 15
           },
           "zerolinecolor": "white",
           "zerolinewidth": 2
          },
          "yaxis": {
           "automargin": true,
           "gridcolor": "white",
           "linecolor": "white",
           "ticks": "",
           "title": {
            "standoff": 15
           },
           "zerolinecolor": "white",
           "zerolinewidth": 2
          }
         }
        },
        "title": {
         "text": "<b>Trayectory of COVID-19 Confirmed Cases</b>"
        },
        "xaxis": {
         "title": {
          "text": "Total Confirmed Cases"
         },
         "type": "log"
        },
        "yaxis": {
         "title": {
          "text": "New Confirmed Cases (in the last 8 days)"
         },
         "type": "log"
        }
       }
      },
      "text/html": [
       "<div>\n",
       "        \n",
       "        \n",
       "            <div id=\"5e19b660-c2db-4b29-a005-4382b08f7c74\" class=\"plotly-graph-div\" style=\"height:525px; width:100%;\"></div>\n",
       "            <script type=\"text/javascript\">\n",
       "                require([\"plotly\"], function(Plotly) {\n",
       "                    window.PLOTLYENV=window.PLOTLYENV || {};\n",
       "                    \n",
       "                if (document.getElementById(\"5e19b660-c2db-4b29-a005-4382b08f7c74\")) {\n",
       "                    Plotly.newPlot(\n",
       "                        '5e19b660-c2db-4b29-a005-4382b08f7c74',\n",
       "                        [{\"name\": \"US\", \"type\": \"scatter\", \"x\": [58, 262, 2727, 33276, 161837, 396223], \"y\": [58, 204, 2465, 30549, 128561, 234386]}, {\"name\": \"Spain\", \"type\": \"scatter\", \"x\": [400.0, 6391.0, 28768.0, 87956.0, 141942.0], \"y\": [400.0, 5991.0, 22377.0, 59188.0, 53986.0]}, {\"name\": \"Italy\", \"type\": \"scatter\", \"x\": [655.0, 4636.0, 21157.0, 59138.0, 101739.0, 135586.0], \"y\": [655.0, 3981.0, 16521.0, 37981.0, 42601.0, 33847.0]}, {\"name\": \"France\", \"type\": \"scatter\", \"x\": [656.0, 4496.0, 16243.0, 45170.0, 110065.0], \"y\": [656.0, 3840.0, 11747.0, 28927.0, 64895.0]}, {\"name\": \"Germany\", \"type\": \"scatter\", \"x\": [670.0, 4585.0, 24873.0, 66885.0, 107663.0], \"y\": [670.0, 3915.0, 20288.0, 42012.0, 40778.0]}, {\"name\": \"China\", \"type\": \"scatter\", \"x\": [2075, 19716, 44386, 74619, 78600, 80690, 80977, 81435, 82198, 82718], \"y\": [2075, 17641, 24670, 30233, 3981, 2090, 287, 458, 763, 520]}, {\"name\": \"Iran\", \"type\": \"scatter\", \"x\": [245.0, 4747.0, 12729.0, 21638.0, 41495.0, 62589.0], \"y\": [245.0, 4502.0, 7982.0, 8909.0, 19857.0, 21094.0]}, {\"name\": \"United Kingdom\", \"type\": \"scatter\", \"x\": [164.0, 1144.0, 5745.0, 22453.0, 55949.0], \"y\": [164.0, 980.0, 4601.0, 16708.0, 33496.0]}, {\"name\": \"Turkey\", \"type\": \"scatter\", \"x\": [1236.0, 10827.0, 34109.0], \"y\": [1236.0, 9591.0, 23282.0]}, {\"name\": \"Switzerland\", \"type\": \"scatter\", \"x\": [214.0, 1359.0, 7474.0, 15922.0, 22253.0], \"y\": [214.0, 1145.0, 6115.0, 8448.0, 6331.0]}, {\"name\": \"Mexico\", \"type\": \"scatter\", \"x\": [251.0, 993.0, 2439.0], \"y\": [251.0, 742.0, 1446.0]}],\n",
       "                        {\"annotations\": [{\"showarrow\": false, \"text\": \"US\", \"x\": 5.5979396819121785, \"xshift\": 10, \"y\": 5.369931667481175, \"yshift\": 10}, {\"showarrow\": false, \"text\": \"Spain\", \"x\": 5.15211092025911, \"xshift\": 10, \"y\": 4.732281150359136, \"yshift\": 10}, {\"showarrow\": false, \"text\": \"Italy\", \"x\": 5.132214848552882, \"xshift\": 10, \"y\": 4.529520181405683, \"yshift\": 10}, {\"showarrow\": false, \"text\": \"France\", \"x\": 5.041649237923496, \"xshift\": 10, \"y\": 4.812211236768618, \"yshift\": 10}, {\"showarrow\": false, \"text\": \"Germany\", \"x\": 5.032066477145035, \"xshift\": 10, \"y\": 4.6104259215337375, \"yshift\": 10}, {\"showarrow\": false, \"text\": \"China\", \"x\": 4.917600025272784, \"xshift\": 10, \"y\": 2.716003343634799, \"yshift\": 10}, {\"showarrow\": false, \"text\": \"Iran\", \"x\": 4.796498012777912, \"xshift\": 10, \"y\": 4.324158941674477, \"yshift\": 10}, {\"showarrow\": false, \"text\": \"United Kingdom\", \"x\": 4.747792328605869, \"xshift\": 10, \"y\": 4.524992947883174, \"yshift\": 10}, {\"showarrow\": false, \"text\": \"Turkey\", \"x\": 4.532868987045975, \"xshift\": 10, \"y\": 4.367020284897757, \"yshift\": 10}, {\"showarrow\": false, \"text\": \"Switzerland\", \"x\": 4.34738856792903, \"xshift\": 10, \"y\": 3.801472313521471, \"yshift\": 10}, {\"showarrow\": false, \"text\": \"Mexico\", \"x\": 3.3872118003137306, \"xshift\": 10, \"y\": 3.160168292958512, \"yshift\": 10}, {\"showarrow\": false, \"text\": \"On a logaritmic scale to normalize the exponential growth. Last Update: 2020-04-07\", \"x\": -0.04, \"xref\": \"paper\", \"y\": 1.1, \"yref\": \"paper\"}], \"showlegend\": false, \"template\": {\"data\": {\"bar\": [{\"error_x\": {\"color\": \"#2a3f5f\"}, \"error_y\": {\"color\": \"#2a3f5f\"}, \"marker\": {\"line\": {\"color\": \"#E5ECF6\", \"width\": 0.5}}, \"type\": \"bar\"}], \"barpolar\": [{\"marker\": {\"line\": {\"color\": \"#E5ECF6\", \"width\": 0.5}}, \"type\": \"barpolar\"}], \"carpet\": [{\"aaxis\": {\"endlinecolor\": \"#2a3f5f\", \"gridcolor\": \"white\", \"linecolor\": \"white\", \"minorgridcolor\": \"white\", \"startlinecolor\": \"#2a3f5f\"}, \"baxis\": {\"endlinecolor\": \"#2a3f5f\", \"gridcolor\": \"white\", \"linecolor\": \"white\", \"minorgridcolor\": \"white\", \"startlinecolor\": \"#2a3f5f\"}, \"type\": \"carpet\"}], \"choropleth\": [{\"colorbar\": {\"outlinewidth\": 0, \"ticks\": \"\"}, \"type\": \"choropleth\"}], \"contour\": [{\"colorbar\": {\"outlinewidth\": 0, \"ticks\": \"\"}, \"colorscale\": [[0.0, \"#0d0887\"], [0.1111111111111111, \"#46039f\"], [0.2222222222222222, \"#7201a8\"], [0.3333333333333333, \"#9c179e\"], [0.4444444444444444, \"#bd3786\"], [0.5555555555555556, \"#d8576b\"], [0.6666666666666666, \"#ed7953\"], [0.7777777777777778, \"#fb9f3a\"], [0.8888888888888888, \"#fdca26\"], [1.0, \"#f0f921\"]], \"type\": \"contour\"}], \"contourcarpet\": [{\"colorbar\": {\"outlinewidth\": 0, \"ticks\": \"\"}, \"type\": \"contourcarpet\"}], \"heatmap\": [{\"colorbar\": {\"outlinewidth\": 0, \"ticks\": \"\"}, \"colorscale\": [[0.0, \"#0d0887\"], [0.1111111111111111, \"#46039f\"], [0.2222222222222222, \"#7201a8\"], [0.3333333333333333, \"#9c179e\"], [0.4444444444444444, \"#bd3786\"], [0.5555555555555556, \"#d8576b\"], [0.6666666666666666, \"#ed7953\"], [0.7777777777777778, \"#fb9f3a\"], [0.8888888888888888, \"#fdca26\"], [1.0, \"#f0f921\"]], \"type\": \"heatmap\"}], \"heatmapgl\": [{\"colorbar\": {\"outlinewidth\": 0, \"ticks\": \"\"}, \"colorscale\": [[0.0, \"#0d0887\"], [0.1111111111111111, \"#46039f\"], [0.2222222222222222, \"#7201a8\"], [0.3333333333333333, \"#9c179e\"], [0.4444444444444444, \"#bd3786\"], [0.5555555555555556, \"#d8576b\"], [0.6666666666666666, \"#ed7953\"], [0.7777777777777778, \"#fb9f3a\"], [0.8888888888888888, \"#fdca26\"], [1.0, \"#f0f921\"]], \"type\": \"heatmapgl\"}], \"histogram\": [{\"marker\": {\"colorbar\": {\"outlinewidth\": 0, \"ticks\": \"\"}}, \"type\": \"histogram\"}], \"histogram2d\": [{\"colorbar\": {\"outlinewidth\": 0, \"ticks\": \"\"}, \"colorscale\": [[0.0, \"#0d0887\"], [0.1111111111111111, \"#46039f\"], [0.2222222222222222, \"#7201a8\"], [0.3333333333333333, \"#9c179e\"], [0.4444444444444444, \"#bd3786\"], [0.5555555555555556, \"#d8576b\"], [0.6666666666666666, \"#ed7953\"], [0.7777777777777778, \"#fb9f3a\"], [0.8888888888888888, \"#fdca26\"], [1.0, \"#f0f921\"]], \"type\": \"histogram2d\"}], \"histogram2dcontour\": [{\"colorbar\": {\"outlinewidth\": 0, \"ticks\": \"\"}, \"colorscale\": [[0.0, \"#0d0887\"], [0.1111111111111111, \"#46039f\"], [0.2222222222222222, \"#7201a8\"], [0.3333333333333333, \"#9c179e\"], [0.4444444444444444, \"#bd3786\"], [0.5555555555555556, \"#d8576b\"], [0.6666666666666666, \"#ed7953\"], [0.7777777777777778, \"#fb9f3a\"], [0.8888888888888888, \"#fdca26\"], [1.0, \"#f0f921\"]], \"type\": \"histogram2dcontour\"}], \"mesh3d\": [{\"colorbar\": {\"outlinewidth\": 0, \"ticks\": \"\"}, \"type\": \"mesh3d\"}], \"parcoords\": [{\"line\": {\"colorbar\": {\"outlinewidth\": 0, \"ticks\": \"\"}}, \"type\": \"parcoords\"}], \"pie\": [{\"automargin\": true, \"type\": \"pie\"}], \"scatter\": [{\"marker\": {\"colorbar\": {\"outlinewidth\": 0, \"ticks\": \"\"}}, \"type\": \"scatter\"}], \"scatter3d\": [{\"line\": {\"colorbar\": {\"outlinewidth\": 0, \"ticks\": \"\"}}, \"marker\": {\"colorbar\": {\"outlinewidth\": 0, \"ticks\": \"\"}}, \"type\": \"scatter3d\"}], \"scattercarpet\": [{\"marker\": {\"colorbar\": {\"outlinewidth\": 0, \"ticks\": \"\"}}, \"type\": \"scattercarpet\"}], \"scattergeo\": [{\"marker\": {\"colorbar\": {\"outlinewidth\": 0, \"ticks\": \"\"}}, \"type\": \"scattergeo\"}], \"scattergl\": [{\"marker\": {\"colorbar\": {\"outlinewidth\": 0, \"ticks\": \"\"}}, \"type\": \"scattergl\"}], \"scattermapbox\": [{\"marker\": {\"colorbar\": {\"outlinewidth\": 0, \"ticks\": \"\"}}, \"type\": \"scattermapbox\"}], \"scatterpolar\": [{\"marker\": {\"colorbar\": {\"outlinewidth\": 0, \"ticks\": \"\"}}, \"type\": \"scatterpolar\"}], \"scatterpolargl\": [{\"marker\": {\"colorbar\": {\"outlinewidth\": 0, \"ticks\": \"\"}}, \"type\": \"scatterpolargl\"}], \"scatterternary\": [{\"marker\": {\"colorbar\": {\"outlinewidth\": 0, \"ticks\": \"\"}}, \"type\": \"scatterternary\"}], \"surface\": [{\"colorbar\": {\"outlinewidth\": 0, \"ticks\": \"\"}, \"colorscale\": [[0.0, \"#0d0887\"], [0.1111111111111111, \"#46039f\"], [0.2222222222222222, \"#7201a8\"], [0.3333333333333333, \"#9c179e\"], [0.4444444444444444, \"#bd3786\"], [0.5555555555555556, \"#d8576b\"], [0.6666666666666666, \"#ed7953\"], [0.7777777777777778, \"#fb9f3a\"], [0.8888888888888888, \"#fdca26\"], [1.0, \"#f0f921\"]], \"type\": \"surface\"}], \"table\": [{\"cells\": {\"fill\": {\"color\": \"#EBF0F8\"}, \"line\": {\"color\": \"white\"}}, \"header\": {\"fill\": {\"color\": \"#C8D4E3\"}, \"line\": {\"color\": \"white\"}}, \"type\": \"table\"}]}, \"layout\": {\"annotationdefaults\": {\"arrowcolor\": \"#2a3f5f\", \"arrowhead\": 0, \"arrowwidth\": 1}, \"coloraxis\": {\"colorbar\": {\"outlinewidth\": 0, \"ticks\": \"\"}}, \"colorscale\": {\"diverging\": [[0, \"#8e0152\"], [0.1, \"#c51b7d\"], [0.2, \"#de77ae\"], [0.3, \"#f1b6da\"], [0.4, \"#fde0ef\"], [0.5, \"#f7f7f7\"], [0.6, \"#e6f5d0\"], [0.7, \"#b8e186\"], [0.8, \"#7fbc41\"], [0.9, \"#4d9221\"], [1, \"#276419\"]], \"sequential\": [[0.0, \"#0d0887\"], [0.1111111111111111, \"#46039f\"], [0.2222222222222222, \"#7201a8\"], [0.3333333333333333, \"#9c179e\"], [0.4444444444444444, \"#bd3786\"], [0.5555555555555556, \"#d8576b\"], [0.6666666666666666, \"#ed7953\"], [0.7777777777777778, \"#fb9f3a\"], [0.8888888888888888, \"#fdca26\"], [1.0, \"#f0f921\"]], \"sequentialminus\": [[0.0, \"#0d0887\"], [0.1111111111111111, \"#46039f\"], [0.2222222222222222, \"#7201a8\"], [0.3333333333333333, \"#9c179e\"], [0.4444444444444444, \"#bd3786\"], [0.5555555555555556, \"#d8576b\"], [0.6666666666666666, \"#ed7953\"], [0.7777777777777778, \"#fb9f3a\"], [0.8888888888888888, \"#fdca26\"], [1.0, \"#f0f921\"]]}, \"colorway\": [\"#636efa\", \"#EF553B\", \"#00cc96\", \"#ab63fa\", \"#FFA15A\", \"#19d3f3\", \"#FF6692\", \"#B6E880\", \"#FF97FF\", \"#FECB52\"], \"font\": {\"color\": \"#2a3f5f\"}, \"geo\": {\"bgcolor\": \"white\", \"lakecolor\": \"white\", \"landcolor\": \"#E5ECF6\", \"showlakes\": true, \"showland\": true, \"subunitcolor\": \"white\"}, \"hoverlabel\": {\"align\": \"left\"}, \"hovermode\": \"closest\", \"mapbox\": {\"style\": \"light\"}, \"paper_bgcolor\": \"white\", \"plot_bgcolor\": \"#E5ECF6\", \"polar\": {\"angularaxis\": {\"gridcolor\": \"white\", \"linecolor\": \"white\", \"ticks\": \"\"}, \"bgcolor\": \"#E5ECF6\", \"radialaxis\": {\"gridcolor\": \"white\", \"linecolor\": \"white\", \"ticks\": \"\"}}, \"scene\": {\"xaxis\": {\"backgroundcolor\": \"#E5ECF6\", \"gridcolor\": \"white\", \"gridwidth\": 2, \"linecolor\": \"white\", \"showbackground\": true, \"ticks\": \"\", \"zerolinecolor\": \"white\"}, \"yaxis\": {\"backgroundcolor\": \"#E5ECF6\", \"gridcolor\": \"white\", \"gridwidth\": 2, \"linecolor\": \"white\", \"showbackground\": true, \"ticks\": \"\", \"zerolinecolor\": \"white\"}, \"zaxis\": {\"backgroundcolor\": \"#E5ECF6\", \"gridcolor\": \"white\", \"gridwidth\": 2, \"linecolor\": \"white\", \"showbackground\": true, \"ticks\": \"\", \"zerolinecolor\": \"white\"}}, \"shapedefaults\": {\"line\": {\"color\": \"#2a3f5f\"}}, \"ternary\": {\"aaxis\": {\"gridcolor\": \"white\", \"linecolor\": \"white\", \"ticks\": \"\"}, \"baxis\": {\"gridcolor\": \"white\", \"linecolor\": \"white\", \"ticks\": \"\"}, \"bgcolor\": \"#E5ECF6\", \"caxis\": {\"gridcolor\": \"white\", \"linecolor\": \"white\", \"ticks\": \"\"}}, \"title\": {\"x\": 0.05}, \"xaxis\": {\"automargin\": true, \"gridcolor\": \"white\", \"linecolor\": \"white\", \"ticks\": \"\", \"title\": {\"standoff\": 15}, \"zerolinecolor\": \"white\", \"zerolinewidth\": 2}, \"yaxis\": {\"automargin\": true, \"gridcolor\": \"white\", \"linecolor\": \"white\", \"ticks\": \"\", \"title\": {\"standoff\": 15}, \"zerolinecolor\": \"white\", \"zerolinewidth\": 2}}}, \"title\": {\"text\": \"<b>Trayectory of COVID-19 Confirmed Cases</b>\"}, \"xaxis\": {\"title\": {\"text\": \"Total Confirmed Cases\"}, \"type\": \"log\"}, \"yaxis\": {\"title\": {\"text\": \"New Confirmed Cases (in the last 8 days)\"}, \"type\": \"log\"}},\n",
       "                        {\"responsive\": true}\n",
       "                    ).then(function(){\n",
       "                            \n",
       "var gd = document.getElementById('5e19b660-c2db-4b29-a005-4382b08f7c74');\n",
       "var x = new MutationObserver(function (mutations, observer) {{\n",
       "        var display = window.getComputedStyle(gd).display;\n",
       "        if (!display || display === 'none') {{\n",
       "            console.log([gd, 'removed!']);\n",
       "            Plotly.purge(gd);\n",
       "            observer.disconnect();\n",
       "        }}\n",
       "}});\n",
       "\n",
       "// Listen for the removal of the full notebook cells\n",
       "var notebookContainer = gd.closest('#notebook-container');\n",
       "if (notebookContainer) {{\n",
       "    x.observe(notebookContainer, {childList: true});\n",
       "}}\n",
       "\n",
       "// Listen for the clearing of the current output cell\n",
       "var outputEl = gd.closest('.output');\n",
       "if (outputEl) {{\n",
       "    x.observe(outputEl, {childList: true});\n",
       "}}\n",
       "\n",
       "                        })\n",
       "                };\n",
       "                });\n",
       "            </script>\n",
       "        </div>"
      ]
     },
     "metadata": {},
     "output_type": "display_data"
    }
   ],
   "source": [
    "def plot_trajectory(countries,days=8,cases_limit=50,log=True):\n",
    "    \"\"\"\n",
    "    \"\"\"\n",
    "    fig = go.Figure()\n",
    "    \n",
    "    annotations=[]\n",
    "    for country_name in countries:\n",
    "        confirmed = TimeSeries(confirmed_df,country_name).get_data_frame(transpose=True)\n",
    "        confirmed = confirmed[confirmed[country_name]>cases_limit][country_name].values[::-1]\n",
    "        confirmed = confirmed[::days]\n",
    "        confirmed = confirmed[::-1]\n",
    "        deltas = get_diff(confirmed)\n",
    "\n",
    "        fig.add_trace(go.Scatter(x=confirmed,y=deltas,name=country_name))\n",
    "        \n",
    "        if log:\n",
    "            annotations.append(dict(x=np.log10(confirmed[-1]),\n",
    "                                   y=np.log10(deltas[-1]),\n",
    "                                   text=country_name,showarrow=False,\n",
    "                                   xshift=10,yshift=10))\n",
    "            \n",
    "        \n",
    "        else:\n",
    "            annotations.append(dict(x=(confirmed[-1]),\n",
    "                                   y=(deltas[-1]),\n",
    "                                   text=country_name,showarrow=False,\n",
    "                                   xshift=10,yshift=10))\n",
    "    if log:\n",
    "        subtitle ='On a logaritmic scale to normalize the exponential growth. Last Update: '+last_update\n",
    "        xaxis_type=\"log\"\n",
    "        yaxis_type=\"log\"\n",
    "    else:\n",
    "        subtitle ='On a linear scale. Last Update: '+last_update\n",
    "        xaxis_type=\"linear\"\n",
    "        yaxis_type=\"linear\"\n",
    "    \n",
    "    annotations.append(dict(xref='paper',yref='paper',x=-.04, y=+1.10,showarrow=False,\n",
    "                            text =subtitle))\n",
    "\n",
    "    fig.update_layout(xaxis_type=xaxis_type, yaxis_type=yaxis_type,annotations=annotations,showlegend=False,\n",
    "                     title = '<b>Trayectory of COVID-19 Confirmed Cases</b>',\n",
    "                     yaxis_title = 'New Confirmed Cases (in the last {} days)'.format(days),\n",
    "                     xaxis_title = 'Total Confirmed Cases')\n",
    "    fig.show()\n",
    "\n",
    "    \n",
    "top_confirmed_countries = actual_confirmed.sort_values(ascending=False).head(10).index.to_list()\n",
    "top_confirmed_countries.append('Mexico')\n",
    "plot_trajectory(top_confirmed_countries,days=8,cases_limit=50,log=True)"
   ]
  },
  {
   "cell_type": "markdown",
   "metadata": {},
   "source": [
    "# New Confirmed Cases vs. Cumulated Confirmed Cases\n",
    "Of the countries of **Latin America**"
   ]
  },
  {
   "cell_type": "code",
   "execution_count": 177,
   "metadata": {},
   "outputs": [
    {
     "data": {
      "application/vnd.plotly.v1+json": {
       "config": {
        "plotlyServerURL": "https://plot.ly"
       },
       "data": [
        {
         "name": "Brazil",
         "type": "scatter",
         "x": [
          13,
          151,
          1546,
          4579,
          14034
         ],
         "y": [
          13,
          138,
          1395,
          3033,
          9455
         ]
        },
        {
         "name": "Mexico",
         "type": "scatter",
         "x": [
          26,
          251,
          993,
          2439
         ],
         "y": [
          26,
          225,
          742,
          1446
         ]
        },
        {
         "name": "Argentina",
         "type": "scatter",
         "x": [
          34,
          266,
          820,
          1628
         ],
         "y": [
          34,
          232,
          554,
          808
         ]
        },
        {
         "name": "Colombia",
         "type": "scatter",
         "x": [
          22,
          231,
          798,
          1780
         ],
         "y": [
          22,
          209,
          567,
          982
         ]
        },
        {
         "name": "Chile",
         "type": "scatter",
         "x": [
          61,
          632,
          2449,
          5116
         ],
         "y": [
          61,
          571,
          1817,
          2667
         ]
        },
        {
         "name": "Ecuador",
         "type": "scatter",
         "x": [
          13,
          28,
          789,
          1962,
          3747
         ],
         "y": [
          13,
          15,
          761,
          1173,
          1785
         ]
        },
        {
         "name": "Peru",
         "type": "scatter",
         "x": [
          38,
          363,
          950,
          2954
         ],
         "y": [
          38,
          325,
          587,
          2004
         ]
        },
        {
         "name": "Dominican Republic",
         "type": "scatter",
         "x": [
          11,
          202,
          901,
          1956
         ],
         "y": [
          11,
          191,
          699,
          1055
         ]
        },
        {
         "name": "Costa Rica",
         "type": "scatter",
         "x": [
          26,
          134,
          330,
          483
         ],
         "y": [
          26,
          108,
          196,
          153
         ]
        },
        {
         "name": "Uruguay",
         "type": "scatter",
         "x": [
          158,
          310,
          424
         ],
         "y": [
          158,
          152,
          114
         ]
        }
       ],
       "layout": {
        "annotations": [
         {
          "showarrow": false,
          "text": "Brazil",
          "x": 4.147181472192797,
          "xshift": 10,
          "y": 3.9756615331810585,
          "yshift": 10
         },
         {
          "showarrow": false,
          "text": "Mexico",
          "x": 3.3872118003137306,
          "xshift": 10,
          "y": 3.160168292958512,
          "yshift": 10
         },
         {
          "showarrow": false,
          "text": "Argentina",
          "x": 3.2116544005531824,
          "xshift": 10,
          "y": 2.907411360774586,
          "yshift": 10
         },
         {
          "showarrow": false,
          "text": "Colombia",
          "x": 3.250420002308894,
          "xshift": 10,
          "y": 2.9921114877869495,
          "yshift": 10
         },
         {
          "showarrow": false,
          "text": "Chile",
          "x": 3.7089305358066165,
          "xshift": 10,
          "y": 3.4260230156898763,
          "yshift": 10
         },
         {
          "showarrow": false,
          "text": "Ecuador",
          "x": 3.573683693093798,
          "xshift": 10,
          "y": 3.251638220448212,
          "yshift": 10
         },
         {
          "showarrow": false,
          "text": "Peru",
          "x": 3.470410490975931,
          "xshift": 10,
          "y": 3.301897717195208,
          "yshift": 10
         },
         {
          "showarrow": false,
          "text": "Dominican Republic",
          "x": 3.291368850451583,
          "xshift": 10,
          "y": 3.0232524596337114,
          "yshift": 10
         },
         {
          "showarrow": false,
          "text": "Costa Rica",
          "x": 2.683947130751512,
          "xshift": 10,
          "y": 2.184691430817599,
          "yshift": 10
         },
         {
          "showarrow": false,
          "text": "Uruguay",
          "x": 2.6273658565927325,
          "xshift": 10,
          "y": 2.0569048513364727,
          "yshift": 10
         },
         {
          "showarrow": false,
          "text": "On a logaritmic scale to normalize the exponential growth. Last Update: 2020-04-07",
          "x": -0.04,
          "xref": "paper",
          "y": 1.1,
          "yref": "paper"
         }
        ],
        "showlegend": false,
        "template": {
         "data": {
          "bar": [
           {
            "error_x": {
             "color": "#2a3f5f"
            },
            "error_y": {
             "color": "#2a3f5f"
            },
            "marker": {
             "line": {
              "color": "#E5ECF6",
              "width": 0.5
             }
            },
            "type": "bar"
           }
          ],
          "barpolar": [
           {
            "marker": {
             "line": {
              "color": "#E5ECF6",
              "width": 0.5
             }
            },
            "type": "barpolar"
           }
          ],
          "carpet": [
           {
            "aaxis": {
             "endlinecolor": "#2a3f5f",
             "gridcolor": "white",
             "linecolor": "white",
             "minorgridcolor": "white",
             "startlinecolor": "#2a3f5f"
            },
            "baxis": {
             "endlinecolor": "#2a3f5f",
             "gridcolor": "white",
             "linecolor": "white",
             "minorgridcolor": "white",
             "startlinecolor": "#2a3f5f"
            },
            "type": "carpet"
           }
          ],
          "choropleth": [
           {
            "colorbar": {
             "outlinewidth": 0,
             "ticks": ""
            },
            "type": "choropleth"
           }
          ],
          "contour": [
           {
            "colorbar": {
             "outlinewidth": 0,
             "ticks": ""
            },
            "colorscale": [
             [
              0,
              "#0d0887"
             ],
             [
              0.1111111111111111,
              "#46039f"
             ],
             [
              0.2222222222222222,
              "#7201a8"
             ],
             [
              0.3333333333333333,
              "#9c179e"
             ],
             [
              0.4444444444444444,
              "#bd3786"
             ],
             [
              0.5555555555555556,
              "#d8576b"
             ],
             [
              0.6666666666666666,
              "#ed7953"
             ],
             [
              0.7777777777777778,
              "#fb9f3a"
             ],
             [
              0.8888888888888888,
              "#fdca26"
             ],
             [
              1,
              "#f0f921"
             ]
            ],
            "type": "contour"
           }
          ],
          "contourcarpet": [
           {
            "colorbar": {
             "outlinewidth": 0,
             "ticks": ""
            },
            "type": "contourcarpet"
           }
          ],
          "heatmap": [
           {
            "colorbar": {
             "outlinewidth": 0,
             "ticks": ""
            },
            "colorscale": [
             [
              0,
              "#0d0887"
             ],
             [
              0.1111111111111111,
              "#46039f"
             ],
             [
              0.2222222222222222,
              "#7201a8"
             ],
             [
              0.3333333333333333,
              "#9c179e"
             ],
             [
              0.4444444444444444,
              "#bd3786"
             ],
             [
              0.5555555555555556,
              "#d8576b"
             ],
             [
              0.6666666666666666,
              "#ed7953"
             ],
             [
              0.7777777777777778,
              "#fb9f3a"
             ],
             [
              0.8888888888888888,
              "#fdca26"
             ],
             [
              1,
              "#f0f921"
             ]
            ],
            "type": "heatmap"
           }
          ],
          "heatmapgl": [
           {
            "colorbar": {
             "outlinewidth": 0,
             "ticks": ""
            },
            "colorscale": [
             [
              0,
              "#0d0887"
             ],
             [
              0.1111111111111111,
              "#46039f"
             ],
             [
              0.2222222222222222,
              "#7201a8"
             ],
             [
              0.3333333333333333,
              "#9c179e"
             ],
             [
              0.4444444444444444,
              "#bd3786"
             ],
             [
              0.5555555555555556,
              "#d8576b"
             ],
             [
              0.6666666666666666,
              "#ed7953"
             ],
             [
              0.7777777777777778,
              "#fb9f3a"
             ],
             [
              0.8888888888888888,
              "#fdca26"
             ],
             [
              1,
              "#f0f921"
             ]
            ],
            "type": "heatmapgl"
           }
          ],
          "histogram": [
           {
            "marker": {
             "colorbar": {
              "outlinewidth": 0,
              "ticks": ""
             }
            },
            "type": "histogram"
           }
          ],
          "histogram2d": [
           {
            "colorbar": {
             "outlinewidth": 0,
             "ticks": ""
            },
            "colorscale": [
             [
              0,
              "#0d0887"
             ],
             [
              0.1111111111111111,
              "#46039f"
             ],
             [
              0.2222222222222222,
              "#7201a8"
             ],
             [
              0.3333333333333333,
              "#9c179e"
             ],
             [
              0.4444444444444444,
              "#bd3786"
             ],
             [
              0.5555555555555556,
              "#d8576b"
             ],
             [
              0.6666666666666666,
              "#ed7953"
             ],
             [
              0.7777777777777778,
              "#fb9f3a"
             ],
             [
              0.8888888888888888,
              "#fdca26"
             ],
             [
              1,
              "#f0f921"
             ]
            ],
            "type": "histogram2d"
           }
          ],
          "histogram2dcontour": [
           {
            "colorbar": {
             "outlinewidth": 0,
             "ticks": ""
            },
            "colorscale": [
             [
              0,
              "#0d0887"
             ],
             [
              0.1111111111111111,
              "#46039f"
             ],
             [
              0.2222222222222222,
              "#7201a8"
             ],
             [
              0.3333333333333333,
              "#9c179e"
             ],
             [
              0.4444444444444444,
              "#bd3786"
             ],
             [
              0.5555555555555556,
              "#d8576b"
             ],
             [
              0.6666666666666666,
              "#ed7953"
             ],
             [
              0.7777777777777778,
              "#fb9f3a"
             ],
             [
              0.8888888888888888,
              "#fdca26"
             ],
             [
              1,
              "#f0f921"
             ]
            ],
            "type": "histogram2dcontour"
           }
          ],
          "mesh3d": [
           {
            "colorbar": {
             "outlinewidth": 0,
             "ticks": ""
            },
            "type": "mesh3d"
           }
          ],
          "parcoords": [
           {
            "line": {
             "colorbar": {
              "outlinewidth": 0,
              "ticks": ""
             }
            },
            "type": "parcoords"
           }
          ],
          "pie": [
           {
            "automargin": true,
            "type": "pie"
           }
          ],
          "scatter": [
           {
            "marker": {
             "colorbar": {
              "outlinewidth": 0,
              "ticks": ""
             }
            },
            "type": "scatter"
           }
          ],
          "scatter3d": [
           {
            "line": {
             "colorbar": {
              "outlinewidth": 0,
              "ticks": ""
             }
            },
            "marker": {
             "colorbar": {
              "outlinewidth": 0,
              "ticks": ""
             }
            },
            "type": "scatter3d"
           }
          ],
          "scattercarpet": [
           {
            "marker": {
             "colorbar": {
              "outlinewidth": 0,
              "ticks": ""
             }
            },
            "type": "scattercarpet"
           }
          ],
          "scattergeo": [
           {
            "marker": {
             "colorbar": {
              "outlinewidth": 0,
              "ticks": ""
             }
            },
            "type": "scattergeo"
           }
          ],
          "scattergl": [
           {
            "marker": {
             "colorbar": {
              "outlinewidth": 0,
              "ticks": ""
             }
            },
            "type": "scattergl"
           }
          ],
          "scattermapbox": [
           {
            "marker": {
             "colorbar": {
              "outlinewidth": 0,
              "ticks": ""
             }
            },
            "type": "scattermapbox"
           }
          ],
          "scatterpolar": [
           {
            "marker": {
             "colorbar": {
              "outlinewidth": 0,
              "ticks": ""
             }
            },
            "type": "scatterpolar"
           }
          ],
          "scatterpolargl": [
           {
            "marker": {
             "colorbar": {
              "outlinewidth": 0,
              "ticks": ""
             }
            },
            "type": "scatterpolargl"
           }
          ],
          "scatterternary": [
           {
            "marker": {
             "colorbar": {
              "outlinewidth": 0,
              "ticks": ""
             }
            },
            "type": "scatterternary"
           }
          ],
          "surface": [
           {
            "colorbar": {
             "outlinewidth": 0,
             "ticks": ""
            },
            "colorscale": [
             [
              0,
              "#0d0887"
             ],
             [
              0.1111111111111111,
              "#46039f"
             ],
             [
              0.2222222222222222,
              "#7201a8"
             ],
             [
              0.3333333333333333,
              "#9c179e"
             ],
             [
              0.4444444444444444,
              "#bd3786"
             ],
             [
              0.5555555555555556,
              "#d8576b"
             ],
             [
              0.6666666666666666,
              "#ed7953"
             ],
             [
              0.7777777777777778,
              "#fb9f3a"
             ],
             [
              0.8888888888888888,
              "#fdca26"
             ],
             [
              1,
              "#f0f921"
             ]
            ],
            "type": "surface"
           }
          ],
          "table": [
           {
            "cells": {
             "fill": {
              "color": "#EBF0F8"
             },
             "line": {
              "color": "white"
             }
            },
            "header": {
             "fill": {
              "color": "#C8D4E3"
             },
             "line": {
              "color": "white"
             }
            },
            "type": "table"
           }
          ]
         },
         "layout": {
          "annotationdefaults": {
           "arrowcolor": "#2a3f5f",
           "arrowhead": 0,
           "arrowwidth": 1
          },
          "coloraxis": {
           "colorbar": {
            "outlinewidth": 0,
            "ticks": ""
           }
          },
          "colorscale": {
           "diverging": [
            [
             0,
             "#8e0152"
            ],
            [
             0.1,
             "#c51b7d"
            ],
            [
             0.2,
             "#de77ae"
            ],
            [
             0.3,
             "#f1b6da"
            ],
            [
             0.4,
             "#fde0ef"
            ],
            [
             0.5,
             "#f7f7f7"
            ],
            [
             0.6,
             "#e6f5d0"
            ],
            [
             0.7,
             "#b8e186"
            ],
            [
             0.8,
             "#7fbc41"
            ],
            [
             0.9,
             "#4d9221"
            ],
            [
             1,
             "#276419"
            ]
           ],
           "sequential": [
            [
             0,
             "#0d0887"
            ],
            [
             0.1111111111111111,
             "#46039f"
            ],
            [
             0.2222222222222222,
             "#7201a8"
            ],
            [
             0.3333333333333333,
             "#9c179e"
            ],
            [
             0.4444444444444444,
             "#bd3786"
            ],
            [
             0.5555555555555556,
             "#d8576b"
            ],
            [
             0.6666666666666666,
             "#ed7953"
            ],
            [
             0.7777777777777778,
             "#fb9f3a"
            ],
            [
             0.8888888888888888,
             "#fdca26"
            ],
            [
             1,
             "#f0f921"
            ]
           ],
           "sequentialminus": [
            [
             0,
             "#0d0887"
            ],
            [
             0.1111111111111111,
             "#46039f"
            ],
            [
             0.2222222222222222,
             "#7201a8"
            ],
            [
             0.3333333333333333,
             "#9c179e"
            ],
            [
             0.4444444444444444,
             "#bd3786"
            ],
            [
             0.5555555555555556,
             "#d8576b"
            ],
            [
             0.6666666666666666,
             "#ed7953"
            ],
            [
             0.7777777777777778,
             "#fb9f3a"
            ],
            [
             0.8888888888888888,
             "#fdca26"
            ],
            [
             1,
             "#f0f921"
            ]
           ]
          },
          "colorway": [
           "#636efa",
           "#EF553B",
           "#00cc96",
           "#ab63fa",
           "#FFA15A",
           "#19d3f3",
           "#FF6692",
           "#B6E880",
           "#FF97FF",
           "#FECB52"
          ],
          "font": {
           "color": "#2a3f5f"
          },
          "geo": {
           "bgcolor": "white",
           "lakecolor": "white",
           "landcolor": "#E5ECF6",
           "showlakes": true,
           "showland": true,
           "subunitcolor": "white"
          },
          "hoverlabel": {
           "align": "left"
          },
          "hovermode": "closest",
          "mapbox": {
           "style": "light"
          },
          "paper_bgcolor": "white",
          "plot_bgcolor": "#E5ECF6",
          "polar": {
           "angularaxis": {
            "gridcolor": "white",
            "linecolor": "white",
            "ticks": ""
           },
           "bgcolor": "#E5ECF6",
           "radialaxis": {
            "gridcolor": "white",
            "linecolor": "white",
            "ticks": ""
           }
          },
          "scene": {
           "xaxis": {
            "backgroundcolor": "#E5ECF6",
            "gridcolor": "white",
            "gridwidth": 2,
            "linecolor": "white",
            "showbackground": true,
            "ticks": "",
            "zerolinecolor": "white"
           },
           "yaxis": {
            "backgroundcolor": "#E5ECF6",
            "gridcolor": "white",
            "gridwidth": 2,
            "linecolor": "white",
            "showbackground": true,
            "ticks": "",
            "zerolinecolor": "white"
           },
           "zaxis": {
            "backgroundcolor": "#E5ECF6",
            "gridcolor": "white",
            "gridwidth": 2,
            "linecolor": "white",
            "showbackground": true,
            "ticks": "",
            "zerolinecolor": "white"
           }
          },
          "shapedefaults": {
           "line": {
            "color": "#2a3f5f"
           }
          },
          "ternary": {
           "aaxis": {
            "gridcolor": "white",
            "linecolor": "white",
            "ticks": ""
           },
           "baxis": {
            "gridcolor": "white",
            "linecolor": "white",
            "ticks": ""
           },
           "bgcolor": "#E5ECF6",
           "caxis": {
            "gridcolor": "white",
            "linecolor": "white",
            "ticks": ""
           }
          },
          "title": {
           "x": 0.05
          },
          "xaxis": {
           "automargin": true,
           "gridcolor": "white",
           "linecolor": "white",
           "ticks": "",
           "title": {
            "standoff": 15
           },
           "zerolinecolor": "white",
           "zerolinewidth": 2
          },
          "yaxis": {
           "automargin": true,
           "gridcolor": "white",
           "linecolor": "white",
           "ticks": "",
           "title": {
            "standoff": 15
           },
           "zerolinecolor": "white",
           "zerolinewidth": 2
          }
         }
        },
        "title": {
         "text": "<b>Trayectory of COVID-19 Confirmed Cases</b>"
        },
        "xaxis": {
         "title": {
          "text": "Total Confirmed Cases"
         },
         "type": "log"
        },
        "yaxis": {
         "title": {
          "text": "New Confirmed Cases (in the last 8 days)"
         },
         "type": "log"
        }
       }
      },
      "text/html": [
       "<div>\n",
       "        \n",
       "        \n",
       "            <div id=\"fd6c4004-1be8-4c9c-a48d-d5677d4fd810\" class=\"plotly-graph-div\" style=\"height:525px; width:100%;\"></div>\n",
       "            <script type=\"text/javascript\">\n",
       "                require([\"plotly\"], function(Plotly) {\n",
       "                    window.PLOTLYENV=window.PLOTLYENV || {};\n",
       "                    \n",
       "                if (document.getElementById(\"fd6c4004-1be8-4c9c-a48d-d5677d4fd810\")) {\n",
       "                    Plotly.newPlot(\n",
       "                        'fd6c4004-1be8-4c9c-a48d-d5677d4fd810',\n",
       "                        [{\"name\": \"Brazil\", \"type\": \"scatter\", \"x\": [13.0, 151.0, 1546.0, 4579.0, 14034.0], \"y\": [13.0, 138.0, 1395.0, 3033.0, 9455.0]}, {\"name\": \"Mexico\", \"type\": \"scatter\", \"x\": [26.0, 251.0, 993.0, 2439.0], \"y\": [26.0, 225.0, 742.0, 1446.0]}, {\"name\": \"Argentina\", \"type\": \"scatter\", \"x\": [34.0, 266.0, 820.0, 1628.0], \"y\": [34.0, 232.0, 554.0, 808.0]}, {\"name\": \"Colombia\", \"type\": \"scatter\", \"x\": [22.0, 231.0, 798.0, 1780.0], \"y\": [22.0, 209.0, 567.0, 982.0]}, {\"name\": \"Chile\", \"type\": \"scatter\", \"x\": [61.0, 632.0, 2449.0, 5116.0], \"y\": [61.0, 571.0, 1817.0, 2667.0]}, {\"name\": \"Ecuador\", \"type\": \"scatter\", \"x\": [13.0, 28.0, 789.0, 1962.0, 3747.0], \"y\": [13.0, 15.0, 761.0, 1173.0, 1785.0]}, {\"name\": \"Peru\", \"type\": \"scatter\", \"x\": [38.0, 363.0, 950.0, 2954.0], \"y\": [38.0, 325.0, 587.0, 2004.0]}, {\"name\": \"Dominican Republic\", \"type\": \"scatter\", \"x\": [11.0, 202.0, 901.0, 1956.0], \"y\": [11.0, 191.0, 699.0, 1055.0]}, {\"name\": \"Costa Rica\", \"type\": \"scatter\", \"x\": [26.0, 134.0, 330.0, 483.0], \"y\": [26.0, 108.0, 196.0, 153.0]}, {\"name\": \"Uruguay\", \"type\": \"scatter\", \"x\": [158.0, 310.0, 424.0], \"y\": [158.0, 152.0, 114.0]}],\n",
       "                        {\"annotations\": [{\"showarrow\": false, \"text\": \"Brazil\", \"x\": 4.147181472192797, \"xshift\": 10, \"y\": 3.9756615331810585, \"yshift\": 10}, {\"showarrow\": false, \"text\": \"Mexico\", \"x\": 3.3872118003137306, \"xshift\": 10, \"y\": 3.160168292958512, \"yshift\": 10}, {\"showarrow\": false, \"text\": \"Argentina\", \"x\": 3.2116544005531824, \"xshift\": 10, \"y\": 2.907411360774586, \"yshift\": 10}, {\"showarrow\": false, \"text\": \"Colombia\", \"x\": 3.250420002308894, \"xshift\": 10, \"y\": 2.9921114877869495, \"yshift\": 10}, {\"showarrow\": false, \"text\": \"Chile\", \"x\": 3.7089305358066165, \"xshift\": 10, \"y\": 3.4260230156898763, \"yshift\": 10}, {\"showarrow\": false, \"text\": \"Ecuador\", \"x\": 3.573683693093798, \"xshift\": 10, \"y\": 3.251638220448212, \"yshift\": 10}, {\"showarrow\": false, \"text\": \"Peru\", \"x\": 3.470410490975931, \"xshift\": 10, \"y\": 3.301897717195208, \"yshift\": 10}, {\"showarrow\": false, \"text\": \"Dominican Republic\", \"x\": 3.291368850451583, \"xshift\": 10, \"y\": 3.0232524596337114, \"yshift\": 10}, {\"showarrow\": false, \"text\": \"Costa Rica\", \"x\": 2.683947130751512, \"xshift\": 10, \"y\": 2.184691430817599, \"yshift\": 10}, {\"showarrow\": false, \"text\": \"Uruguay\", \"x\": 2.6273658565927325, \"xshift\": 10, \"y\": 2.0569048513364727, \"yshift\": 10}, {\"showarrow\": false, \"text\": \"On a logaritmic scale to normalize the exponential growth. Last Update: 2020-04-07\", \"x\": -0.04, \"xref\": \"paper\", \"y\": 1.1, \"yref\": \"paper\"}], \"showlegend\": false, \"template\": {\"data\": {\"bar\": [{\"error_x\": {\"color\": \"#2a3f5f\"}, \"error_y\": {\"color\": \"#2a3f5f\"}, \"marker\": {\"line\": {\"color\": \"#E5ECF6\", \"width\": 0.5}}, \"type\": \"bar\"}], \"barpolar\": [{\"marker\": {\"line\": {\"color\": \"#E5ECF6\", \"width\": 0.5}}, \"type\": \"barpolar\"}], \"carpet\": [{\"aaxis\": {\"endlinecolor\": \"#2a3f5f\", \"gridcolor\": \"white\", \"linecolor\": \"white\", \"minorgridcolor\": \"white\", \"startlinecolor\": \"#2a3f5f\"}, \"baxis\": {\"endlinecolor\": \"#2a3f5f\", \"gridcolor\": \"white\", \"linecolor\": \"white\", \"minorgridcolor\": \"white\", \"startlinecolor\": \"#2a3f5f\"}, \"type\": \"carpet\"}], \"choropleth\": [{\"colorbar\": {\"outlinewidth\": 0, \"ticks\": \"\"}, \"type\": \"choropleth\"}], \"contour\": [{\"colorbar\": {\"outlinewidth\": 0, \"ticks\": \"\"}, \"colorscale\": [[0.0, \"#0d0887\"], [0.1111111111111111, \"#46039f\"], [0.2222222222222222, \"#7201a8\"], [0.3333333333333333, \"#9c179e\"], [0.4444444444444444, \"#bd3786\"], [0.5555555555555556, \"#d8576b\"], [0.6666666666666666, \"#ed7953\"], [0.7777777777777778, \"#fb9f3a\"], [0.8888888888888888, \"#fdca26\"], [1.0, \"#f0f921\"]], \"type\": \"contour\"}], \"contourcarpet\": [{\"colorbar\": {\"outlinewidth\": 0, \"ticks\": \"\"}, \"type\": \"contourcarpet\"}], \"heatmap\": [{\"colorbar\": {\"outlinewidth\": 0, \"ticks\": \"\"}, \"colorscale\": [[0.0, \"#0d0887\"], [0.1111111111111111, \"#46039f\"], [0.2222222222222222, \"#7201a8\"], [0.3333333333333333, \"#9c179e\"], [0.4444444444444444, \"#bd3786\"], [0.5555555555555556, \"#d8576b\"], [0.6666666666666666, \"#ed7953\"], [0.7777777777777778, \"#fb9f3a\"], [0.8888888888888888, \"#fdca26\"], [1.0, \"#f0f921\"]], \"type\": \"heatmap\"}], \"heatmapgl\": [{\"colorbar\": {\"outlinewidth\": 0, \"ticks\": \"\"}, \"colorscale\": [[0.0, \"#0d0887\"], [0.1111111111111111, \"#46039f\"], [0.2222222222222222, \"#7201a8\"], [0.3333333333333333, \"#9c179e\"], [0.4444444444444444, \"#bd3786\"], [0.5555555555555556, \"#d8576b\"], [0.6666666666666666, \"#ed7953\"], [0.7777777777777778, \"#fb9f3a\"], [0.8888888888888888, \"#fdca26\"], [1.0, \"#f0f921\"]], \"type\": \"heatmapgl\"}], \"histogram\": [{\"marker\": {\"colorbar\": {\"outlinewidth\": 0, \"ticks\": \"\"}}, \"type\": \"histogram\"}], \"histogram2d\": [{\"colorbar\": {\"outlinewidth\": 0, \"ticks\": \"\"}, \"colorscale\": [[0.0, \"#0d0887\"], [0.1111111111111111, \"#46039f\"], [0.2222222222222222, \"#7201a8\"], [0.3333333333333333, \"#9c179e\"], [0.4444444444444444, \"#bd3786\"], [0.5555555555555556, \"#d8576b\"], [0.6666666666666666, \"#ed7953\"], [0.7777777777777778, \"#fb9f3a\"], [0.8888888888888888, \"#fdca26\"], [1.0, \"#f0f921\"]], \"type\": \"histogram2d\"}], \"histogram2dcontour\": [{\"colorbar\": {\"outlinewidth\": 0, \"ticks\": \"\"}, \"colorscale\": [[0.0, \"#0d0887\"], [0.1111111111111111, \"#46039f\"], [0.2222222222222222, \"#7201a8\"], [0.3333333333333333, \"#9c179e\"], [0.4444444444444444, \"#bd3786\"], [0.5555555555555556, \"#d8576b\"], [0.6666666666666666, \"#ed7953\"], [0.7777777777777778, \"#fb9f3a\"], [0.8888888888888888, \"#fdca26\"], [1.0, \"#f0f921\"]], \"type\": \"histogram2dcontour\"}], \"mesh3d\": [{\"colorbar\": {\"outlinewidth\": 0, \"ticks\": \"\"}, \"type\": \"mesh3d\"}], \"parcoords\": [{\"line\": {\"colorbar\": {\"outlinewidth\": 0, \"ticks\": \"\"}}, \"type\": \"parcoords\"}], \"pie\": [{\"automargin\": true, \"type\": \"pie\"}], \"scatter\": [{\"marker\": {\"colorbar\": {\"outlinewidth\": 0, \"ticks\": \"\"}}, \"type\": \"scatter\"}], \"scatter3d\": [{\"line\": {\"colorbar\": {\"outlinewidth\": 0, \"ticks\": \"\"}}, \"marker\": {\"colorbar\": {\"outlinewidth\": 0, \"ticks\": \"\"}}, \"type\": \"scatter3d\"}], \"scattercarpet\": [{\"marker\": {\"colorbar\": {\"outlinewidth\": 0, \"ticks\": \"\"}}, \"type\": \"scattercarpet\"}], \"scattergeo\": [{\"marker\": {\"colorbar\": {\"outlinewidth\": 0, \"ticks\": \"\"}}, \"type\": \"scattergeo\"}], \"scattergl\": [{\"marker\": {\"colorbar\": {\"outlinewidth\": 0, \"ticks\": \"\"}}, \"type\": \"scattergl\"}], \"scattermapbox\": [{\"marker\": {\"colorbar\": {\"outlinewidth\": 0, \"ticks\": \"\"}}, \"type\": \"scattermapbox\"}], \"scatterpolar\": [{\"marker\": {\"colorbar\": {\"outlinewidth\": 0, \"ticks\": \"\"}}, \"type\": \"scatterpolar\"}], \"scatterpolargl\": [{\"marker\": {\"colorbar\": {\"outlinewidth\": 0, \"ticks\": \"\"}}, \"type\": \"scatterpolargl\"}], \"scatterternary\": [{\"marker\": {\"colorbar\": {\"outlinewidth\": 0, \"ticks\": \"\"}}, \"type\": \"scatterternary\"}], \"surface\": [{\"colorbar\": {\"outlinewidth\": 0, \"ticks\": \"\"}, \"colorscale\": [[0.0, \"#0d0887\"], [0.1111111111111111, \"#46039f\"], [0.2222222222222222, \"#7201a8\"], [0.3333333333333333, \"#9c179e\"], [0.4444444444444444, \"#bd3786\"], [0.5555555555555556, \"#d8576b\"], [0.6666666666666666, \"#ed7953\"], [0.7777777777777778, \"#fb9f3a\"], [0.8888888888888888, \"#fdca26\"], [1.0, \"#f0f921\"]], \"type\": \"surface\"}], \"table\": [{\"cells\": {\"fill\": {\"color\": \"#EBF0F8\"}, \"line\": {\"color\": \"white\"}}, \"header\": {\"fill\": {\"color\": \"#C8D4E3\"}, \"line\": {\"color\": \"white\"}}, \"type\": \"table\"}]}, \"layout\": {\"annotationdefaults\": {\"arrowcolor\": \"#2a3f5f\", \"arrowhead\": 0, \"arrowwidth\": 1}, \"coloraxis\": {\"colorbar\": {\"outlinewidth\": 0, \"ticks\": \"\"}}, \"colorscale\": {\"diverging\": [[0, \"#8e0152\"], [0.1, \"#c51b7d\"], [0.2, \"#de77ae\"], [0.3, \"#f1b6da\"], [0.4, \"#fde0ef\"], [0.5, \"#f7f7f7\"], [0.6, \"#e6f5d0\"], [0.7, \"#b8e186\"], [0.8, \"#7fbc41\"], [0.9, \"#4d9221\"], [1, \"#276419\"]], \"sequential\": [[0.0, \"#0d0887\"], [0.1111111111111111, \"#46039f\"], [0.2222222222222222, \"#7201a8\"], [0.3333333333333333, \"#9c179e\"], [0.4444444444444444, \"#bd3786\"], [0.5555555555555556, \"#d8576b\"], [0.6666666666666666, \"#ed7953\"], [0.7777777777777778, \"#fb9f3a\"], [0.8888888888888888, \"#fdca26\"], [1.0, \"#f0f921\"]], \"sequentialminus\": [[0.0, \"#0d0887\"], [0.1111111111111111, \"#46039f\"], [0.2222222222222222, \"#7201a8\"], [0.3333333333333333, \"#9c179e\"], [0.4444444444444444, \"#bd3786\"], [0.5555555555555556, \"#d8576b\"], [0.6666666666666666, \"#ed7953\"], [0.7777777777777778, \"#fb9f3a\"], [0.8888888888888888, \"#fdca26\"], [1.0, \"#f0f921\"]]}, \"colorway\": [\"#636efa\", \"#EF553B\", \"#00cc96\", \"#ab63fa\", \"#FFA15A\", \"#19d3f3\", \"#FF6692\", \"#B6E880\", \"#FF97FF\", \"#FECB52\"], \"font\": {\"color\": \"#2a3f5f\"}, \"geo\": {\"bgcolor\": \"white\", \"lakecolor\": \"white\", \"landcolor\": \"#E5ECF6\", \"showlakes\": true, \"showland\": true, \"subunitcolor\": \"white\"}, \"hoverlabel\": {\"align\": \"left\"}, \"hovermode\": \"closest\", \"mapbox\": {\"style\": \"light\"}, \"paper_bgcolor\": \"white\", \"plot_bgcolor\": \"#E5ECF6\", \"polar\": {\"angularaxis\": {\"gridcolor\": \"white\", \"linecolor\": \"white\", \"ticks\": \"\"}, \"bgcolor\": \"#E5ECF6\", \"radialaxis\": {\"gridcolor\": \"white\", \"linecolor\": \"white\", \"ticks\": \"\"}}, \"scene\": {\"xaxis\": {\"backgroundcolor\": \"#E5ECF6\", \"gridcolor\": \"white\", \"gridwidth\": 2, \"linecolor\": \"white\", \"showbackground\": true, \"ticks\": \"\", \"zerolinecolor\": \"white\"}, \"yaxis\": {\"backgroundcolor\": \"#E5ECF6\", \"gridcolor\": \"white\", \"gridwidth\": 2, \"linecolor\": \"white\", \"showbackground\": true, \"ticks\": \"\", \"zerolinecolor\": \"white\"}, \"zaxis\": {\"backgroundcolor\": \"#E5ECF6\", \"gridcolor\": \"white\", \"gridwidth\": 2, \"linecolor\": \"white\", \"showbackground\": true, \"ticks\": \"\", \"zerolinecolor\": \"white\"}}, \"shapedefaults\": {\"line\": {\"color\": \"#2a3f5f\"}}, \"ternary\": {\"aaxis\": {\"gridcolor\": \"white\", \"linecolor\": \"white\", \"ticks\": \"\"}, \"baxis\": {\"gridcolor\": \"white\", \"linecolor\": \"white\", \"ticks\": \"\"}, \"bgcolor\": \"#E5ECF6\", \"caxis\": {\"gridcolor\": \"white\", \"linecolor\": \"white\", \"ticks\": \"\"}}, \"title\": {\"x\": 0.05}, \"xaxis\": {\"automargin\": true, \"gridcolor\": \"white\", \"linecolor\": \"white\", \"ticks\": \"\", \"title\": {\"standoff\": 15}, \"zerolinecolor\": \"white\", \"zerolinewidth\": 2}, \"yaxis\": {\"automargin\": true, \"gridcolor\": \"white\", \"linecolor\": \"white\", \"ticks\": \"\", \"title\": {\"standoff\": 15}, \"zerolinecolor\": \"white\", \"zerolinewidth\": 2}}}, \"title\": {\"text\": \"<b>Trayectory of COVID-19 Confirmed Cases</b>\"}, \"xaxis\": {\"title\": {\"text\": \"Total Confirmed Cases\"}, \"type\": \"log\"}, \"yaxis\": {\"title\": {\"text\": \"New Confirmed Cases (in the last 8 days)\"}, \"type\": \"log\"}},\n",
       "                        {\"responsive\": true}\n",
       "                    ).then(function(){\n",
       "                            \n",
       "var gd = document.getElementById('fd6c4004-1be8-4c9c-a48d-d5677d4fd810');\n",
       "var x = new MutationObserver(function (mutations, observer) {{\n",
       "        var display = window.getComputedStyle(gd).display;\n",
       "        if (!display || display === 'none') {{\n",
       "            console.log([gd, 'removed!']);\n",
       "            Plotly.purge(gd);\n",
       "            observer.disconnect();\n",
       "        }}\n",
       "}});\n",
       "\n",
       "// Listen for the removal of the full notebook cells\n",
       "var notebookContainer = gd.closest('#notebook-container');\n",
       "if (notebookContainer) {{\n",
       "    x.observe(notebookContainer, {childList: true});\n",
       "}}\n",
       "\n",
       "// Listen for the clearing of the current output cell\n",
       "var outputEl = gd.closest('.output');\n",
       "if (outputEl) {{\n",
       "    x.observe(outputEl, {childList: true});\n",
       "}}\n",
       "\n",
       "                        })\n",
       "                };\n",
       "                });\n",
       "            </script>\n",
       "        </div>"
      ]
     },
     "metadata": {},
     "output_type": "display_data"
    }
   ],
   "source": [
    "latin_america_countries = ['Brazil','Mexico','Argentina','Colombia','Chile','Ecuador','Peru',\n",
    "                          'Dominican Republic','Costa Rica','Uruguay']\n",
    "\n",
    "plot_trayectory(latin_america_countries,days=8,cases_limit=10,log=True)"
   ]
  },
  {
   "cell_type": "markdown",
   "metadata": {},
   "source": [
    "# Which countries are recently increasing faster in COVID-19 confirmed cases?\n",
    "\n",
    "### Doubling Times\n",
    "A **doubling time** is the time that takes to a country to double the confirmed cases given the increment of confirmed cases between two dates.\n",
    "\n",
    "> **Note:** In this case I'll use the weekly increments to calculate the doubling times."
   ]
  },
  {
   "cell_type": "code",
   "execution_count": 214,
   "metadata": {},
   "outputs": [
    {
     "name": "stdout",
     "output_type": "stream",
     "text": [
      "Days that take a country to double the confirmed COVID-19 cases:\n"
     ]
    },
    {
     "data": {
      "text/plain": [
       "{'Afghanistan': 5.46204893105106,\n",
       " 'Albania': 10.664422818167287,\n",
       " 'Algeria': 6.757927811851233,\n",
       " 'Andorra': 13.071320140618878,\n",
       " 'Angola': 5.468288958335917,\n",
       " 'Antigua and Barbuda': 4.859178941663236,\n",
       " 'Argentina': 11.160254625769044,\n",
       " 'Armenia': 10.277198117200411,\n",
       " 'Australia': 18.879404631058208,\n",
       " 'Austria': 22.42549255933666,\n",
       " 'Azerbaijan': 5.526341436469175,\n",
       " 'Bahamas': 5.658672752871219,\n",
       " 'Bahrain': 13.556612568606521,\n",
       " 'Bangladesh': 4.153990412213938,\n",
       " 'Barbados': 7.866785364811225,\n",
       " 'Belarus': 2.7978267444824354,\n",
       " 'Belgium': 8.78462884072002,\n",
       " 'Belize': 5.726475293708761,\n",
       " 'Benin': 4.5736247574923965,\n",
       " 'Bhutan': 21.743986036537727,\n",
       " 'Bolivia': 8.15427082887004,\n",
       " 'Bosnia and Herzegovina': 8.109517313306847,\n",
       " 'Botswana': 11.966579039460182,\n",
       " 'Brazil': 5.40291851027201,\n",
       " 'Brunei': 106.7262843715021,\n",
       " 'Bulgaria': 13.15338074324298,\n",
       " 'Burkina Faso': 12.566050208255199,\n",
       " 'Burma': 12.668742605986399,\n",
       " 'Burundi': 11.966579039460182,\n",
       " 'Cabo Verde': 31.47589273921344,\n",
       " 'Cambodia': 90.54956659792046,\n",
       " 'Cameroon': 3.9559494037099885,\n",
       " 'Canada': 6.5568185421357645,\n",
       " 'Central African Republic': 4.946865368279966,\n",
       " 'Chad': 13.603507469123121,\n",
       " 'Chile': 7.761445819024719,\n",
       " 'China': 911.8092805821443,\n",
       " 'Colombia': 7.184687524055614,\n",
       " 'Congo (Brazzaville)': 5.627346278833639,\n",
       " 'Congo (Kinshasa)': 7.980452431604022,\n",
       " 'Costa Rica': 14.672360132554978,\n",
       " \"Cote d'Ivoire\": 7.2669329869536625,\n",
       " 'Croatia': 12.404917121085358,\n",
       " 'Cuba': 6.420853117108487,\n",
       " 'Cyprus': 7.650739542495039,\n",
       " 'Czechia': 11.64985779374959,\n",
       " 'Denmark': 8.826004625559259,\n",
       " 'Diamond Princess': 0,\n",
       " 'Djibouti': 4.416508275000202,\n",
       " 'Dominica': 21.743986036537727,\n",
       " 'Dominican Republic': 8.550693960935174,\n",
       " 'Ecuador': 9.430946834764574,\n",
       " 'Egypt': 6.795047963703038,\n",
       " 'El Salvador': 5.445766233542003,\n",
       " 'Equatorial Guinea': 16.865945877572468,\n",
       " 'Eritrea': 6.683817247651916,\n",
       " 'Estonia': 11.198809032701721,\n",
       " 'Eswatini': 46.05169435272406,\n",
       " 'Ethiopia': 7.0,\n",
       " 'Fiji': 4.416508275000202,\n",
       " 'Finland': 9.960362149656271,\n",
       " 'France': 6.609957102041108,\n",
       " 'Gabon': 7.718681871767608,\n",
       " 'Gambia': 0,\n",
       " 'Georgia': 8.399830687060062,\n",
       " 'Germany': 11.98002323950133,\n",
       " 'Ghana': 8.393385523097653,\n",
       " 'Greece': 14.599933829951786,\n",
       " 'Grenada': 16.865945877572468,\n",
       " 'Guatemala': 6.870430366490095,\n",
       " 'Guinea': 2.582555649981293,\n",
       " 'Guinea-Bissau': 3.423997326991262,\n",
       " 'Guyana': 4.796387792760068,\n",
       " 'Haiti': 9.498408141997068,\n",
       " 'Holy See': 31.47589273921344,\n",
       " 'Honduras': 6.2886636019161815,\n",
       " 'Hungary': 9.567053087892962,\n",
       " 'Iceland': 14.501746701989278,\n",
       " 'India': 3.6332465775212612,\n",
       " 'Indonesia': 8.318697345700821,\n",
       " 'Iran': 14.323607888012928,\n",
       " 'Iraq': 10.100061190342922,\n",
       " 'Ireland': 8.542081986067044,\n",
       " 'Israel': 8.889489235229888,\n",
       " 'Italy': 19.55429148545605,\n",
       " 'Jamaica': 8.670288380926667,\n",
       " 'Japan': 7.0,\n",
       " 'Jordan': 19.152250774018476,\n",
       " 'Kazakhstan': 6.842953667966788,\n",
       " 'Kenya': 4.534789823039582,\n",
       " 'Korea, South': 89.52698006374467,\n",
       " 'Kosovo': 11.627211389830057,\n",
       " 'Kuwait': 5.138396401385715,\n",
       " 'Kyrgyzstan': 6.413645142107282,\n",
       " 'Laos': 10.98159934702016,\n",
       " 'Latvia': 15.170972665534302,\n",
       " 'Lebanon': 31.600549352533335,\n",
       " 'Liberia': 3.1497587612319657,\n",
       " 'Libya': 7.0,\n",
       " 'Liechtenstein': 35.36436299059501,\n",
       " 'Lithuania': 9.823438628741064,\n",
       " 'Luxembourg': 15.643892200759696,\n",
       " 'MS Zaandam': 3.225917944328591,\n",
       " 'Madagascar': 11.172442420472368,\n",
       " 'Malawi': 0,\n",
       " 'Malaysia': 13.492888388060138,\n",
       " 'Maldives': 89.74069963138808,\n",
       " 'Mali': 7.0,\n",
       " 'Malta': 8.817482195676954,\n",
       " 'Mauritania': 0,\n",
       " 'Mauritius': 7.724411929845488,\n",
       " 'Mexico': 6.051819028943834,\n",
       " 'Moldova': 4.427942287671282,\n",
       " 'Monaco': 11.602061937644455,\n",
       " 'Mongolia': 21.743986036537727,\n",
       " 'Montenegro': 6.115112566087682,\n",
       " 'Morocco': 7.44422135482206,\n",
       " 'Mozambique': 21.743986036537727,\n",
       " 'Namibia': 12.949333037855281,\n",
       " 'Nepal': 8.25474709387563,\n",
       " 'Netherlands': 10.975576754964267,\n",
       " 'New Zealand': 8.310704590479437,\n",
       " 'Nicaragua': 26.612488118467514,\n",
       " 'Niger': 2.0808229872613646,\n",
       " 'Nigeria': 7.676540502254751,\n",
       " 'North Macedonia': 8.097461799314646,\n",
       " 'Norway': 17.900128905055364,\n",
       " 'Oman': 7.365995113318025,\n",
       " 'Pakistan': 6.61625644629418,\n",
       " 'Panama': 8.429871791997298,\n",
       " 'Papua New Guinea': 7.0,\n",
       " 'Paraguay': 8.5042046947042,\n",
       " 'Peru': 4.756028007760455,\n",
       " 'Philippines': 8.207183544112214,\n",
       " 'Poland': 6.5489573353712025,\n",
       " 'Portugal': 9.443351267765713,\n",
       " 'Qatar': 5.010208871801106,\n",
       " 'Romania': 7.169549908212194,\n",
       " 'Russia': 4.162564390022198,\n",
       " 'Rwanda': 14.420299019743018,\n",
       " 'Saint Kitts and Nevis': 15.236217352132696,\n",
       " 'Saint Lucia': 65.47244679499626,\n",
       " 'Saint Vincent and the Grenadines': 2.3333333333333335,\n",
       " 'San Marino': 28.988116480863653,\n",
       " 'Sao Tome and Principe': 0,\n",
       " 'Saudi Arabia': 8.347937207420415,\n",
       " 'Senegal': 15.998824787915389,\n",
       " 'Serbia': 4.850947046869888,\n",
       " 'Seychelles': 50.90778628139199,\n",
       " 'Sierra Leone': 2.707969650641791,\n",
       " 'Singapore': 10.332293312788886,\n",
       " 'Slovakia': 10.315832240167948,\n",
       " 'Slovenia': 17.45512080996921,\n",
       " 'Somalia': 10.323388931498638,\n",
       " 'South Africa': 18.900097999808896,\n",
       " 'South Sudan': 0,\n",
       " 'Spain': 12.381647927397253,\n",
       " 'Sri Lanka': 18.84201681927264,\n",
       " 'Sudan': 7.0,\n",
       " 'Suriname': 46.05169435272406,\n",
       " 'Sweden': 8.809328583631588,\n",
       " 'Switzerland': 16.572671179003873,\n",
       " 'Syria': 7.559399994995771,\n",
       " 'Taiwan*': 31.295829729993972,\n",
       " 'Tanzania': 20.76935708231097,\n",
       " 'Thailand': 15.496827199908758,\n",
       " 'Timor-Leste': 0,\n",
       " 'Togo': 7.4873919930990995,\n",
       " 'Trinidad and Tobago': 23.448740958530532,\n",
       " 'Tunisia': 10.589429849241279,\n",
       " 'Turkey': 5.247832667767814,\n",
       " 'US': 6.516109429873379,\n",
       " 'Uganda': 29.044667023274776,\n",
       " 'Ukraine': 5.9293279389220555,\n",
       " 'United Arab Emirates': 3.8273948337597625,\n",
       " 'United Kingdom': 6.16908339191464,\n",
       " 'Uruguay': 21.40404294480623,\n",
       " 'Uzbekistan': 4.3856817161543855,\n",
       " 'Venezuela': 24.179067365791656,\n",
       " 'Vietnam': 30.161821077913277,\n",
       " 'West Bank and Gaza': 6.177806630158322,\n",
       " 'Western Sahara': 0,\n",
       " 'Zambia': 44.83753384614965,\n",
       " 'Zimbabwe': 15.236217352132696}"
      ]
     },
     "execution_count": 214,
     "metadata": {},
     "output_type": "execute_result"
    }
   ],
   "source": [
    "countries = TimeSeries(confirmed_df).data.index.to_list()\n",
    "db_times = get_doubling_times(countries=countries,kind='Confirmed')\n",
    "print('Days that take a country to double the confirmed COVID-19 cases:')\n",
    "dict(zip(countries,db_times))"
   ]
  },
  {
   "cell_type": "markdown",
   "metadata": {},
   "source": [
    "## Countries that double confirmed cases faster (in the last week).\n",
    "This countries are increasing their confirmed cases at a faster rate.\n",
    "\n",
    "This may be explained by the lack of a good health system or not implementing enough social distancing policies.\n",
    "\n",
    "> **Note:** I take only in consideration those countries with more than 200 confirmed cases up to date."
   ]
  },
  {
   "cell_type": "code",
   "execution_count": 215,
   "metadata": {},
   "outputs": [
    {
     "data": {
      "text/html": [
       "<div>\n",
       "<style scoped>\n",
       "    .dataframe tbody tr th:only-of-type {\n",
       "        vertical-align: middle;\n",
       "    }\n",
       "\n",
       "    .dataframe tbody tr th {\n",
       "        vertical-align: top;\n",
       "    }\n",
       "\n",
       "    .dataframe thead th {\n",
       "        text-align: right;\n",
       "    }\n",
       "</style>\n",
       "<table border=\"1\" class=\"dataframe\">\n",
       "  <thead>\n",
       "    <tr style=\"text-align: right;\">\n",
       "      <th></th>\n",
       "      <th>Doubling Time</th>\n",
       "    </tr>\n",
       "  </thead>\n",
       "  <tbody>\n",
       "    <tr>\n",
       "      <th>Niger</th>\n",
       "      <td>2.080823</td>\n",
       "    </tr>\n",
       "    <tr>\n",
       "      <th>Belarus</th>\n",
       "      <td>2.797827</td>\n",
       "    </tr>\n",
       "    <tr>\n",
       "      <th>India</th>\n",
       "      <td>3.633247</td>\n",
       "    </tr>\n",
       "    <tr>\n",
       "      <th>United Arab Emirates</th>\n",
       "      <td>3.827395</td>\n",
       "    </tr>\n",
       "    <tr>\n",
       "      <th>Cameroon</th>\n",
       "      <td>3.955949</td>\n",
       "    </tr>\n",
       "    <tr>\n",
       "      <th>Russia</th>\n",
       "      <td>4.162564</td>\n",
       "    </tr>\n",
       "    <tr>\n",
       "      <th>Uzbekistan</th>\n",
       "      <td>4.385682</td>\n",
       "    </tr>\n",
       "    <tr>\n",
       "      <th>Moldova</th>\n",
       "      <td>4.427942</td>\n",
       "    </tr>\n",
       "    <tr>\n",
       "      <th>Peru</th>\n",
       "      <td>4.756028</td>\n",
       "    </tr>\n",
       "    <tr>\n",
       "      <th>Serbia</th>\n",
       "      <td>4.850947</td>\n",
       "    </tr>\n",
       "    <tr>\n",
       "      <th>Qatar</th>\n",
       "      <td>5.010209</td>\n",
       "    </tr>\n",
       "    <tr>\n",
       "      <th>Kuwait</th>\n",
       "      <td>5.138396</td>\n",
       "    </tr>\n",
       "    <tr>\n",
       "      <th>Turkey</th>\n",
       "      <td>5.247833</td>\n",
       "    </tr>\n",
       "    <tr>\n",
       "      <th>Brazil</th>\n",
       "      <td>5.402919</td>\n",
       "    </tr>\n",
       "    <tr>\n",
       "      <th>Afghanistan</th>\n",
       "      <td>5.462049</td>\n",
       "    </tr>\n",
       "  </tbody>\n",
       "</table>\n",
       "</div>"
      ],
      "text/plain": [
       "                      Doubling Time\n",
       "Niger                      2.080823\n",
       "Belarus                    2.797827\n",
       "India                      3.633247\n",
       "United Arab Emirates       3.827395\n",
       "Cameroon                   3.955949\n",
       "Russia                     4.162564\n",
       "Uzbekistan                 4.385682\n",
       "Moldova                    4.427942\n",
       "Peru                       4.756028\n",
       "Serbia                     4.850947\n",
       "Qatar                      5.010209\n",
       "Kuwait                     5.138396\n",
       "Turkey                     5.247833\n",
       "Brazil                     5.402919\n",
       "Afghanistan                5.462049"
      ]
     },
     "execution_count": 215,
     "metadata": {},
     "output_type": "execute_result"
    }
   ],
   "source": [
    "countries = actual_data[actual_data['Confirmed']>200].index.to_list()\n",
    "db_times = get_doubling_times(countries=countries,kind='Confirmed')\n",
    "df = pd.DataFrame(data={'Doubling Time':db_times},index=countries)\n",
    "df = df[df>0].dropna()\n",
    "df.sort_values(by='Doubling Time',ascending=True).head(15)"
   ]
  },
  {
   "cell_type": "markdown",
   "metadata": {},
   "source": [
    "## Countries that double confirmed cases slower (in the last week).\n",
    "This countries are the ones that actually have achieved to decrease the growth rate of confirmed cases.\n",
    "\n",
    "This may be explained by the fact that theu have been implementing good policies in order to manage the pandemic situation. Or also, this countries have had the virus for a long period of time and is managing to improve the situation.\n",
    "\n",
    "> **Note:** I take only in consideration those countries with more than 200 confirmed cases up to date."
   ]
  },
  {
   "cell_type": "code",
   "execution_count": 206,
   "metadata": {
    "scrolled": true
   },
   "outputs": [
    {
     "data": {
      "text/html": [
       "<div>\n",
       "<style scoped>\n",
       "    .dataframe tbody tr th:only-of-type {\n",
       "        vertical-align: middle;\n",
       "    }\n",
       "\n",
       "    .dataframe tbody tr th {\n",
       "        vertical-align: top;\n",
       "    }\n",
       "\n",
       "    .dataframe thead th {\n",
       "        text-align: right;\n",
       "    }\n",
       "</style>\n",
       "<table border=\"1\" class=\"dataframe\">\n",
       "  <thead>\n",
       "    <tr style=\"text-align: right;\">\n",
       "      <th></th>\n",
       "      <th>Doubling Time</th>\n",
       "    </tr>\n",
       "  </thead>\n",
       "  <tbody>\n",
       "    <tr>\n",
       "      <th>China</th>\n",
       "      <td>911.809281</td>\n",
       "    </tr>\n",
       "    <tr>\n",
       "      <th>Korea, South</th>\n",
       "      <td>89.526980</td>\n",
       "    </tr>\n",
       "    <tr>\n",
       "      <th>Lebanon</th>\n",
       "      <td>31.600549</td>\n",
       "    </tr>\n",
       "    <tr>\n",
       "      <th>Taiwan*</th>\n",
       "      <td>31.295830</td>\n",
       "    </tr>\n",
       "    <tr>\n",
       "      <th>Vietnam</th>\n",
       "      <td>30.161821</td>\n",
       "    </tr>\n",
       "    <tr>\n",
       "      <th>San Marino</th>\n",
       "      <td>28.988116</td>\n",
       "    </tr>\n",
       "    <tr>\n",
       "      <th>Austria</th>\n",
       "      <td>22.425493</td>\n",
       "    </tr>\n",
       "    <tr>\n",
       "      <th>Uruguay</th>\n",
       "      <td>21.404043</td>\n",
       "    </tr>\n",
       "    <tr>\n",
       "      <th>Italy</th>\n",
       "      <td>19.554291</td>\n",
       "    </tr>\n",
       "    <tr>\n",
       "      <th>Jordan</th>\n",
       "      <td>19.152251</td>\n",
       "    </tr>\n",
       "    <tr>\n",
       "      <th>South Africa</th>\n",
       "      <td>18.900098</td>\n",
       "    </tr>\n",
       "    <tr>\n",
       "      <th>Australia</th>\n",
       "      <td>18.879405</td>\n",
       "    </tr>\n",
       "    <tr>\n",
       "      <th>Norway</th>\n",
       "      <td>17.900129</td>\n",
       "    </tr>\n",
       "    <tr>\n",
       "      <th>Slovenia</th>\n",
       "      <td>17.455121</td>\n",
       "    </tr>\n",
       "    <tr>\n",
       "      <th>Switzerland</th>\n",
       "      <td>16.572671</td>\n",
       "    </tr>\n",
       "  </tbody>\n",
       "</table>\n",
       "</div>"
      ],
      "text/plain": [
       "              Doubling Time\n",
       "China            911.809281\n",
       "Korea, South      89.526980\n",
       "Lebanon           31.600549\n",
       "Taiwan*           31.295830\n",
       "Vietnam           30.161821\n",
       "San Marino        28.988116\n",
       "Austria           22.425493\n",
       "Uruguay           21.404043\n",
       "Italy             19.554291\n",
       "Jordan            19.152251\n",
       "South Africa      18.900098\n",
       "Australia         18.879405\n",
       "Norway            17.900129\n",
       "Slovenia          17.455121\n",
       "Switzerland       16.572671"
      ]
     },
     "execution_count": 206,
     "metadata": {},
     "output_type": "execute_result"
    }
   ],
   "source": [
    "countries = actual_data[actual_data['Confirmed']>200].index.to_list()\n",
    "db_times = get_doubling_times(countries=countries,kind='Confirmed')\n",
    "df = pd.DataFrame(data={'Doubling Time':db_times},index=countries)\n",
    "df = df[df>0].dropna()\n",
    "df.sort_values(by='Doubling Time',ascending=False).head(15)"
   ]
  },
  {
   "cell_type": "markdown",
   "metadata": {},
   "source": [
    "# Which countries are recently increasing faster in COVID-19 deaths cases?"
   ]
  },
  {
   "cell_type": "markdown",
   "metadata": {},
   "source": [
    "## Countries that double deaths cases in less time than others. (In the last week)\n",
    "This are countries that actually are having deaths cases at a faster rate.\n",
    "\n",
    "This may be explained because of the health system of the countries or if a country is managing to control the disease propagation. Also, if a country is starting to have more people infected of older age or with an underlying chronic illness, it can increase significantly it's growth rate of deaths.\n",
    "\n",
    "> **Note:** Taking in consideration only countries that actually have registrated more than 50 deaths."
   ]
  },
  {
   "cell_type": "code",
   "execution_count": 212,
   "metadata": {
    "scrolled": false
   },
   "outputs": [
    {
     "data": {
      "text/html": [
       "<div>\n",
       "<style scoped>\n",
       "    .dataframe tbody tr th:only-of-type {\n",
       "        vertical-align: middle;\n",
       "    }\n",
       "\n",
       "    .dataframe tbody tr th {\n",
       "        vertical-align: top;\n",
       "    }\n",
       "\n",
       "    .dataframe thead th {\n",
       "        text-align: right;\n",
       "    }\n",
       "</style>\n",
       "<table border=\"1\" class=\"dataframe\">\n",
       "  <thead>\n",
       "    <tr style=\"text-align: right;\">\n",
       "      <th></th>\n",
       "      <th>Doubling Time</th>\n",
       "    </tr>\n",
       "  </thead>\n",
       "  <tbody>\n",
       "    <tr>\n",
       "      <th>Mexico</th>\n",
       "      <td>3.243099</td>\n",
       "    </tr>\n",
       "    <tr>\n",
       "      <th>Algeria</th>\n",
       "      <td>3.281724</td>\n",
       "    </tr>\n",
       "    <tr>\n",
       "      <th>India</th>\n",
       "      <td>3.334071</td>\n",
       "    </tr>\n",
       "    <tr>\n",
       "      <th>Poland</th>\n",
       "      <td>3.559021</td>\n",
       "    </tr>\n",
       "    <tr>\n",
       "      <th>Serbia</th>\n",
       "      <td>3.625558</td>\n",
       "    </tr>\n",
       "    <tr>\n",
       "      <th>Canada</th>\n",
       "      <td>3.698742</td>\n",
       "    </tr>\n",
       "    <tr>\n",
       "      <th>Peru</th>\n",
       "      <td>3.815595</td>\n",
       "    </tr>\n",
       "    <tr>\n",
       "      <th>United Kingdom</th>\n",
       "      <td>3.925684</td>\n",
       "    </tr>\n",
       "    <tr>\n",
       "      <th>Brazil</th>\n",
       "      <td>3.952540</td>\n",
       "    </tr>\n",
       "    <tr>\n",
       "      <th>Russia</th>\n",
       "      <td>3.953645</td>\n",
       "    </tr>\n",
       "    <tr>\n",
       "      <th>Turkey</th>\n",
       "      <td>3.976436</td>\n",
       "    </tr>\n",
       "    <tr>\n",
       "      <th>US</th>\n",
       "      <td>4.079725</td>\n",
       "    </tr>\n",
       "    <tr>\n",
       "      <th>Sweden</th>\n",
       "      <td>4.081249</td>\n",
       "    </tr>\n",
       "    <tr>\n",
       "      <th>Israel</th>\n",
       "      <td>4.116582</td>\n",
       "    </tr>\n",
       "    <tr>\n",
       "      <th>Ireland</th>\n",
       "      <td>4.474278</td>\n",
       "    </tr>\n",
       "  </tbody>\n",
       "</table>\n",
       "</div>"
      ],
      "text/plain": [
       "                Doubling Time\n",
       "Mexico               3.243099\n",
       "Algeria              3.281724\n",
       "India                3.334071\n",
       "Poland               3.559021\n",
       "Serbia               3.625558\n",
       "Canada               3.698742\n",
       "Peru                 3.815595\n",
       "United Kingdom       3.925684\n",
       "Brazil               3.952540\n",
       "Russia               3.953645\n",
       "Turkey               3.976436\n",
       "US                   4.079725\n",
       "Sweden               4.081249\n",
       "Israel               4.116582\n",
       "Ireland              4.474278"
      ]
     },
     "execution_count": 212,
     "metadata": {},
     "output_type": "execute_result"
    }
   ],
   "source": [
    "countries = actual_data[actual_data['Deaths']>50].index.to_list()\n",
    "db_times = get_doubling_times(countries=countries,kind='Deaths')\n",
    "df = pd.DataFrame(data={'Doubling Time':db_times},index=countries)\n",
    "df = df[df>0].dropna()\n",
    "df.sort_values(by='Doubling Time',ascending=True).head(15)"
   ]
  },
  {
   "cell_type": "markdown",
   "metadata": {},
   "source": [
    "## Countries that double deaths cases in more time than others. (In the last week)\n",
    "This are countries that actually are having deaths cases at a slower rate.\n",
    "\n",
    "This may be explained because of the health system of the countries or if a country is managing to control the disease propagation. Also if a country is starting to have more people infected of older age or with an underlying chronic illness, it can increase significantly it's growth rate of deaths.\n",
    "\n",
    "> **Note:** Taking in consideration only countries that actually have registrated more than 50 deaths."
   ]
  },
  {
   "cell_type": "code",
   "execution_count": 209,
   "metadata": {},
   "outputs": [
    {
     "data": {
      "text/html": [
       "<div>\n",
       "<style scoped>\n",
       "    .dataframe tbody tr th:only-of-type {\n",
       "        vertical-align: middle;\n",
       "    }\n",
       "\n",
       "    .dataframe tbody tr th {\n",
       "        vertical-align: top;\n",
       "    }\n",
       "\n",
       "    .dataframe thead th {\n",
       "        text-align: right;\n",
       "    }\n",
       "</style>\n",
       "<table border=\"1\" class=\"dataframe\">\n",
       "  <thead>\n",
       "    <tr style=\"text-align: right;\">\n",
       "      <th></th>\n",
       "      <th>Doubling Time</th>\n",
       "    </tr>\n",
       "  </thead>\n",
       "  <tbody>\n",
       "    <tr>\n",
       "      <th>China</th>\n",
       "      <td>619.937010</td>\n",
       "    </tr>\n",
       "    <tr>\n",
       "      <th>Korea, South</th>\n",
       "      <td>28.558315</td>\n",
       "    </tr>\n",
       "    <tr>\n",
       "      <th>Iraq</th>\n",
       "      <td>18.493488</td>\n",
       "    </tr>\n",
       "    <tr>\n",
       "      <th>Iran</th>\n",
       "      <td>16.745556</td>\n",
       "    </tr>\n",
       "    <tr>\n",
       "      <th>Italy</th>\n",
       "      <td>15.129302</td>\n",
       "    </tr>\n",
       "    <tr>\n",
       "      <th>Malaysia</th>\n",
       "      <td>12.703824</td>\n",
       "    </tr>\n",
       "    <tr>\n",
       "      <th>Indonesia</th>\n",
       "      <td>9.993722</td>\n",
       "    </tr>\n",
       "    <tr>\n",
       "      <th>Japan</th>\n",
       "      <td>9.773710</td>\n",
       "    </tr>\n",
       "    <tr>\n",
       "      <th>Greece</th>\n",
       "      <td>9.653306</td>\n",
       "    </tr>\n",
       "    <tr>\n",
       "      <th>Spain</th>\n",
       "      <td>9.580575</td>\n",
       "    </tr>\n",
       "    <tr>\n",
       "      <th>Panama</th>\n",
       "      <td>8.004857</td>\n",
       "    </tr>\n",
       "    <tr>\n",
       "      <th>Switzerland</th>\n",
       "      <td>7.583840</td>\n",
       "    </tr>\n",
       "    <tr>\n",
       "      <th>Austria</th>\n",
       "      <td>7.569102</td>\n",
       "    </tr>\n",
       "    <tr>\n",
       "      <th>Dominican Republic</th>\n",
       "      <td>7.428754</td>\n",
       "    </tr>\n",
       "    <tr>\n",
       "      <th>Philippines</th>\n",
       "      <td>6.943246</td>\n",
       "    </tr>\n",
       "  </tbody>\n",
       "</table>\n",
       "</div>"
      ],
      "text/plain": [
       "                    Doubling Time\n",
       "China                  619.937010\n",
       "Korea, South            28.558315\n",
       "Iraq                    18.493488\n",
       "Iran                    16.745556\n",
       "Italy                   15.129302\n",
       "Malaysia                12.703824\n",
       "Indonesia                9.993722\n",
       "Japan                    9.773710\n",
       "Greece                   9.653306\n",
       "Spain                    9.580575\n",
       "Panama                   8.004857\n",
       "Switzerland              7.583840\n",
       "Austria                  7.569102\n",
       "Dominican Republic       7.428754\n",
       "Philippines              6.943246"
      ]
     },
     "execution_count": 209,
     "metadata": {},
     "output_type": "execute_result"
    }
   ],
   "source": [
    "countries = actual_data[actual_data['Deaths']>50].index.to_list()\n",
    "db_times = get_doubling_times(countries=countries,kind='Deaths')\n",
    "df = pd.DataFrame(data={'Doubling Time':db_times},index=countries)\n",
    "df = df[df>0].dropna()\n",
    "df.sort_values(by='Doubling Time',ascending=False).head(15)"
   ]
  },
  {
   "cell_type": "markdown",
   "metadata": {},
   "source": [
    "# Which countries are recently increasing faster in COVID-19 recovered cases?"
   ]
  },
  {
   "cell_type": "markdown",
   "metadata": {},
   "source": [
    "## Countries that double recovered cases in less time than others. (In the last week)\n",
    "This are the countries that actually are recovering people at a faster rate.\n",
    "\n",
    "> **Note:** Taking in consideration only countries that actually have registrated more than 50 recovered cases."
   ]
  },
  {
   "cell_type": "code",
   "execution_count": 210,
   "metadata": {},
   "outputs": [
    {
     "data": {
      "text/html": [
       "<div>\n",
       "<style scoped>\n",
       "    .dataframe tbody tr th:only-of-type {\n",
       "        vertical-align: middle;\n",
       "    }\n",
       "\n",
       "    .dataframe tbody tr th {\n",
       "        vertical-align: top;\n",
       "    }\n",
       "\n",
       "    .dataframe thead th {\n",
       "        text-align: right;\n",
       "    }\n",
       "</style>\n",
       "<table border=\"1\" class=\"dataframe\">\n",
       "  <thead>\n",
       "    <tr style=\"text-align: right;\">\n",
       "      <th></th>\n",
       "      <th>Doubling Time</th>\n",
       "    </tr>\n",
       "  </thead>\n",
       "  <tbody>\n",
       "    <tr>\n",
       "      <th>Finland</th>\n",
       "      <td>1.426565</td>\n",
       "    </tr>\n",
       "    <tr>\n",
       "      <th>Poland</th>\n",
       "      <td>1.467483</td>\n",
       "    </tr>\n",
       "    <tr>\n",
       "      <th>Denmark</th>\n",
       "      <td>1.592399</td>\n",
       "    </tr>\n",
       "    <tr>\n",
       "      <th>Mexico</th>\n",
       "      <td>1.675933</td>\n",
       "    </tr>\n",
       "    <tr>\n",
       "      <th>Sweden</th>\n",
       "      <td>1.902443</td>\n",
       "    </tr>\n",
       "    <tr>\n",
       "      <th>Slovenia</th>\n",
       "      <td>2.089242</td>\n",
       "    </tr>\n",
       "    <tr>\n",
       "      <th>Turkey</th>\n",
       "      <td>2.589982</td>\n",
       "    </tr>\n",
       "    <tr>\n",
       "      <th>Luxembourg</th>\n",
       "      <td>2.647648</td>\n",
       "    </tr>\n",
       "    <tr>\n",
       "      <th>Chile</th>\n",
       "      <td>2.772091</td>\n",
       "    </tr>\n",
       "    <tr>\n",
       "      <th>Pakistan</th>\n",
       "      <td>2.803469</td>\n",
       "    </tr>\n",
       "    <tr>\n",
       "      <th>Greece</th>\n",
       "      <td>2.952313</td>\n",
       "    </tr>\n",
       "    <tr>\n",
       "      <th>Switzerland</th>\n",
       "      <td>3.103712</td>\n",
       "    </tr>\n",
       "    <tr>\n",
       "      <th>Jordan</th>\n",
       "      <td>3.179457</td>\n",
       "    </tr>\n",
       "    <tr>\n",
       "      <th>Portugal</th>\n",
       "      <td>3.337629</td>\n",
       "    </tr>\n",
       "    <tr>\n",
       "      <th>Russia</th>\n",
       "      <td>3.449119</td>\n",
       "    </tr>\n",
       "  </tbody>\n",
       "</table>\n",
       "</div>"
      ],
      "text/plain": [
       "             Doubling Time\n",
       "Finland           1.426565\n",
       "Poland            1.467483\n",
       "Denmark           1.592399\n",
       "Mexico            1.675933\n",
       "Sweden            1.902443\n",
       "Slovenia          2.089242\n",
       "Turkey            2.589982\n",
       "Luxembourg        2.647648\n",
       "Chile             2.772091\n",
       "Pakistan          2.803469\n",
       "Greece            2.952313\n",
       "Switzerland       3.103712\n",
       "Jordan            3.179457\n",
       "Portugal          3.337629\n",
       "Russia            3.449119"
      ]
     },
     "execution_count": 210,
     "metadata": {},
     "output_type": "execute_result"
    }
   ],
   "source": [
    "countries = actual_data[actual_data['Recovered']>50].index.to_list()\n",
    "db_times = get_doubling_times(countries=countries,kind='Recovered')\n",
    "df = pd.DataFrame(data={'Doubling Time':db_times},index=countries)\n",
    "df = df[df>0].dropna()\n",
    "df.sort_values(by='Doubling Time',ascending=True).head(15)"
   ]
  },
  {
   "cell_type": "markdown",
   "metadata": {},
   "source": [
    "## Countries that double recovered cases in more time than others. (In the last week)\n",
    "This are the countries that actually are recovering people slower rate.\n",
    "\n",
    "\n",
    "If a country is in this list, not necesarly is because the people there doesn't recover, it can be that they have recovered almost all the people so, that's why they recover less people now.\n",
    "\n",
    "> **Note:** Taking in consideration only countries that actually have registrated more than 50 recovered cases."
   ]
  },
  {
   "cell_type": "code",
   "execution_count": 211,
   "metadata": {},
   "outputs": [
    {
     "data": {
      "text/html": [
       "<div>\n",
       "<style scoped>\n",
       "    .dataframe tbody tr th:only-of-type {\n",
       "        vertical-align: middle;\n",
       "    }\n",
       "\n",
       "    .dataframe tbody tr th {\n",
       "        vertical-align: top;\n",
       "    }\n",
       "\n",
       "    .dataframe thead th {\n",
       "        text-align: right;\n",
       "    }\n",
       "</style>\n",
       "<table border=\"1\" class=\"dataframe\">\n",
       "  <thead>\n",
       "    <tr style=\"text-align: right;\">\n",
       "      <th></th>\n",
       "      <th>Doubling Time</th>\n",
       "    </tr>\n",
       "  </thead>\n",
       "  <tbody>\n",
       "    <tr>\n",
       "      <th>China</th>\n",
       "      <td>309.524177</td>\n",
       "    </tr>\n",
       "    <tr>\n",
       "      <th>Diamond Princess</th>\n",
       "      <td>185.276317</td>\n",
       "    </tr>\n",
       "    <tr>\n",
       "      <th>Netherlands</th>\n",
       "      <td>67.005352</td>\n",
       "    </tr>\n",
       "    <tr>\n",
       "      <th>Belarus</th>\n",
       "      <td>34.947814</td>\n",
       "    </tr>\n",
       "    <tr>\n",
       "      <th>Korea, South</th>\n",
       "      <td>22.744006</td>\n",
       "    </tr>\n",
       "    <tr>\n",
       "      <th>Japan</th>\n",
       "      <td>14.536909</td>\n",
       "    </tr>\n",
       "    <tr>\n",
       "      <th>Argentina</th>\n",
       "      <td>14.170361</td>\n",
       "    </tr>\n",
       "    <tr>\n",
       "      <th>Kuwait</th>\n",
       "      <td>13.348055</td>\n",
       "    </tr>\n",
       "    <tr>\n",
       "      <th>Taiwan*</th>\n",
       "      <td>12.785673</td>\n",
       "    </tr>\n",
       "    <tr>\n",
       "      <th>Italy</th>\n",
       "      <td>11.058782</td>\n",
       "    </tr>\n",
       "    <tr>\n",
       "      <th>Bahrain</th>\n",
       "      <td>11.030003</td>\n",
       "    </tr>\n",
       "    <tr>\n",
       "      <th>Singapore</th>\n",
       "      <td>10.743939</td>\n",
       "    </tr>\n",
       "    <tr>\n",
       "      <th>Venezuela</th>\n",
       "      <td>9.498408</td>\n",
       "    </tr>\n",
       "    <tr>\n",
       "      <th>Lebanon</th>\n",
       "      <td>9.399216</td>\n",
       "    </tr>\n",
       "    <tr>\n",
       "      <th>Philippines</th>\n",
       "      <td>9.001970</td>\n",
       "    </tr>\n",
       "  </tbody>\n",
       "</table>\n",
       "</div>"
      ],
      "text/plain": [
       "                  Doubling Time\n",
       "China                309.524177\n",
       "Diamond Princess     185.276317\n",
       "Netherlands           67.005352\n",
       "Belarus               34.947814\n",
       "Korea, South          22.744006\n",
       "Japan                 14.536909\n",
       "Argentina             14.170361\n",
       "Kuwait                13.348055\n",
       "Taiwan*               12.785673\n",
       "Italy                 11.058782\n",
       "Bahrain               11.030003\n",
       "Singapore             10.743939\n",
       "Venezuela              9.498408\n",
       "Lebanon                9.399216\n",
       "Philippines            9.001970"
      ]
     },
     "execution_count": 211,
     "metadata": {},
     "output_type": "execute_result"
    }
   ],
   "source": [
    "countries = actual_data[actual_data['Recovered']>50].index.to_list()\n",
    "db_times = get_doubling_times(countries=countries,kind='Recovered')\n",
    "df = pd.DataFrame(data={'Doubling Time':db_times},index=countries)\n",
    "df = df[df>0].dropna()\n",
    "df.sort_values(by='Doubling Time',ascending=False).head(15)"
   ]
  }
 ],
 "metadata": {
  "kernelspec": {
   "display_name": "Python 3",
   "language": "python",
   "name": "python3"
  },
  "language_info": {
   "codemirror_mode": {
    "name": "ipython",
    "version": 3
   },
   "file_extension": ".py",
   "mimetype": "text/x-python",
   "name": "python",
   "nbconvert_exporter": "python",
   "pygments_lexer": "ipython3",
   "version": "3.7.4"
  }
 },
 "nbformat": 4,
 "nbformat_minor": 2
}
